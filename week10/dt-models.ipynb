{
 "metadata": {
  "name": ""
 },
 "nbformat": 3,
 "nbformat_minor": 0,
 "worksheets": [
  {
   "cells": [
    {
     "cell_type": "heading",
     "level": 1,
     "metadata": {
      "slideshow": {
       "slide_type": "slide"
      }
     },
     "source": [
      "Discrete-Time System Models"
     ]
    },
    {
     "cell_type": "markdown",
     "metadata": {},
     "source": [
      "Dr Chris Jobling ([c.p.jobling@swansea.ac.uk](mailto:c.p.jobling@swansea.ac.uk))<br />Digital Technium 123<br />Office Hours: Thursdays 14:00-15:00\n",
      "\n",
      "You can view the notes for this presentation in [HTML format](http://nbviewer.ipython.org/github/cpjobling/EG-247-Resources/blob/master/week10/dt-models.ipynb) and print using your Brower's print function. The source code of this presentation is available as an interactive [IPython notebook](http://ipython.org/notebook.html) from GitHub: <https://github.com/cpjobling/EG-247-Resources>. The GitHub repository also contains the source code for all the Matlab/Simulink examples."
     ]
    },
    {
     "cell_type": "heading",
     "level": 2,
     "metadata": {
      "slideshow": {
       "slide_type": "slide"
      }
     },
     "source": [
      "Scope and Background Reading"
     ]
    },
    {
     "cell_type": "markdown",
     "metadata": {},
     "source": [
      "This session...\n",
      "\n",
      "The material in this presentation and notes is based on Chapter 9 (Starting at Section 9.6) of [Steven T. Karris, Signals and Systems: with Matlab Computation and Simulink Modelling, 5th Edition.](http://site.ebrary.com/lib/swansea/docDetail.action?docID=10547416) from the **Required Reading List**. "
     ]
    },
    {
     "cell_type": "heading",
     "level": 2,
     "metadata": {
      "slideshow": {
       "slide_type": "slide"
      }
     },
     "source": [
      "Agenda"
     ]
    },
    {
     "cell_type": "markdown",
     "metadata": {},
     "source": [
      "* Discrete Time Systems\n",
      "* Transfer Functions in the Z-Domain\n",
      "* DT State-Space Models\n",
      "* Continuous System Equivalents\n",
      "* Example: Digital Butterworth Filter\n",
      "* Modelling digital systems in Matlab/Simulink"
     ]
    },
    {
     "cell_type": "heading",
     "level": 2,
     "metadata": {
      "slideshow": {
       "slide_type": "slide"
      }
     },
     "source": [
      "Discrete Time Systems"
     ]
    },
    {
     "cell_type": "markdown",
     "metadata": {},
     "source": [
      "In the lecture that introduced the z-transform we talked about the representation of a discrete-time (DT) system by the model shown below:\n",
      "\n",
      "<img src=\"files/pictures/ct-to-dt.png\">\n",
      "\n",
      "In this session, we want to explore the contents of the central block."
     ]
    },
    {
     "cell_type": "heading",
     "level": 3,
     "metadata": {
      "slideshow": {
       "slide_type": "subslide"
      }
     },
     "source": [
      "DT System as a Sequence Processor"
     ]
    },
    {
     "cell_type": "markdown",
     "metadata": {},
     "source": [
      "* As noted in the previous slide, the discrete time system takes as an input the sequence $x_d[n]$<sup>1</sup>.\n",
      "* It produces another sequence $y_d[n]$ by *processing* the input sequence in some way.\n",
      "* The output sequence is converted into an analogue signal $y(t)$ by a digital to analogue converter."
     ]
    },
    {
     "cell_type": "markdown",
     "metadata": {
      "slideshow": {
       "slide_type": "fragment"
      }
     },
     "source": [
      "<img src=\"files/pictures/sigs.png\">"
     ]
    },
    {
     "cell_type": "markdown",
     "metadata": {
      "slideshow": {
       "slide_type": "skip"
      }
     },
     "source": [
      "Notes:\n",
      "\n",
      "1.  $x_d[n]$ which represents the values of the analogue signal $x(t)$ sampled every $nT_s$ seconds. $T_s$ is the sampling time."
     ]
    },
    {
     "cell_type": "heading",
     "level": 3,
     "metadata": {
      "slideshow": {
       "slide_type": "subslide"
      }
     },
     "source": [
      "Step 1: Make Fractions Proper"
     ]
    },
    {
     "cell_type": "markdown",
     "metadata": {},
     "source": [
      "* Before we expand $F(z)$ into partial fraction expansions, we must first express it as a *proper* rational function.\n",
      "* This is done by expanding $F(z)/z$ instead of $F(z)$\n",
      "* That is we expand\n",
      "\n",
      "$$\\frac{F(z)}{z} = \\frac{k}{z} + \\frac{r_1}{s-p_1} + \\frac{r_2}{s-p_2} + \\cdots$$"
     ]
    },
    {
     "cell_type": "heading",
     "level": 3,
     "metadata": {
      "slideshow": {
       "slide_type": "subslide"
      }
     },
     "source": [
      "Step 2: Find residues"
     ]
    },
    {
     "cell_type": "markdown",
     "metadata": {},
     "source": [
      "* Find residues from\n",
      "\n",
      "$$r_k = \\lim_{z\\to p_k}(z - p_k)\\frac{F(z)}{z} = (z - p_k)\\left.\\frac{F(z)}{z}\\right|_{z=p_k}$$"
     ]
    },
    {
     "cell_type": "heading",
     "level": 3,
     "metadata": {
      "slideshow": {
       "slide_type": "subslide"
      }
     },
     "source": [
      "Step 3: Map back to transform tables form"
     ]
    },
    {
     "cell_type": "markdown",
     "metadata": {},
     "source": [
      "* Rewrite $F(z)/z$:\n",
      "\n",
      "$$z\\frac{F(z)}{z} = F(z) = k + \\frac{r_1z}{s-p_1} + \\frac{r_2z}{s-p_2} + \\cdots$$"
     ]
    },
    {
     "cell_type": "heading",
     "level": 3,
     "metadata": {
      "slideshow": {
       "slide_type": "subslide"
      }
     },
     "source": [
      "Example 1"
     ]
    },
    {
     "cell_type": "markdown",
     "metadata": {},
     "source": [
      "Karris Example 9.4: use the partial fraction expansion to compute the inverse z-transform of\n",
      "\n",
      "$$F(z) = \\frac{1}{(1 - 0.5z^{-1})(1 - 0.75z^{-1})(1 - z^{-1})}$$\n"
     ]
    },
    {
     "cell_type": "heading",
     "level": 3,
     "metadata": {
      "slideshow": {
       "slide_type": "subslide"
      }
     },
     "source": [
      "Answer to Example 1"
     ]
    },
    {
     "cell_type": "markdown",
     "metadata": {},
     "source": [
      "$$f[n] = 2\\left(\\frac{1}{2}\\right)^n - 9\\left(\\frac{3}{4}\\right)^n + 8$$"
     ]
    },
    {
     "cell_type": "heading",
     "level": 3,
     "metadata": {
      "slideshow": {
       "slide_type": "subslide"
      }
     },
     "source": [
      "Matlab solution"
     ]
    },
    {
     "cell_type": "markdown",
     "metadata": {},
     "source": [
      "See [example1.m](files/matlab/example1.m)\n",
      "\n",
      "Uses Matlab functions: \n",
      "\n",
      "* `collect` &ndash; expands a polynomial\n",
      "* `sym2poly` &ndash; converts a polynomial into a numeric polymial (vector of coefficients in descending order of exponents)\n",
      "* `residue` &ndash; calculates poles and zeros of a polynomial\n",
      "* `ztrans` &ndash; symbolic z-transform\n",
      "* `iztrans` &ndash; symbolic inverse ze-transform\n",
      "* `stem` &ndash; plots sequence as a \"lollipop\" diagram"
     ]
    },
    {
     "cell_type": "heading",
     "level": 3,
     "metadata": {
      "slideshow": {
       "slide_type": "subslide"
      }
     },
     "source": [
      "Stem (\"Lollipop\") Plot"
     ]
    },
    {
     "cell_type": "markdown",
     "metadata": {},
     "source": [
      "<img src=\"files/pictures/example1.png\">"
     ]
    },
    {
     "cell_type": "heading",
     "level": 3,
     "metadata": {
      "slideshow": {
       "slide_type": "subslide"
      }
     },
     "source": [
      "Example 2"
     ]
    },
    {
     "cell_type": "markdown",
     "metadata": {},
     "source": [
      "Karris example 9.5: use the partial fraction expansion method to to compute the inverse z-transform of\n",
      "\n",
      "$$F(z) = \\frac{12z}{(z+1)(z - 1)^2}$$\n"
     ]
    },
    {
     "cell_type": "heading",
     "level": 3,
     "metadata": {
      "slideshow": {
       "slide_type": "subslide"
      }
     },
     "source": [
      "Answer to Example 2"
     ]
    },
    {
     "cell_type": "markdown",
     "metadata": {},
     "source": [
      "$$f[n] = 3(-1)^n + 6n - 3$$"
     ]
    },
    {
     "cell_type": "heading",
     "level": 3,
     "metadata": {
      "slideshow": {
       "slide_type": "subslide"
      }
     },
     "source": [
      "Matlab solution"
     ]
    },
    {
     "cell_type": "markdown",
     "metadata": {},
     "source": [
      "See [example2.m](files/matlab/example2.m)\n",
      "\n",
      "Uses additional Matlab functions: \n",
      "\n",
      "* `dimpulse` &ndash; computes and plots a sequence $f[n]$ for any range of values of $n$"
     ]
    },
    {
     "cell_type": "heading",
     "level": 3,
     "metadata": {
      "slideshow": {
       "slide_type": "subslide"
      }
     },
     "source": [
      "Lollipop Plot"
     ]
    },
    {
     "cell_type": "markdown",
     "metadata": {},
     "source": [
      "<img src=\"files/pictures/example2a.png\">"
     ]
    },
    {
     "cell_type": "heading",
     "level": 3,
     "metadata": {
      "slideshow": {
       "slide_type": "subslide"
      }
     },
     "source": [
      "Staircase Plot"
     ]
    },
    {
     "cell_type": "markdown",
     "metadata": {},
     "source": [
      "Simulates output of Zero-Order-Hold (ZOH) or Digital Analogue Converter (DAC)\n",
      "\n",
      "<img src=\"files/pictures/example2b.png\">"
     ]
    },
    {
     "cell_type": "heading",
     "level": 3,
     "metadata": {
      "slideshow": {
       "slide_type": "subslide"
      }
     },
     "source": [
      "Example 3"
     ]
    },
    {
     "cell_type": "markdown",
     "metadata": {},
     "source": [
      "Karris example 9.6: use the partial fraction expansion method to to compute the inverse z-transform of\n",
      "\n",
      "$$F(z) = \\frac{z + 1}{(z-1)(z^2 + 2z + 2)}$$"
     ]
    },
    {
     "cell_type": "heading",
     "level": 3,
     "metadata": {
      "slideshow": {
       "slide_type": "subslide"
      }
     },
     "source": [
      "Answer to Example 3"
     ]
    },
    {
     "cell_type": "markdown",
     "metadata": {},
     "source": [
      "$$f[n] = -0.5\\delta[n] + 0.4 + \\frac{(\\sqrt{2})^n}{10}\\cos \\frac{3n\\pi}{4} - \\frac{3(\\sqrt{2})^n}{10}\\sin \\frac{3n\\pi}{4}$$"
     ]
    },
    {
     "cell_type": "heading",
     "level": 3,
     "metadata": {
      "slideshow": {
       "slide_type": "subslide"
      }
     },
     "source": [
      "Matlab solution"
     ]
    },
    {
     "cell_type": "markdown",
     "metadata": {},
     "source": [
      "See [example3.m](files/matlab/example3.m)"
     ]
    },
    {
     "cell_type": "heading",
     "level": 3,
     "metadata": {
      "slideshow": {
       "slide_type": "subslide"
      }
     },
     "source": [
      "Lollipop Plot"
     ]
    },
    {
     "cell_type": "markdown",
     "metadata": {},
     "source": [
      "<img src=\"files/pictures/example3a.png\">"
     ]
    },
    {
     "cell_type": "heading",
     "level": 3,
     "metadata": {
      "slideshow": {
       "slide_type": "subslide"
      }
     },
     "source": [
      "Staircase Plot"
     ]
    },
    {
     "cell_type": "markdown",
     "metadata": {},
     "source": [
      "<img src=\"files/pictures/example3b.png\">"
     ]
    },
    {
     "cell_type": "heading",
     "level": 3,
     "metadata": {
      "slideshow": {
       "slide_type": "slide"
      }
     },
     "source": [
      "Inverse Z-Transform by the Inversion Integral"
     ]
    },
    {
     "cell_type": "markdown",
     "metadata": {},
     "source": [
      "The inversion integral states that:\n",
      "\n",
      "$$f[n] = \\frac{1}{{j2\\pi }}\\oint_C {F(z){z^{n - 1}}\\,dz} $$\n",
      "\n",
      "where $C$ is a closed curve that encloses all poles of the integrant.\n",
      "\n",
      "This can (*apparently*) be solved by Cauchy's residue theorem!!\n",
      "\n",
      "Fortunately (:-), this is beyond the scope of this module!\n",
      "\n",
      "See Karris Section 9.6.2 (pp 9-29&mdash;9-33) if you want to find out more."
     ]
    },
    {
     "cell_type": "heading",
     "level": 3,
     "metadata": {
      "slideshow": {
       "slide_type": "slide"
      }
     },
     "source": [
      "Inverse Z-Transform by the Long Division"
     ]
    },
    {
     "cell_type": "markdown",
     "metadata": {},
     "source": [
      "To apply this method, $F(z)$ must be a rational polynomial functuon, and the numerator and denominator must be polynomials arranged in descending powers of $z$."
     ]
    },
    {
     "cell_type": "heading",
     "level": 3,
     "metadata": {
      "slideshow": {
       "slide_type": "subslide"
      }
     },
     "source": [
      "Example 4"
     ]
    },
    {
     "cell_type": "markdown",
     "metadata": {},
     "source": [
      "Karris example 9.9: use the long division method to determinf $f[n]$ for $n = 0,\\,1,\\,\\mathrm{and}\\,2$, given that\n",
      "\n",
      "$$F(z) = \\frac{1 + z^{-1} + 2z^{-2} + 3z^{-3}}{(1 - 0.25z^{-1})(1 - 0.5z^{-1})(1 - 0.75z^{-1})}$$"
     ]
    },
    {
     "cell_type": "heading",
     "level": 3,
     "metadata": {
      "slideshow": {
       "slide_type": "subslide"
      }
     },
     "source": [
      "Answer 4"
     ]
    },
    {
     "cell_type": "markdown",
     "metadata": {},
     "source": [
      "$f[0] = 1$, $f[1] = 5/2$, $f[2] = 81/16$."
     ]
    },
    {
     "cell_type": "heading",
     "level": 3,
     "metadata": {
      "slideshow": {
       "slide_type": "subslide"
      }
     },
     "source": [
      "Matlab"
     ]
    },
    {
     "cell_type": "markdown",
     "metadata": {},
     "source": [
      "See [example4.m](files/matlab/example4.m)\n",
      "\n",
      "````\n",
      "sym_den =\n",
      " \n",
      "z^3 - (3*z^2)/2 + (11*z)/16 - 3/32\n",
      " \n",
      "\n",
      "fn =\n",
      "\n",
      "    1.0000\n",
      "    2.5000\n",
      "    5.0625\n",
      "    ....\n",
      "````"
     ]
    },
    {
     "cell_type": "heading",
     "level": 3,
     "metadata": {
      "slideshow": {
       "slide_type": "subslide"
      }
     },
     "source": [
      "Combined Staircase/Lollipop Plot"
     ]
    },
    {
     "cell_type": "markdown",
     "metadata": {},
     "source": [
      "<img src=\"files/pictures/example4.png\">"
     ]
    },
    {
     "cell_type": "heading",
     "level": 2,
     "metadata": {
      "slideshow": {
       "slide_type": "slide"
      }
     },
     "source": [
      "Methods of Evaluation of the Inverse Z-Transform"
     ]
    },
    {
     "cell_type": "markdown",
     "metadata": {},
     "source": [
      "<table>\n",
      "<thead>\n",
      "<tr><th>Method</th><th>Advantages</th><th>Disadvantages</th></tr>\n",
      "</thead>\n",
      "<tbody>\n",
      "<tr><td>Partial Fraction Expansion</td><td><ul><li>Most familiar.</li><li>Can use Matlab `residue` function.</li></ul></td><td><ul><li>Requires that $F(z)$ is a proper rational function.</li></ul></td></tr>\n",
      "<tr><td>Invsersion Integral</td><td><ul><li>Can be used whether $F(z)$ is rational or not</li></ul></td><td><ul><li>Requires familiarity with the *Residues theorem* of complex variable analaysis.</li></ul></td></tr>\n",
      "<tr><td>Long Division</td><td><ul><li>Practical when only a small sequence of numbers is desired.</li><li>Useful when z-transform has no closed-form solution.</li><li>Can use Matlab `dimpulse` function to compute a large sequence of numbers.</ul></td><td><ul><li>Requires that $F(z)$ is a proper rational function.</li><li>Division may be endless.</li></ul></td></tr>\n",
      "</tbody>\n",
      "</table>"
     ]
    },
    {
     "cell_type": "heading",
     "level": 2,
     "metadata": {
      "slideshow": {
       "slide_type": "slide"
      }
     },
     "source": [
      "Summary"
     ]
    },
    {
     "cell_type": "markdown",
     "metadata": {},
     "source": [
      "* Inverse Z-Transform\n",
      "* Examples using PFE\n",
      "* Examples using Long Division\n",
      "* Analysis in Matlab\n",
      "\n",
      "*Next time*\n",
      "\n",
      "* DT transfer functions, DT state-space models and continuous system equivalents."
     ]
    },
    {
     "cell_type": "heading",
     "level": 2,
     "metadata": {
      "slideshow": {
       "slide_type": "slide"
      }
     },
     "source": [
      "Homework"
     ]
    },
    {
     "cell_type": "markdown",
     "metadata": {},
     "source": [
      "Attempt the end of the chapter exercises 4-7 (Section 9.10) from Karris. Don't look at the answers until you have attempted the problems."
     ]
    }
   ],
   "metadata": {}
  }
 ]
}