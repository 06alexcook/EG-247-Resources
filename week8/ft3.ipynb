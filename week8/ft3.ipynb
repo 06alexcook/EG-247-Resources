{
 "metadata": {
  "name": ""
 },
 "nbformat": 3,
 "nbformat_minor": 0,
 "worksheets": [
  {
   "cells": [
    {
     "cell_type": "heading",
     "level": 1,
     "metadata": {
      "slideshow": {
       "slide_type": "slide"
      }
     },
     "source": [
      "Fourier Transforms for Circuit and LTI Systems Analysis"
     ]
    },
    {
     "cell_type": "markdown",
     "metadata": {},
     "source": [
      "Dr Chris Jobling ([c.p.jobling@swansea.ac.uk](mailto:c.p.jobling@swansea.ac.uk))<br />Digital Technium 123<br />Office Hours: Thursdays 14:00-15:00\n",
      "\n",
      "You can view the notes for this presentation in [HTML format](http://nbviewer.ipython.org/github/cpjobling/EG-247-Resources/blob/master/week8/ft3.ipynb) and print using your Brower's print function. The source code of this presentation is available as an interactive [IPython notebook](http://ipython.org/notebook.html) from GitHub: <https://github.com/cpjobling/EG-247-Resources>. The GitHub repository also contains the source code for all the Matlab/Simulink examples."
     ]
    },
    {
     "cell_type": "heading",
     "level": 2,
     "metadata": {
      "slideshow": {
       "slide_type": "slide"
      }
     },
     "source": [
      "Scope and Background Reading"
     ]
    },
    {
     "cell_type": "markdown",
     "metadata": {},
     "source": [
      "This session we will apply what we have learned about Fourier transforms to some typical cicuit problems. After a short introduction, this session will be an examples class.\n",
      "\n",
      "The material in this presentation and notes is based on Chapter X (Starting at Section X.Y) of [Steven T. Karris, Signals and Systems: with Matlab Computation and Simulink Modelling, 5th Edition.](http://site.ebrary.com/lib/swansea/docDetail.action?docID=10547416) from the **Required Reading List**. I also used Chapter Z of [Benoit Boulet, Fundamentals of Signals and Systems](http://site.ebrary.com/lib/swansea/docDetail.action?docID=10228195) from the **Recommended Reading List**."
     ]
    },
    {
     "cell_type": "heading",
     "level": 2,
     "metadata": {
      "slideshow": {
       "slide_type": "slide"
      }
     },
     "source": [
      "Agenda"
     ]
    },
    {
     "cell_type": "markdown",
     "metadata": {},
     "source": [
      "* The system function\n",
      "* Examples class"
     ]
    },
    {
     "cell_type": "heading",
     "level": 2,
     "metadata": {
      "slideshow": {
       "slide_type": "slide"
      }
     },
     "source": [
      "The System Function"
     ]
    },
    {
     "cell_type": "heading",
     "level": 3,
     "metadata": {},
     "source": [
      "System response from system impulse response"
     ]
    },
    {
     "cell_type": "markdown",
     "metadata": {},
     "source": [
      "Recall that the convolution integral of a system with impulse response $h(t)$ and input $u(t)$ is\n",
      "\n",
      "$$h(t)*u(t)=\\int_{-\\infty}^{\\infty}h(t-\\tau)u(\\tau)\\,d\\tau.$$\n",
      "\n",
      "We let \n",
      "\n",
      "$$g(t) = h(t)*u(t)$$\n",
      "\n",
      "Then by the time convolution property\n",
      "\n",
      "$$h(t)*u(t) = g(t) \\Leftrightarrow G(\\omega) = H(\\omega).U(\\omega)$$"
     ]
    },
    {
     "cell_type": "heading",
     "level": 3,
     "metadata": {
      "slideshow": {
       "slide_type": "subslide"
      }
     },
     "source": [
      "The System Function"
     ]
    },
    {
     "cell_type": "markdown",
     "metadata": {},
     "source": [
      "We call $H(\\omega)$ the *system function*.\n",
      "\n",
      "We note that the system function $H(\\omega)$ and the impulse response $h(t) form the Fourier transform pair\n",
      "\n",
      "$$h(t) \\Leftrightarrow H(\\omega)$$\n"
     ]
    },
    {
     "cell_type": "heading",
     "level": 3,
     "metadata": {
      "slideshow": {
       "slide_type": "subslide"
      }
     },
     "source": [
      "Obtaining system response"
     ]
    },
    {
     "cell_type": "markdown",
     "metadata": {},
     "source": [
      "If we know the impulse resonse $h(t)$, we can compute the system response $g(t)$ of any input $u(t)$ by multiplying the Fourier transforms of $H(\\omega)$ and $U(\\omega)$ to obtain $G(\\omega)$. Then we take the inverse Fourier transform of $G(\\omega)$ to obtain the response $g(t)$.\n",
      "\n",
      "1. Transform $h(t) \\to H(\\omega)$\n",
      "2. Transform $u(t) \\to U(\\omega)$\n",
      "3. Compute $G(\\omega) = H(\\omega).U(\\omega)$\n",
      "4. Find $\\mathcal{F}^{-1}\\left\\{G(\\omega)\\right\\} \\to g(t)$"
     ]
    },
    {
     "cell_type": "heading",
     "level": 3,
     "metadata": {
      "slideshow": {
       "slide_type": "subslide"
      }
     },
     "source": [
      "Example 1"
     ]
    },
    {
     "cell_type": "markdown",
     "metadata": {},
     "source": [
      "Karris example 8.8: for the linear network shown below, the impulse response is $h(t)=3e^{-2t}$. Use the Fourier transform to compute the response $y(t)$ when the input $u(t)=2[u_0(t)-u_0(t-3)]$. Verify the result with Matlab.\n",
      "\n",
      "<img src=\"files/pictures/example1.png\">"
     ]
    },
    {
     "cell_type": "heading",
     "level": 3,
     "metadata": {
      "slideshow": {
       "slide_type": "subslide"
      }
     },
     "source": [
      "Matlab verification"
     ]
    },
    {
     "cell_type": "markdown",
     "metadata": {},
     "source": [
      "See [ft3_ex1.m](files/matlab/ft3_ex1.m)\n",
      "\n",
      "Result:\n",
      "    \n",
      "    y = 3*heaviside(t) - 3*heaviside(t - 3) + 3*heaviside(t - 3)*exp(6 - 2*t) - 3*exp(-2*t)*heaviside(t)\n",
      "\n",
      "Which after gathering terms gives\n",
      "\n",
      "$$y(t) = 3(1 - 3e^{-2t})u_0(t) - 3(1 - 3e^{-2(t-3)})u_0(t-3)$$\n",
      "\n",
      "And here's a plot:\n",
      "\n",
      "<img src=\"files/pictures/ft3_ex1.png\">"
     ]
    },
    {
     "cell_type": "heading",
     "level": 3,
     "metadata": {
      "slideshow": {
       "slide_type": "subslide"
      }
     },
     "source": [
      "Example 2"
     ]
    },
    {
     "cell_type": "markdown",
     "metadata": {},
     "source": [
      "Karris example 8.9: for the circuit shown below, use the Fourier transfrom method, and the system function $H(\\omega)$ to compute $V_L(t)$. Assume $i_L(0^-)=0$. Verify the result with Matlab.\n",
      "\n",
      "<img src=\"files/pictures/example2.png\" width=\"50%\">"
     ]
    },
    {
     "cell_type": "heading",
     "level": 3,
     "metadata": {
      "slideshow": {
       "slide_type": "subslide"
      }
     },
     "source": [
      "Matlab verification"
     ]
    },
    {
     "cell_type": "markdown",
     "metadata": {},
     "source": [
      "See [ft3_ex2.m](files/matlab/ft3_ex2.m)\n",
      "\n",
      "Result:\n",
      "    \n",
      "    vout = -5*exp(-3*t)*heaviside(t)*(2*exp(t) - 3)\n",
      "\n",
      "Which after gathering terms gives\n",
      "\n",
      "$$v_{\\mathrm{out}} = 5\\left(3e^{-3t} - 2e^{-2t}\\right)u_0(t)$$\n",
      "\n",
      "And here's a plot:\n",
      "\n",
      "<img src=\"files/pictures/ft3_ex2.png\">"
     ]
    },
    {
     "cell_type": "heading",
     "level": 3,
     "metadata": {
      "slideshow": {
       "slide_type": "subslide"
      }
     },
     "source": [
      "Example 3"
     ]
    },
    {
     "cell_type": "markdown",
     "metadata": {},
     "source": [
      "Karris example 8.10: for the linear network shown below, the input-output relationship is:\n",
      "\n",
      "$$\\frac{d}{dt}v_{\\mathrm{out}}+4v_{\\mathrm{out}}=10v_{\\mathrm{in}}$$\n",
      "\n",
      "where $v_{\\mathrm{in}}=3e^{-2t}$. Use the Fourier transform method, and the system function $H(\\omega)$ to compute the output $v_{\\mathrm{out}}$. Verify the result with Matlab.\n",
      "\n",
      "<img src=\"files/pictures/example3.jpg\" width=\"75%\">"
     ]
    },
    {
     "cell_type": "heading",
     "level": 3,
     "metadata": {
      "slideshow": {
       "slide_type": "subslide"
      }
     },
     "source": [
      "Matlab verification"
     ]
    },
    {
     "cell_type": "markdown",
     "metadata": {},
     "source": [
      "See [ft3_ex3.m](files/matlab/ft3_ex3.m)\n",
      "\n",
      "Result:\n",
      "    \n",
      "    15*exp(-4*t)*heaviside(t)*(exp(2*t) - 1)\n",
      "\n",
      "Which after gathering terms gives\n",
      "\n",
      "$$v_{\\mathrm{out}}(t) = 15\\left(e^{-2t}) - e^{-4t}\\right)u_0(t)$$\n",
      "\n",
      "And here's a plot:\n",
      "\n",
      "<img src=\"files/pictures/ft3_ex3.png\">"
     ]
    },
    {
     "cell_type": "heading",
     "level": 3,
     "metadata": {
      "slideshow": {
       "slide_type": "subslide"
      }
     },
     "source": [
      "Example 4"
     ]
    },
    {
     "cell_type": "markdown",
     "metadata": {},
     "source": [
      "Karris example 8.11: the voltage across a 1 $\\Omega$ resistor is known to be $V_{R}(t)=3e^{-2t} u_0(t)$. Compute the energy dissipated in the resistor for $0\\lt t\\lt\\infty$, and verify the result using Parseval's theorem. Verify the result with Matlab.\n",
      "\n",
      "Note from [tables of integrals](http://en.wikipedia.org/wiki/Lists_of_integrals) \n",
      "\n",
      "$$\\int\\frac{1}{a^2 + x^2}\\,dx = \\frac{1}{a}\\arctan\\frac{x}{a}+C.$$\n",
      "\n",
      "<img src=\"files/pictures/example4.png\" width=\"25%\">"
     ]
    },
    {
     "cell_type": "heading",
     "level": 3,
     "metadata": {
      "slideshow": {
       "slide_type": "subslide"
      }
     },
     "source": [
      "Matlab verification"
     ]
    },
    {
     "cell_type": "markdown",
     "metadata": {},
     "source": [
      "See [ft3_ex4.m](files/matlab/ft3_ex4.m)\n",
      "\n",
      "Result:\n",
      "    \n",
      "    Wr = (51607450253003931*pi)/72057594037927936 = 2.25"
     ]
    },
    {
     "cell_type": "heading",
     "level": 2,
     "metadata": {
      "slideshow": {
       "slide_type": "slide"
      }
     },
     "source": [
      "Homework"
     ]
    },
    {
     "cell_type": "markdown",
     "metadata": {},
     "source": [
      "Attempt the end of the chapter exercises 7-11 (Section 8.10) from Karris. Don't look at the answers until you have attempted the problems."
     ]
    },
    {
     "cell_type": "heading",
     "level": 2,
     "metadata": {
      "slideshow": {
       "slide_type": "slide"
      }
     },
     "source": [
      "Lab Work"
     ]
    },
    {
     "cell_type": "markdown",
     "metadata": {
      "slideshow": {
       "slide_type": "-"
      }
     },
     "source": [
      "We will verify the results and examine the frequency responses of selected examples from this session."
     ]
    }
   ],
   "metadata": {}
  }
 ]
}