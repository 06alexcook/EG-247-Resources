{
 "metadata": {
  "name": ""
 },
 "nbformat": 3,
 "nbformat_minor": 0,
 "worksheets": [
  {
   "cells": [
    {
     "cell_type": "heading",
     "level": 1,
     "metadata": {
      "slideshow": {
       "slide_type": "slide"
      }
     },
     "source": [
      "Transfer Functions"
     ]
    },
    {
     "cell_type": "markdown",
     "metadata": {},
     "source": [
      "Dr Chris Jobling ([c.p.jobling@swansea.ac.uk](mailto:c.p.jobling@swansea.ac.uk))<br />Digital Technium 123<br />Office Hours: Thursdays 14:00-15:00\n",
      "\n",
      "You can view the notes for this presentation in [HTML format](http://nbviewer.ipython.org/github/cpjobling/EG-247-Resources/blob/master/week3/transfer_function.ipynb) and print using your Brower's print function. The source code of this presentation is available as an interactive [IPython notebook](http://ipython.org/notebook.html) from GitHub: <https://github.com/cpjobling/EG-247-Resources>. The GitHub repository also contains the source code for all the Matlab/Simulink examples."
     ]
    },
    {
     "cell_type": "heading",
     "level": 2,
     "metadata": {
      "slideshow": {
       "slide_type": "slide"
      }
     },
     "source": [
      "This Week"
     ]
    },
    {
     "cell_type": "markdown",
     "metadata": {},
     "source": [
      "This week's sessions are based on Chapter 4 **Circuit Analysis with Laplace Transforms** from Steven T. Karris [Signals and Systems: with MATLAB Computing and Simulink Modelling (5th Edition)](http://site.ebrary.com/lib/swansea/docDetail.action?docID=10547416) [You need University Login to access]\n",
      "\n",
      "Last time we showed how Laplace and Inverse-Laplace Transforms could be used to model circuits and to analyse their responses to simple signals. We also introduced the idea of *complex impedence* and *complex admittance*.\n",
      "\n",
      "This time we will examine the idea of a *Transfer Function* which opens up signals and systems analysis to a whole range of additional possibilities including \n",
      "\n",
      "* block diagram modelling\n",
      "* numerical simulation\n",
      "* numerical analysis and the \n",
      "* fundamental ideas of *Signal Processing*."
     ]
    },
    {
     "cell_type": "heading",
     "level": 2,
     "metadata": {
      "slideshow": {
       "slide_type": "slide"
      }
     },
     "source": [
      "Agenda"
     ]
    },
    {
     "cell_type": "markdown",
     "metadata": {},
     "source": [
      "* Transfer Functions\n",
      "* A Couple of Examples\n",
      "* Circuit Analysis Using MATLAB LTI Transfer Function Block\n",
      "* Circuit Simulatiom Using Simulink Transfer Function Block"
     ]
    },
    {
     "cell_type": "heading",
     "level": 2,
     "metadata": {
      "slideshow": {
       "slide_type": "slide"
      }
     },
     "source": [
      "Transfer Functions for Circuits"
     ]
    },
    {
     "cell_type": "markdown",
     "metadata": {},
     "source": [
      "When doing circuit analysis with components defined in the complex frequency domain, the ratio of the output voltage $V_{\\mathrm{out}}(s)$ ro the input voltage $V_{\\mathrm{in}}(s)$ *under zero initial conditions* is of great interest. This ratio is known as the *voltage transfer function* denoted $G_v(s)$:\n",
      "\n",
      "$$G_v(s) = \\frac{V_{\\mathrm{out}}(s)}{V_{\\mathrm{in}}(s)}$$\n",
      "\n",
      "Similarly, the ratio of the output current $I_{\\mathrm{out}}(s)$ to the input current $I_{\\mathrm{in}}(s)$ *under zero initial conditions*, is called the *cuurent transfer function* denoted $G_i(s)$:\n",
      "\n",
      "$$G_i(s) = \\frac{I_{\\mathrm{out}}(s)}{I_{\\mathrm{in}}(s)}$$\n",
      "\n",
      "In practice, the current transfer function is rarely used, so we will use the voltage transfer function denoted:\n",
      "\n",
      "$$G(s) = \\frac{V_{\\mathrm{out}}(s)}{V_{\\mathrm{in}}(s)}$$\n"
     ]
    },
    {
     "cell_type": "heading",
     "level": 3,
     "metadata": {
      "slideshow": {
       "slide_type": "subslide"
      }
     },
     "source": [
      "Example 6"
     ]
    },
    {
     "cell_type": "markdown",
     "metadata": {},
     "source": [
      "Derive an expression for the transfer function $G(s)$ for the circuit below. In this circuit $R_g$ represents the internal resisteance of the applied (voltage) source $v_s$, and $R_L$ represents the resistance of the load that consists of $R_L$, $L$ and $C$.\n",
      "\n",
      "<img src=\"files/pictures/example6.png\" width=\"30%\">"
     ]
    },
    {
     "cell_type": "heading",
     "level": 3,
     "metadata": {
      "slideshow": {
       "slide_type": "subslide"
      }
     },
     "source": [
      "Sketch of Solution"
     ]
    },
    {
     "cell_type": "markdown",
     "metadata": {},
     "source": [
      "* Replace $v_s(t)$, $R_g$, $R_L$, $L$ and $C$ by their transformed (*complex frequency*) equivalents: $V_s(s)$, $R_g$, $R_L$, $sL$ and $1/(sC)$\n",
      "* Use the *Voltage Divider Rule* to determine $V_\\mathrm{out}(s)$ as a function of $V_s(s)$ \n",
      "* Form $G(s)$ by writing down the ratio $V_\\mathrm{out}(s)/V_s(s)$"
     ]
    },
    {
     "cell_type": "heading",
     "level": 3,
     "metadata": {
      "slideshow": {
       "slide_type": "subslide"
      }
     },
     "source": [
      "Example 7"
     ]
    },
    {
     "cell_type": "markdown",
     "metadata": {},
     "source": [
      "Compute the transfer function for the op-amp circuit shown below in terms of the circuit constants $R_1$, $R_2$, $R_3$, $C_1$ and $C_2$. Then replace the complex variable $s$ with $j\\omega$, and the circuit constants with their numerical values and plot the magnitude $\\left|G(s)\\right| = \\left|V_\\mathrm{out}(s)/V_\\mathrm{in}(s)\\right|$ versus radian frequency $\\omega$.\n",
      "\n",
      "<img src=\"files/pictures/example7.png\" width=\"50%\">"
     ]
    },
    {
     "cell_type": "heading",
     "level": 3,
     "metadata": {
      "slideshow": {
       "slide_type": "subslide"
      }
     },
     "source": [
      "Sketch of Solution"
     ]
    },
    {
     "cell_type": "markdown",
     "metadata": {},
     "source": [
      "* Replace the components and voltages in the circuit diagram with their complex frequency equivalents\n",
      "* Use nodal analysis to determine the voltages at the nodes either side of the 50K resistor $R_3$\n",
      "* Note that the voltage at the input to the op-amp is a virtual ground\n",
      "* Solve for $V_\\mathrm{out}(s)$ as a function of $V_\\mathrm{in}(s)$\n",
      "* Form the reciprocal $G(s) = V_\\mathrm{out}(s)/V_\\mathrm{in}(s)$\n",
      "* Use MATLAB to calculate the component values, then replace $s$ by $j\\omega$.\n",
      "* Plot $\\left|G(j\\omega)\\right|$ on log-linear \"paper\" "
     ]
    },
    {
     "cell_type": "heading",
     "level": 3,
     "metadata": {
      "slideshow": {
       "slide_type": "subslide"
      }
     },
     "source": [
      "The Matlab Bit"
     ]
    },
    {
     "cell_type": "markdown",
     "metadata": {},
     "source": [
      "See attached script: [solution7.m](files/matlab/solution7.m).\n",
      "\n",
      "<img src=\"files/pictures/solution7.png\">"
     ]
    },
    {
     "cell_type": "heading",
     "level": 2,
     "metadata": {
      "slideshow": {
       "slide_type": "slide"
      }
     },
     "source": [
      "Using Transfer Functions in Matlab for System Analysis"
     ]
    },
    {
     "cell_type": "markdown",
     "metadata": {},
     "source": [
      "Please use the file [tf_matlab.m](files/matlab/tf_matlab.m) to explore the Transfer Function features provide by Matlab. Use the *publish* option to generate a nicely formatted document."
     ]
    },
    {
     "cell_type": "heading",
     "level": 2,
     "metadata": {
      "slideshow": {
       "slide_type": "slide"
      }
     },
     "source": [
      "Using Transfer Functions in Simulink for System Simulation"
     ]
    },
    {
     "cell_type": "markdown",
     "metadata": {},
     "source": [
      "<img src=\"files/pictures/sim_tf.png\">\n",
      "\n",
      "The Simulink transfer function (**`Transfer Fcn`**) block shown above implements a transfer function representing a general\n",
      "input output function\n",
      "\n",
      "$$G(s) = \\frac{N(s)}{D(s)}$$\n",
      "\n",
      "that it is not specific nor restricted to circuit analysis. It can, however be used in modelling and simulation studies. "
     ]
    },
    {
     "cell_type": "heading",
     "level": 3,
     "metadata": {
      "slideshow": {
       "slide_type": "subslide"
      }
     },
     "source": [
      "Example"
     ]
    },
    {
     "cell_type": "markdown",
     "metadata": {},
     "source": [
      "Recast Example 7 as a Matlab problem using the LTI Transfer Function block. For simplicity use parameters $R_1 = R_2 = R_3 = 1\\; \\Omega$, and $C_1 = C_2 = 1\\;\\mathrm{F}$. Calculate the step response using the LTI functions.\n",
      "\n",
      "The Matlab solution: [example8.m](files/matlab/example8.m)\n",
      "\n",
      "Verify the result with Simulink."
     ]
    },
    {
     "cell_type": "heading",
     "level": 2,
     "metadata": {
      "slideshow": {
       "slide_type": "slide"
      }
     },
     "source": [
      "Homework"
     ]
    },
    {
     "cell_type": "markdown",
     "metadata": {},
     "source": [
      "Do the end of the chapter exercises (Questions 5-7 from Section 4.7) from the textbook. Don't look at the answers until you have attempted the problems."
     ]
    },
    {
     "cell_type": "heading",
     "level": 2,
     "metadata": {
      "slideshow": {
       "slide_type": "slide"
      }
     },
     "source": [
      "Lab Work"
     ]
    },
    {
     "cell_type": "markdown",
     "metadata": {
      "slideshow": {
       "slide_type": "-"
      }
     },
     "source": [
      "In the lab, on Monday, we will get you to play with using Matlab to solve circuit problems, build transfer functions, use transfer functions with the system analysis tools and the Simuink simulation tools. At the end of this exercise, you should be able to do Question 9 from the End of Chapter Problems Section 4.7)."
     ]
    }
   ],
   "metadata": {}
  }
 ]
}