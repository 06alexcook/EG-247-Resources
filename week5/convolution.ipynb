{
 "metadata": {
  "name": ""
 },
 "nbformat": 3,
 "nbformat_minor": 0,
 "worksheets": [
  {
   "cells": [
    {
     "cell_type": "heading",
     "level": 1,
     "metadata": {
      "slideshow": {
       "slide_type": "slide"
      }
     },
     "source": [
      "The Impulse Response and Convolution (Part 2)"
     ]
    },
    {
     "cell_type": "markdown",
     "metadata": {},
     "source": [
      "Dr Chris Jobling ([c.p.jobling@swansea.ac.uk](mailto:c.p.jobling@swansea.ac.uk))<br />Digital Technium 123<br />Office Hours: Thursdays 14:00-15:00\n",
      "\n",
      "You can view the notes for this presentation in [HTML format](http://nbviewer.ipython.org/github/cpjobling/EG-247-Resources/blob/master/week4/state_space.ipynb) and print using your brower's print function. The source code of this presentation is available as an interactive [IPython notebook](http://ipython.org/notebook.html) from GitHub: <https://github.com/cpjobling/EG-247-Resources>. The GitHub repository also contains the source code for all the Matlab/Simulink examples."
     ]
    },
    {
     "cell_type": "code",
     "collapsed": false,
     "input": [
      "from pymatbridge import Matlab\n",
      "mlab = Matlab()\n",
      "mlab.start()\n",
      "import pymatbridge as pymat\n",
      "ip = get_ipython()\n",
      "pymat.load_ipython_extension(ip)"
     ],
     "language": "python",
     "metadata": {
      "slideshow": {
       "slide_type": "skip"
      }
     },
     "outputs": [
      {
       "output_type": "stream",
       "stream": "stdout",
       "text": [
        "Starting MATLAB on http://localhost:56547\n",
        " visit http://localhost:56547/exit.m to shut down same\n"
       ]
      },
      {
       "output_type": "stream",
       "stream": "stdout",
       "text": [
        "."
       ]
      },
      {
       "output_type": "stream",
       "stream": "stdout",
       "text": [
        "."
       ]
      },
      {
       "output_type": "stream",
       "stream": "stdout",
       "text": [
        "MATLAB started and connected!\n",
        "Starting MATLAB on http://localhost:56557\n",
        " visit http://localhost:56557/exit.m to shut down same\n"
       ]
      },
      {
       "output_type": "stream",
       "stream": "stdout",
       "text": [
        "."
       ]
      },
      {
       "output_type": "stream",
       "stream": "stdout",
       "text": [
        "."
       ]
      },
      {
       "output_type": "stream",
       "stream": "stdout",
       "text": [
        "MATLAB started and connected!\n"
       ]
      }
     ],
     "prompt_number": 3
    },
    {
     "cell_type": "heading",
     "level": 2,
     "metadata": {
      "slideshow": {
       "slide_type": "subslide"
      }
     },
     "source": [
      "Scope and Background Reading"
     ]
    },
    {
     "cell_type": "markdown",
     "metadata": {},
     "source": [
      "This session continues our introduction to time convolution.\n",
      "\n",
      "As we shall see, in the determination of a system's response to a signal input, time convolution involves integration by parts and is a tricky operation. But time convolution becomes multiplication in the Laplace Transform domain, and is much easier to apply.\n",
      "\n",
      "The material in this presentation and notes is based on Chapter 6 of [Steven T. Karris, Signals and Systems: with Matlab Computation and Simulink Modelling, 5th Edition.](http://site.ebrary.com/lib/swansea/docDetail.action?docID=10547416) and builds on the time response of a state-space model that was developed in the [previous session](http://nbviewer.ipython.org/github/cpjobling/EG-247-Resources/blob/master/week4/state_space.ipynb)."
     ]
    },
    {
     "cell_type": "heading",
     "level": 2,
     "metadata": {},
     "source": [
      "Agenda"
     ]
    },
    {
     "cell_type": "markdown",
     "metadata": {},
     "source": [
      "The material to be presented will need two sessions.\n",
      "\n",
      "*Last Session*\n",
      "\n",
      "* The Impulse Response of a System in Time Domain\n",
      "* Even and Odd Functions of Time\n",
      "* Time Convolution\n",
      "\n",
      "*This Session*\n",
      "\n",
      "* Graphical Evaluation of the Convolution Integral\n",
      "* System Response by Convolution\n",
      "* System Response by Laplace"
     ]
    },
    {
     "cell_type": "heading",
     "level": 2,
     "metadata": {
      "slideshow": {
       "slide_type": "slide"
      }
     },
     "source": [
      "Time Convolution"
     ]
    },
    {
     "cell_type": "heading",
     "level": 2,
     "metadata": {
      "slideshow": {
       "slide_type": "slide"
      }
     },
     "source": [
      "Graphical Evaluation of the Convolution Integral"
     ]
    },
    {
     "cell_type": "heading",
     "level": 2,
     "metadata": {
      "slideshow": {
       "slide_type": "slide"
      }
     },
     "source": [
      "System Response by Convolution"
     ]
    },
    {
     "cell_type": "heading",
     "level": 2,
     "metadata": {},
     "source": [
      "System Response by Laplace"
     ]
    },
    {
     "cell_type": "heading",
     "level": 2,
     "metadata": {
      "slideshow": {
       "slide_type": "slide"
      }
     },
     "source": [
      "Homework"
     ]
    },
    {
     "cell_type": "markdown",
     "metadata": {},
     "source": [
      "You should be able to do Question 1 from Section 6.7 of the textbook.\n",
      "\n",
      "If you want to refresh your knowledge of even and odd functions, Chapter 1 of [Schaum's Outline on Signals and Systems (Hsu, 2nd Ed.)](https://www.dawsonera.com/abstract/9780071634731) has some examples. For example see Solved Problems 1.5&ndash;1.8 and Supplementary Problems 1.48&ndash;1.50$."
     ]
    },
    {
     "cell_type": "heading",
     "level": 2,
     "metadata": {
      "slideshow": {
       "slide_type": "slide"
      }
     },
     "source": [
      "Lab Work"
     ]
    },
    {
     "cell_type": "markdown",
     "metadata": {
      "slideshow": {
       "slide_type": "-"
      }
     },
     "source": [
      "In the lab, on Monday, we will solve Example 2 using Matlab/Simulink following the procedure given in Pages between pages 1-17 and 1-22 of the textbook. We will also explore the `heaviside` and `dirac` functions."
     ]
    }
   ],
   "metadata": {}
  }
 ]
}