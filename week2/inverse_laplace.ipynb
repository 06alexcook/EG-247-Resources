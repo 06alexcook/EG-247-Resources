{
 "metadata": {
  "name": ""
 },
 "nbformat": 3,
 "nbformat_minor": 0,
 "worksheets": [
  {
   "cells": [
    {
     "cell_type": "heading",
     "level": 1,
     "metadata": {
      "slideshow": {
       "slide_type": "slide"
      }
     },
     "source": [
      "The Inverse Laplace Transform"
     ]
    },
    {
     "cell_type": "markdown",
     "metadata": {},
     "source": [
      "Dr Chris Jobling ([c.p.jobling@swansea.ac.uk](mailto:c.p.jobling@swansea.ac.uk))<br />Digital Technium 123<br />Office Hours: Thursdays 15:00-16:00\n",
      "\n",
      "You can view the notes for this presentation in [HTML format](http://nbviewer.ipython.org/github/cpjobling/EG-247-Resources/blob/master/week2/inverse_laplace.ipynb) and print using your Brower's print function. The source code of this presentation is available as an interactive [IPython notebook](http://ipython.org/notebook.html) from GitHub: <https://github.com/cpjobling/EG-247-Resources>. The GitHub repository also contains the source code for all the Matlab/Simulink examples."
     ]
    },
    {
     "cell_type": "heading",
     "level": 2,
     "metadata": {
      "slideshow": {
       "slide_type": "slide"
      }
     },
     "source": [
      "Definition"
     ]
    },
    {
     "cell_type": "markdown",
     "metadata": {},
     "source": [
      "The formal definition of the Inverse Laplace Transform is\n",
      "\n",
      "$$\\mathcal{L}^{-1}\\left\\{ F(s) \\right\\} = \\frac{1}{2\\pi j}\\int_{\\sigma-j\\omega}^{\\sigma+j\\omega} f(t)e^{st}ds$$\n",
      "\n",
      "but this is difficult to use in practice because it requires contour integration using complex variable theory."
     ]
    },
    {
     "cell_type": "markdown",
     "metadata": {
      "slideshow": {
       "slide_type": "subslide"
      }
     },
     "source": [
      "For most engineering problems we can instead refer to **Tables of Properties** and **Common Transform Pairs** to look up the *Inverse Laplace Transform*"
     ]
    },
    {
     "cell_type": "markdown",
     "metadata": {
      "slideshow": {
       "slide_type": "subslide"
      }
     },
     "source": [
      "(Or, if we are not taking an exam, we can use a computer or mobile device.)"
     ]
    },
    {
     "cell_type": "heading",
     "level": 2,
     "metadata": {},
     "source": [
      "Partial Fraction Expansion"
     ]
    },
    {
     "cell_type": "markdown",
     "metadata": {},
     "source": [
      "Quite often the Laplace Transform we start off with is a *rational polynomial* in $s$.\n",
      "\n",
      "$$F(s) = \\frac{N(s)}{D(s)} = \\frac{b_ms^m + b_{m-1}s^{m-1}+b_{m-2}s^{m-2}+ \\cdots +b_{1}s+b_{0}}{a_ns^n + a_{n-1}s^{n-1}+a_{n-2}s^{n-2}+ \\cdots +a_{1}s+a_{0}}$$\n",
      "\n",
      "The coefficients $a_k$ and $b_k$ are real for $k = 1, 2, 3, \\ldots$"
     ]
    },
    {
     "cell_type": "heading",
     "level": 3,
     "metadata": {
      "slideshow": {
       "slide_type": "subslide"
      }
     },
     "source": [
      "Proper and Improper Rational Functions"
     ]
    },
    {
     "cell_type": "markdown",
     "metadata": {
      "slideshow": {
       "slide_type": "-"
      }
     },
     "source": [
      "* If $m <n$ $F(s)$ is said to be a *proper rational function*. \n",
      "* If $m \\ge n$ $F(s)$ is said to be an *improper rational function* \n",
      "\n",
      "(Think [proper fractions](http://www.mathsisfun.com/proper-fractions.html) and [improper fractions](http://www.mathsisfun.com/improper-fractions.html).)"
     ]
    },
    {
     "cell_type": "heading",
     "level": 3,
     "metadata": {
      "slideshow": {
       "slide_type": "subslide"
      }
     },
     "source": [
      "Zeros"
     ]
    },
    {
     "cell_type": "markdown",
     "metadata": {},
     "source": [
      "* The *roots* of the numerator polymonial $N(s)$ are found by setting $N(s)=0$\n",
      "* When $s$ equals one of the $m$ roots of $N(s)$ then $F(s)$ will be zero.\n",
      "* Thus the roots of $N(s)$ are the **zeros** of $F(s)$."
     ]
    },
    {
     "cell_type": "heading",
     "level": 3,
     "metadata": {
      "slideshow": {
       "slide_type": "subslide"
      }
     },
     "source": [
      "Poles"
     ]
    },
    {
     "cell_type": "markdown",
     "metadata": {},
     "source": [
      "* The *roots* (*zeros*) of the denominator polynomial are found by setting $D(s) = 0$. \n",
      "* When $s$ equals one of the $n$ roots of $D(s)$ then $F(s)$ will be infinite $F(s_r) = N(s_r)/0=\\infty$).\n",
      "* These are called the **poles** of $F(s)$.\n",
      "\n",
      "(Imagine telegraph poles planted at the points on the $s$-plane where $D(s)$ is zero.)"
     ]
    },
    {
     "cell_type": "heading",
     "level": 3,
     "metadata": {
      "slideshow": {
       "slide_type": "subslide"
      }
     },
     "source": [
      "A Further Simplifying Assumption"
     ]
    },
    {
     "cell_type": "markdown",
     "metadata": {},
     "source": [
      "If $F(s)$ is proper then it is conventional to make the coefficient $s_n$ unity thus:\n",
      "\n",
      "$$F(s) = \\frac{{N(s)}}{{D(s)}} = \\frac{{1/{a_n}\\left( {{b_m}{s^m} + {b_{m - 1}}{s^{m - 1}} + {b_{m - 2}}{s^{m - 2}} +  \\cdots  + {b_1}s + {b_0}} \\right)}}{{{s^n} + \\frac{{{a_{n - 1}}}}{{{a_n}}}{s^{n - 1}} + \\frac{{{a_{n - 2}}}}{{{a_n}}}{s^{n - 2}} +  \\cdots  + \\frac{{{a_1}}}{{{a_n}}}s + \\frac{{{a_0}}}{{{a_n}}}}}$$\n",
      "\n",
      "(I know it doesn't look simpler, but remember that the $a$s and $b$s are numbers in practice!)\n",
      "    "
     ]
    },
    {
     "cell_type": "heading",
     "level": 2,
     "metadata": {
      "slideshow": {
       "slide_type": "slide"
      }
     },
     "source": [
      "Inverse Laplace Transform by Partial Fraction Expansion (PFE)"
     ]
    },
    {
     "cell_type": "markdown",
     "metadata": {},
     "source": [
      "The poles of $F(s)$ can be real and distinct, real and repeated, complex conjugate pairs, or a combination. "
     ]
    },
    {
     "cell_type": "heading",
     "level": 3,
     "metadata": {
      "slideshow": {
       "slide_type": "subslide"
      }
     },
     "source": [
      "Defining the problem"
     ]
    },
    {
     "cell_type": "markdown",
     "metadata": {},
     "source": [
      "The nature of the poles governs the best way to tackle the PFE that leads to the solution of the Inverse Laplace Transform. Thus, we need to structure our presentation to cover one of the following cases:\n",
      "\n",
      "* The case where $F(s)$ has distinct poles\n",
      "* The case where $F(s)$ has complex poles\n",
      "* The case where $F(s)$ has repeated poles\n",
      "* The case where $F(s)$ is an improper rational polynomial\n",
      "\n",
      "We will examine each case by means of a worked example. Please refer to Chapter 3 of Karris for full details."
     ]
    },
    {
     "cell_type": "heading",
     "level": 2,
     "metadata": {
      "slideshow": {
       "slide_type": "slide"
      }
     },
     "source": [
      "The case of the distinct poles"
     ]
    },
    {
     "cell_type": "markdown",
     "metadata": {
      "slideshow": {
       "slide_type": "fragment"
      }
     },
     "source": [
      "If the poles $p_1,\\,p_2,\\,p_3,\\,\\ldots,\\, p_n$ are *distinct* we can factor the denominator of F(s) in the form \n",
      "\n",
      "$$F(s) = \\frac{N(s)}{(s-p_1)(s-p_2)(s-p_3)\\ldots(s-p_n)}$$"
     ]
    },
    {
     "cell_type": "markdown",
     "metadata": {
      "slideshow": {
       "slide_type": "fragment"
      }
     },
     "source": [
      "Next, using *partial fraction expansion*\n",
      "\n",
      "$$F(s)=\\frac{r_1}{s-p_1}+\\frac{r_2}{s-p_2}+\\frac{r_3}{s-p_3}+\\cdots + \\frac{r_n}{s-p_n}$$"
     ]
    },
    {
     "cell_type": "markdown",
     "metadata": {
      "slideshow": {
       "slide_type": "fragment"
      }
     },
     "source": [
      "To evaluate the *residue* $r_k$, we multiply both sides by $(s-p_k)$ then let $s \\to p_k$\n",
      "\n",
      "$$r_k = \\lim_{s\\to p_k}(s-p_k)F(s) = \\left.(s-p_k)F(s)\\right|_{s=p_k}$$"
     ]
    },
    {
     "cell_type": "heading",
     "level": 3,
     "metadata": {
      "slideshow": {
       "slide_type": "subslide"
      }
     },
     "source": [
      "Example 1"
     ]
    },
    {
     "cell_type": "markdown",
     "metadata": {},
     "source": [
      "Use the PFE method to simplify $F_1(s)$ below and find the time domain function $f_1(t)$ corresponding to $F_1(s)$\n",
      "\n",
      "$$F_1(s) = \\frac{2s+5}{s^2 + 5s + 6}$$\n",
      "\n",
      "(Quick solution: [Wolfram|Alpha](http://www.wolframalpha.com/input/?i=inverse+laplace+transform+%282s+%2B+5%29%2F%28s%5E2+%2B+5s+%2B+6%29))"
     ]
    },
    {
     "cell_type": "heading",
     "level": 3,
     "metadata": {
      "slideshow": {
       "slide_type": "subslide"
      }
     },
     "source": [
      "Matlab Solution - Numerical"
     ]
    },
    {
     "cell_type": "code",
     "collapsed": false,
     "input": [
      "# Set up in iPython\n",
      "from pymatbridge import Matlab\n",
      "mlab = Matlab()\n",
      "mlab.start()\n",
      "import pymatbridge as pymat\n",
      "ip = get_ipython()\n",
      "pymat.load_ipython_extension(ip)"
     ],
     "language": "python",
     "metadata": {
      "slideshow": {
       "slide_type": "skip"
      }
     },
     "outputs": [
      {
       "output_type": "stream",
       "stream": "stdout",
       "text": [
        "Starting MATLAB on http://localhost:63939\n",
        " visit http://localhost:63939/exit.m to shut down same\n"
       ]
      },
      {
       "output_type": "stream",
       "stream": "stdout",
       "text": [
        "."
       ]
      },
      {
       "output_type": "stream",
       "stream": "stdout",
       "text": [
        "."
       ]
      },
      {
       "output_type": "stream",
       "stream": "stdout",
       "text": [
        "."
       ]
      },
      {
       "output_type": "stream",
       "stream": "stdout",
       "text": [
        "."
       ]
      },
      {
       "output_type": "stream",
       "stream": "stdout",
       "text": [
        "MATLAB started and connected!\n",
        "Starting MATLAB on http://localhost:63963\n",
        " visit http://localhost:63963/exit.m to shut down same\n"
       ]
      },
      {
       "output_type": "stream",
       "stream": "stdout",
       "text": [
        "."
       ]
      },
      {
       "output_type": "stream",
       "stream": "stdout",
       "text": [
        "."
       ]
      },
      {
       "output_type": "stream",
       "stream": "stdout",
       "text": [
        "."
       ]
      },
      {
       "output_type": "stream",
       "stream": "stdout",
       "text": [
        "."
       ]
      },
      {
       "output_type": "stream",
       "stream": "stdout",
       "text": [
        "."
       ]
      },
      {
       "output_type": "stream",
       "stream": "stdout",
       "text": [
        "."
       ]
      },
      {
       "output_type": "stream",
       "stream": "stdout",
       "text": [
        "."
       ]
      },
      {
       "output_type": "stream",
       "stream": "stdout",
       "text": [
        "."
       ]
      },
      {
       "output_type": "stream",
       "stream": "stdout",
       "text": [
        "."
       ]
      },
      {
       "output_type": "stream",
       "stream": "stdout",
       "text": [
        "."
       ]
      },
      {
       "output_type": "stream",
       "stream": "stdout",
       "text": [
        "."
       ]
      },
      {
       "output_type": "stream",
       "stream": "stdout",
       "text": [
        "."
       ]
      },
      {
       "output_type": "stream",
       "stream": "stdout",
       "text": [
        "."
       ]
      },
      {
       "output_type": "stream",
       "stream": "stdout",
       "text": [
        "MATLAB started and connected!\n"
       ]
      }
     ],
     "prompt_number": 5
    },
    {
     "cell_type": "code",
     "collapsed": false,
     "input": [
      "%%matlab\n",
      "Ns = [2, 5]; Ds = [1, 5, 6];\n",
      "[r,p,k] = residue(Ns, Ds)"
     ],
     "language": "python",
     "metadata": {
      "slideshow": {
       "slide_type": "-"
      }
     },
     "outputs": [
      {
       "metadata": {},
       "output_type": "display_data",
       "text": [
        "\n",
        "r =\n",
        "\n",
        "    1.0000\n",
        "    1.0000\n",
        "\n",
        "\n",
        "p =\n",
        "\n",
        "   -3.0000\n",
        "   -2.0000\n",
        "\n",
        "\n",
        "k =\n",
        "\n",
        "     []\n",
        "\n"
       ]
      }
     ],
     "prompt_number": 7
    },
    {
     "cell_type": "markdown",
     "metadata": {},
     "source": [
      "Interpreted as:\n",
      "\n",
      "$$F_1(s) = \\frac{1}{s + 3} + \\frac{1}{s + 2}$$\n",
      "\n",
      "which because of the linearity property of the Laplace Transform and using tables results in the *Inverse Laplace Transform*\n",
      "\n",
      "$$f_1(t) = e^{-3t} + e^{-2t}$$"
     ]
    },
    {
     "cell_type": "heading",
     "level": 3,
     "metadata": {},
     "source": [
      "Matlab solution - symbolic"
     ]
    },
    {
     "cell_type": "code",
     "collapsed": false,
     "input": [
      "%%matlab\n",
      "syms s t;\n",
      "Fs = (2*s + 5)/(s^2 + 5*s + 6);\n",
      "ft = ilaplace(Fs);\n",
      "pretty(ft)"
     ],
     "language": "python",
     "metadata": {},
     "outputs": [
      {
       "metadata": {},
       "output_type": "display_data",
       "text": [
        "\n",
        "  exp(-2 t) + exp(-3 t)\n"
       ]
      }
     ],
     "prompt_number": 9
    },
    {
     "cell_type": "heading",
     "level": 3,
     "metadata": {
      "slideshow": {
       "slide_type": "subslide"
      }
     },
     "source": [
      "Example 2"
     ]
    },
    {
     "cell_type": "markdown",
     "metadata": {},
     "source": [
      "Determine the Inverse Laplace Transform of\n",
      "\n",
      "$$F_2(s) = \\frac{3s^2+2s+5}{s^3 + 9s^s + 23s + 15}$$\n",
      "\n",
      "(Quick solution: [Wolfram|Alpha](http://www.wolframalpha.com/input/?i=inverse+laplace+transform+%283s%5E2+%2B+2s+%2B+5%29%2F%28s%5E3+%2B+9s%5E2+%2B+23s+%2B+15%29))"
     ]
    },
    {
     "cell_type": "heading",
     "level": 3,
     "metadata": {
      "slideshow": {
       "slide_type": "subslide"
      }
     },
     "source": [
      "Solution 2"
     ]
    },
    {
     "cell_type": "markdown",
     "metadata": {
      "slideshow": {
       "slide_type": "fragment"
      }
     },
     "source": [
      "Because the denominator of $F_2(s)$ is a cubic, it will be difficult to factorise without computer assistance so we use Matlab to factorise $D(s)$"
     ]
    },
    {
     "cell_type": "code",
     "collapsed": false,
     "input": [
      "%%matlab\n",
      "syms s;\n",
      "factor(s^3 + 9*s^2 + 23*s + 15)"
     ],
     "language": "python",
     "metadata": {
      "slideshow": {
       "slide_type": "fragment"
      }
     },
     "outputs": [
      {
       "metadata": {},
       "output_type": "display_data",
       "text": [
        " \n",
        "ans =\n",
        " \n",
        "(s + 3)*(s + 5)*(s + 1)\n",
        " \n"
       ]
      }
     ],
     "prompt_number": 13
    },
    {
     "cell_type": "markdown",
     "metadata": {
      "slideshow": {
       "slide_type": "fragment"
      }
     },
     "source": [
      "In an exam you'd be given the factors"
     ]
    },
    {
     "cell_type": "markdown",
     "metadata": {
      "slideshow": {
       "slide_type": "subslide"
      }
     },
     "source": [
      "We can now use the previous technique to find the solution which according to Matlab should be\n",
      "\n",
      "$$f_1(t) = \\frac{3}{4}e^{-t} - \\frac{13}{2}e^{-3t} + \\frac{35}{4}e^{-5t}$$"
     ]
    },
    {
     "cell_type": "heading",
     "level": 2,
     "metadata": {},
     "source": [
      "The case of the complex poles"
     ]
    },
    {
     "cell_type": "heading",
     "level": 2,
     "metadata": {},
     "source": [
      "The case of the repeated poles"
     ]
    },
    {
     "cell_type": "heading",
     "level": 2,
     "metadata": {},
     "source": [
      "The case of the improper rational polynomial"
     ]
    },
    {
     "cell_type": "heading",
     "level": 2,
     "metadata": {
      "slideshow": {
       "slide_type": "slide"
      }
     },
     "source": [
      "Homework"
     ]
    },
    {
     "cell_type": "markdown",
     "metadata": {},
     "source": [
      "Do the end of the chapter exercises (Section 1.7) from the textbook. Don't look at the answers until you have attempted the problems."
     ]
    },
    {
     "cell_type": "heading",
     "level": 2,
     "metadata": {
      "slideshow": {
       "slide_type": "slide"
      }
     },
     "source": [
      "Lab Work"
     ]
    },
    {
     "cell_type": "markdown",
     "metadata": {
      "slideshow": {
       "slide_type": "-"
      }
     },
     "source": [
      "In the lab, on Monday, we will solve Example 2 using Matlab/Simulink following the procedure given in Pages between pages 1-17 and 1-22 of the textbook. We will also explore the `heaviside` and `dirac` functions."
     ]
    }
   ],
   "metadata": {}
  }
 ]
}