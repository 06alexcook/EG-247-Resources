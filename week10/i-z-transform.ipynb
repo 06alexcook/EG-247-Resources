{
 "metadata": {
  "name": ""
 },
 "nbformat": 3,
 "nbformat_minor": 0,
 "worksheets": [
  {
   "cells": [
    {
     "cell_type": "heading",
     "level": 1,
     "metadata": {
      "slideshow": {
       "slide_type": "slide"
      }
     },
     "source": [
      "The Inverse Z-Transform"
     ]
    },
    {
     "cell_type": "markdown",
     "metadata": {},
     "source": [
      "Dr Chris Jobling ([c.p.jobling@swansea.ac.uk](mailto:c.p.jobling@swansea.ac.uk))<br />Digital Technium 123<br />Office Hours: Thursdays 14:00-15:00\n",
      "\n",
      "You can view the notes for this presentation in [HTML format](http://nbviewer.ipython.org/github/cpjobling/EG-247-Resources/blob/master/week10/i-z-transform.ipynb) and print using your Brower's print function. The source code of this presentation is available as an interactive [IPython notebook](http://ipython.org/notebook.html) from GitHub: <https://github.com/cpjobling/EG-247-Resources>. The GitHub repository also contains the source code for all the Matlab/Simulink examples."
     ]
    },
    {
     "cell_type": "heading",
     "level": 2,
     "metadata": {
      "slideshow": {
       "slide_type": "slide"
      }
     },
     "source": [
      "Scope and Background Reading"
     ]
    },
    {
     "cell_type": "markdown",
     "metadata": {},
     "source": [
      "This session we will apply what we have learned about Fourier transforms to some typical cicuit problems. After a short introduction, this session will be an examples class.\n",
      "\n",
      "The material in this presentation and notes is based on Chapter X (Starting at Section X.Y) of [Steven T. Karris, Signals and Systems: with Matlab Computation and Simulink Modelling, 5th Edition.](http://site.ebrary.com/lib/swansea/docDetail.action?docID=10547416) from the **Required Reading List**. I also used Chapter Z of [Benoit Boulet, Fundamentals of Signals and Systems](http://site.ebrary.com/lib/swansea/docDetail.action?docID=10228195) from the **Recommended Reading List**."
     ]
    },
    {
     "cell_type": "heading",
     "level": 2,
     "metadata": {
      "slideshow": {
       "slide_type": "slide"
      }
     },
     "source": [
      "Agenda"
     ]
    },
    {
     "cell_type": "markdown",
     "metadata": {},
     "source": [
      "* Inverse Z-Transform\n",
      "* Examples using PFE\n",
      "* Examples using Long Division\n",
      "* Analysis in Matlab\n",
      "* Z-Transfer Functions\n",
      "* CT to DT Conversion"
     ]
    },
    {
     "cell_type": "heading",
     "level": 2,
     "metadata": {
      "slideshow": {
       "slide_type": "slide"
      }
     },
     "source": [
      "The Inverse Z-Transform"
     ]
    },
    {
     "cell_type": "markdown",
     "metadata": {},
     "source": [
      "The inverse Z-Transform enables us to extract a sequence $f[n]$ from $F(z)$. It can be found by any of the following methods:\n",
      "\n",
      "* Partial fraction expansion\n",
      "* The inversion integral\n",
      "* Long division of polynomials"
     ]
    },
    {
     "cell_type": "heading",
     "level": 3,
     "metadata": {
      "slideshow": {
       "slide_type": "subslide"
      }
     },
     "source": [
      "Partial fraction expansion"
     ]
    },
    {
     "cell_type": "markdown",
     "metadata": {},
     "source": [
      "We expand $F(z)$ into a summation of terms whose inverse is know. These terms have the form:\n",
      "\n",
      "$$k,\\;\\frac{r_1 z}{z - p_1},\\;\\frac{r_1 z}{(z - p_1)^2},\\;\\frac{r_3 z}{z - p_2},\\ldots$$\n",
      "\n",
      "where $k$ is a constant, and $r_i$ and $p_i$ represent the residues and poles respectively, and can be real or complex<sup>1</sup>"
     ]
    },
    {
     "cell_type": "markdown",
     "metadata": {
      "slideshow": {
       "slide_type": "skip"
      }
     },
     "source": [
      "**Notes**\n",
      "\n",
      "1. If complex, the poles and residues will be in complex conjugate pairs \n",
      "\n",
      "$$\\frac{r_{i} z}{z - p_i} + \\frac{r_{i}^* z}{z - p_i^*}$$"
     ]
    },
    {
     "cell_type": "heading",
     "level": 3,
     "metadata": {
      "slideshow": {
       "slide_type": "subslide"
      }
     },
     "source": [
      "Step 1: Make Fractions Proper"
     ]
    },
    {
     "cell_type": "markdown",
     "metadata": {},
     "source": [
      "* Before we expand $F(z)$ into partial fraction expansions, we must first express it as a *proper* rational function.\n",
      "* This is done by expanding $F(z)/z$ instead of $F(z)$\n",
      "* That is we expand\n",
      "\n",
      "$$\\frac{F(z)}{z} = \\frac{k}{z} + \\frac{r_1}{s-p_1} + \\frac{r_2}{s-p_2} + \\cdots$$"
     ]
    },
    {
     "cell_type": "heading",
     "level": 3,
     "metadata": {
      "slideshow": {
       "slide_type": "subslide"
      }
     },
     "source": [
      "Step 2: Find residues"
     ]
    },
    {
     "cell_type": "markdown",
     "metadata": {},
     "source": [
      "* Find residues from\n",
      "\n",
      "$$r_k = \\lim_{z\\to p_k}(z - p_k)\\frac{F(z)}{z} = (z - p_k)\\left.\\frac{F(z)}{z}\\right|_{z=p_k}$$"
     ]
    },
    {
     "cell_type": "heading",
     "level": 3,
     "metadata": {
      "slideshow": {
       "slide_type": "subslide"
      }
     },
     "source": [
      "Step 3: Map back to transform tables form"
     ]
    },
    {
     "cell_type": "markdown",
     "metadata": {},
     "source": [
      "Rewrite $F(z)/z$:\n",
      "\n",
      "$$z\\frac{F(z)}{z} = F(z) = k + \\frac{r_1z}{s-p_1} + \\frac{r_2z}{s-p_2} + \\cdots$$"
     ]
    },
    {
     "cell_type": "heading",
     "level": 3,
     "metadata": {
      "slideshow": {
       "slide_type": "subslide"
      }
     },
     "source": [
      "Example 1"
     ]
    },
    {
     "cell_type": "markdown",
     "metadata": {},
     "source": [
      "Use the partial fraction expansion to compute the inverse z-transform of\n",
      "\n",
      "$$F(z) = \\frac{1}{(1 - 0.5z^{-1})(1 - 0.75z^{-1})(1 - z^{-1})}$$\n"
     ]
    },
    {
     "cell_type": "heading",
     "level": 3,
     "metadata": {
      "slideshow": {
       "slide_type": "subslide"
      }
     },
     "source": [
      "Answer to Example 1"
     ]
    },
    {
     "cell_type": "markdown",
     "metadata": {},
     "source": [
      "$$f[n] = 2\\left(\\frac{1}{2}\\right)^n - 9\\left(\\frac{3}{4}\\right)^n + 8$$"
     ]
    },
    {
     "cell_type": "heading",
     "level": 3,
     "metadata": {
      "slideshow": {
       "slide_type": "subslide"
      }
     },
     "source": [
      "Matlab solution"
     ]
    },
    {
     "cell_type": "markdown",
     "metadata": {},
     "source": [
      "See [example1.m](files/matlab/example.m)\n",
      "\n",
      "Uses Matlab functions: \n",
      "\n",
      "* `collect` &ndash; expands a polynomial\n",
      "* `sym2poly` &ndash; converts a polynomial into a numeric polymial (vector of coefficients in descending order of exponents)\n",
      "* `residue` &ndash; calculates poles and zeros of a polynomial\n",
      "* `ztrans` &ndash; symbolic z-transform\n",
      "* `iztrans` &ndash; symbolic inverse ze-transform\n",
      "* `stem` &ndash; plots sequence as a \"lollipop\" diagram"
     ]
    },
    {
     "cell_type": "heading",
     "level": 3,
     "metadata": {
      "slideshow": {
       "slide_type": "subslide"
      }
     },
     "source": [
      "Stem (\"Lollipop\") Plot"
     ]
    },
    {
     "cell_type": "markdown",
     "metadata": {},
     "source": [
      "<img src=\"files/pictures/example1.png\">"
     ]
    },
    {
     "cell_type": "heading",
     "level": 3,
     "metadata": {
      "slideshow": {
       "slide_type": "subslide"
      }
     },
     "source": [
      "Example 2"
     ]
    },
    {
     "cell_type": "markdown",
     "metadata": {},
     "source": [
      "Karris example 8.8: for the linear network shown below, the impulse response is $h(t)=3e^{-2t}$. Use the Fourier transform to compute the response $y(t)$ when the input $u(t)=2[u_0(t)-u_0(t-3)]$. Verify the result with Matlab.\n",
      "\n",
      "<img src=\"files/pictures/example1.png\">"
     ]
    },
    {
     "cell_type": "heading",
     "level": 3,
     "metadata": {
      "slideshow": {
       "slide_type": "subslide"
      }
     },
     "source": [
      "Matlab verification"
     ]
    },
    {
     "cell_type": "markdown",
     "metadata": {},
     "source": [
      "See [ft3_ex1.m](files/matlab/ft3_ex1.m)\n",
      "\n",
      "Result:\n",
      "    \n",
      "    y = 3*heaviside(t) - 3*heaviside(t - 3) + 3*heaviside(t - 3)*exp(6 - 2*t) - 3*exp(-2*t)*heaviside(t)\n",
      "\n",
      "Which after gathering terms gives\n",
      "\n",
      "$$y(t) = 3(1 - 3e^{-2t})u_0(t) - 3(1 - 3e^{-2(t-3)})u_0(t-3)$$\n",
      "\n",
      "And here's a plot:\n",
      "\n",
      "<img src=\"files/pictures/ft3_ex1.png\">"
     ]
    },
    {
     "cell_type": "heading",
     "level": 3,
     "metadata": {
      "slideshow": {
       "slide_type": "subslide"
      }
     },
     "source": [
      "Example 2"
     ]
    },
    {
     "cell_type": "markdown",
     "metadata": {},
     "source": [
      "Karris example 8.9: for the circuit shown below, use the Fourier transfrom method, and the system function $H(\\omega)$ to compute $V_L(t)$. Assume $i_L(0^-)=0$. Verify the result with Matlab.\n",
      "\n",
      "<img src=\"files/pictures/example2.png\" width=\"50%\">"
     ]
    },
    {
     "cell_type": "heading",
     "level": 3,
     "metadata": {
      "slideshow": {
       "slide_type": "subslide"
      }
     },
     "source": [
      "Matlab verification"
     ]
    },
    {
     "cell_type": "markdown",
     "metadata": {},
     "source": [
      "See [ft3_ex2.m](files/matlab/ft3_ex2.m)\n",
      "\n",
      "Result:\n",
      "    \n",
      "    vout = -5*exp(-3*t)*heaviside(t)*(2*exp(t) - 3)\n",
      "\n",
      "Which after gathering terms gives\n",
      "\n",
      "$$v_{\\mathrm{out}} = 5\\left(3e^{-3t} - 2e^{-2t}\\right)u_0(t)$$\n",
      "\n",
      "And here's a plot:\n",
      "\n",
      "<img src=\"files/pictures/ft3_ex2.png\">"
     ]
    },
    {
     "cell_type": "heading",
     "level": 3,
     "metadata": {
      "slideshow": {
       "slide_type": "subslide"
      }
     },
     "source": [
      "Example 3"
     ]
    },
    {
     "cell_type": "markdown",
     "metadata": {},
     "source": [
      "Karris example 8.10: for the linear network shown below, the input-output relationship is:\n",
      "\n",
      "$$\\frac{d}{dt}v_{\\mathrm{out}}+4v_{\\mathrm{out}}=10v_{\\mathrm{in}}$$\n",
      "\n",
      "where $v_{\\mathrm{in}}=3e^{-2t}$. Use the Fourier transform method, and the system function $H(\\omega)$ to compute the output $v_{\\mathrm{out}}$. Verify the result with Matlab.\n",
      "\n",
      "<img src=\"files/pictures/example3.jpg\" width=\"75%\">"
     ]
    },
    {
     "cell_type": "heading",
     "level": 3,
     "metadata": {
      "slideshow": {
       "slide_type": "subslide"
      }
     },
     "source": [
      "Matlab verification"
     ]
    },
    {
     "cell_type": "markdown",
     "metadata": {},
     "source": [
      "See [ft3_ex3.m](files/matlab/ft3_ex3.m)\n",
      "\n",
      "Result:\n",
      "    \n",
      "    15*exp(-4*t)*heaviside(t)*(exp(2*t) - 1)\n",
      "\n",
      "Which after gathering terms gives\n",
      "\n",
      "$$v_{\\mathrm{out}}(t) = 15\\left(e^{-2t}) - e^{-4t}\\right)u_0(t)$$\n",
      "\n",
      "And here's a plot:\n",
      "\n",
      "<img src=\"files/pictures/ft3_ex3.png\">"
     ]
    },
    {
     "cell_type": "heading",
     "level": 3,
     "metadata": {
      "slideshow": {
       "slide_type": "subslide"
      }
     },
     "source": [
      "Example 4"
     ]
    },
    {
     "cell_type": "markdown",
     "metadata": {},
     "source": [
      "Karris example 8.11: the voltage across a 1 $\\Omega$ resistor is known to be $V_{R}(t)=3e^{-2t} u_0(t)$. Compute the energy dissipated in the resistor for $0\\lt t\\lt\\infty$, and verify the result using Parseval's theorem. Verify the result with Matlab.\n",
      "\n",
      "Note from [tables of integrals](http://en.wikipedia.org/wiki/Lists_of_integrals) \n",
      "\n",
      "$$\\int\\frac{1}{a^2 + x^2}\\,dx = \\frac{1}{a}\\arctan\\frac{x}{a}+C.$$\n",
      "\n",
      "<img src=\"files/pictures/example4.png\" width=\"25%\">"
     ]
    },
    {
     "cell_type": "heading",
     "level": 3,
     "metadata": {
      "slideshow": {
       "slide_type": "subslide"
      }
     },
     "source": [
      "Matlab verification"
     ]
    },
    {
     "cell_type": "markdown",
     "metadata": {},
     "source": [
      "See [ft3_ex4.m](files/matlab/ft3_ex4.m)\n",
      "\n",
      "Result:\n",
      "    \n",
      "    Wr = (51607450253003931*pi)/72057594037927936 = 2.25"
     ]
    },
    {
     "cell_type": "heading",
     "level": 2,
     "metadata": {
      "slideshow": {
       "slide_type": "slide"
      }
     },
     "source": [
      "Homework"
     ]
    },
    {
     "cell_type": "markdown",
     "metadata": {},
     "source": [
      "Attempt the end of the chapter exercises 7-11 (Section 8.10) from Karris. Don't look at the answers until you have attempted the problems."
     ]
    },
    {
     "cell_type": "heading",
     "level": 2,
     "metadata": {
      "slideshow": {
       "slide_type": "slide"
      }
     },
     "source": [
      "Lab Work"
     ]
    },
    {
     "cell_type": "markdown",
     "metadata": {
      "slideshow": {
       "slide_type": "-"
      }
     },
     "source": [
      "We will verify the results and examine the frequency responses of selected examples from this session."
     ]
    }
   ],
   "metadata": {}
  }
 ]
}