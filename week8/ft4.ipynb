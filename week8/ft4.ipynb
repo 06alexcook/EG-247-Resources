{
 "metadata": {
  "name": ""
 },
 "nbformat": 3,
 "nbformat_minor": 0,
 "worksheets": [
  {
   "cells": [
    {
     "cell_type": "heading",
     "level": 1,
     "metadata": {
      "slideshow": {
       "slide_type": "slide"
      }
     },
     "source": [
      "Introduction to Filters"
     ]
    },
    {
     "cell_type": "markdown",
     "metadata": {},
     "source": [
      "Dr Chris Jobling ([c.p.jobling@swansea.ac.uk](mailto:c.p.jobling@swansea.ac.uk))<br />Digital Technium 123<br />Office Hours: Thursdays 14:00-15:00\n",
      "\n",
      "You can view the notes for this presentation in [HTML format](http://nbviewer.ipython.org/github/cpjobling/EG-247-Resources/blob/master/week8/ft4.ipynb) and print using your Brower's print function. The source code of this presentation is available as an interactive [IPython notebook](http://ipython.org/notebook.html) from GitHub: <https://github.com/cpjobling/EG-247-Resources>. The GitHub repository also contains the source code for all the Matlab/Simulink examples."
     ]
    },
    {
     "cell_type": "heading",
     "level": 2,
     "metadata": {
      "slideshow": {
       "slide_type": "slide"
      }
     },
     "source": [
      "Agenda"
     ]
    },
    {
     "cell_type": "markdown",
     "metadata": {},
     "source": [
      "* item 1\n",
      "* item 2\n",
      "* item 3"
     ]
    },
    {
     "cell_type": "heading",
     "level": 2,
     "metadata": {
      "slideshow": {
       "slide_type": "slide"
      }
     },
     "source": [
      "Scope and Background Reading"
     ]
    },
    {
     "cell_type": "markdown",
     "metadata": {},
     "source": [
      "This session ....\n",
      "\n",
      "The material in this presentation and notes is based on Chapter X (Starting at Section X.Y) of [Steven T. Karris, Signals and Systems: with Matlab Computation and Simulink Modelling, 5th Edition.](http://site.ebrary.com/lib/swansea/docDetail.action?docID=10547416) from the **Required Reading List**. I also used Chapter Z of [Benoit Boulet, Fundamentals of Signals and Systems](http://site.ebrary.com/lib/swansea/docDetail.action?docID=10228195) from the **Recommended Reading List**."
     ]
    },
    {
     "cell_type": "heading",
     "level": 2,
     "metadata": {
      "slideshow": {
       "slide_type": "slide"
      }
     },
     "source": [
      "Homework"
     ]
    },
    {
     "cell_type": "markdown",
     "metadata": {},
     "source": [
      "Do the end of the chapter exercises (Section 1.7) from the textbook. Don't look at the answers until you have attempted the problems."
     ]
    },
    {
     "cell_type": "heading",
     "level": 2,
     "metadata": {
      "slideshow": {
       "slide_type": "slide"
      }
     },
     "source": [
      "Lab Work"
     ]
    },
    {
     "cell_type": "markdown",
     "metadata": {
      "slideshow": {
       "slide_type": "-"
      }
     },
     "source": [
      "In the lab, on Monday, we will solve Example 2 using Matlab/Simulink following the procedure given in Pages between pages 1-17 and 1-22 of the textbook. We will also explore the `heaviside` and `dirac` functions."
     ]
    }
   ],
   "metadata": {}
  }
 ]
}