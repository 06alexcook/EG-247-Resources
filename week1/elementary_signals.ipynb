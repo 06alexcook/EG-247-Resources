{
 "metadata": {
  "name": ""
 },
 "nbformat": 3,
 "nbformat_minor": 0,
 "worksheets": [
  {
   "cells": [
    {
     "cell_type": "heading",
     "level": 1,
     "metadata": {
      "slideshow": {
       "slide_type": "slide"
      }
     },
     "source": [
      "Elementary Signals"
     ]
    },
    {
     "cell_type": "markdown",
     "metadata": {},
     "source": [
      "Dr Chris Jobling ([c.p.jobling@swansea.ac.uk](mailto:c.p.jobling@swansea.ac.uk))<br />Digital Technium 123<br />Office Hours: Thursdays 14:00-15:00\n",
      "\n",
      "You can view the notes for this presentation in [HTML format](http://nbviewer.ipython.org/github/cpjobling/EG-247-Resources/blob/master/week1/elementary_signals.ipynb) and print using your Brower's print function. The source code of this presentation is available as an interactive [IPython notebook](http://ipython.org/notebook.html) from GitHub: <https://github.com/cpjobling/EG-247-Resources>. The GitHub repository also contains the source code for all the Matlab/Simulink examples."
     ]
    },
    {
     "cell_type": "heading",
     "level": 2,
     "metadata": {
      "slideshow": {
       "slide_type": "slide"
      }
     },
     "source": [
      "Review of Final Example from Previous"
     ]
    },
    {
     "cell_type": "markdown",
     "metadata": {},
     "source": [
      "Consider a signal \n",
      "\n",
      "$$x = f(t) = \\left\\{ {\\begin{array}{*{20}{c}}\n",
      "{0\\;:\\;t <  - 1}\\\\\n",
      "{t + 1\\;:\\; - 1 \\le t \\le 1}\\\\\n",
      "{0\\;:\\;t > 1}\n",
      "\\end{array}} \\right.$$\n",
      "\n",
      "Sketch this signal and plot the effect on this signal of applying the following basic signal operations\n",
      "\n",
      "* $2 f(t)$\n",
      "* $0.5 f(t)$\n",
      "* $f(2t)$\n",
      "* $f(0.5 t)$\n",
      "* $-f(t)$\n",
      "* $f(-t)$\n",
      "* $-f(-t)$\n",
      "* $f(t - 1)$\n",
      "* $f(t + 1)$\n",
      "* $-2f(-t+2)$"
     ]
    },
    {
     "cell_type": "heading",
     "level": 3,
     "metadata": {
      "slideshow": {
       "slide_type": "subslide"
      }
     },
     "source": [
      "Sketch of signal"
     ]
    },
    {
     "cell_type": "markdown",
     "metadata": {},
     "source": [
      "<img src=\"files/pictures/sig1.png\">"
     ]
    },
    {
     "cell_type": "heading",
     "level": 3,
     "metadata": {
      "slideshow": {
       "slide_type": "subslide"
      }
     },
     "source": [
      "Amplitude scaling"
     ]
    },
    {
     "cell_type": "markdown",
     "metadata": {},
     "source": [
      "<img src=\"files/pictures/sigs2.png\">"
     ]
    },
    {
     "cell_type": "heading",
     "level": 3,
     "metadata": {
      "slideshow": {
       "slide_type": "subslide"
      }
     },
     "source": [
      "Time scaling"
     ]
    },
    {
     "cell_type": "markdown",
     "metadata": {},
     "source": [
      "<img src=\"files/pictures/sigs3.png\">"
     ]
    },
    {
     "cell_type": "heading",
     "level": 3,
     "metadata": {
      "slideshow": {
       "slide_type": "subslide"
      }
     },
     "source": [
      "Mirroring"
     ]
    },
    {
     "cell_type": "markdown",
     "metadata": {},
     "source": [
      "<img src=\"files/pictures/sigs4.png\">"
     ]
    },
    {
     "cell_type": "heading",
     "level": 3,
     "metadata": {
      "slideshow": {
       "slide_type": "subslide"
      }
     },
     "source": [
      "Time shifting - delay and advance"
     ]
    },
    {
     "cell_type": "markdown",
     "metadata": {},
     "source": [
      "<img src=\"files/pictures/sigs5.png\">"
     ]
    },
    {
     "cell_type": "heading",
     "level": 3,
     "metadata": {
      "slideshow": {
       "slide_type": "subslide"
      }
     },
     "source": [
      "Exercise"
     ]
    },
    {
     "cell_type": "markdown",
     "metadata": {},
     "source": [
      "We leave the solution of $-2f(-t+2)$ as an exercise for the reader but note that it involves *amplitude scaling*, *amplitude mirroring*, *time mirroring*, and a *time shift*. Each operation can be performed in sequence in any order."
     ]
    },
    {
     "cell_type": "heading",
     "level": 2,
     "metadata": {
      "slideshow": {
       "slide_type": "slide"
      }
     },
     "source": [
      "Elementary Signals"
     ]
    },
    {
     "cell_type": "markdown",
     "metadata": {},
     "source": [
      "Consider this circuit:\n",
      "\n",
      "<img src=\"files/pictures/circuit1.png\">\n",
      "\n",
      "What happens **before** $t=0$?\n",
      "\n",
      "1. $v_{\\mathrm{out}} = \\mathrm{undefined}$\n",
      "2. $v_{\\mathrm{out}} = 0$\n",
      "3. $v_{\\mathrm{out}} = V_s$\n",
      "4. $v_{\\mathrm{out}} = 1/2$\n",
      "5. $v_{\\mathrm{out}} = \\infty$"
     ]
    },
    {
     "cell_type": "markdown",
     "metadata": {
      "slideshow": {
       "slide_type": "subslide"
      }
     },
     "source": [
      "<img src=\"files/pictures/circuit1.png\">\n",
      "\n",
      "What happens **after** $t=0$?\n",
      "\n",
      "1. $v_{\\mathrm{out}} = \\mathrm{undefined}$\n",
      "2. $v_{\\mathrm{out}} = 0$\n",
      "3. $v_{\\mathrm{out}} = V_s$\n",
      "4. $v_{\\mathrm{out}} = 1/2$\n",
      "5. $v_{\\mathrm{out}} = \\infty$"
     ]
    },
    {
     "cell_type": "markdown",
     "metadata": {
      "slideshow": {
       "slide_type": "subslide"
      }
     },
     "source": [
      "<img src=\"files/pictures/circuit1.png\">\n",
      "\n",
      "What happens **at** $t=0$?\n",
      "\n",
      "1. $v_{\\mathrm{out}} = \\mathrm{undefined}$\n",
      "2. $v_{\\mathrm{out}} = 0$\n",
      "3. $v_{\\mathrm{out}} = V_s$\n",
      "4. $v_{\\mathrm{out}} = 1/2$\n",
      "5. $v_{\\mathrm{out}} = \\infty$"
     ]
    },
    {
     "cell_type": "markdown",
     "metadata": {
      "slideshow": {
       "slide_type": "subslide"
      }
     },
     "source": [
      "What does the response of $V_{\\mathrm{out}}$ look like?\n",
      "\n",
      "1: <img src=\"files/pictures/impulse.png\">"
     ]
    },
    {
     "cell_type": "markdown",
     "metadata": {
      "slideshow": {
       "slide_type": "subslide"
      }
     },
     "source": [
      "What does the response of $V_{\\mathrm{out}}$ look like\n",
      "\n",
      "2: <img src=\"files/pictures/ramp.png\">"
     ]
    },
    {
     "cell_type": "markdown",
     "metadata": {
      "slideshow": {
       "slide_type": "subslide"
      }
     },
     "source": [
      "What does the response of $V_{\\mathrm{out}}$ look like\n",
      "\n",
      "3: <img src=\"files/pictures/step1.png\">"
     ]
    },
    {
     "cell_type": "markdown",
     "metadata": {
      "slideshow": {
       "slide_type": "subslide"
      }
     },
     "source": [
      "What does the response of $V_{\\mathrm{out}}$ look like?\n",
      "\n",
      "4: <img src=\"files/pictures/curve.png\">"
     ]
    },
    {
     "cell_type": "heading",
     "level": 2,
     "metadata": {
      "slideshow": {
       "slide_type": "subslide"
      }
     },
     "source": [
      "Answers"
     ]
    },
    {
     "cell_type": "markdown",
     "metadata": {
      "slideshow": {
       "slide_type": "-"
      }
     },
     "source": [
      "Mathematically\n",
      "\n",
      "1. $v_{\\mathrm{out}} = 0$ when $-\\infty < t < 0$ (answer 2)\n",
      "2. $v_{\\mathrm{out}} = V_s$ when $0 < t < \\infty$ (answer 3)\n",
      "3. $v_{\\mathrm{out}} = \\mathrm{undefined}$ when $t=0$ (answer 1)\n",
      "\n",
      "$V_{\\mathrm{out}}$ jumps from $0$ to $V_s$ instantanously when the switch is closed. We call this a discontinuous signal!\n",
      "\n",
      "The correct image is:\n",
      "\n",
      "3: <img src=\"files/pictures/step2.png\">"
     ]
    },
    {
     "cell_type": "heading",
     "level": 2,
     "metadata": {
      "slideshow": {
       "slide_type": "slide"
      }
     },
     "source": [
      "Unit Step Function"
     ]
    },
    {
     "cell_type": "markdown",
     "metadata": {},
     "source": [
      "$${u_0}(t) = \\left\\{ {\\begin{array}{*{20}{c}}\n",
      "{0\\quad t < 0}\\\\\n",
      "{1\\quad t > 0}\n",
      "\\end{array}} \\right.$$\n",
      "\n",
      "<img src=\"files/pictures/unitstep.png\">"
     ]
    },
    {
     "cell_type": "heading",
     "level": 3,
     "metadata": {
      "slideshow": {
       "slide_type": "subslide"
      }
     },
     "source": [
      "In Matlab"
     ]
    },
    {
     "cell_type": "markdown",
     "metadata": {},
     "source": [
      "In Matlab, we use the `heaviside` function (Named after [Oliver Heaviside](http://en.wikipedia.org/wiki/Oliver_Heaviside)). \n",
      "\n",
      "```syms t\n",
      "ezplot(heaviside(t),[-1,1])\n",
      "```\n",
      "\n",
      "<img src=\"files/pictures/heaviside.png\">\n",
      "\n",
      "See: [heaviside_function.m](files/matlab/heaviside_function.m)\n",
      "\n",
      "Note that, so it can be plotted, Matlab defines the *heaviside function* slightly differently from the mathematically ideal unit step:\n",
      "\n",
      "$$\\mathrm{heaviside}(t) = \\left\\{ {\\begin{array}{*{20}{c}}\n",
      "{0\\quad t < 0}\\\\\n",
      "{1/2\\quad t = 0}\\\\\n",
      "{1\\quad t > 0}\n",
      "\\end{array}} \\right.$$\n"
     ]
    },
    {
     "cell_type": "heading",
     "level": 2,
     "metadata": {
      "slideshow": {
       "slide_type": "subslide"
      }
     },
     "source": [
      "Circuit Revisited"
     ]
    },
    {
     "cell_type": "markdown",
     "metadata": {},
     "source": [
      "Consider the network shown below, where the switch is closed at time $t=T$. \n",
      "\n",
      "<img src=\"files/pictures/circuit2.png\">\n",
      "\n",
      "Express the output voltage $v_{\\mathrm{out}}$ as a function of the unit step function, and sketch the appropriate waveform."
     ]
    },
    {
     "cell_type": "heading",
     "level": 2,
     "metadata": {
      "slideshow": {
       "slide_type": "slide"
      }
     },
     "source": [
      "Simple Signal Operations"
     ]
    },
    {
     "cell_type": "heading",
     "level": 3,
     "metadata": {
      "slideshow": {
       "slide_type": "subslide"
      }
     },
     "source": [
      "Amplitude Scaling"
     ]
    },
    {
     "cell_type": "markdown",
     "metadata": {},
     "source": [
      "Sketch $Au_0(t)$ and $-Au_0(t)$"
     ]
    },
    {
     "cell_type": "heading",
     "level": 3,
     "metadata": {
      "slideshow": {
       "slide_type": "subslide"
      }
     },
     "source": [
      "Time Reversal"
     ]
    },
    {
     "cell_type": "markdown",
     "metadata": {},
     "source": [
      "Sketch $u_0(-t)$"
     ]
    },
    {
     "cell_type": "heading",
     "level": 3,
     "metadata": {
      "slideshow": {
       "slide_type": "subslide"
      }
     },
     "source": [
      "Time Delay and Advance"
     ]
    },
    {
     "cell_type": "markdown",
     "metadata": {},
     "source": [
      "Sketch $u_0(t-T)$ and $u_0(t+T)$"
     ]
    },
    {
     "cell_type": "heading",
     "level": 2,
     "metadata": {
      "slideshow": {
       "slide_type": "slide"
      }
     },
     "source": [
      "Examples"
     ]
    },
    {
     "cell_type": "heading",
     "level": 3,
     "metadata": {},
     "source": [
      "Example 1"
     ]
    },
    {
     "cell_type": "markdown",
     "metadata": {
      "slideshow": {
       "slide_type": "-"
      }
     },
     "source": [
      "Which of these signals represents $-Au_0(t+T)$?\n",
      "\n",
      "<img src=\"files/pictures/stepf1.png\" width=\"50%\">"
     ]
    },
    {
     "cell_type": "heading",
     "level": 3,
     "metadata": {},
     "source": [
      "Example 2"
     ]
    },
    {
     "cell_type": "markdown",
     "metadata": {
      "slideshow": {
       "slide_type": "-"
      }
     },
     "source": [
      "What is represented by\n",
      "\n",
      "<img src=\"files/pictures/stepf2.png\" width=\"50%\">\n",
      "\n",
      "1. $-Au_0(t - T)$ \n",
      "2. $-Au_0(-t + T)$\n",
      "3. $-Au_0(-t - T)$\n",
      "4. $-Au_0(t-T)$"
     ]
    },
    {
     "cell_type": "heading",
     "level": 2,
     "metadata": {
      "slideshow": {
       "slide_type": "slide"
      }
     },
     "source": [
      "Synthesis of Signals from Unit Step"
     ]
    },
    {
     "cell_type": "markdown",
     "metadata": {},
     "source": [
      "Unit step functions can be used to represent other time-varying functions such as rectangular pulses, square waves and triangular pulses."
     ]
    },
    {
     "cell_type": "heading",
     "level": 3,
     "metadata": {
      "slideshow": {
       "slide_type": "subslide"
      }
     },
     "source": [
      "Synthesize Rectangular Pulse"
     ]
    },
    {
     "cell_type": "markdown",
     "metadata": {},
     "source": [
      "<img src=\"files/pictures/rect.png\">"
     ]
    },
    {
     "cell_type": "heading",
     "level": 3,
     "metadata": {
      "slideshow": {
       "slide_type": "subslide"
      }
     },
     "source": [
      "Synthesize Square Wave"
     ]
    },
    {
     "cell_type": "markdown",
     "metadata": {},
     "source": [
      "<img src=\"files/pictures/square_wave.png\">"
     ]
    },
    {
     "cell_type": "heading",
     "level": 3,
     "metadata": {
      "slideshow": {
       "slide_type": "subslide"
      }
     },
     "source": [
      "Synthesize Symmetric Rectangular Pulse"
     ]
    },
    {
     "cell_type": "markdown",
     "metadata": {},
     "source": [
      "<img src=\"files/pictures/symm_rect.png\">"
     ]
    },
    {
     "cell_type": "heading",
     "level": 3,
     "metadata": {
      "slideshow": {
       "slide_type": "subslide"
      }
     },
     "source": [
      "Synthesize Symmetric Triangular Pulse"
     ]
    },
    {
     "cell_type": "markdown",
     "metadata": {},
     "source": [
      "<img src=\"files/pictures/symm_tri.png\">"
     ]
    },
    {
     "cell_type": "heading",
     "level": 2,
     "metadata": {
      "slideshow": {
       "slide_type": "subslide"
      }
     },
     "source": [
      "Homework"
     ]
    },
    {
     "cell_type": "markdown",
     "metadata": {},
     "source": [
      "Show that the waveform shown below \n",
      "\n",
      "<img src=\"files/pictures/example1.png\">\n",
      "\n",
      "can be represented by the function \n",
      "\n",
      "$$v(t) = (2t + 1)u_0(t)-2(t-1)u_0(t-1)-tu_0(t-2)+(t-3)u_o(t-3)$$"
     ]
    },
    {
     "cell_type": "heading",
     "level": 2,
     "metadata": {
      "slideshow": {
       "slide_type": "slide"
      }
     },
     "source": [
      "The Ramp Function"
     ]
    },
    {
     "cell_type": "markdown",
     "metadata": {},
     "source": [
      "<img src=\"files/pictures/rc.png\">\n",
      "\n",
      "In the circuit shown above $i_s$ is a constant current source and the switch is closed at time $t=0$. Show that the voltage across the capacitor can be represented as\n",
      "\n",
      "$$v_C(t)=\\frac{i_s}{C}t u_0(t)$$ \n",
      "\n",
      "and sketch the wave form."
     ]
    },
    {
     "cell_type": "markdown",
     "metadata": {
      "slideshow": {
       "slide_type": "subslide"
      }
     },
     "source": [
      "The unit ramp function is defined as\n",
      "\n",
      "$$u_1(t) = \\int_{-\\infty}^{t}u_0(\\tau)d\\tau$$\n",
      "\n",
      "so\n",
      "\n",
      "$${u_1}(t) = \\left\\{ {\\begin{array}{*{20}{c}}\n",
      "{0\\quad t < 0}\\\\\n",
      "{t\\quad t \\ge 0}\n",
      "\\end{array}} \\right.$$\n",
      "\n",
      "and \n",
      "\n",
      "$$u_0(t) = \\frac{d }{dt}u_1(t)$$"
     ]
    },
    {
     "cell_type": "heading",
     "level": 3,
     "metadata": {
      "slideshow": {
       "slide_type": "subslide"
      }
     },
     "source": [
      "Note"
     ]
    },
    {
     "cell_type": "markdown",
     "metadata": {
      "slideshow": {
       "slide_type": "-"
      }
     },
     "source": [
      "Higher order functions of $t$ can be generated by the repeated integration of the unit step function. \n",
      "\n",
      "For future reference, you should determine $u_2(t)$, $u_3(t)$ and $u_n(t)$ for yourself and make a note of the general rule:\n",
      "\n",
      "$$u_{n-1} = \\frac{1}{n}\\frac{d}{dt}u_n(t)$$\n",
      "\n",
      "Details are given in equations 1.26&mdash;1.29 in the textbook."
     ]
    },
    {
     "cell_type": "heading",
     "level": 2,
     "metadata": {
      "slideshow": {
       "slide_type": "slide"
      }
     },
     "source": [
      "The Dirac Delta Function"
     ]
    },
    {
     "cell_type": "markdown",
     "metadata": {},
     "source": [
      "<img src=\"files/pictures/lr.png\">\n",
      "\n",
      "In the circuit shown above, the switch is closed at time $t=0$ and $i_L(t)=0$ for $t<0$. Express the inductor current $i_L(t)$ in terms of the unit step function."
     ]
    },
    {
     "cell_type": "markdown",
     "metadata": {
      "slideshow": {
       "slide_type": "subslide"
      }
     },
     "source": [
      "To solve this problem we need to invent a function that represents the derivative of the unit step function. This function is called $\\delta(t)$ or the *dirac delta* function (named after [Paul Dirac](http://en.wikipedia.org/wiki/Paul_Dirac)).\n",
      "\n",
      "This function is tricky because $u_0(t)$ is discontinuous at $t=0$ but it must have the properties\n",
      "\n",
      "$$\\int_{-\\infty}^{t}\\delta(\\tau)d\\tau = u_0(t)$$\n",
      "\n",
      "and\n",
      "\n",
      "$\\delta(t) = 0$ for all $t\\ne 0$."
     ]
    },
    {
     "cell_type": "heading",
     "level": 3,
     "metadata": {
      "slideshow": {
       "slide_type": "subslide"
      }
     },
     "source": [
      "Sampling Property"
     ]
    },
    {
     "cell_type": "markdown",
     "metadata": {},
     "source": [
      "The *sampling property* of the delta function states that\n",
      "\n",
      "$$f(t)\\delta(t-a) = f(a)\\delta(t-a)$$\n",
      "\n",
      "or, when $a = 0$,\n",
      "\n",
      "$$f(t)\\delta(t) = f(0)\\delta(t)$$\n",
      "\n",
      "Multiplication of any function $f(t)$ by the delta function $\\delta(t)$ results in sampling the function at the time instants for which the delta function is not zero.\n",
      "\n",
      "The study of descrete-time (sampled) systems is based on this property.\n",
      "\n",
      "*You should work through the proof* for youself."
     ]
    },
    {
     "cell_type": "heading",
     "level": 3,
     "metadata": {
      "slideshow": {
       "slide_type": "subslide"
      }
     },
     "source": [
      "Sifting Property"
     ]
    },
    {
     "cell_type": "markdown",
     "metadata": {},
     "source": [
      "The *sifting property* of the delta function states that\n",
      "\n",
      "$$\\int_{-\\infty}^{\\infty}f(t)\\delta(t-\\alpha)dt=f(\\alpha)$$\n",
      "\n",
      "That is, if multiply any function $f(t)$ by $\\delta(t-\\alpha)$, and integrate from $-\\infty$ to $+\\infty$, we will get the value of $f(t)$ evaluated at $t=\\alpha.$\n",
      "\n",
      "*You should also work through the proof* for yourself."
     ]
    },
    {
     "cell_type": "heading",
     "level": 3,
     "metadata": {
      "slideshow": {
       "slide_type": "subslide"
      }
     },
     "source": [
      "Higher Order Delta Fuctions"
     ]
    },
    {
     "cell_type": "markdown",
     "metadata": {},
     "source": [
      "the n*th*-order *delta function* is defined as the n*th* derivative of $u_0(t)$, that is\n",
      "\n",
      "$$\\delta^n(t)=\\frac{d^n}{dt^n}[u_0(t)]$$\n",
      "\n",
      "The function $\\delta'(t)$ is called the *doublet*, $\\delta''(t)$ is called the *triplet* and so on."
     ]
    },
    {
     "cell_type": "markdown",
     "metadata": {
      "slideshow": {
       "slide_type": "subslide"
      }
     },
     "source": [
      "By a procedure similar to the derivation of the sampling property we can show that\n",
      "\n",
      "$$f(t)\\delta'(t-a)=f(a)\\delta'(t-a)-f'(t)\\delta(t-a)$$\n",
      "\n"
     ]
    },
    {
     "cell_type": "markdown",
     "metadata": {
      "slideshow": {
       "slide_type": "subslide"
      }
     },
     "source": [
      "Also, derivation of the sifting property can be extended to show that\n",
      "\n",
      "$$\\int_{-\\infty}^{infty}f(t)\\delta^n(t-\\alpha)dt = {\\left. {{{( - 1)}^n}\\frac{{{d^n}}}{{d{t^n}}}[f(t)]} \\right|_{t = \\alpha }}$$"
     ]
    },
    {
     "cell_type": "heading",
     "level": 2,
     "metadata": {
      "slideshow": {
       "slide_type": "slide"
      }
     },
     "source": [
      "Examples"
     ]
    },
    {
     "cell_type": "heading",
     "level": 3,
     "metadata": {
      "slideshow": {
       "slide_type": "subslide"
      }
     },
     "source": [
      "Example 3"
     ]
    },
    {
     "cell_type": "markdown",
     "metadata": {},
     "source": [
      "Evaluate the following expressions\n",
      "\n",
      "1. $$3t^4\\delta(t-1) $$\n",
      "2. $$\\int_{-\\infty}^{\\infty}t\\delta(t-2)dt$$ \n",
      "3. $$t^2\\delta'(t-3)$$ \n",
      "   "
     ]
    },
    {
     "cell_type": "heading",
     "level": 3,
     "metadata": {
      "slideshow": {
       "slide_type": "subslide"
      }
     },
     "source": [
      "Example 4"
     ]
    },
    {
     "cell_type": "markdown",
     "metadata": {},
     "source": [
      "<img src=\"files/pictures/example2.png\">\n",
      "\n",
      "1. Express the voltage waveform $v(t)$ shown above aa sum of unit step functions for the time interval $-1 < t < 7$ s\n",
      "\n",
      "2. Using the result of part (1), compute the derivative of $v(t)$ and sketch it's waveform."
     ]
    },
    {
     "cell_type": "heading",
     "level": 2,
     "metadata": {
      "slideshow": {
       "slide_type": "slide"
      }
     },
     "source": [
      "Homework"
     ]
    },
    {
     "cell_type": "markdown",
     "metadata": {},
     "source": [
      "Do the end of the chapter exercises (Section 1.7) from the textbook. Don't look at the answers until you have attempted the problems."
     ]
    },
    {
     "cell_type": "heading",
     "level": 2,
     "metadata": {
      "slideshow": {
       "slide_type": "slide"
      }
     },
     "source": [
      "Lab Work"
     ]
    },
    {
     "cell_type": "markdown",
     "metadata": {
      "slideshow": {
       "slide_type": "-"
      }
     },
     "source": [
      "In the lab, on Monday, we will solve Example 2 using Matlab/Simulink following the procedure given in Pages between pages 1-17 and 1-22 of the textbook. We will also explore the `heaviside` and `dirac` functions."
     ]
    }
   ],
   "metadata": {}
  }
 ]
}