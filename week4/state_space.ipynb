{
 "metadata": {
  "name": ""
 },
 "nbformat": 3,
 "nbformat_minor": 0,
 "worksheets": [
  {
   "cells": [
    {
     "cell_type": "heading",
     "level": 1,
     "metadata": {
      "slideshow": {
       "slide_type": "slide"
      }
     },
     "source": [
      "Modelling Systems in State Space"
     ]
    },
    {
     "cell_type": "markdown",
     "metadata": {},
     "source": [
      "Dr Chris Jobling ([c.p.jobling@swansea.ac.uk](mailto:c.p.jobling@swansea.ac.uk))<br />Digital Technium 123<br />Office Hours: Thursdays 14:00-15:00\n",
      "\n",
      "You can view the notes for this presentation in [HTML format](http://nbviewer.ipython.org/github/cpjobling/EG-247-Resources/blob/master/week4/state_space.ipynb) and print using your Brower's print function. The source code of this presentation is available as an interactive [IPython notebook](http://ipython.org/notebook.html) from GitHub: <https://github.com/cpjobling/EG-247-Resources>. The GitHub repository also contains the source code for all the Matlab/Simulink examples."
     ]
    },
    {
     "cell_type": "heading",
     "level": 2,
     "metadata": {
      "slideshow": {
       "slide_type": "slide"
      }
     },
     "source": [
      "Scope and Background Reading"
     ]
    },
    {
     "cell_type": "markdown",
     "metadata": {},
     "source": [
      "This session is an introduction to state variables and state equations as they apply to circuit analysis. The state transition matrix is defined and the state-space to transfer function equivalence is presented. Several examples are given to illustrate their application.\n",
      "\n",
      "Matlab has particularly strong support for both numeric and symbolic computation of models based on the state-space model and transfer functions so we will not present the detailed mathematical proofs nor bother with the hand-solution of state-space problems. (Nor will we expect you to!)\n",
      "\n",
      "You will however gain the insight into the power of the state-space model for modelling and simulation in the lab to follow.\n",
      "\n",
      "If you are interested in the hand calculations, Chapter 5 of [Steven T. Karris, Signals and Systems: with Matlab Computation and Simulink Modelling, 5th Edition.](http://site.ebrary.com/lib/swansea/docDetail.action?docID=10547416) gives full details.\n"
     ]
    },
    {
     "cell_type": "heading",
     "level": 3,
     "metadata": {
      "slideshow": {
       "slide_type": "slide"
      }
     },
     "source": [
      "Agenda"
     ]
    },
    {
     "cell_type": "markdown",
     "metadata": {},
     "source": [
      "* The Idea of a State Space Model\n",
      "* Solving the First-Order Case\n",
      "* Outline of the General Solution\n",
      "* Transfer Function from State-Space Model\n",
      "* Using the Computer for Analysis\n",
      "* Modelling and Simulation with Simulink\n",
      "* The LTI Model in Matlab"
     ]
    },
    {
     "cell_type": "heading",
     "level": 2,
     "metadata": {
      "slideshow": {
       "slide_type": "slide"
      }
     },
     "source": [
      "The Idea of a State-Space Model"
     ]
    },
    {
     "cell_type": "markdown",
     "metadata": {},
     "source": [
      "* In circuits KCL and KVL we obtain integro-differential equations as a resul of the energy-storing devices (inductors and capacitors)\n",
      "* When a circuit comtains one such device, it is said to be a *first-order circuit*\n",
      "* When a circuit comtains two such devices, it is said to be a *second-order circuit*, and so on."
     ]
    },
    {
     "cell_type": "heading",
     "level": 3,
     "metadata": {
      "slideshow": {
       "slide_type": "subslide"
      }
     },
     "source": [
      "First-order linear time invariant system"
     ]
    },
    {
     "cell_type": "markdown",
     "metadata": {},
     "source": [
      "A first-order linear, time-invariant (LTI) circuit (or in general terms *any* physical system) can be represented by a differential equation of the form\n",
      "\n",
      "$$a_1\\frac{d}{dt}y(t)+a_0 y(t)=u(t)$$"
     ]
    },
    {
     "cell_type": "heading",
     "level": 3,
     "metadata": {
      "slideshow": {
       "slide_type": "subslide"
      }
     },
     "source": [
      "Second-order LTI system"
     ]
    },
    {
     "cell_type": "markdown",
     "metadata": {},
     "source": [
      "A second-order LTI system can be represented by a differential equation of the form\n",
      "\n",
      "$$a_2\\frac{d^2}{dt^2}y(t)+a_1\\frac{d}{dt}y(t) + a_0 y(t)=u(t)$$"
     ]
    },
    {
     "cell_type": "heading",
     "level": 3,
     "metadata": {
      "slideshow": {
       "slide_type": "subslide"
      }
     },
     "source": [
      "nth-order LTI system"
     ]
    },
    {
     "cell_type": "markdown",
     "metadata": {},
     "source": [
      "By extension, an *n*<sup>th</sup> LTI system can be represented by a differential equation of the form\n",
      "\n",
      "$$a_n\\frac{d^n}{dt^n}y(t)+a_{n-1}\\frac{d^{n-1}}{dt^{n-1}}y(t)+\\cdots +a_1\\frac{d}{dt}y(t) + a_0 y(t)=u(t)$$"
     ]
    },
    {
     "cell_type": "heading",
     "level": 3,
     "metadata": {
      "slideshow": {
       "slide_type": "subslide"
      }
     },
     "source": [
      "Example 1"
     ]
    },
    {
     "cell_type": "markdown",
     "metadata": {},
     "source": [
      "A series RLC circuit with excitation\n",
      "\n",
      "$$v_s(t) = e^{j\\omega t}$$\n",
      "\n",
      "is described the the integro-differential equation\n",
      "\n",
      "$$Ri(t) + L\\frac{d}{dt}i(t)+\\frac{1}{C}\\int_{-\\infty}^{t}i(t) dt = e^{j\\omega t}$$\n",
      "\n",
      "Convert the equation into a second-order differential form and from this derive a state-space model."
     ]
    },
    {
     "cell_type": "heading",
     "level": 3,
     "metadata": {
      "slideshow": {
       "slide_type": "subslide"
      }
     },
     "source": [
      "Solution 1"
     ]
    },
    {
     "cell_type": "heading",
     "level": 3,
     "metadata": {},
     "source": [
      "Differentiating both sides of the equation and dividing by $L$ we get\n",
      "\n",
      "$$\\frac{d^2}{dt^2}i(t) + \\frac{R}{L}\\frac{d}{dt}i(t) + \\frac{1}{LC} i(t) = \\frac{1}{L}j\\omega e^{j\\omega t}$$\n",
      "\n",
      "or \n",
      "\n",
      "$$\\frac{d^2}{dt^2}i(t) = - \\frac{R}{L}\\frac{d}{dt}i(t) - \\frac{1}{LC} i(t) + \\frac{1}{L}j\\omega e^{j\\omega t}$$"
     ]
    },
    {
     "cell_type": "heading",
     "level": 3,
     "metadata": {
      "slideshow": {
       "slide_type": "subslide"
      }
     },
     "source": [
      "Define state variables"
     ]
    },
    {
     "cell_type": "markdown",
     "metadata": {},
     "source": [
      "Let us define $x_1$ and $x_2$ to be two *state variables* such that\n",
      "\n",
      "$$x_1 = i$$\n",
      "\n",
      "and\n",
      "\n",
      "$$x_2 = \\frac{di}{dt} = \\frac{dx_1}{dt} = \\dot{x}_1$$\n",
      "\n",
      "then\n",
      "\n",
      "$$\\dot{x}_2 = \\frac{dx_1}{dt} = \\frac{d^2i}{dt^2}$$"
     ]
    },
    {
     "cell_type": "heading",
     "level": 3,
     "metadata": {
      "slideshow": {
       "slide_type": "subslide"
      }
     },
     "source": [
      "Recast Differential Equation in Terms of the State Variables"
     ]
    },
    {
     "cell_type": "markdown",
     "metadata": {},
     "source": [
      "$$\\dot{x}_1 = x_2$$\n",
      "\n",
      "$$\\dot{x}^2 = - \\frac{R}{L} x_2 - \\frac{1}{LC} x_1 + \\frac{1}{L}j\\omega e^{j\\omega t}$$"
     ]
    },
    {
     "cell_type": "heading",
     "level": 3,
     "metadata": {
      "slideshow": {
       "slide_type": "subslide"
      }
     },
     "source": [
      "Put into Matrix-Vector Form"
     ]
    },
    {
     "cell_type": "markdown",
     "metadata": {},
     "source": [
      "$$\\left[ {\\begin{array}{*{20}{c}}\n",
      "{{{\\dot x}_1}}\\\\\n",
      "{{{\\dot x}_2}}\n",
      "\\end{array}} \\right] = \\left[ {\\begin{array}{*{20}{c}}\n",
      "0&1\\\\\n",
      "{ - \\frac{1}{{LC}}}&{ - \\frac{R}{L}}\n",
      "\\end{array}} \\right]\\left[ {\\begin{array}{*{20}{c}}\n",
      "{{x_1}}\\\\\n",
      "{{x_2}}\n",
      "\\end{array}} \\right] + \\left[ {\\begin{array}{*{20}{c}}\n",
      "0\\\\\n",
      "{\\frac{1}{L}}\n",
      "\\end{array}} \\right]j\\omega {e^{j\\omega t}}$$"
     ]
    },
    {
     "cell_type": "heading",
     "level": 3,
     "metadata": {
      "slideshow": {
       "slide_type": "subslide"
      }
     },
     "source": [
      "State-Space Form"
     ]
    },
    {
     "cell_type": "markdown",
     "metadata": {},
     "source": [
      "$${\\bf{\\dot x}} = {\\bf{Ax}} + {\\bf{B}}u$$\n",
      "\n",
      "where\n",
      "\n",
      "${\\bf{\\dot x}} = \\left[ {\\begin{array}{*{20}{c}}\n",
      "{{\\dot{x}_1}}\\\\\n",
      "{{\\dot{x}_2}}\n",
      "\\end{array}} \\right]$, ${\\bf{A}} = \\left[ {\\begin{array}{*{20}{c}}\n",
      "0&1\\\\\n",
      "{ - \\frac{1}{{LC}}}&{ - \\frac{R}{L}}\n",
      "\\end{array}} \\right]$, ${\\bf{x}} = \\left[ {\\begin{array}{*{20}{c}}\n",
      "{{x_1}}\\\\\n",
      "{{x_2}}\n",
      "\\end{array}} \\right]$, ${\\bf{B}} = \\left[ {\\begin{array}{*{20}{c}}\n",
      "0\\\\\n",
      "{\\frac{1}{L}}\n",
      "\\end{array}} \\right]$, and $u=j\\omega e^{j\\omega t}$.\n",
      "\n",
      "The output $y(t)$ is expressed by the state-equation\n",
      "\n",
      "$$y = \\bf{C}\\bf{x} + d u$$\n",
      "\n",
      "where $\\bf{C}$ is another matrix, and $d$ is a scalar."
     ]
    },
    {
     "cell_type": "heading",
     "level": 3,
     "metadata": {
      "slideshow": {
       "slide_type": "subslide"
      }
     },
     "source": [
      "General State-Space Form"
     ]
    },
    {
     "cell_type": "markdown",
     "metadata": {},
     "source": [
      "For a single-input single-output (SISO) system:\n",
      "\n",
      "$$\\begin{array}{l}\n",
      "{\\bf{\\dot x}} = {\\bf{Ax}} + {\\bf{B}}u\\\\\n",
      "{\\bf{y}} = {\\bf{Cx}} + d u\n",
      "\\end{array}$$\n",
      "\n",
      "<img src=\"files/pictures/state_space_model.png\" width=\"50%\">"
     ]
    },
    {
     "cell_type": "heading",
     "level": 3,
     "metadata": {},
     "source": [
      "Example 2"
     ]
    },
    {
     "cell_type": "markdown",
     "metadata": {},
     "source": [
      "A fourth-order network is decsribed by the differential equation\n",
      "\n",
      "$$\\frac{d^4 y}{dt^4} + a_3\\frac{d^3 y}{dt^3} + a_2 \\frac{d^2 y}{dt^2} + a_1 \\frac{d y}{dt} + a_0 y(t) = u(t)$$\n",
      "\n",
      "where $y(t)$ represents the circuit output as a current or voltage, and $u(t)$ is an arbitrary input.\n",
      "\n",
      "Express this system in state-space form."
     ]
    },
    {
     "cell_type": "heading",
     "level": 3,
     "metadata": {
      "slideshow": {
       "slide_type": "subslide"
      }
     },
     "source": [
      "Example 3"
     ]
    },
    {
     "cell_type": "markdown",
     "metadata": {},
     "source": [
      "Write the state equations for the circuit below, given that $V_c(0^-)=0$, and $u_0(t)$ is the unit step.\n",
      "\n",
      "<img src=\"files/pictures/example2.png\" width=\"50%\">"
     ]
    },
    {
     "cell_type": "heading",
     "level": 3,
     "metadata": {
      "slideshow": {
       "slide_type": "subslide"
      }
     },
     "source": [
      "Example 4"
     ]
    },
    {
     "cell_type": "markdown",
     "metadata": {},
     "source": [
      "See Example 5.4 on Pages 5-5&mdash;5-6 in the textbook."
     ]
    },
    {
     "cell_type": "markdown",
     "metadata": {},
     "source": [
      "If a circuit contains only oen energy-storing device, the state equations are written as\n",
      "\n",
      "$$\\begin{array}{c}\n",
      "\\dot x = ax + bu\\\\\n",
      "y = cx + du\n",
      "\\end{array}$$\n",
      "\n",
      "where $a$, $b$, $c$ and $d$ are scalar constants.\n",
      "\n",
      "The solution of this state equation is\n",
      "\n",
      "$$x(t) = e^{a(t-t_0)}x(t_0)+\\int_{t_0}^{t}e^{a(t-\\tau)}bu(\\tau) d\\tau$$"
     ]
    },
    {
     "cell_type": "heading",
     "level": 2,
     "metadata": {
      "slideshow": {
       "slide_type": "slide"
      }
     },
     "source": [
      "Solving the First-Order Case"
     ]
    },
    {
     "cell_type": "markdown",
     "metadata": {},
     "source": [
      "For a first order system, the state-space form will be:\n",
      "\n",
      "$$\\begin{gathered}\n",
      "  \\dot x = ax + bu \\\\ \n",
      "  y = cx + du \\\\ \n",
      "\\end{gathered} $$\n",
      "\n",
      "and the solution will be of the form:\n",
      "\n",
      "$$x(t) = e^{a(t-t_0)}x(0) + e^{at}\\int_{t_0}^{t}e^{-a\\tau} bu(\\tau)d\\tau$$\n",
      "\n",
      "(For proof see text-book)"
     ]
    },
    {
     "cell_type": "heading",
     "level": 2,
     "metadata": {
      "slideshow": {
       "slide_type": "slide"
      }
     },
     "source": [
      "Outline of the General Solution"
     ]
    },
    {
     "cell_type": "heading",
     "level": 2,
     "metadata": {
      "slideshow": {
       "slide_type": "slide"
      }
     },
     "source": [
      "Transfer Function from State-Space Model"
     ]
    },
    {
     "cell_type": "heading",
     "level": 2,
     "metadata": {
      "slideshow": {
       "slide_type": "slide"
      }
     },
     "source": [
      "Using the Computer for Analysis"
     ]
    },
    {
     "cell_type": "heading",
     "level": 2,
     "metadata": {
      "slideshow": {
       "slide_type": "slide"
      }
     },
     "source": [
      "Modelling and Simulation in Simulink"
     ]
    },
    {
     "cell_type": "heading",
     "level": 2,
     "metadata": {},
     "source": [
      "The LTI Model in Matlab"
     ]
    },
    {
     "cell_type": "heading",
     "level": 2,
     "metadata": {
      "slideshow": {
       "slide_type": "slide"
      }
     },
     "source": [
      "Homework"
     ]
    },
    {
     "cell_type": "markdown",
     "metadata": {},
     "source": [
      "Do the end of the chapter exercises (Section 1.7) from the textbook. Don't look at the answers until you have attempted the problems."
     ]
    },
    {
     "cell_type": "heading",
     "level": 2,
     "metadata": {
      "slideshow": {
       "slide_type": "slide"
      }
     },
     "source": [
      "Lab Work"
     ]
    },
    {
     "cell_type": "markdown",
     "metadata": {
      "slideshow": {
       "slide_type": "-"
      }
     },
     "source": [
      "In the lab, on Monday, we will solve Example 2 using Matlab/Simulink following the procedure given in Pages between pages 1-17 and 1-22 of the textbook. We will also explore the `heaviside` and `dirac` functions."
     ]
    }
   ],
   "metadata": {}
  }
 ]
}