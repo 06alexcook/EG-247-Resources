{
 "metadata": {
  "name": ""
 },
 "nbformat": 3,
 "nbformat_minor": 0,
 "worksheets": [
  {
   "cells": [
    {
     "cell_type": "heading",
     "level": 1,
     "metadata": {
      "slideshow": {
       "slide_type": "slide"
      }
     },
     "source": [
      "Modelling Systems in State Space"
     ]
    },
    {
     "cell_type": "markdown",
     "metadata": {},
     "source": [
      "Dr Chris Jobling ([c.p.jobling@swansea.ac.uk](mailto:c.p.jobling@swansea.ac.uk))<br />Digital Technium 123<br />Office Hours: Thursdays 14:00-15:00\n",
      "\n",
      "You can view the notes for this presentation in [HTML format](http://nbviewer.ipython.org/github/cpjobling/EG-247-Resources/blob/master/week4/state_space.ipynb) and print using your Brower's print function. The source code of this presentation is available as an interactive [IPython notebook](http://ipython.org/notebook.html) from GitHub: <https://github.com/cpjobling/EG-247-Resources>. The GitHub repository also contains the source code for all the Matlab/Simulink examples."
     ]
    },
    {
     "cell_type": "code",
     "collapsed": false,
     "input": [
      "from pymatbridge import Matlab\n",
      "mlab = Matlab()\n",
      "mlab.start()\n",
      "import pymatbridge as pymat\n",
      "ip = get_ipython()\n",
      "pymat.load_ipython_extension(ip)"
     ],
     "language": "python",
     "metadata": {
      "slideshow": {
       "slide_type": "skip"
      }
     },
     "outputs": [
      {
       "output_type": "stream",
       "stream": "stdout",
       "text": [
        "Starting MATLAB on http://localhost:52074\n",
        " visit http://localhost:52074/exit.m to shut down same\n"
       ]
      },
      {
       "output_type": "stream",
       "stream": "stdout",
       "text": [
        "."
       ]
      },
      {
       "output_type": "stream",
       "stream": "stdout",
       "text": [
        "."
       ]
      },
      {
       "output_type": "stream",
       "stream": "stdout",
       "text": [
        "."
       ]
      },
      {
       "output_type": "stream",
       "stream": "stdout",
       "text": [
        "."
       ]
      },
      {
       "output_type": "stream",
       "stream": "stdout",
       "text": [
        "."
       ]
      },
      {
       "output_type": "stream",
       "stream": "stdout",
       "text": [
        "."
       ]
      },
      {
       "output_type": "stream",
       "stream": "stdout",
       "text": [
        "MATLAB started and connected!\n"
       ]
      }
     ],
     "prompt_number": 59
    },
    {
     "cell_type": "heading",
     "level": 2,
     "metadata": {
      "slideshow": {
       "slide_type": "slide"
      }
     },
     "source": [
      "Scope and Background Reading"
     ]
    },
    {
     "cell_type": "markdown",
     "metadata": {},
     "source": [
      "This session is an introduction to state variables and state equations as they apply to circuit analysis. The state transition matrix is defined and the state-space to transfer function equivalence is presented. Several examples are given to illustrate their application.\n",
      "\n",
      "Matlab has particularly strong support for both numeric and symbolic computation of models based on the state-space model and transfer functions so we will not present the detailed mathematical proofs nor bother with the hand-solution of state-space problems. (Nor will we expect you to!)\n",
      "\n",
      "You will however gain some insight into the power of the state-space model for modelling and simulation in the lab to follow.\n",
      "\n",
      "If you are interested in the hand calculations, Chapter 5 of [Steven T. Karris, Signals and Systems: with Matlab Computation and Simulink Modelling, 5th Edition.](http://site.ebrary.com/lib/swansea/docDetail.action?docID=10547416) gives full details.\n"
     ]
    },
    {
     "cell_type": "heading",
     "level": 3,
     "metadata": {
      "slideshow": {
       "slide_type": "slide"
      }
     },
     "source": [
      "Agenda"
     ]
    },
    {
     "cell_type": "markdown",
     "metadata": {},
     "source": [
      "* The Idea of a State Space Model\n",
      "* Solving the First-Order Case\n",
      "* Outline of the General Solution\n",
      "* Circuit Analysis with State-Space Models\n",
      "* Transfer Function from State-Space Model\n",
      "\n",
      "Lab\n",
      "\n",
      "* Using the Computer for Analysis\n",
      "* Modelling and Simulation with Simulink\n",
      "* The LTI Model in Matlab"
     ]
    },
    {
     "cell_type": "heading",
     "level": 2,
     "metadata": {
      "slideshow": {
       "slide_type": "slide"
      }
     },
     "source": [
      "The Idea of a State-Space Model"
     ]
    },
    {
     "cell_type": "markdown",
     "metadata": {},
     "source": [
      "* In circuits KCL and KVL we obtain integro-differential equations as a resul of the energy-storing devices (inductors and capacitors)\n",
      "* When a circuit comtains one such device, it is said to be a *first-order circuit*\n",
      "* When a circuit comtains two such devices, it is said to be a *second-order circuit*, and so on."
     ]
    },
    {
     "cell_type": "heading",
     "level": 3,
     "metadata": {
      "slideshow": {
       "slide_type": "subslide"
      }
     },
     "source": [
      "First-order linear time invariant system"
     ]
    },
    {
     "cell_type": "markdown",
     "metadata": {},
     "source": [
      "A first-order linear, time-invariant (LTI) circuit (or in general terms *any* physical system) can be represented by a differential equation of the form\n",
      "\n",
      "$$a_1\\frac{d}{dt}y(t)+a_0 y(t)=u(t)$$"
     ]
    },
    {
     "cell_type": "heading",
     "level": 3,
     "metadata": {
      "slideshow": {
       "slide_type": "subslide"
      }
     },
     "source": [
      "Second-order LTI system"
     ]
    },
    {
     "cell_type": "markdown",
     "metadata": {},
     "source": [
      "A second-order LTI system can be represented by a differential equation of the form\n",
      "\n",
      "$$a_2\\frac{d^2}{dt^2}y(t)+a_1\\frac{d}{dt}y(t) + a_0 y(t)=u(t)$$"
     ]
    },
    {
     "cell_type": "heading",
     "level": 3,
     "metadata": {
      "slideshow": {
       "slide_type": "subslide"
      }
     },
     "source": [
      "nth-order LTI system"
     ]
    },
    {
     "cell_type": "markdown",
     "metadata": {},
     "source": [
      "By extension, an *n*<sup>th</sup> LTI system can be represented by a differential equation of the form\n",
      "\n",
      "$$a_n\\frac{d^n}{dt^n}y(t)+a_{n-1}\\frac{d^{n-1}}{dt^{n-1}}y(t)+\\cdots +a_1\\frac{d}{dt}y(t) + a_0 y(t)=u(t)$$"
     ]
    },
    {
     "cell_type": "heading",
     "level": 3,
     "metadata": {
      "slideshow": {
       "slide_type": "subslide"
      }
     },
     "source": [
      "Example 1"
     ]
    },
    {
     "cell_type": "markdown",
     "metadata": {},
     "source": [
      "A series RLC circuit with excitation\n",
      "\n",
      "$$v_s(t) = e^{j\\omega t}$$\n",
      "\n",
      "is described the the integro-differential equation\n",
      "\n",
      "$$Ri(t) + L\\frac{d}{dt}i(t)+\\frac{1}{C}\\int_{-\\infty}^{t}i(t) dt = e^{j\\omega t}$$\n",
      "\n",
      "Convert the equation into a second-order differential form and from this derive a state-space model."
     ]
    },
    {
     "cell_type": "heading",
     "level": 3,
     "metadata": {
      "slideshow": {
       "slide_type": "subslide"
      }
     },
     "source": [
      "Solution 1"
     ]
    },
    {
     "cell_type": "heading",
     "level": 3,
     "metadata": {},
     "source": [
      "Differentiating both sides of the equation and dividing by $L$ we get\n",
      "\n",
      "$$\\frac{d^2}{dt^2}i(t) + \\frac{R}{L}\\frac{d}{dt}i(t) + \\frac{1}{LC} i(t) = \\frac{1}{L}j\\omega e^{j\\omega t}$$\n",
      "\n",
      "or \n",
      "\n",
      "$$\\frac{d^2}{dt^2}i(t) = - \\frac{R}{L}\\frac{d}{dt}i(t) - \\frac{1}{LC} i(t) + \\frac{1}{L}j\\omega e^{j\\omega t}$$"
     ]
    },
    {
     "cell_type": "heading",
     "level": 3,
     "metadata": {
      "slideshow": {
       "slide_type": "subslide"
      }
     },
     "source": [
      "Define state variables"
     ]
    },
    {
     "cell_type": "markdown",
     "metadata": {},
     "source": [
      "Let us define $x_1$ and $x_2$ to be two *state variables* such that\n",
      "\n",
      "$$x_1 = i$$\n",
      "\n",
      "and\n",
      "\n",
      "$$x_2 = \\frac{di}{dt} = \\frac{dx_1}{dt} = \\dot{x}_1$$\n",
      "\n",
      "then\n",
      "\n",
      "$$\\dot{x}_2 = \\frac{dx_1}{dt} = \\frac{d^2i}{dt^2}$$"
     ]
    },
    {
     "cell_type": "heading",
     "level": 3,
     "metadata": {
      "slideshow": {
       "slide_type": "subslide"
      }
     },
     "source": [
      "Recast Differential Equation in Terms of the State Variables"
     ]
    },
    {
     "cell_type": "markdown",
     "metadata": {},
     "source": [
      "$$\\dot{x}_1 = x_2$$\n",
      "\n",
      "$$\\dot{x}^2 = - \\frac{R}{L} x_2 - \\frac{1}{LC} x_1 + \\frac{1}{L}j\\omega e^{j\\omega t}$$"
     ]
    },
    {
     "cell_type": "heading",
     "level": 3,
     "metadata": {
      "slideshow": {
       "slide_type": "subslide"
      }
     },
     "source": [
      "Put into Matrix-Vector Form"
     ]
    },
    {
     "cell_type": "markdown",
     "metadata": {},
     "source": [
      "$$\\left[ {\\begin{array}{*{20}{c}}\n",
      "{{{\\dot x}_1}}\\\\\n",
      "{{{\\dot x}_2}}\n",
      "\\end{array}} \\right] = \\left[ {\\begin{array}{*{20}{c}}\n",
      "0&1\\\\\n",
      "{ - \\frac{1}{{LC}}}&{ - \\frac{R}{L}}\n",
      "\\end{array}} \\right]\\left[ {\\begin{array}{*{20}{c}}\n",
      "{{x_1}}\\\\\n",
      "{{x_2}}\n",
      "\\end{array}} \\right] + \\left[ {\\begin{array}{*{20}{c}}\n",
      "0\\\\\n",
      "{\\frac{1}{L}}\n",
      "\\end{array}} \\right]j\\omega {e^{j\\omega t}}$$"
     ]
    },
    {
     "cell_type": "heading",
     "level": 3,
     "metadata": {
      "slideshow": {
       "slide_type": "subslide"
      }
     },
     "source": [
      "State-Space Form"
     ]
    },
    {
     "cell_type": "markdown",
     "metadata": {},
     "source": [
      "$${\\bf{\\dot x}} = {\\bf{Ax}} + {\\bf{B}}u$$\n",
      "\n",
      "where\n",
      "\n",
      "${\\bf{\\dot x}} = \\left[ {\\begin{array}{*{20}{c}}\n",
      "{{\\dot{x}_1}}\\\\\n",
      "{{\\dot{x}_2}}\n",
      "\\end{array}} \\right]$, ${\\bf{A}} = \\left[ {\\begin{array}{*{20}{c}}\n",
      "0&1\\\\\n",
      "{ - \\frac{1}{{LC}}}&{ - \\frac{R}{L}}\n",
      "\\end{array}} \\right]$, ${\\bf{x}} = \\left[ {\\begin{array}{*{20}{c}}\n",
      "{{x_1}}\\\\\n",
      "{{x_2}}\n",
      "\\end{array}} \\right]$, ${\\bf{B}} = \\left[ {\\begin{array}{*{20}{c}}\n",
      "0\\\\\n",
      "{\\frac{1}{L}}\n",
      "\\end{array}} \\right]$, and $u=j\\omega e^{j\\omega t}$.\n",
      "\n",
      "The output $y(t)$ is expressed by the state-equation\n",
      "\n",
      "$$y = \\bf{C}\\bf{x} + d u$$\n",
      "\n",
      "where $\\bf{C}$ is another matrix, and $d$ is a scalar."
     ]
    },
    {
     "cell_type": "heading",
     "level": 3,
     "metadata": {
      "slideshow": {
       "slide_type": "subslide"
      }
     },
     "source": [
      "General State-Space Form"
     ]
    },
    {
     "cell_type": "markdown",
     "metadata": {},
     "source": [
      "For a single-input single-output (SISO) system:\n",
      "\n",
      "$$\\begin{array}{l}\n",
      "{\\bf{\\dot x}} = {\\bf{Ax}} + {\\bf{B}}u\\\\\n",
      "{\\bf{y}} = {\\bf{Cx}} + d u\n",
      "\\end{array}$$\n",
      "\n",
      "<img src=\"files/pictures/state_space_model.png\" width=\"50%\">"
     ]
    },
    {
     "cell_type": "heading",
     "level": 3,
     "metadata": {},
     "source": [
      "Example 2"
     ]
    },
    {
     "cell_type": "markdown",
     "metadata": {},
     "source": [
      "A fourth-order network is decsribed by the differential equation\n",
      "\n",
      "$$\\frac{d^4 y}{dt^4} + a_3\\frac{d^3 y}{dt^3} + a_2 \\frac{d^2 y}{dt^2} + a_1 \\frac{d y}{dt} + a_0 y(t) = u(t)$$\n",
      "\n",
      "where $y(t)$ represents the circuit output as a current or voltage, and $u(t)$ is an arbitrary input.\n",
      "\n",
      "Express this system in state-space form."
     ]
    },
    {
     "cell_type": "heading",
     "level": 3,
     "metadata": {
      "slideshow": {
       "slide_type": "subslide"
      }
     },
     "source": [
      "Example 3"
     ]
    },
    {
     "cell_type": "markdown",
     "metadata": {},
     "source": [
      "Write the state equations for the circuit below, given that $V_c(0^-)=0$, and $u_0(t)$ is the unit step.\n",
      "\n",
      "<img src=\"files/pictures/example2.png\" width=\"50%\">"
     ]
    },
    {
     "cell_type": "heading",
     "level": 3,
     "metadata": {
      "slideshow": {
       "slide_type": "subslide"
      }
     },
     "source": [
      "Example 4"
     ]
    },
    {
     "cell_type": "markdown",
     "metadata": {},
     "source": [
      "See Example 5.4 on Pages 5-5&mdash;5-6 in the textbook."
     ]
    },
    {
     "cell_type": "heading",
     "level": 2,
     "metadata": {
      "slideshow": {
       "slide_type": "slide"
      }
     },
     "source": [
      "Solving the First-Order Case"
     ]
    },
    {
     "cell_type": "markdown",
     "metadata": {},
     "source": [
      "If a circuit contains only one energy-storing device, the state equations are written as:\n",
      "\n",
      "$$\\begin{array}{c}\n",
      "\\dot x = ax + bu\\\\\n",
      "y = cx + du\n",
      "\\end{array}$$\n",
      "\n",
      "where $a$, $b$, $c$ and $d$ are scalar constants.\n",
      "\n",
      "The solution will be of the form\n",
      "\n",
      "$$x(t) = e^{a(t-t_0)}x(t_0)+\\int_{t_0}^{t}e^{a(t-\\tau)}bu(\\tau) d\\tau$$\n",
      "\n",
      "(For proof see text-book)"
     ]
    },
    {
     "cell_type": "heading",
     "level": 3,
     "metadata": {
      "slideshow": {
       "slide_type": "subslide"
      }
     },
     "source": [
      "Example 5"
     ]
    },
    {
     "cell_type": "markdown",
     "metadata": {},
     "source": [
      "Use the previous result to find the capacitor voltage $v_c(t)$ of the circuit below for $t > 0$, given that the initial condition is $v_c(0^-) = 1\\;\\mathrm{V}$, $R=2\\;\\Omega$, $C=0.5\\;\\mathrm{F}$ and $v_s(t) = 2u_0(t)$.\n",
      "\n",
      "<img src=\"files/pictures/example2.png\" width=\"50%\">\n",
      "\n",
      "(*Solution*: $y(t) = x(t) = v_c(t) = (2 - e^{-t})u_0(t)$)"
     ]
    },
    {
     "cell_type": "heading",
     "level": 3,
     "metadata": {
      "slideshow": {
       "slide_type": "subslide"
      }
     },
     "source": [
      "Matlab Solution"
     ]
    },
    {
     "cell_type": "code",
     "collapsed": false,
     "input": [
      "%%matlab\n",
      "t = linspace(0,10,1000);\n",
      "vc = 2-exp(-t);\n",
      "plot(t,vc),axis([0,10,0,3]),grid"
     ],
     "language": "python",
     "metadata": {},
     "outputs": [
      {
       "metadata": {},
       "output_type": "display_data",
       "png": "[encoded data removed]"
      }
     ],
     "prompt_number": 60
    },
    {
     "cell_type": "heading",
     "level": 2,
     "metadata": {
      "slideshow": {
       "slide_type": "slide"
      }
     },
     "source": [
      "Outline of the General Solution"
     ]
    },
    {
     "cell_type": "markdown",
     "metadata": {},
     "source": [
      "\n",
      "If\n",
      "\n",
      "$$\\begin{array}{l}\n",
      "{\\bf{\\dot x}} = {\\bf{Ax}} + {\\bf{B}}u\\\\\n",
      "{\\bf{y}} = {\\bf{Cx}} + d u\n",
      "\\end{array}$$\n",
      "\n",
      "the the solution of \n",
      "\n",
      "$${\\bf{\\dot x}} = {\\bf{Ax}} + {\\bf{B}}u$$\n",
      "\n",
      "with initial condtions $\\bf{x}(t_0) = \\bf{x}_0$\n",
      "\n",
      "is the matrix generalization of the previous result:\n",
      "\n",
      "$${\\bf{x}} = {e^{{\\bf{A}}t}}{{\\bf{x}}_0} + \\int_{{t_0}}^t {{e^{{\\bf{A}}(t - \\tau )}}u(\\tau )d\\tau } $$\n",
      "    "
     ]
    },
    {
     "cell_type": "heading",
     "level": 3,
     "metadata": {
      "slideshow": {
       "slide_type": "subslide"
      }
     },
     "source": [
      "Transition Matrix"
     ]
    },
    {
     "cell_type": "markdown",
     "metadata": {},
     "source": [
      "The term \n",
      "\n",
      "$$\\bf{\\phi}=e^{\\bf{A}t}$$\n",
      "\n",
      "is called the *state transition matrix* and it can be computed by hand (at least for the 2x2 case) if you have knowledge of the *eigenvalues* and *eigenvectors* of the state-matrix $\\bf A$. \n",
      "\n",
      "If you want to study the proof, see Section 5.4 **Computation of the State Transition Matrix** in the text book."
     ]
    },
    {
     "cell_type": "heading",
     "level": 3,
     "metadata": {
      "slideshow": {
       "slide_type": "subslide"
      }
     },
     "source": [
      "Computation of the State Transition Matrix in Matlab"
     ]
    },
    {
     "cell_type": "markdown",
     "metadata": {},
     "source": [
      "Matlab provides the function `expm` which computes the matrix exponential"
     ]
    },
    {
     "cell_type": "heading",
     "level": 3,
     "metadata": {
      "slideshow": {
       "slide_type": "subslide"
      }
     },
     "source": [
      "Example 6"
     ]
    },
    {
     "cell_type": "markdown",
     "metadata": {},
     "source": [
      "Compute the state transition matrix $\\bf \\phi = e^{\\bf{A}t}$ for the state matrix\n",
      "\n",
      "$${\\bf{A}} = \\left[ {\\begin{array}{*{20}{c}}\n",
      "{ - 2}&1\\\\\n",
      "0&{ - 1}\n",
      "\\end{array}} \\right]$$"
     ]
    },
    {
     "cell_type": "code",
     "collapsed": false,
     "input": [
      "%%matlab\n",
      "syms t;\n",
      "A = [-2, 1; 0, -1];\n",
      "phi = expm(A*t)"
     ],
     "language": "python",
     "metadata": {
      "slideshow": {
       "slide_type": "fragment"
      }
     },
     "outputs": [
      {
       "metadata": {},
       "output_type": "display_data",
       "text": [
        " \n",
        "phi =\n",
        " \n",
        "[ exp(-2*t), exp(-t) - exp(-2*t)]\n",
        "[         0,             exp(-t)]\n",
        " \n"
       ]
      }
     ],
     "prompt_number": 61
    },
    {
     "cell_type": "markdown",
     "metadata": {
      "slideshow": {
       "slide_type": "fragment"
      }
     },
     "source": [
      "$$\\phi (t) = \\left[ {\\begin{array}{*{20}{c}}\n",
      "{{e^{ - 2t}}}&{{e^{ - t}} - {e^{ - 2t}}}\\\\\n",
      "0&{{e^{ - t}}}\n",
      "\\end{array}} \\right]$$"
     ]
    },
    {
     "cell_type": "heading",
     "level": 2,
     "metadata": {},
     "source": [
      "Circuit Analysis with State-Space Models"
     ]
    },
    {
     "cell_type": "heading",
     "level": 3,
     "metadata": {
      "slideshow": {
       "slide_type": "subslide"
      }
     },
     "source": [
      "Example 6"
     ]
    },
    {
     "cell_type": "markdown",
     "metadata": {},
     "source": [
      "For the RLC circuit shown below, the initial conditions ar $i_L(0^-)$=0, and $v_c(0^-)=0.5$ V. Use the state variable method to compute $i_L(t)$ and $v_c(t)$.\n",
      "\n",
      "<img src=\"files/pictures/example6.png\">"
     ]
    },
    {
     "cell_type": "heading",
     "level": 3,
     "metadata": {
      "slideshow": {
       "slide_type": "subslide"
      }
     },
     "source": [
      "Sketch of solution"
     ]
    },
    {
     "cell_type": "markdown",
     "metadata": {},
     "source": [
      "See Example 5.10 for full solution. \n",
      "\n",
      "We chose $x_1 = i_L$ and $x_2 = v_c$ as our state equations which yields state equations\n",
      "\n",
      "$$\\left[ {\\begin{array}{*{20}{c}}\n",
      "{{{\\dot x}_1}}\\\\\n",
      "{{{\\dot x}_2}}\n",
      "\\end{array}} \\right] = \\left[ {\\begin{array}{*{20}{c}}\n",
      "{ - 4}&{ - 4}\\\\\n",
      "{3/4}&0\n",
      "\\end{array}} \\right]\\left[ {\\begin{array}{*{20}{c}}\n",
      "{{x_1}}\\\\\n",
      "{{x_2}}\n",
      "\\end{array}} \\right] + \\left[ {\\begin{array}{*{20}{c}}\n",
      "1\\\\\n",
      "0\n",
      "\\end{array}} \\right]{u_0}(t)$$\n"
     ]
    },
    {
     "cell_type": "code",
     "collapsed": false,
     "input": [
      "%%matlab\n",
      "syms t;\n",
      "A = [-4, -4; 3/4, 0];\n",
      "phi = expm(A*t);\n",
      "pretty(phi)"
     ],
     "language": "python",
     "metadata": {
      "slideshow": {
       "slide_type": "subslide"
      }
     },
     "outputs": [
      {
       "metadata": {},
       "output_type": "display_data",
       "text": [
        "\n",
        "  +-                                                  -+\n",
        "  |   3 exp(-3 t)   exp(-t)                            |\n",
        "  |   ----------- - -------,  2 exp(-3 t) - 2 exp(-t)  |\n",
        "  |        2           2                               |\n",
        "  |                                                    |\n",
        "  |  3 exp(-t)   3 exp(-3 t)   3 exp(-t)   exp(-3 t)   |\n",
        "  |  --------- - -----------,  --------- - ---------   |\n",
        "  |      8            8            2           2       |\n",
        "  +-                                                  -+\n"
       ]
      }
     ],
     "prompt_number": 62
    },
    {
     "cell_type": "markdown",
     "metadata": {
      "slideshow": {
       "slide_type": "subslide"
      }
     },
     "source": [
      "The state transition matrix is\n",
      "\n",
      "$$\\phi (t) = \\left[ {\\begin{array}{*{20}{c}}\n",
      "{ - \\frac{1}{2}{e^{ - t}} + \\frac{3}{2}{e^{ - 3t}}}&{ - 2{e^{ - t}} + 2{e^{ - 3t}}}\\\\\n",
      "{ - \\frac{3}{8}{e^{ - t}} + \\frac{8}{8}{e^{ - 3t}}}&{ - \\frac{3}{2}{e^{ - t}} - \\frac{1}{2}{e^{ - 3t}}}\n",
      "\\end{array}} \\right]$$"
     ]
    },
    {
     "cell_type": "markdown",
     "metadata": {
      "slideshow": {
       "slide_type": "subslide"
      }
     },
     "source": [
      "We multiply this by the initial condition matrix, to get the *unforced response* \n",
      "\n",
      "$${{\\bf{x}}_u}(t) = {e^{{\\bf{A}}t}}\\left[ {\\begin{array}{*{20}{c}}\n",
      "0\\\\\n",
      "{\\frac{1}{2}}\n",
      "\\end{array}} \\right]$$"
     ]
    },
    {
     "cell_type": "code",
     "collapsed": false,
     "input": [
      "%%matlab\n",
      "xu = phi*[0; 1/2];\n",
      "pretty(xu)"
     ],
     "language": "python",
     "metadata": {
      "slideshow": {
       "slide_type": "fragment"
      }
     },
     "outputs": [
      {
       "metadata": {},
       "output_type": "display_data",
       "text": [
        "\n",
        "  +-                       -+\n",
        "  |   exp(-3 t) - exp(-t)   |\n",
        "  |                         |\n",
        "  |  3 exp(-t)   exp(-3 t)  |\n",
        "  |  --------- - ---------  |\n",
        "  |      4           4      |\n",
        "  +-                       -+\n"
       ]
      }
     ],
     "prompt_number": 63
    },
    {
     "cell_type": "markdown",
     "metadata": {
      "slideshow": {
       "slide_type": "fragment"
      }
     },
     "source": [
      "$${{\\bf{x}}_u}(t) = \\left[ {\\begin{array}{*{20}{c}}\n",
      "{ - {e^{ - t}} + {e^{ - 3t}}}\\\\\n",
      "{\\frac{3}{4}{e^{ - t}} - \\frac{3}{4}{e^{ - 3t}}}\n",
      "\\end{array}} \\right]$$"
     ]
    },
    {
     "cell_type": "markdown",
     "metadata": {
      "slideshow": {
       "slide_type": "subslide"
      }
     },
     "source": [
      "The forced response is trickier to compute by hand\n",
      "\n",
      "$${{\\bf{x}}_f}(t) = \\int_0^t {{e^{\\bf{A}(t-\\tau) }}B{u_0}(\\tau )} d\\tau $$\n",
      "\n",
      "but is easy with Matlab"
     ]
    },
    {
     "cell_type": "code",
     "collapsed": false,
     "input": [
      "%%matlab\n",
      "syms t tau\n",
      "B = [4; 0];\n",
      "xf = int(expm(A*(t-tau))*B*heaviside(tau),tau,0,t)"
     ],
     "language": "python",
     "metadata": {
      "slideshow": {
       "slide_type": "fragment"
      }
     },
     "outputs": [
      {
       "metadata": {},
       "output_type": "display_data",
       "text": [
        " \n",
        "xf =\n",
        " \n",
        "         2*exp(-t) - 2*exp(-3*t)\n",
        " exp(-3*t)/2 - (3*exp(-t))/2 + 1\n",
        " \n"
       ]
      }
     ],
     "prompt_number": 66
    },
    {
     "cell_type": "markdown",
     "metadata": {
      "slideshow": {
       "slide_type": "fragment"
      }
     },
     "source": [
      "$${{\\bf{x}}_f}(t) = \\left[ {\\begin{array}{*{20}{c}}\n",
      "{2{e^{ - t}} - 2{e^{ - 3t}}}\\\\\n",
      "{1 - \\frac{3}{2}{e^{ - t}} + \\frac{1}{2}{e^{ - 3t}}}\n",
      "\\end{array}} \\right]$$"
     ]
    },
    {
     "cell_type": "markdown",
     "metadata": {
      "slideshow": {
       "slide_type": "subslide"
      }
     },
     "source": [
      "The overall response is\n",
      "\n",
      "$${\\bf{x}}(t) = {{\\bf{x}}_u}(t) + {{\\bf{x}}_f}(t)$$"
     ]
    },
    {
     "cell_type": "code",
     "collapsed": false,
     "input": [
      "%%matlab\n",
      "x = xu + xf"
     ],
     "language": "python",
     "metadata": {
      "slideshow": {
       "slide_type": "fragment"
      }
     },
     "outputs": [
      {
       "metadata": {},
       "output_type": "display_data",
       "text": [
        " \n",
        "x =\n",
        " \n",
        "             exp(-t) - exp(-3*t)\n",
        " exp(-3*t)/4 - (3*exp(-t))/4 + 1\n",
        " \n"
       ]
      }
     ],
     "prompt_number": 65
    },
    {
     "cell_type": "markdown",
     "metadata": {
      "slideshow": {
       "slide_type": "fragment"
      }
     },
     "source": [
      "$${\\bf{x}}(t) = \\left[ {\\begin{array}{*{20}{c}}\n",
      "{{e^{ - t}} - {e^{ - 3t}}}\\\\\n",
      "{1 - \\frac{3}{4}{e^{ - t}} + \\frac{1}{4}{e^{ - 3t}}}\n",
      "\\end{array}} \\right]$$"
     ]
    },
    {
     "cell_type": "markdown",
     "metadata": {
      "slideshow": {
       "slide_type": "subslide"
      }
     },
     "source": [
      "So\n",
      "\n",
      "$$x_1 = i_L = e^{-t}+e^{-3t}$$\n",
      "\n",
      "and\n",
      "\n",
      "$$x_2 = v_c = 1 - 0.75e^{-t} + 0.25e^{-3t}$$\n",
      "\n",
      "Which agrees with the text book."
     ]
    },
    {
     "cell_type": "markdown",
     "metadata": {
      "slideshow": {
       "slide_type": "subslide"
      }
     },
     "source": [
      "As a four-liner"
     ]
    },
    {
     "cell_type": "code",
     "collapsed": false,
     "input": [
      "%%matlab\n",
      "syms t tau;\n",
      "A = [-4, -4; 3/4, 0]; B = [4; 0]; x0 = [0; 1/2];\n",
      "x = expm(A*t)*x0 + int(expm(A*(t-tau))*B*heaviside(tau),tau,0,t);\n",
      "il = x(1), vc = x(2)"
     ],
     "language": "python",
     "metadata": {},
     "outputs": [
      {
       "metadata": {},
       "output_type": "display_data",
       "text": [
        " \n",
        "il =\n",
        " \n",
        "exp(-t) - exp(-3*t)\n",
        " \n",
        " \n",
        "vc =\n",
        " \n",
        "exp(-3*t)/4 - (3*exp(-t))/4 + 1\n",
        " \n"
       ]
      }
     ],
     "prompt_number": 77
    },
    {
     "cell_type": "heading",
     "level": 2,
     "metadata": {
      "slideshow": {
       "slide_type": "slide"
      }
     },
     "source": [
      "Transfer Function from State-Space Model"
     ]
    },
    {
     "cell_type": "markdown",
     "metadata": {},
     "source": [
      "We state, without proof, that the laplace transform of the state equations are:\n",
      "\n",
      "$$Y(s) = {\\rm{ }}\\left[ {{\\bf{C}}{{({\\bf{sI}} - {\\bf{A}})}^{ - {\\bf{1}}}}{\\bf{B}} + {\\bf{d}}} \\right]{\\rm{ }}U(s)$$\n",
      "\n",
      "where $\\bf{I}$ is the *identity matrix* (Matlab `eye(n)`)\n",
      "\n",
      "So the transfer fuction of a state-space model with input $U(s)$ and output $Y(s)$ is\n",
      "\n",
      "$$G(s) = \\frac{Y(s)}{U(s)} = {{\\bf{C}}{{({\\bf{sI}} - {\\bf{A}})}^{ - {\\bf{1}}}}{\\bf{B}} + {\\bf{d}}}$$\n",
      "    "
     ]
    },
    {
     "cell_type": "heading",
     "level": 3,
     "metadata": {
      "slideshow": {
       "slide_type": "subslide"
      }
     },
     "source": [
      "Example 7"
     ]
    },
    {
     "cell_type": "markdown",
     "metadata": {},
     "source": [
      "Give the transfer function for Example 6 assuming that the output $y(t) = v_c(t)$ and find the step response of the circuit."
     ]
    },
    {
     "cell_type": "heading",
     "level": 3,
     "metadata": {
      "slideshow": {
       "slide_type": "subslide"
      }
     },
     "source": [
      "Solution"
     ]
    },
    {
     "cell_type": "markdown",
     "metadata": {},
     "source": [
      "if $y(t) = v_c(t)$\n",
      "\n",
      "$${\\bf{C}} = [\\begin{array}{*{20}{c}}\n",
      "0&1\n",
      "\\end{array}]$$\n",
      "\n",
      "and\n",
      "\n",
      "$$d = 0$$"
     ]
    },
    {
     "cell_type": "code",
     "collapsed": false,
     "input": [
      "%%matlab\n",
      "syms t s\n",
      "C = [0, 1]; d = 0;\n",
      "G = C*inv(s*eye(2)-A)*B + d"
     ],
     "language": "python",
     "metadata": {
      "slideshow": {
       "slide_type": "fragment"
      }
     },
     "outputs": [
      {
       "metadata": {},
       "output_type": "display_data",
       "text": [
        " \n",
        "G =\n",
        " \n",
        "3/(s^2 + 4*s + 3)\n",
        " \n"
       ]
      }
     ],
     "prompt_number": 80
    },
    {
     "cell_type": "code",
     "collapsed": false,
     "input": [
      "%%matlab\n",
      "U = laplace(heaviside(t));\n",
      "vc = ilaplace(G*U)"
     ],
     "language": "python",
     "metadata": {
      "slideshow": {
       "slide_type": "fragment"
      }
     },
     "outputs": [
      {
       "metadata": {},
       "output_type": "display_data",
       "text": [
        " \n",
        "vc =\n",
        " \n",
        "exp(-3*t)/2 - (3*exp(-t))/2 + 1\n",
        " \n"
       ]
      }
     ],
     "prompt_number": 82
    },
    {
     "cell_type": "heading",
     "level": 3,
     "metadata": {
      "slideshow": {
       "slide_type": "subslide"
      }
     },
     "source": [
      "Another way of Looking at the State Transition Matrix"
     ]
    },
    {
     "cell_type": "markdown",
     "metadata": {},
     "source": [
      "It can be shown that\n",
      "\n",
      "$$\\mathcal{L}e^{\\bf{A}t} = \\left(s\\bf{I}-A\\right)^{-1}$$\n",
      "\n",
      "and this gives us another way to find $e^{\\bf{A}t}$."
     ]
    },
    {
     "cell_type": "heading",
     "level": 3,
     "metadata": {
      "slideshow": {
       "slide_type": "subslide"
      }
     },
     "source": [
      "Example 8"
     ]
    },
    {
     "cell_type": "markdown",
     "metadata": {},
     "source": [
      "Use Laplace transforms to find the state transition matrix for Example 6."
     ]
    },
    {
     "cell_type": "heading",
     "level": 3,
     "metadata": {
      "slideshow": {
       "slide_type": "subslide"
      }
     },
     "source": [
      "Solution"
     ]
    },
    {
     "cell_type": "code",
     "collapsed": false,
     "input": [
      "%%matlab\n",
      "syms s t\n",
      "A = [-4, -4; 3/4, 0];\n",
      "phi_s = inv(s*eye(2)-A)\n",
      "phi_t = ilaplace(phi_s)"
     ],
     "language": "python",
     "metadata": {},
     "outputs": [
      {
       "metadata": {},
       "output_type": "display_data",
       "text": [
        " \n",
        "phi_s =\n",
        " \n",
        "[     s/(s^2 + 4*s + 3),      -4/(s^2 + 4*s + 3)]\n",
        "[ 3/(4*(s^2 + 4*s + 3)), (s + 4)/(s^2 + 4*s + 3)]\n",
        " \n",
        " \n",
        "phi_t =\n",
        " \n",
        "[     (3*exp(-3*t))/2 - exp(-t)/2,     2*exp(-3*t) - 2*exp(-t)]\n",
        "[ (3*exp(-t))/8 - (3*exp(-3*t))/8, (3*exp(-t))/2 - exp(-3*t)/2]\n",
        " \n"
       ]
      }
     ],
     "prompt_number": 87
    },
    {
     "cell_type": "heading",
     "level": 2,
     "metadata": {
      "slideshow": {
       "slide_type": "slide"
      }
     },
     "source": [
      "Homework"
     ]
    },
    {
     "cell_type": "markdown",
     "metadata": {},
     "source": [
      "Try the end of the chapter exercises (Section 5.9) from the textbook. You can omit Question 6 and may solve Questions 7, 8, and 9 using Matlab. Don't look at the answers until you have attempted the problems."
     ]
    },
    {
     "cell_type": "heading",
     "level": 2,
     "metadata": {
      "slideshow": {
       "slide_type": "slide"
      }
     },
     "source": [
      "Lab Work"
     ]
    },
    {
     "cell_type": "markdown",
     "metadata": {
      "slideshow": {
       "slide_type": "-"
      }
     },
     "source": [
      "In the lab, on Monday, we will give further examples of computing the state-transition matrix, and its use in the solution of systems defined by state-space models and transfer functions. \n",
      "\n",
      "We will also introduce the Linear Time Invariant model which can be used to model and analyse state-space and transfer functions. \n",
      "\n",
      "We will also demonstrate the use of Simulink to model and simulate circuits"
     ]
    }
   ],
   "metadata": {}
  }
 ]
}