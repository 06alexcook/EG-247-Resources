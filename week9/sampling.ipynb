{
 "metadata": {
  "name": ""
 },
 "nbformat": 3,
 "nbformat_minor": 0,
 "worksheets": [
  {
   "cells": [
    {
     "cell_type": "heading",
     "level": 1,
     "metadata": {
      "slideshow": {
       "slide_type": "slide"
      }
     },
     "source": [
      "Sampling Systems"
     ]
    },
    {
     "cell_type": "markdown",
     "metadata": {},
     "source": [
      "Dr Chris Jobling ([c.p.jobling@swansea.ac.uk](mailto:c.p.jobling@swansea.ac.uk))<br />Digital Technium 123<br />Office Hours: Thursdays 14:00-15:00\n",
      "\n",
      "You can view the notes for this presentation in [HTML format](http://nbviewer.ipython.org/github/cpjobling/EG-247-Resources/blob/master/week9/sampling.ipynb) and print using your Brower's print function. The source code of this presentation is available as an interactive [IPython notebook](http://ipython.org/notebook.html) from GitHub: <https://github.com/cpjobling/EG-247-Resources>. The GitHub repository also contains the source code for all the Matlab/Simulink examples."
     ]
    },
    {
     "cell_type": "heading",
     "level": 2,
     "metadata": {
      "slideshow": {
       "slide_type": "slide"
      }
     },
     "source": [
      "Scope and Background Reading"
     ]
    },
    {
     "cell_type": "markdown",
     "metadata": {},
     "source": [
      "This session is an introduction to sampling theory. It reviews the important ideas that pertain to sampling but leaves the detailed mathematics for your further study.\n",
      "\n",
      "The material in this presentation and notes is based on Chapter 15 of [Benoit Boulet, Fundamentals of Signals and Systems](http://site.ebrary.com/lib/swansea/docDetail.action?docID=10228195) from the **Recommended Reading List** and you'll find the detailed mathemtaical treatments tere. There is much more detail in Chapter 9 of [Steven T. Karris, Signals and Systems: with Matlab Computation and Simulink Modelling, 5th Edition](http://site.ebrary.com/lib/swansea/docDetail.action?docID=10547416) from the **Required Reading List**."
     ]
    },
    {
     "cell_type": "heading",
     "level": 2,
     "metadata": {
      "slideshow": {
       "slide_type": "slide"
      }
     },
     "source": [
      "Agenda"
     ]
    },
    {
     "cell_type": "markdown",
     "metadata": {},
     "source": [
      "* Sampling of Continuous-Time Signals\n",
      "* Signal Reconstruction\n",
      "* Discrete-time Processing of Continuous-Time Signals\n",
      "* Sampling of Discrete-Time Systems"
     ]
    },
    {
     "cell_type": "heading",
     "level": 2,
     "metadata": {
      "slideshow": {
       "slide_type": "slide"
      }
     },
     "source": [
      "Introduction"
     ]
    },
    {
     "cell_type": "markdown",
     "metadata": {},
     "source": [
      "* The *sampling process* provides the bridge between continuous-time (CT) and discrete-time (DT) signals\n",
      "* Sampling records discrete values of a CT signal at periodic instants of time.\n",
      "* Sampled data can be used in *real-time* or *off-line* processing\n",
      "* Sampling opens up possibility of processing CT signals through *finite impulse response* (FIR) and *infinite impulse response* IIR filters."
     ]
    },
    {
     "cell_type": "heading",
     "level": 2,
     "metadata": {},
     "source": [
      "Sampling CT Signals"
     ]
    },
    {
     "cell_type": "heading",
     "level": 3,
     "metadata": {
      "slideshow": {
       "slide_type": "subslide"
      }
     },
     "source": [
      "Time domain"
     ]
    },
    {
     "cell_type": "markdown",
     "metadata": {},
     "source": [
      "Sampling can be modelled as the multiplication of a continuous-time signal by a sequence of periodic impulses as illustrated here.\n",
      "\n",
      "<img src=\"files/pictures/sampling.png\">\n",
      "\n",
      "This is a form of **modulation**\n",
      "\n",
      "$T_s$ is the period of the periodic sampling function."
     ]
    },
    {
     "cell_type": "heading",
     "level": 3,
     "metadata": {
      "slideshow": {
       "slide_type": "subslide"
      }
     },
     "source": [
      "Frequency domain"
     ]
    },
    {
     "cell_type": "markdown",
     "metadata": {},
     "source": [
      "Multiplication in time domain is *convolution* in the Frequency domain\n",
      "\n",
      "<img src=\"files/pictures/sampling_fr.png\">\n",
      "\n",
      "$\\omega_s$ is the frequency of the periodic sampling function = $2\\pi/T_s$."
     ]
    },
    {
     "cell_type": "markdown",
     "metadata": {
      "slideshow": {
       "slide_type": "fragment"
      }
     },
     "source": [
      "**Frequency convolution**:\n",
      "$${X_s}(\\omega ) = \\frac{1}{{{T_s}}}\\int_{ - \\infty }^{ + \\infty } {X(\\upsilon )} \\sum\\limits_{n =  - \\infty }^{ + \\infty } {\\delta (t - \\upsilon  - k{\\omega _s})} \\,d\\upsilon $$"
     ]
    },
    {
     "cell_type": "heading",
     "level": 3,
     "metadata": {
      "slideshow": {
       "slide_type": "subslide"
      }
     },
     "source": [
      "The Mathematics"
     ]
    },
    {
     "cell_type": "markdown",
     "metadata": {},
     "source": [
      "**The Sampled signal**:\n",
      "\n",
      "$${x_s}(t) = \\sum\\limits_{n =  - \\infty }^{ + \\infty } {x(n{T_s})\\delta (t - n{T_s})} $$"
     ]
    },
    {
     "cell_type": "markdown",
     "metadata": {
      "slideshow": {
       "slide_type": "fragment"
      }
     },
     "source": [
      "**Frequency convolution**:\n",
      "$${X_s}(\\omega ) = \\frac{1}{{{T_s}}}\\int_{ - \\infty }^{ + \\infty } {X(\\upsilon )} \\sum\\limits_{n =  - \\infty }^{ + \\infty } {\\delta (t - \\upsilon  - k{\\omega _s})} \\,d\\upsilon $$"
     ]
    },
    {
     "cell_type": "markdown",
     "metadata": {
      "slideshow": {
       "slide_type": "fragment"
      }
     },
     "source": [
      "**Sampling property**:\n",
      "\n",
      "$${X_s}(\\omega ) = \\frac{1}{{{T_s}}}\\int_{ - \\infty }^{ + \\infty } {\\sum\\limits_{n =  - \\infty }^{ + \\infty } {X(\\omega  - k{\\omega _s})} } \\delta (t - \\upsilon  - k{\\omega _s})\\,d\\upsilon $$"
     ]
    },
    {
     "cell_type": "markdown",
     "metadata": {
      "slideshow": {
       "slide_type": "fragment"
      }
     },
     "source": [
      "**Sifting property**:\n",
      "\n",
      "$${X_s}(\\omega ) = \\frac{1}{{{T_s}}}\\sum\\limits_{n =  - \\infty }^{ + \\infty } {X(\\omega  - k{\\omega _s})}$$"
     ]
    },
    {
     "cell_type": "heading",
     "level": 3,
     "metadata": {},
     "source": [
      "Nyquist-Shannon Sampling Theorem"
     ]
    },
    {
     "cell_type": "markdown",
     "metadata": {},
     "source": [
      "Gives a sufficient condition to recover a continuous time signal from its samples $x(nT_s), $n$ is an integer."
     ]
    },
    {
     "cell_type": "markdown",
     "metadata": {
      "slideshow": {
       "slide_type": "fragment"
      }
     },
     "source": [
      "**Sampling Theoreom**\n",
      "\n",
      "Let $x(t)$ be a band-limited signal with $X(\\omega) = 0$ for $|\\omega|>\\omega_M$.\n",
      "\n",
      "Then $x(t)$ is uniquely determined by its samples $x(nT_s)$, $\\infty <n < +\\infty$ if\n",
      "\n",
      "$$\\omega_s > 2\\omega_M,$$\n",
      "\n",
      "where $\\omega_s = 2\\pi/T_s$ is the sampling frequency."
     ]
    },
    {
     "cell_type": "heading",
     "level": 3,
     "metadata": {
      "slideshow": {
       "slide_type": "subslide"
      }
     },
     "source": [
      "Recovery of signal by flitering"
     ]
    },
    {
     "cell_type": "markdown",
     "metadata": {},
     "source": [
      "<img src=\"files/pictures/recovery.png\">"
     ]
    },
    {
     "cell_type": "markdown",
     "metadata": {},
     "source": [
      "<img src=\"files/pictures/recovered.png\">"
     ]
    },
    {
     "cell_type": "heading",
     "level": 3,
     "metadata": {
      "slideshow": {
       "slide_type": "subslide"
      }
     },
     "source": [
      "Ideal Lowpass Filter for CT Recovery from DT Sampled Signal"
     ]
    },
    {
     "cell_type": "markdown",
     "metadata": {},
     "source": [
      "<img src=\"files/pictures/recover-lp.png\">\n",
      "\n",
      "This is of course theoretical only!\n"
     ]
    },
    {
     "cell_type": "heading",
     "level": 2,
     "metadata": {},
     "source": [
      "Sampling CT Signals"
     ]
    },
    {
     "cell_type": "heading",
     "level": 2,
     "metadata": {},
     "source": [
      "Sampling CT Signals"
     ]
    },
    {
     "cell_type": "heading",
     "level": 2,
     "metadata": {},
     "source": [
      "Sampling CT Signals"
     ]
    },
    {
     "cell_type": "markdown",
     "metadata": {},
     "source": [
      "$$X(\\omega) = \\int_{-\\infty}^{\\infty} x(t)e^{-j\\omega t}\\; dt$$"
     ]
    },
    {
     "cell_type": "heading",
     "level": 2,
     "metadata": {
      "slideshow": {
       "slide_type": "slide"
      }
     },
     "source": [
      "Homework"
     ]
    },
    {
     "cell_type": "markdown",
     "metadata": {},
     "source": [
      "Do the end of the chapter exercises (Section 1.7) from the textbook. Don't look at the answers until you have attempted the problems."
     ]
    },
    {
     "cell_type": "heading",
     "level": 2,
     "metadata": {
      "slideshow": {
       "slide_type": "slide"
      }
     },
     "source": [
      "Lab Work"
     ]
    },
    {
     "cell_type": "markdown",
     "metadata": {
      "slideshow": {
       "slide_type": "-"
      }
     },
     "source": []
    }
   ],
   "metadata": {}
  }
 ]
}