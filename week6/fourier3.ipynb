{
 "metadata": {
  "name": ""
 },
 "nbformat": 3,
 "nbformat_minor": 0,
 "worksheets": [
  {
   "cells": [
    {
     "cell_type": "heading",
     "level": 1,
     "metadata": {
      "slideshow": {
       "slide_type": "slide"
      }
     },
     "source": [
      "Fourier Series (Part 3)"
     ]
    },
    {
     "cell_type": "markdown",
     "metadata": {},
     "source": [
      "Dr Chris Jobling ([c.p.jobling@swansea.ac.uk](mailto:c.p.jobling@swansea.ac.uk))<br />Digital Technium 123<br />Office Hours: Thursdays 14:00-15:00\n",
      "\n",
      "You can view the notes for this presentation in [HTML format](http://nbviewer.ipython.org/github/cpjobling/EG-247-Resources/blob/master/week6/fourier3.ipynb) and print using your Brower's print function. The source code of this presentation is available as an interactive [IPython notebook](http://ipython.org/notebook.html) from GitHub: <https://github.com/cpjobling/EG-247-Resources>. The GitHub repository also contains the source code for all the Matlab/Simulink examples."
     ]
    },
    {
     "cell_type": "heading",
     "level": 2,
     "metadata": {
      "slideshow": {
       "slide_type": "slide"
      }
     },
     "source": [
      "Agenda"
     ]
    },
    {
     "cell_type": "markdown",
     "metadata": {},
     "source": [
      "*Last time*\n",
      "\n",
      "* Exponents and Euler's Equation\n",
      "* The Exponential Fourier series\n",
      "* Symmetry in Exponential Fourier Series\n",
      "* Example\n",
      "\n",
      "*This Time*\n",
      "\n",
      "* Line spectra\n",
      "* Power in periodic signals"
     ]
    },
    {
     "cell_type": "heading",
     "level": 2,
     "metadata": {
      "slideshow": {
       "slide_type": "slide"
      }
     },
     "source": [
      "Scope and Background Reading"
     ]
    },
    {
     "cell_type": "markdown",
     "metadata": {},
     "source": [
      "This session concludes our introduction to Fourier Series.\n",
      "\n",
      "Last time we saw that we could exploit the complex exponential $e^{j\\omega t}$ to redefine trigonometric Fourier Series into the Exponential Fourier Series and in so doing we eliminate one integration and at the same time simplify the calculation of the coefficients of the Fourier series.\n",
      "\n",
      "In this session we show how the Exponential form of the Fourier Series leads us to the ability to present wavefoms as line spectra, simplifies the calculation of power for systems with harmonics and leads in the limit as the $T$ approaches infinity to the Fourier Transform.\n",
      "\n",
      "The material in this presentation and notes is based on Chapter 7 (Starting at Section 7.10) of [Steven T. Karris, Signals and Systems: with Matlab Computation and Simulink Modelling, 5th Edition.](http://site.ebrary.com/lib/swansea/docDetail.action?docID=10547416)."
     ]
    },
    {
     "cell_type": "heading",
     "level": 2,
     "metadata": {
      "slideshow": {
       "slide_type": "slide"
      }
     },
     "source": [
      "Line Spectra"
     ]
    },
    {
     "cell_type": "markdown",
     "metadata": {},
     "source": [
      "When the Exponential Fourier series are known is is useful to plot the amplitude and phase of the harmonics on a frequency scale. \n",
      "\n",
      "This is the spectrum of the Exponential Fourier Series calculated last time\n",
      "\n",
      "<img src=\"files/pictures/efs_sqw.png\">"
     ]
    },
    {
     "cell_type": "heading",
     "level": 3,
     "metadata": {
      "slideshow": {
       "slide_type": "subslide"
      }
     },
     "source": [
      "Line Spectra for Tig. FS"
     ]
    },
    {
     "cell_type": "markdown",
     "metadata": {},
     "source": [
      "If we take the results for the Exponential Fourier Series and gather terms, the amplitudes for the Trig. Fourier Series are given by:\n",
      "\n",
      "$$a_0 = 2C_0$$\n",
      "\n",
      "$$a_1 = (C_k + C_{-k})$$\n",
      "\n",
      "$$b_k = j(C_k - C_{-k})$$"
     ]
    },
    {
     "cell_type": "markdown",
     "metadata": {},
     "source": [
      "Applying this to the previous result we get\n",
      "\n",
      "<img src=\"files/pictures/line-spec.png\">"
     ]
    },
    {
     "cell_type": "heading",
     "level": 3,
     "metadata": {
      "slideshow": {
       "slide_type": "subslide"
      }
     },
     "source": [
      "Example 1"
     ]
    },
    {
     "cell_type": "markdown",
     "metadata": {},
     "source": [
      "Compute the exponential Fourier series for the waveform shown below and plot its line spectra. Assume $\\omega = 1$.\n",
      "\n",
      "<img src=\"files/pictures/pulse_train.png\">"
     ]
    },
    {
     "cell_type": "heading",
     "level": 3,
     "metadata": {
      "slideshow": {
       "slide_type": "subslide"
      }
     },
     "source": [
      "Solution"
     ]
    },
    {
     "cell_type": "markdown",
     "metadata": {},
     "source": [
      "The recurrent rectangular pulse is used extensively in digital communication systems. To determine how faithfully such pulses will be transmitted, it is necessary to knwo the frequency components.\n",
      "\n",
      "**What do we know?**\n",
      "\n",
      "* The pulse duration is $T/w$.\n",
      "* The recurrence interval $T$ is $w$ times the pulse duration.\n",
      "* $w$ is the ratio of pulse repetition time to the pulse duration &ndash; normaly called the *duty cycle*."
     ]
    },
    {
     "cell_type": "heading",
     "level": 3,
     "metadata": {
      "slideshow": {
       "slide_type": "subslide"
      }
     },
     "source": [
      "Coefficients of the Exponential Fourier Series?"
     ]
    },
    {
     "cell_type": "markdown",
     "metadata": {},
     "source": [
      "Given\n",
      "\n",
      "$$C_k = \\frac{1}{2\\pi}\\int_{-\\pi}^{\\pi} f(t)e^{-jkt}\\,dt$$\n",
      "\n",
      "* Is the function **even** or **odd**?\n",
      "* Does the signal have **half-wave symmetry**?\n",
      "* What are the cosequencies of symmetry on the form of the coefficients $C_k$?\n",
      "* What function do we actually need to integrate to compute $C_k$?"
     ]
    },
    {
     "cell_type": "heading",
     "level": 3,
     "metadata": {
      "slideshow": {
       "slide_type": "subslide"
      }
     },
     "source": [
      "Answers"
     ]
    },
    {
     "cell_type": "markdown",
     "metadata": {},
     "source": [
      "Given\n",
      "\n",
      "$$C_k = \\frac{1}{2\\pi}\\int_{-\\pi}^{\\pi} f(t)e^{-jkt}\\,dt$$\n",
      "\n",
      "* Is the function **even** or **odd**? **even** $f(t) = f(-t)$!\n",
      "* Does the signal have **half-wave symmetry**? No!\n",
      "* What are the cosequencies of symmetry on the form of the coefficients $C_k$? $C_k$ will be real values. Trig. equivalent no sine terms.\n",
      "* What function do we actually need to integrate to compute $C_k$? We only need to integrate between the limits $-\\pi/w \\to \\pi/w$\n",
      "\n",
      "$$C_k = \\frac{1}{2\\pi}\\int_{-\\pi/w}^{\\pi/w} Ae^{-jkt}\\,dt = \\frac{A}{2\\pi}\\int_{-\\pi/w}^{\\pi/w} e^{-jkt}\\,dt $$"
     ]
    },
    {
     "cell_type": "heading",
     "level": 3,
     "metadata": {
      "slideshow": {
       "slide_type": "subslide"
      }
     },
     "source": [
      "DC Component?"
     ]
    },
    {
     "cell_type": "markdown",
     "metadata": {},
     "source": [
      "Let $k = 0$ then perform the integral"
     ]
    },
    {
     "cell_type": "heading",
     "level": 3,
     "metadata": {
      "slideshow": {
       "slide_type": "subslide"
      }
     },
     "source": [
      "DC component!"
     ]
    },
    {
     "cell_type": "markdown",
     "metadata": {},
     "source": [
      "$$C_0 = \\left.\\frac{A}{2\\pi}\\,t\\,\\right|_{-\\pi/w}^{\\pi/w} = \\frac{A}{2\\pi}\\left(\\frac{\\pi}{w}+\\frac{\\pi}{w}\\right)$$\n",
      "\n",
      "or\n",
      "\n",
      "$$C_0 = \\frac{A}{w}$$"
     ]
    },
    {
     "cell_type": "heading",
     "level": 3,
     "metadata": {
      "slideshow": {
       "slide_type": "subslide"
      }
     },
     "source": [
      "Harmonic coefficients?"
     ]
    },
    {
     "cell_type": "markdown",
     "metadata": {},
     "source": [
      "Integrate for $k\\ne 0$"
     ]
    },
    {
     "cell_type": "heading",
     "level": 3,
     "metadata": {
      "slideshow": {
       "slide_type": "subslide"
      }
     },
     "source": [
      "Harmonic coefficients!"
     ]
    },
    {
     "cell_type": "markdown",
     "metadata": {},
     "source": [
      "$$C_k = \\left.\\frac{A}{-jk2\\pi}\\,e^{-jkt}\\,\\right|_{-\\pi/w}^{\\pi/w} = \\frac{A}{k\\pi}\\left(\\frac{e^{jk\\pi/w}-e^{-jk\\pi/w}}{j2}\\right) = \\frac{A}{k\\pi}\\sin\\left(\\frac{k\\pi}{w}\\right)$$\n",
      "\n",
      "$$C_k = \\frac{A}{w}\\frac{sin\\left(k\\pi/w\\right)}{k\\pi/w}$$"
     ]
    },
    {
     "cell_type": "heading",
     "level": 3,
     "metadata": {
      "slideshow": {
       "slide_type": "subslide"
      }
     },
     "source": [
      "Exponential Fourier Series?"
     ]
    },
    {
     "cell_type": "heading",
     "level": 3,
     "metadata": {
      "slideshow": {
       "slide_type": "subslide"
      }
     },
     "source": [
      "Exponential Fourier Series!"
     ]
    },
    {
     "cell_type": "markdown",
     "metadata": {},
     "source": [
      "$$f(t)=\\sum_{k=-\\infty}^{\\infty}\\;\\frac{A}{w}\\,\\frac{\\sin\\left(k\\pi/w\\right)}{k\\pi/w}$$"
     ]
    },
    {
     "cell_type": "heading",
     "level": 3,
     "metadata": {},
     "source": [
      "Effect of pulse width on frequency spectra"
     ]
    },
    {
     "cell_type": "markdown",
     "metadata": {},
     "source": [
      "* Recall pulse width = $T/w$"
     ]
    },
    {
     "cell_type": "heading",
     "level": 3,
     "metadata": {
      "slideshow": {
       "slide_type": "subslide"
      }
     },
     "source": [
      "w = 2"
     ]
    },
    {
     "cell_type": "markdown",
     "metadata": {},
     "source": [
      "$\\omega = 1$ rad/s; $w = 2$; $T = 2\\pi$ s; $T/w = \\pi$ s.\n",
      "\n",
      "<img src=\"files/pictures/sinc2.png\">"
     ]
    },
    {
     "cell_type": "heading",
     "level": 3,
     "metadata": {
      "slideshow": {
       "slide_type": "subslide"
      }
     },
     "source": [
      "w = 5"
     ]
    },
    {
     "cell_type": "markdown",
     "metadata": {},
     "source": [
      "$\\omega = 1$ rad/s; $w = 5$; $T = 2\\pi$ s; $T/w = 2\\pi/5$ s.\n",
      "\n",
      "<img src=\"files/pictures/sinc5.png\">"
     ]
    },
    {
     "cell_type": "heading",
     "level": 3,
     "metadata": {
      "slideshow": {
       "slide_type": "subslide"
      }
     },
     "source": [
      "w = 10"
     ]
    },
    {
     "cell_type": "markdown",
     "metadata": {},
     "source": [
      "$\\omega = 1$ rad/s; $w = 10$; $T = 2\\pi$ s; $T/w = \\pi/5$ s.\n",
      "\n",
      "<img src=\"files/pictures/sinc10.png\">"
     ]
    },
    {
     "cell_type": "heading",
     "level": 3,
     "metadata": {
      "slideshow": {
       "slide_type": "subslide"
      }
     },
     "source": [
      "Implications"
     ]
    },
    {
     "cell_type": "markdown",
     "metadata": {},
     "source": [
      "* As the width of the pulse **reduces** the width of the freqency spectra needed to fully describe the signal **increases** \n",
      "* more bandwidth is needed to transmit the pulse."
     ]
    },
    {
     "cell_type": "markdown",
     "metadata": {
      "slideshow": {
       "slide_type": "skip"
      }
     },
     "source": [
      "**Note**\n",
      "\n",
      "Text book seems to get the wrong results. Karris plots $\\sin(wx)/(wx)$ rather than $\\sin(x/w)/(x/w)$ in producing the diagrams shown in Figs. 7.36&mdash;7-38.\n",
      "\n",
      "However, if you view $\\sin(wx)/wx$ as in indication of the bandwidth needed to trasmit a pulse of width $T/w$ the plots Karris gives make more sense."
     ]
    },
    {
     "cell_type": "heading",
     "level": 3,
     "metadata": {
      "slideshow": {
       "slide_type": "subslide"
      }
     },
     "source": [
      "Example 2"
     ]
    },
    {
     "cell_type": "markdown",
     "metadata": {},
     "source": [
      "Use the result of Example 1 to compute the exponential Fourier series of the impulse train $\\delta(t\\pm 2\\pi k)$ shown below "
     ]
    },
    {
     "cell_type": "heading",
     "level": 3,
     "metadata": {
      "slideshow": {
       "slide_type": "subslide"
      }
     },
     "source": [
      "Solution"
     ]
    },
    {
     "cell_type": "markdown",
     "metadata": {},
     "source": [
      "Take previous result and choose A so that are of pulse is unity. Then let width go to zero. $C_n \\to 1/2\\pi$."
     ]
    },
    {
     "cell_type": "heading",
     "level": 2,
     "metadata": {
      "slideshow": {
       "slide_type": "slide"
      }
     },
     "source": [
      "End of Part 3"
     ]
    },
    {
     "cell_type": "markdown",
     "metadata": {
      "slideshow": {
       "slide_type": "-"
      }
     },
     "source": [
      "*Summary*\n",
      "\n",
      "* Line spectra\n",
      "* Power in periodic signals\n",
      "\n",
      "*Next Time*\n",
      "\n",
      "* The Fourier Transform"
     ]
    },
    {
     "cell_type": "heading",
     "level": 2,
     "metadata": {
      "slideshow": {
       "slide_type": "slide"
      }
     },
     "source": [
      "Home work"
     ]
    },
    {
     "cell_type": "markdown",
     "metadata": {},
     "source": [
      "Compute the exponential Fourier series for the wave forms shown in the last lecture."
     ]
    },
    {
     "cell_type": "heading",
     "level": 2,
     "metadata": {
      "slideshow": {
       "slide_type": "slide"
      }
     },
     "source": [
      "Lab Work"
     ]
    },
    {
     "cell_type": "markdown",
     "metadata": {
      "slideshow": {
       "slide_type": "-"
      }
     },
     "source": [
      "In the lab, on Monday, we will continue to explore Fourier Series and their applications"
     ]
    }
   ],
   "metadata": {}
  }
 ]
}