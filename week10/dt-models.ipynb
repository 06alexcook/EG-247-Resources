{
 "metadata": {
  "name": ""
 },
 "nbformat": 3,
 "nbformat_minor": 0,
 "worksheets": [
  {
   "cells": [
    {
     "cell_type": "heading",
     "level": 1,
     "metadata": {
      "slideshow": {
       "slide_type": "slide"
      }
     },
     "source": [
      "Discrete-Time System Models"
     ]
    },
    {
     "cell_type": "markdown",
     "metadata": {},
     "source": [
      "Dr Chris Jobling ([c.p.jobling@swansea.ac.uk](mailto:c.p.jobling@swansea.ac.uk))<br />Digital Technium 123<br />Office Hours: Thursdays 14:00-15:00\n",
      "\n",
      "You can view the notes for this presentation in [HTML format](http://nbviewer.ipython.org/github/cpjobling/EG-247-Resources/blob/master/week10/dt-models.ipynb) and print using your Brower's print function. The source code of this presentation is available as an interactive [IPython notebook](http://ipython.org/notebook.html) from GitHub: <https://github.com/cpjobling/EG-247-Resources>. The GitHub repository also contains the source code for all the Matlab/Simulink examples."
     ]
    },
    {
     "cell_type": "heading",
     "level": 2,
     "metadata": {
      "slideshow": {
       "slide_type": "slide"
      }
     },
     "source": [
      "Scope and Background Reading"
     ]
    },
    {
     "cell_type": "markdown",
     "metadata": {},
     "source": [
      "This we will explore digital systems and learn more about the z-transfer function model.\n",
      "\n",
      "The material in this presentation and notes is based on Chapter 9 (Starting at Section 9.7) of [Steven T. Karris, Signals and Systems: with Matlab Computation and Simulink Modelling, 5th Edition.](http://site.ebrary.com/lib/swansea/docDetail.action?docID=10547416) from the **Required Reading List**. I have skipped the section on digital state-space models."
     ]
    },
    {
     "cell_type": "heading",
     "level": 2,
     "metadata": {
      "slideshow": {
       "slide_type": "slide"
      }
     },
     "source": [
      "Agenda"
     ]
    },
    {
     "cell_type": "markdown",
     "metadata": {},
     "source": [
      "* Discrete Time Systems\n",
      "* Transfer Functions in the Z-Domain\n",
      "* Modelling digital systems in Matlab/Simulink\n",
      "* Continuous System Equivalents\n",
      "* Example: Digital Butterworth Filter"
     ]
    },
    {
     "cell_type": "heading",
     "level": 2,
     "metadata": {
      "slideshow": {
       "slide_type": "slide"
      }
     },
     "source": [
      "Discrete Time Systems"
     ]
    },
    {
     "cell_type": "markdown",
     "metadata": {},
     "source": [
      "In the lecture that introduced the z-transform we talked about the representation of a discrete-time (DT) system by the model shown below:\n",
      "\n",
      "<img src=\"files/pictures/ct-to-dt.png\">\n",
      "\n",
      "In this session, we want to explore the contents of the central block."
     ]
    },
    {
     "cell_type": "heading",
     "level": 3,
     "metadata": {
      "slideshow": {
       "slide_type": "subslide"
      }
     },
     "source": [
      "DT System as a Sequence Processor"
     ]
    },
    {
     "cell_type": "markdown",
     "metadata": {},
     "source": [
      "* As noted in the previous slide, the discrete time system takes as an input the sequence $x_d[n]$<sup>1</sup>.\n",
      "* It produces another sequence $y_d[n]$ by *processing* the input sequence in some way.\n",
      "* The output sequence is converted into an analogue signal $y(t)$ by a digital to analogue converter."
     ]
    },
    {
     "cell_type": "markdown",
     "metadata": {
      "slideshow": {
       "slide_type": "fragment"
      }
     },
     "source": [
      "<img src=\"files/pictures/sigs.png\">"
     ]
    },
    {
     "cell_type": "heading",
     "level": 3,
     "metadata": {
      "slideshow": {
       "slide_type": "subslide"
      }
     },
     "source": [
      "What is the nature of the DTS?"
     ]
    },
    {
     "cell_type": "markdown",
     "metadata": {},
     "source": [
      "* The discrete time system (DTS) is a block that converts a sequence $x_d[n]$ into another sequence $y_d[n]$\n",
      "* The transformation will be a *difference equation* $h[n]$"
     ]
    },
    {
     "cell_type": "markdown",
     "metadata": {
      "slideshow": {
       "slide_type": "fragment"
      }
     },
     "source": [
      "* By analogy with CT systems, $h[n]$ is the impulse response of the DTS, and $y[n]$ can be obtained by *convolving* $h[n]$ with $x_d[n]$ so:\n",
      "\n",
      "$$y_d[n] = h[n] * x_d[n]$$"
     ]
    },
    {
     "cell_type": "markdown",
     "metadata": {
      "slideshow": {
       "slide_type": "fragment"
      }
     },
     "source": [
      "* Taking the z-transform of $h[n]$ we get $H(z)$, and from the transform properties, convolution of the signal $x_d[n]$ by system $h[n]$ will be *multiplication* of the z-transforms:\n",
      "\n",
      "$$Y_d(z) = H(z) X_d(z)$$"
     ]
    },
    {
     "cell_type": "markdown",
     "metadata": {
      "slideshow": {
       "slide_type": "fragment"
      }
     },
     "source": [
      "* So, what does $h[n]$ and therefore $H(z)$ look like?"
     ]
    },
    {
     "cell_type": "heading",
     "level": 2,
     "metadata": {
      "slideshow": {
       "slide_type": "slide"
      }
     },
     "source": [
      "Transfer Functions in the z-Domain"
     ]
    },
    {
     "cell_type": "markdown",
     "metadata": {},
     "source": [
      "Let us assume that the sequence transformation is a *difference equation* of the form<sup>2</sup>:\n",
      "\n",
      "$$\\begin{array}{l}\n",
      "y[n] + {a_1}y[n - 1] + {a_2}y[n - 2] +  \\cdots  + {a_k}y[n - k]\\\\\n",
      "\\quad  = {b_0}x[n] + {b_1}u[n - 1] + {b_2}u[n - 2] +  \\cdots  + {b_k}u[n - k]\n",
      "\\end{array}$$"
     ]
    },
    {
     "cell_type": "heading",
     "level": 3,
     "metadata": {
      "slideshow": {
       "slide_type": "subslide"
      }
     },
     "source": [
      "Take Z-Transform of both sides"
     ]
    },
    {
     "cell_type": "markdown",
     "metadata": {},
     "source": [
      "From the z-transform properties\n",
      "\n",
      "$$f[n-m] \\Leftrightarrow z^{-m}F(z)$$\n",
      "\n",
      "so...."
     ]
    },
    {
     "cell_type": "markdown",
     "metadata": {
      "slideshow": {
       "slide_type": "fragment"
      }
     },
     "source": [
      "$$Y(z) + a_1z^{-1}Y(z) + a_2z^{-2}Y(z) + \\cdots + a_kz^{-k}Y(z) = ...$$"
     ]
    },
    {
     "cell_type": "markdown",
     "metadata": {
      "slideshow": {
       "slide_type": "fragment"
      }
     },
     "source": [
      "$$b_0 U(z) + b_1z^{-1}U(z) + b_2z^{-2}U(z) + \\cdots + b_kz^{-k}U(z)$$"
     ]
    },
    {
     "cell_type": "heading",
     "level": 3,
     "metadata": {
      "slideshow": {
       "slide_type": "subslide"
      }
     },
     "source": [
      "Gather terms"
     ]
    },
    {
     "cell_type": "markdown",
     "metadata": {
      "slideshow": {
       "slide_type": "fragment"
      }
     },
     "source": [
      "$$\\begin{array}{l}\n",
      "\\left( {1 + {a_1}{z^{ - 1}} + {a_2}{z^{ - 2}} +  \\cdots {a_k}{z^{ - k}}} \\right)Y(z) = \\\\\n",
      "\\quad \\left( {{b_0} + {b_1}{z^{ - 1}} + {b_2}{z^{ - 2}} +  \\cdots {b_k}{z^{ - k}}} \\right)U(z)\n",
      "\\end{array}$$\n",
      "\n",
      "from which ...\n"
     ]
    },
    {
     "cell_type": "markdown",
     "metadata": {
      "slideshow": {
       "slide_type": "fragment"
      }
     },
     "source": [
      "$$Y(z) = \\left(\\frac{b_0 + b_{1}z^{-1} + b_{2}z^{-2} + \\cdots b_{k}z^{-k}}{1 + a_{1}z^{-1} + a_{2}z^{-2} + \\cdots a_{k}z^{-k}\n",
      "}\\right) U(z)$$"
     ]
    },
    {
     "cell_type": "heading",
     "level": 3,
     "metadata": {
      "slideshow": {
       "slide_type": "subslide"
      }
     },
     "source": [
      "Define transfer function"
     ]
    },
    {
     "cell_type": "markdown",
     "metadata": {},
     "source": [
      "We define the *discrete time transfer function* $H(z) := Y(z)/U(z)$ so..."
     ]
    },
    {
     "cell_type": "markdown",
     "metadata": {
      "slideshow": {
       "slide_type": "fragment"
      }
     },
     "source": [
      "$$H(z) = \\frac{Y(z)}{U(z)} = \\frac{b_0 + b_{1}z^{-1} + b_{2}z^{-2} + \\cdots b_{k}z^{-k}}{1 + a_{1}z^{-1} + a_{2}z^{-2} + \\cdots a_{k}z^{-k}\n",
      "}$$\n",
      "\n",
      "\n"
     ]
    },
    {
     "cell_type": "markdown",
     "metadata": {
      "slideshow": {
       "slide_type": "fragment"
      }
     },
     "source": [
      "... or more conventionally<sup>3</sup>:\n",
      "\n",
      "$$H(z) = \\frac{b_0z^k + b_{1}z^{k-1} + b_{2}z^{k-2} + \\cdots b_{k-1}z + b_{k}}{z^k + a_{1}z^{k-1} + a_{2}z^{k-2} + \\cdots a_{k-1} z + a_{k}}$$"
     ]
    },
    {
     "cell_type": "heading",
     "level": 3,
     "metadata": {
      "slideshow": {
       "slide_type": "subslide"
      }
     },
     "source": [
      "DT impulse response"
     ]
    },
    {
     "cell_type": "markdown",
     "metadata": {
      "slideshow": {
       "slide_type": "fragment"
      }
     },
     "source": [
      "The *discrete-time impulse reponse* $h[n]$ is the response of the DT system to the input $x[n] = \\delta[n]$ "
     ]
    },
    {
     "cell_type": "markdown",
     "metadata": {
      "slideshow": {
       "slide_type": "fragment"
      }
     },
     "source": [
      "Last week we showed that $\\mathcal{Z}\\left\\{\\delta[n]\\right\\}$ was defined by the transform pair \n",
      "\n",
      "$$\\delta[n] \\Leftrightarrow ?$$"
     ]
    },
    {
     "cell_type": "markdown",
     "metadata": {
      "slideshow": {
       "slide_type": "fragment"
      }
     },
     "source": [
      "$$\\delta[n] \\Leftrightarrow 1$$"
     ]
    },
    {
     "cell_type": "markdown",
     "metadata": {
      "slideshow": {
       "slide_type": "fragment"
      }
     },
     "source": [
      "\n",
      "\n",
      "so \n",
      "\n",
      "$$h[n] = ...$$"
     ]
    },
    {
     "cell_type": "markdown",
     "metadata": {
      "slideshow": {
       "slide_type": "fragment"
      }
     },
     "source": [
      "$$h[n] = \\mathcal{Z}^{-1}\\left\\{H(z).1\\right\\} = \\mathcal{Z}^{-1}\\left\\{H(z)\\right\\}$$"
     ]
    },
    {
     "cell_type": "heading",
     "level": 3,
     "metadata": {
      "slideshow": {
       "slide_type": "subslide"
      }
     },
     "source": [
      "Example 1"
     ]
    },
    {
     "cell_type": "markdown",
     "metadata": {},
     "source": [
      "Karris Example 9.10:\n",
      "\n",
      "The difference equation describing the input-output relationship of a DT system with zero initial conditions, is:\n",
      "\n",
      "$$y[n] - 0.5 y[n-1] + 0.125 y[n-2] = x[n] + x[n -1]$$\n",
      "\n",
      "Compute:\n",
      "\n",
      "1. The transfer function $H(z)$\n",
      "2. The DT impulse response $h[n]$\n",
      "3. The response $y[n]$ when the input $x[n]$ is the DT unit step $u_0[n]$"
     ]
    },
    {
     "cell_type": "heading",
     "level": 3,
     "metadata": {
      "slideshow": {
       "slide_type": "subslide"
      }
     },
     "source": [
      "1. The transfer function"
     ]
    },
    {
     "cell_type": "markdown",
     "metadata": {},
     "source": [
      "$$H(z) = \\frac{Y(z)}{U(z)} = ...?$$"
     ]
    },
    {
     "cell_type": "heading",
     "level": 3,
     "metadata": {
      "slideshow": {
       "slide_type": "subslide"
      }
     },
     "source": [
      "1. Solution"
     ]
    },
    {
     "cell_type": "markdown",
     "metadata": {},
     "source": [
      "$$H(z) = \\frac{Y(z)}{X(z)} = \\frac{z^2 + z}{z^2 - 0.5z + 0.125}$$"
     ]
    },
    {
     "cell_type": "heading",
     "level": 3,
     "metadata": {
      "slideshow": {
       "slide_type": "subslide"
      }
     },
     "source": [
      "2. The DT impulse response"
     ]
    },
    {
     "cell_type": "markdown",
     "metadata": {
      "slideshow": {
       "slide_type": "fragment"
      }
     },
     "source": [
      "Start with:\n",
      "\n",
      "$$\\frac{H(z)}{z} = \\frac{z - 1}{z^2 + 0.5 z + 0.125}$$"
     ]
    },
    {
     "cell_type": "heading",
     "level": 3,
     "metadata": {
      "slideshow": {
       "slide_type": "subslide"
      }
     },
     "source": [
      "2. Solution"
     ]
    },
    {
     "cell_type": "markdown",
     "metadata": {},
     "source": [
      "$$h[n] = {\\left( {\\frac{{\\sqrt 2 }}{4}} \\right)^n}\\left( {\\cos \\left( {\\frac{{n\\pi }}{4}} \\right) + 5\\sin \\left( {\\frac{n\\pi }{4}} \\right)} \\right)$$\n"
     ]
    },
    {
     "cell_type": "heading",
     "level": 3,
     "metadata": {
      "slideshow": {
       "slide_type": "subslide"
      }
     },
     "source": [
      "Matlab Solution"
     ]
    },
    {
     "cell_type": "markdown",
     "metadata": {
      "slideshow": {
       "slide_type": "subslide"
      }
     },
     "source": [
      "See [dtm_ex1_2.m](files/matlab/dtm_ex1_2.m):\n",
      "    \n",
      "<img src=\"files/pictures/dtm_ex1_2_1.png\">"
     ]
    },
    {
     "cell_type": "markdown",
     "metadata": {
      "slideshow": {
       "slide_type": "subslide"
      }
     },
     "source": [
      "<img src=\"files/pictures/dtm_ex1_2_2.png\">"
     ]
    },
    {
     "cell_type": "heading",
     "level": 3,
     "metadata": {
      "slideshow": {
       "slide_type": "subslide"
      }
     },
     "source": [
      "3. The DT step response"
     ]
    },
    {
     "cell_type": "markdown",
     "metadata": {
      "slideshow": {
       "slide_type": "fragment"
      }
     },
     "source": [
      "$$Y(z) = H(z)X(z)$$"
     ]
    },
    {
     "cell_type": "markdown",
     "metadata": {
      "slideshow": {
       "slide_type": "fragment"
      }
     },
     "source": [
      "$$u_0[n] \\Leftrightarrow \\frac{z}{z - 1}$$"
     ]
    },
    {
     "cell_type": "markdown",
     "metadata": {
      "slideshow": {
       "slide_type": "fragment"
      }
     },
     "source": [
      "$$\\begin{array}{lcl}\n",
      "Y(z) = H(z){U_0}(z) &=& \\frac{{{z^2} + z}}{{{z^2} + 0.5z + 0.125}}.\\frac{z}{{z - 1}}\\\\\n",
      " & = & \\frac{{z({z^2} + z)}}{{({z^2} + 0.5z + 0.125)(z - 1)}}\n",
      "\\end{array}$$"
     ]
    },
    {
     "cell_type": "markdown",
     "metadata": {
      "slideshow": {
       "slide_type": "fragment"
      }
     },
     "source": [
      "$$\\frac{Y(z)}{z} = \\frac{z^2 + z}{(z^2 + 0.5 z + 0.125)(z - 1)}$$"
     ]
    },
    {
     "cell_type": "heading",
     "level": 3,
     "metadata": {
      "slideshow": {
       "slide_type": "subslide"
      }
     },
     "source": [
      "3. Solution"
     ]
    },
    {
     "cell_type": "markdown",
     "metadata": {},
     "source": [
      "$$y[n] = \\left(3.2 - {\\left( {\\frac{{\\sqrt 2 }}{4}} \\right)^n}\\left( {2.2 \\cos \\left( {\\frac{{n\\pi }}{4}} \\right) + 0.6\\sin \\left( {\\frac{n\\pi }{4}} \\right)} \\right)\\right) u_0[n]$$"
     ]
    },
    {
     "cell_type": "heading",
     "level": 3,
     "metadata": {
      "slideshow": {
       "slide_type": "subslide"
      }
     },
     "source": [
      "Matlab Solution"
     ]
    },
    {
     "cell_type": "markdown",
     "metadata": {
      "slideshow": {
       "slide_type": "subslide"
      }
     },
     "source": [
      "See [dtm_ex1_3.m](files/matlab/dtm_ex1_3.m):\n",
      "    \n",
      "<img src=\"files/pictures/dtm_ex1_3_1.png\">"
     ]
    },
    {
     "cell_type": "heading",
     "level": 2,
     "metadata": {
      "slideshow": {
       "slide_type": "slide"
      }
     },
     "source": [
      "Modelling DT systems in Matlab and Simulink"
     ]
    },
    {
     "cell_type": "heading",
     "level": 3,
     "metadata": {
      "slideshow": {
       "slide_type": "subslide"
      }
     },
     "source": [
      "Matlab"
     ]
    },
    {
     "cell_type": "markdown",
     "metadata": {},
     "source": [
      "Code extracted from [dtm_ex1_3.m](files/matlab/dtm_ex1_3.m):\n",
      "\n",
      "    Ts = 1;\n",
      "    z = tf('z', Ts)\n",
      "    Hz = (z^2 + z)/(z^2 - 0.5 * z + 0.125)\n",
      "    step(Hz)\n",
      "    grid\n",
      "    title('Example 1 - Part 3 - As Analogue Signal')\n",
      "    xlabel('nTs [s]')\n",
      "    ylabel('Step response y(t)')\n",
      "    axis([0,15,0,3.5])"
     ]
    },
    {
     "cell_type": "markdown",
     "metadata": {
      "slideshow": {
       "slide_type": "subslide"
      }
     },
     "source": [
      "<img src=\"files/pictures/dtm_ex1_3_2.png\">"
     ]
    },
    {
     "cell_type": "heading",
     "level": 3,
     "metadata": {
      "slideshow": {
       "slide_type": "subslide"
      }
     },
     "source": [
      "Simulink Model"
     ]
    },
    {
     "cell_type": "markdown",
     "metadata": {},
     "source": [
      "See [dtm.slx](files/matlab/dtm.slx):\n",
      "\n",
      "<img src=\"files/pictures/simulink_model.png\">"
     ]
    },
    {
     "cell_type": "markdown",
     "metadata": {
      "slideshow": {
       "slide_type": "subslide"
      }
     },
     "source": [
      "<img src=\"files/pictures/scope.png\">"
     ]
    },
    {
     "cell_type": "heading",
     "level": 2,
     "metadata": {
      "slideshow": {
       "slide_type": "slide"
      }
     },
     "source": [
      "Converting Continuous Time Systems to Discrete Time Systems"
     ]
    },
    {
     "cell_type": "markdown",
     "metadata": {},
     "source": [
      "* In analogue electronics, to implement a filter we would need to resort to op-amp circuits with resistors, capacitors and inductors acting as energy dissipation, storage and release devices.\n",
      "* In modern digital electronics, it is often more convenient to take the original transfer function $H(s)$ and produce an equivalent $H(z)$.\n",
      "* We can then determine a *difference equation* that will respresent $h[n]$ and implement this as *computer algorithm*.\n",
      "* Simple storage of past values in memory becomes the repository of past state rather than the integrators and derivative circuits that are needed in the analogue world. \n",
      "* To achieve this, all we need is to be able to do is to *sample* and *process* the signals quickly enough to avoid violating Nyquist-Shannon's sampling theorem."
     ]
    },
    {
     "cell_type": "heading",
     "level": 3,
     "metadata": {
      "slideshow": {
       "slide_type": "subslide"
      }
     },
     "source": [
      "Continuous System Equivalents"
     ]
    },
    {
     "cell_type": "markdown",
     "metadata": {},
     "source": [
      "* There is no digital system that uniquely represents a continuous system\n",
      "* This is because as we are sampling, we only have knowledge of signals being processed at the sampling instants, and need to *reconstruct* the inter-sample behaviour.\n",
      "* In practice, only a small number of transormations are used.\n",
      "* The derivation of these is beyond the scope of this module, but we'll mention the ones that Matlab provides in a function called `c2d`"
     ]
    },
    {
     "cell_type": "heading",
     "level": 3,
     "metadata": {
      "slideshow": {
       "slide_type": "subslide"
      }
     },
     "source": [
      "Matlab c2d function"
     ]
    },
    {
     "cell_type": "markdown",
     "metadata": {},
     "source": [
      "This is what the help function says:\n",
      "\n",
      "    >> help c2d\n",
      "    SYSD = c2d(SYSC,TS,METHOD) computes a discrete-time model SYSD with \n",
      "        sampling time TS that approximates the continuous-time model SYSC.\n",
      "        The string METHOD selects the discretization method among the following:\n",
      "           'zoh'       Zero-order hold on the inputs\n",
      "           'foh'       Linear interpolation of inputs\n",
      "           'impulse'   Impulse-invariant discretization\n",
      "           'tustin'    Bilinear (Tustin) approximation.\n",
      "           'matched'   Matched pole-zero method (for SISO systems only).\n",
      "        The default is 'zoh' when METHOD is omitted. The sampling time TS should \n",
      "        be specified in the time units of SYSC (see \"TimeUnit\" property).\n",
      "    ..."
     ]
    },
    {
     "cell_type": "heading",
     "level": 3,
     "metadata": {
      "slideshow": {
       "slide_type": "subslide"
      }
     },
     "source": [
      "Example 2"
     ]
    },
    {
     "cell_type": "markdown",
     "metadata": {},
     "source": [
      "* Design a 2nd-order butterworth anti-aliasing filter with transfer function $H(s)$ for use in sampling music. \n",
      "* The cut-off frequency $\\omega_c = 20$&nbsp;kHz and the filter should have an attenuation of at least $-80$&nbsp;dB in the stop band. \n",
      "* Choose a suitable sampling frequency for the audio signal and give the transfer function $H(z)$ and an algorithm to implement $h[n]$"
     ]
    },
    {
     "cell_type": "heading",
     "level": 3,
     "metadata": {
      "slideshow": {
       "slide_type": "subslide"
      }
     },
     "source": [
      "Solution"
     ]
    },
    {
     "cell_type": "markdown",
     "metadata": {},
     "source": [
      "See [digi_butter.m](files/matlab/digi_butter.m):\n",
      "\n",
      "$$\\omega_c = 2\\pi f_c = 2\\times \\pi \\times 20\\times 10^3  = 125.6637\\times 10^3\\;\\mathrm{rad/s}$$"
     ]
    },
    {
     "cell_type": "markdown",
     "metadata": {
      "slideshow": {
       "slide_type": "fragment"
      }
     },
     "source": [
      "From the lecture on filters, we know the 2nd-order butterworth filter has transfer function:\n",
      "\n",
      "$$H(s) = \\frac{{Y(s)}}{{U(s)}} = {\\rm{ }}\\frac{{\\omega _c^2}}{{{s^2} + {\\omega _c}\\sqrt 2 \\,s + \\omega _c^2}}$$"
     ]
    },
    {
     "cell_type": "markdown",
     "metadata": {
      "slideshow": {
       "slide_type": "fragment"
      }
     },
     "source": [
      "Substituting for $\\omega_c = 125.6637\\times 10^3 $ this is ...?"
     ]
    },
    {
     "cell_type": "markdown",
     "metadata": {
      "slideshow": {
       "slide_type": "fragment"
      }
     },
     "source": [
      "$$H(s) = \\frac{{15.79 \\times {{10}^9}}}{{{s^2} + 177.7 \\times {{10}^3}s + 15.79 \\times {{10}^9}}}$$"
     ]
    },
    {
     "cell_type": "heading",
     "level": 3,
     "metadata": {
      "slideshow": {
       "slide_type": "subslide"
      }
     },
     "source": [
      "Bode plot"
     ]
    },
    {
     "cell_type": "markdown",
     "metadata": {},
     "source": [
      "Matlab:\n",
      "\n",
      "    wc = 2*pi*20e3;\n",
      "    Hs = tf(wc^2,[1 wc*sqrt(2), wc^2]);\n",
      "    bode(Hs,{1e4,1e8})\n",
      "    grid"
     ]
    },
    {
     "cell_type": "markdown",
     "metadata": {
      "slideshow": {
       "slide_type": "fragment"
      }
     },
     "source": [
      "<img src=\"files/pictures/bode.png\">"
     ]
    },
    {
     "cell_type": "heading",
     "level": 3,
     "metadata": {
      "slideshow": {
       "slide_type": "subslide"
      }
     },
     "source": [
      "Sampling Frequency"
     ]
    },
    {
     "cell_type": "markdown",
     "metadata": {
      "slideshow": {
       "slide_type": "fragment"
      }
     },
     "source": [
      "From the bode diagram, the frequency at which $|H(j\\omega)|$ is $-80$&nbsp;dB is approx $12.6\\times 10^6$&nbsp;rad/s.\n",
      "\n",
      "To avoid aliasing, we should choose a sampling frequency twice this = ?"
     ]
    },
    {
     "cell_type": "markdown",
     "metadata": {
      "slideshow": {
       "slide_type": "fragment"
      }
     },
     "source": [
      "So sampling frequency $\\omega_s = 2\\times 12.6\\times 10^6 = 25.2\\times 10^6$&nbsp;rad/s.\n",
      "\n",
      "Sampling frequency in Hz $f_s$ = ?"
     ]
    },
    {
     "cell_type": "markdown",
     "metadata": {
      "slideshow": {
       "slide_type": "fragment"
      }
     },
     "source": [
      "$$f_s = \\omega_s/(2\\pi) = 25.2\\times 10^6/(2\\times \\pi) = 40.1\\;\\mathrm{Mhz}$$\n",
      "\n",
      "Sampling time $T_s = ?$"
     ]
    },
    {
     "cell_type": "markdown",
     "metadata": {
      "slideshow": {
       "slide_type": "fragment"
      }
     },
     "source": [
      "$$T_s = 1/f_s \\approx 0.25\\;\\mu\\mathrm{s}$$"
     ]
    },
    {
     "cell_type": "heading",
     "level": 3,
     "metadata": {
      "slideshow": {
       "slide_type": "subslide"
      }
     },
     "source": [
      "Digital Butterworth"
     ]
    },
    {
     "cell_type": "markdown",
     "metadata": {},
     "source": [
      "\n",
      "    >> Hz = c2d(Hs, Ts) % zero-order-hold equivalent\n",
      "    \n",
      "    Hz =\n",
      "     \n",
      "      0.0004836 z + 0.0004765\n",
      "      -----------------------\n",
      "      z^2 - 1.956 z + 0.9567\n",
      "     \n",
      "    Sample time: 2.4933e-07 seconds\n",
      "    Discrete-time transfer function."
     ]
    },
    {
     "cell_type": "heading",
     "level": 3,
     "metadata": {
      "slideshow": {
       "slide_type": "subslide"
      }
     },
     "source": [
      "Step response"
     ]
    },
    {
     "cell_type": "markdown",
     "metadata": {},
     "source": [
      "<img src=\"files/pictures/b_step.png\">"
     ]
    },
    {
     "cell_type": "heading",
     "level": 3,
     "metadata": {
      "slideshow": {
       "slide_type": "subslide"
      }
     },
     "source": [
      "Algorithm"
     ]
    },
    {
     "cell_type": "markdown",
     "metadata": {
      "slideshow": {
       "slide_type": "fragment"
      }
     },
     "source": [
      "From previous result:\n",
      "\n",
      "$$H(z) = \\frac{Y(z)}{U(z)} = \\frac{486.6\\times 10^{-6}z +  476.5\\times 10^{-6}}{z^2 - 1.956z + 0.9567}$$\n",
      "\n",
      "Dividing top and bottom by $z^2$ ..."
     ]
    },
    {
     "cell_type": "markdown",
     "metadata": {
      "slideshow": {
       "slide_type": "fragment"
      }
     },
     "source": [
      "$$H(z) = \\frac{Y(z)}{U(z)} = \\frac{486.6\\times 10^{-6}z^{-1} +  476.5\\times 10^{-6}z^{-2}}{1 - 1.956z^{-1} + 0.9567z^{-2}}$$\n",
      "\n",
      "expanding out ..."
     ]
    },
    {
     "cell_type": "markdown",
     "metadata": {
      "slideshow": {
       "slide_type": "fragment"
      }
     },
     "source": [
      "$$\\begin{array}{l}\n",
      "Y(z) - 1.956{z^{ - 1}}Y(z) + 0.9567{z^{ - 2}}Y(z) = \\\\\n",
      "\\quad 486.6 \\times {10^{ - 6}}{z^{ - 1}}U(z) + 476.5 \\times {10^{ - 6}}{z^{ - 2}}U(z)\n",
      "\\end{array}$$\n",
      "\n",
      "Inverse z-transform gives ..."
     ]
    },
    {
     "cell_type": "heading",
     "level": 3,
     "metadata": {
      "slideshow": {
       "slide_type": "subslide"
      }
     },
     "source": [
      "Algorithm ... continued"
     ]
    },
    {
     "cell_type": "markdown",
     "metadata": {
      "slideshow": {
       "slide_type": "-"
      }
     },
     "source": [
      "$$\\begin{array}{l}\n",
      "y[n] - 1.956y[n - 1] + 0.9567y[n - 2] = \\\\\n",
      "\\quad 486.6 \\times {10^{ - 6}}u[n - 1] + 476.5 \\times {10^{ - 6}}u[n - 2]\n",
      "\\end{array}$$\n",
      "\n",
      "in algorithmic form (compute $y[n]$ from past values of $u$ and $y$) ..."
     ]
    },
    {
     "cell_type": "markdown",
     "metadata": {
      "slideshow": {
       "slide_type": "fragment"
      }
     },
     "source": [
      "$$\\begin{array}{l}\n",
      "y[n] = 1.956y[n - 1] - 0.9567y[n - 2] + 486.6 \\times {10^{ - 6}}u[n - 1] + ...\\\\\n",
      "\\quad 476.5 \\times {10^{ - 6}}u[n - 2]\n",
      "\\end{array}$$"
     ]
    },
    {
     "cell_type": "markdown",
     "metadata": {
      "slideshow": {
       "slide_type": "fragment"
      }
     },
     "source": [
      "Now convert to code"
     ]
    },
    {
     "cell_type": "heading",
     "level": 3,
     "metadata": {
      "slideshow": {
       "slide_type": "subslide"
      }
     },
     "source": [
      "Convert to code"
     ]
    },
    {
     "cell_type": "markdown",
     "metadata": {
      "slideshow": {
       "slide_type": "fragment"
      }
     },
     "source": [
      "To implement:\n",
      "$$y[n] = 1.956 y[n-1] - 0.9567 y[n - 2] + 486.6\\times 10^{-6} u[n-1] + 476.5\\times 10^{-6} u[n-2]$$"
     ]
    },
    {
     "cell_type": "markdown",
     "metadata": {
      "slideshow": {
       "slide_type": "fragment"
      }
     },
     "source": [
      "    /* Initialize */\n",
      "    ynm1 = 0; ynm2 = 0; unm1 = 0; unm2 = 0;\n",
      "    while (true) {\n",
      "        un = read_adc;\n",
      "        yn = 1.956*ynm1 - 0.9567*ynm2 + 486.6e-6*unm1 + 476.5e-6*unm2;\n",
      "        write_dac(yn);\n",
      "        /* store past values */\n",
      "        ynm2 = ynm1; ynm1 = yn;\n",
      "        unm2 = unm1; unm1 = un;\n",
      "    }"
     ]
    },
    {
     "cell_type": "heading",
     "level": 3,
     "metadata": {
      "slideshow": {
       "slide_type": "subslide"
      }
     },
     "source": [
      "Comments"
     ]
    },
    {
     "cell_type": "markdown",
     "metadata": {},
     "source": [
      "PC soundcards can sample audio at 44.1 kHz so this implies that the anti-aliasing filter is much sharper than this one as $f_s/2 = 22.05$ kHz.\n",
      "\n",
      "You might wish to find out what order butterworth filter would be needed to have $f_c = 20$ kHz and $f_{\\mathrm{stop}}$ of 22.05 kHz."
     ]
    },
    {
     "cell_type": "heading",
     "level": 2,
     "metadata": {
      "slideshow": {
       "slide_type": "slide"
      }
     },
     "source": [
      "Summary"
     ]
    },
    {
     "cell_type": "markdown",
     "metadata": {},
     "source": [
      "* Discrete Time Systems\n",
      "* Transfer Functions in the Z-Domain\n",
      "* Modelling digital systems in Matlab/Simulink\n",
      "* Continuous System Equivalents\n",
      "* Example: Digital Butterworth Filter"
     ]
    },
    {
     "cell_type": "heading",
     "level": 2,
     "metadata": {
      "slideshow": {
       "slide_type": "slide"
      }
     },
     "source": [
      "Homework"
     ]
    },
    {
     "cell_type": "markdown",
     "metadata": {},
     "source": [
      "You should be able to tackle the remaining end of chapter exercises 8-11 (Section 9.10) from Karris. Don't look at the answers until you have attempted the problems."
     ]
    },
    {
     "cell_type": "heading",
     "level": 2,
     "metadata": {
      "slideshow": {
       "slide_type": "slide"
      }
     },
     "source": [
      "The End?"
     ]
    },
    {
     "cell_type": "markdown",
     "metadata": {},
     "source": [
      "* This concludes this module. \n",
      "* There is some material that I have not covered, most notably **Discrete Fourier Transform**.\n",
      "* This is covered in Karris Chapter 10 and Boulet. It will not be examined this year!\n",
      "* There is a significant amount of additional information about **Filter Design** (including the use of Matlab for this) in Chapter 11 of Karris."
     ]
    }
   ],
   "metadata": {}
  }
 ]
}