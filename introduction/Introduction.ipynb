{
 "metadata": {
  "celltoolbar": "Slideshow",
  "name": "",
  "signature": "sha256:8f885f93f070ada4b3345e9063ded531c78ff6bd26d697ac39bf71701a08beb2"
 },
 "nbformat": 3,
 "nbformat_minor": 0,
 "worksheets": [
  {
   "cells": [
    {
     "cell_type": "heading",
     "level": 1,
     "metadata": {
      "slideshow": {
       "slide_type": "slide"
      }
     },
     "source": [
      "EG-247 Signals and Systems"
     ]
    },
    {
     "cell_type": "markdown",
     "metadata": {},
     "source": [
      "Dr Chris Jobling ([c.p.jobling@swansea.ac.uk](mailto:c.p.jobling@swansea.ac.uk))<br />Digital Technium 123<br />Office Hours: Thursdays 14:00-15:00\n",
      "\n",
      "You can view the notes for this presentation in [HTML](http://nbviewer.ipython.org/github/cpjobling/EG-247-Resources/blob/master/introduction/Introduction.ipynb) and [PDF](http://cpjobling.github.io/EG-247-Resources/introduction/Introduction.pdf). \n",
      "\n",
      "The source code of this presentation is available as an interactive [IPython notebook](http://ipython.org/notebook.html) from GitHub: <https://github.com/cpjobling/EG-247-Resources>. \n",
      "\n",
      "The GitHub repository also contains the source code for all the Matlab/Simulink examples and the Laboratory Exercises."
     ]
    },
    {
     "cell_type": "heading",
     "level": 2,
     "metadata": {
      "slideshow": {
       "slide_type": "slide"
      }
     },
     "source": [
      "Agenda"
     ]
    },
    {
     "cell_type": "markdown",
     "metadata": {
      "slideshow": {
       "slide_type": "fragment"
      }
     },
     "source": [
      "* <h3>Introduction to the Module</h3>"
     ]
    },
    {
     "cell_type": "markdown",
     "metadata": {
      "slideshow": {
       "slide_type": "fragment"
      }
     },
     "source": [
      "* <h3>Activities in Week 1</h3>"
     ]
    },
    {
     "cell_type": "markdown",
     "metadata": {
      "slideshow": {
       "slide_type": "fragment"
      }
     },
     "source": [
      "* <h3>Introducing Signals and Systems</h3>"
     ]
    },
    {
     "cell_type": "markdown",
     "metadata": {
      "slideshow": {
       "slide_type": "fragment"
      }
     },
     "source": [
      "* <h3>Preparing for Second Session</h3>"
     ]
    },
    {
     "cell_type": "heading",
     "level": 2,
     "metadata": {
      "slideshow": {
       "slide_type": "slide"
      }
     },
     "source": [
      "Introduction to the Module"
     ]
    },
    {
     "cell_type": "markdown",
     "metadata": {},
     "source": [
      "Refer to the Blackboard site\n",
      "\n",
      "* The Approach\n",
      "* The Syllabus\n",
      "* The Learning Outcomes\n",
      "* The Reading List\n",
      "* The Assessment"
     ]
    },
    {
     "cell_type": "heading",
     "level": 2,
     "metadata": {
      "slideshow": {
       "slide_type": "slide"
      }
     },
     "source": [
      "Activities in Week 1"
     ]
    },
    {
     "cell_type": "markdown",
     "metadata": {},
     "source": [
      "* *Session 1*:\n",
      "This Introduction based on Chapter 1 of Signals and Systems for Dummies (SS4D) by Mark Wickert [available as a free sample](http://www.dummies.com/store/product/Signals-and-Systems-For-Dummies.productCd-111847581X.html)\n",
      "* *Session 2*: Elementary Signals (Thursday 1:00 pm, Faraday J) based on Chapter 1 of Required Text [Signals and Systems with Matlab Computing and Simulink Modeling](http://site.ebrary.com/lib/swansea/docDetail.action?docID=10547416) by Stephen Karris (available as an e-Book)\n",
      "* *Lab 1*: Matlab for Signals and Systems (Week on Friday, 13th February, 9-11 am, PC Lab 002 Digitial Technium)"
     ]
    },
    {
     "cell_type": "heading",
     "level": 2,
     "metadata": {
      "slideshow": {
       "slide_type": "slide"
      }
     },
     "source": [
      "Introducing Signals and Systems"
     ]
    },
    {
     "cell_type": "heading",
     "level": 2,
     "metadata": {
      "slideshow": {
       "slide_type": "slide"
      }
     },
     "source": [
      "Continuous-time signals"
     ]
    },
    {
     "cell_type": "markdown",
     "metadata": {
      "slideshow": {
       "slide_type": "-"
      }
     },
     "source": [
      "Continuous signals are representated mathematically by functions which vary continuously with time. Sinusoidal signals (e.g. AC) are pretty fundamental in Electrical Engineering. The mathematical model of a sinusoidal signal is $x(t) = A \\cos (2\\pi f_0 t - \\phi)$. \n",
      "\n",
      "* What is $A$?\n",
      "* What is $f_0$?\n",
      "* What is $\\phi$?\n",
      "* What is the period $T_0$ of this signal?\n"
     ]
    },
    {
     "cell_type": "markdown",
     "metadata": {},
     "source": [
      "<pre style=\"border: 2px solid blue\">\n",
      "\n",
      "\n",
      "\n",
      "\n",
      "\n",
      "</pre>"
     ]
    },
    {
     "cell_type": "heading",
     "level": 3,
     "metadata": {
      "slideshow": {
       "slide_type": "subslide"
      }
     },
     "source": [
      "Gaining insight using computers"
     ]
    },
    {
     "cell_type": "markdown",
     "metadata": {},
     "source": [
      "To help us answer these questions, let's use our Mathematical tools to plot a signal like this and explore it. The example we will use is from *Signals and Systems for Dummies* (SS4D: page 12): \n",
      "\n",
      "$$3\\cos(2\\pi\\cdot 2t - 3\\pi/4)$$\n"
     ]
    },
    {
     "cell_type": "heading",
     "level": 3,
     "metadata": {
      "slideshow": {
       "slide_type": "subslide"
      }
     },
     "source": [
      "Wolfram|Alpha"
     ]
    },
    {
     "cell_type": "markdown",
     "metadata": {},
     "source": [
      "Here's the link: <http://www.wolframalpha.com>\n",
      "\n",
      "Paste this into the search box\n",
      "\n",
      "    plot 3 cos(2 pi 2 t - 3 pi/4) \n",
      "\n"
     ]
    },
    {
     "cell_type": "heading",
     "level": 3,
     "metadata": {
      "slideshow": {
       "slide_type": "subslide"
      }
     },
     "source": [
      "Matlab"
     ]
    },
    {
     "cell_type": "markdown",
     "metadata": {},
     "source": [
      "In Matlab we would need to tackle this slightly differently. Here's the code:\n",
      "\n",
      "```matlab\n",
      "t = linspace(0, 1, 100);\n",
      "x = 3 * cos(2*pi*2*t - 3*pi/4);\n",
      "plot(t,x)\n",
      "title('A Sinusoidal Signal')\n",
      "xlabel('Time t (s)')\n",
      "ylabel('Amplitude')\n",
      "grid\n",
      "```"
     ]
    },
    {
     "cell_type": "markdown",
     "metadata": {
      "slideshow": {
       "slide_type": "subslide"
      }
     },
     "source": [
      "### IPython and PyLab\n",
      "\n",
      "We can even use [this document](files/Introduction.ipynb) (which is an [IPython Notebook](http://ipython.org/notebook.html)) to compute the sinewave directly.\n",
      "\n",
      "First we have to set things up."
     ]
    },
    {
     "cell_type": "code",
     "collapsed": false,
     "input": [
      "%matplotlib inline\n",
      "from pylab import *"
     ],
     "language": "python",
     "metadata": {
      "slideshow": {
       "slide_type": "fragment"
      }
     },
     "outputs": [],
     "prompt_number": 2
    },
    {
     "cell_type": "markdown",
     "metadata": {
      "slideshow": {
       "slide_type": "fragment"
      }
     },
     "source": [
      "Then we run the plot. The instructions are similar to Matlab:"
     ]
    },
    {
     "cell_type": "code",
     "collapsed": false,
     "input": [
      "t = np.linspace(0, 1, 100)\n",
      "x = 3 * np.cos(2*pi * 3*t - 3*pi/4)\n",
      "\n",
      "plot(t, x)\n",
      "title('A Sinusoidal Signal ')\n",
      "xlabel('Time t (s)')\n",
      "ylabel('Amplitude')\n",
      "grid()"
     ],
     "language": "python",
     "metadata": {
      "slideshow": {
       "slide_type": "fragment"
      }
     },
     "outputs": [
      {
       "metadata": {},
       "output_type": "display_data",
       "png": "[encoded data removed]",
       "text": [
        "<matplotlib.figure.Figure at 0x10db77d90>"
       ]
      }
     ],
     "prompt_number": 3
    },
    {
     "cell_type": "heading",
     "level": 3,
     "metadata": {
      "slideshow": {
       "slide_type": "subslide"
      }
     },
     "source": [
      "Returning to the Question"
     ]
    },
    {
     "cell_type": "markdown",
     "metadata": {
      "slideshow": {
       "slide_type": "-"
      }
     },
     "source": [
      "For the mathematical model of a sinusoidal signal $x(t) = A \\cos (2\\pi f_0 t - \\phi)$ use your insight to answer these questions again: \n",
      "\n",
      "* What is $A$?\n",
      "* What is $f_0$?\n",
      "* What is $\\phi$?\n",
      "* What is the period $T_0$ of this signal?\n",
      "\n",
      "Also, give the actual values, with units, for the variables used in the example $3\\cos(2\\pi\\cdot 2t - 3\\pi/4)$.\n"
     ]
    },
    {
     "cell_type": "markdown",
     "metadata": {},
     "source": [
      "<pre style=\"border: 2px solid blue\">\n",
      "\n",
      "\n",
      "\n",
      "\n",
      "\n",
      "</pre>"
     ]
    },
    {
     "cell_type": "heading",
     "level": 3,
     "metadata": {
      "slideshow": {
       "slide_type": "subslide"
      }
     },
     "source": [
      "Notes"
     ]
    },
    {
     "cell_type": "markdown",
     "metadata": {},
     "source": [
      "* In communications and electronic signal processing, the frequency of sinusoidal signals us usually given in *cycles per second* or Hz. \n",
      "* In mathematics, the frequency is always expressed in *radians per second*. \n",
      "* In some courses, including later in this one and in EG-243 Control Systems, the frequency $2\\pi f_0$ is often called the *natural frequency* and is usually written $\\omega_n$."
     ]
    },
    {
     "cell_type": "markdown",
     "metadata": {
      "slideshow": {
       "slide_type": "subslide"
      }
     },
     "source": [
      "### Exercises\n",
      "\n",
      "* Use any or all of computing tools that you have access to to explore other sinusoids. Change the values of the variables and explain what happens. \n",
      "* Try adding sinusoids of different amplitudes and different frequencies together and see what happens.\n"
     ]
    },
    {
     "cell_type": "heading",
     "level": 2,
     "metadata": {
      "slideshow": {
       "slide_type": "slide"
      }
     },
     "source": [
      "Continuous-time Systems"
     ]
    },
    {
     "cell_type": "markdown",
     "metadata": {},
     "source": [
      "Systems operate on signals. In mathematical terms, a *system* is a function or an *operator*, $H\\{\\}$ that maps the input signal $x(t)$ to an output signal $y(t)$. \n",
      "\n",
      "Mathematically we would write this:\n",
      "\n",
      "$$y(t) = H\\{x(t)\\}.$$"
     ]
    },
    {
     "cell_type": "heading",
     "level": 3,
     "metadata": {
      "slideshow": {
       "slide_type": "subslide"
      }
     },
     "source": [
      "Example"
     ]
    },
    {
     "cell_type": "markdown",
     "metadata": {
      "slideshow": {
       "slide_type": "-"
      }
     },
     "source": [
      "An example of a continuous-time system is an electronic amplifier with a gain of 5 and level shift of 2: $y(t) = H\\{x(t)\\} = 5x(t) + 2$.\n",
      "\n",
      "In this course, we will model such systems as block diagram models in Simulink."
     ]
    },
    {
     "cell_type": "heading",
     "level": 3,
     "metadata": {
      "slideshow": {
       "slide_type": "subslide"
      }
     },
     "source": [
      "Block diagram model in Simulink"
     ]
    },
    {
     "cell_type": "markdown",
     "metadata": {},
     "source": [
      "<img src=\"files/pictures/css.png\">"
     ]
    },
    {
     "cell_type": "markdown",
     "metadata": {},
     "source": [
      "The Similink code can be downloaded from this file [gain_level_shift.slx](files/matlab/gain_level_shift.slx)."
     ]
    },
    {
     "cell_type": "heading",
     "level": 2,
     "metadata": {
      "slideshow": {
       "slide_type": "slide"
      }
     },
     "source": [
      "Discrete-time Signals\n"
     ]
    },
    {
     "cell_type": "markdown",
     "metadata": {},
     "source": [
      "Disrete-time signals are a function of a time index $n$. A discrete-time signal $x[n]$, unlike a continuous-time signal $x(t)$, is only defined at integer values of the independent variable $n$. This means that the signal is only active at specific periods of time. Discrete-time signals can be stored in computer memory."
     ]
    },
    {
     "cell_type": "heading",
     "level": 3,
     "metadata": {
      "slideshow": {
       "slide_type": "subslide"
      }
     },
     "source": [
      "Example"
     ]
    },
    {
     "cell_type": "markdown",
     "metadata": {},
     "source": [
      "Consider the following simple signal, a pulse sequence:$$x[n] = \\left\\{ {\\begin{array}{*{20}{c}}\n",
      "{5,\\;0 \\le n < 10}\\\\\n",
      "{0,\\;{\\rm{otherwise}}\\quad \\;}\n",
      "\\end{array}} \\right.$$\n",
      "We can plot this in IPython and Matlab as a *stem plot*"
     ]
    },
    {
     "cell_type": "markdown",
     "metadata": {
      "slideshow": {
       "slide_type": "subslide"
      }
     },
     "source": [
      "First define the function $x[n]$"
     ]
    },
    {
     "cell_type": "code",
     "collapsed": false,
     "input": [
      "def x(n):\n",
      "    if n < 0 or n >= 10:\n",
      "        return 0\n",
      "    else:\n",
      "        return 5"
     ],
     "language": "python",
     "metadata": {
      "slideshow": {
       "slide_type": "-"
      }
     },
     "outputs": [],
     "prompt_number": 3
    },
    {
     "cell_type": "markdown",
     "metadata": {
      "slideshow": {
       "slide_type": "subslide"
      }
     },
     "source": [
      "Then set up $n$ and reserve some space for storing $x[n]$"
     ]
    },
    {
     "cell_type": "code",
     "collapsed": false,
     "input": [
      "n = np.arange(-15,18)\n",
      "xn = zeros(size(n))"
     ],
     "language": "python",
     "metadata": {},
     "outputs": [],
     "prompt_number": 4
    },
    {
     "cell_type": "markdown",
     "metadata": {
      "slideshow": {
       "slide_type": "subslide"
      }
     },
     "source": [
      "then compute the signal\n"
     ]
    },
    {
     "cell_type": "code",
     "collapsed": false,
     "input": [
      "for i in range(0, size(n)):\n",
      "    xn[i] = x(n[i])"
     ],
     "language": "python",
     "metadata": {},
     "outputs": [],
     "prompt_number": 5
    },
    {
     "cell_type": "markdown",
     "metadata": {
      "slideshow": {
       "slide_type": "subslide"
      }
     },
     "source": [
      "Finally, plot the signal as a *stem* (or *lollipop*) plot"
     ]
    },
    {
     "cell_type": "code",
     "collapsed": false,
     "input": [
      "stem(n,xn)\n",
      "axis([-15,18,0,6])\n",
      "title('Stem Plot for a Discrete Signal')\n",
      "xlabel('Sample n')\n",
      "ylabel('Signal x[n]')\n",
      "grid()"
     ],
     "language": "python",
     "metadata": {},
     "outputs": [
      {
       "metadata": {},
       "output_type": "display_data",
       "png": "[encoded data removed]",
       "text": [
        "<matplotlib.figure.Figure at 0x10c8e7210>"
       ]
      }
     ],
     "prompt_number": 6
    },
    {
     "cell_type": "markdown",
     "metadata": {
      "slideshow": {
       "slide_type": "subslide"
      }
     },
     "source": [
      "The Matlab version is similar and is given in script file [discrete.m](files/matlab/discrete.m) which uses function [x.m](files/matlab/x.m)."
     ]
    },
    {
     "cell_type": "heading",
     "level": 3,
     "metadata": {
      "slideshow": {
       "slide_type": "subslide"
      }
     },
     "source": [
      "Exercise"
     ]
    },
    {
     "cell_type": "markdown",
     "metadata": {
      "slideshow": {
       "slide_type": "-"
      }
     },
     "source": [
      "Draw a digital signal that represents your student number in some way. For example if your number was 765443, then you could generate a signal for which $x[n] = 0$ when $n < 7$, then $x[n] = 7$ for $7$ periods, then $x[n] = 6$ for the next 6 periods, $x[n] = 5$ for 5 periods, and so on. The signal should return to 0 when the last digit has been transmitted. \n",
      "<pre style=\"border: 2px solid blue;\">\n",
      "\n",
      "\n",
      "\n",
      "\n",
      "\n",
      "\n",
      "\n",
      "\n",
      "\n",
      "</pre>"
     ]
    },
    {
     "cell_type": "markdown",
     "metadata": {
      "slideshow": {
       "slide_type": "subslide"
      }
     },
     "source": [
      "To plot this on a computer you would need to transcribe $x[n]$ into an array and then use the \"lollipop\" plot to plot the data. You could just create the array by hand, but you could also create a Matlab or Python function if you would like a challenge."
     ]
    },
    {
     "cell_type": "heading",
     "level": 2,
     "metadata": {
      "slideshow": {
       "slide_type": "slide"
      }
     },
     "source": [
      "Discrete-time Systems\n"
     ]
    },
    {
     "cell_type": "markdown",
     "metadata": {},
     "source": [
      "A discrete-time system, like its continuous-time counterpart, is a function, $H\\{\\}$, that maps the input $x[n]$\ufffc \ufffcto the output $y[n] = H\\{x[n]\\}$. An example of a discrete-time system is the *two-tap* filter:\n",
      "\n",
      "$$y[n] = H\\{x[n]\\} = \\frac{3}{4}x[n] + \\frac{1}{4}x[n-1]$$\n",
      "\n",
      "The term *tap* denotes that output at time instant $n$ is formed from two time instants of the input, $n$ and $n \u2013 1$. Check out a block diagram of a two-tap filter system:\n",
      "\n",
      "<img src=\"files/pictures/ds.png\" width=\"50%\" />\n",
      "\n",
      "This system is available as a Simulink model [discrete_system.slx](files/matlab/discrete_system.slx)\n"
     ]
    },
    {
     "cell_type": "markdown",
     "metadata": {
      "slideshow": {
       "slide_type": "skip"
      }
     },
     "source": [
      "In words, this system scales the present input by 3/4 and adds it to the past value of the input scaled by 1/4. The notion of the past input comes about because \ufffc$x[n - 1]$ is lagging one sample value behind \ufffc$x[n]$. The term *filter* describes the output as an *averaging* of the present input and the previous input. *Averaging* is a form of filtering."
     ]
    },
    {
     "cell_type": "heading",
     "level": 2,
     "metadata": {
      "slideshow": {
       "slide_type": "slide"
      }
     },
     "source": [
      "Signal Classifications"
     ]
    },
    {
     "cell_type": "heading",
     "level": 3,
     "metadata": {
      "slideshow": {
       "slide_type": "subslide"
      }
     },
     "source": [
      "Periodic"
     ]
    },
    {
     "cell_type": "markdown",
     "metadata": {},
     "source": [
      "Signals that repeat over and over are said to be *periodic*. In mathematical terms, a signal is periodic if:\n",
      "\n",
      "* *Continuous signal* $x(t + T) = x(t)$\n",
      "* *Discrete signal* $x[n + N] = x[n]$\n",
      "\n",
      "\ufffc\ufffc\ufffc\ufffc\ufffc\ufffc\ufffc\ufffc\ufffc\ufffc\ufffc\ufffc\ufffc\ufffc\ufffc\ufffc\ufffc\ufffc\ufffc\ufffc\ufffc\ufffc\ufffc\ufffc\ufffc\ufffc\ufffc\ufffc\ufffc\ufffc\ufffc\ufffc\ufffc\ufffc\ufffc\ufffc\ufffc\ufffc\ufffc\ufffc\ufffc\ufffc\ufffc\ufffc\ufffc\ufffc\ufffc\ufffc\ufffc\ufffc\ufffc\ufffc\ufffc\ufffcThe smallest $T$ or $N$ for which the equality holds is the *signal period*. The sinusoidal signal we saw earlier is periodic because of the $\\mod 2\\pi$ property of cosines. The signal of the sinusoid has period 0.5 seconds (s), which turns out to be the reciprocal of the frequency \ufffc $1/f_0$\ufffc \ufffc Hz."
     ]
    },
    {
     "cell_type": "markdown",
     "metadata": {
      "slideshow": {
       "slide_type": "subslide"
      }
     },
     "source": [
      "This Square wave is a 5 Hz waveform sampled at 500 Hz for 1 second"
     ]
    },
    {
     "cell_type": "markdown",
     "metadata": {
      "slideshow": {
       "slide_type": "subslide"
      }
     },
     "source": [
      "*Matlab*\n",
      "\n",
      "```matlab\n",
      "%% A Periodic signal (square wave)\n",
      "t = linspace(0, 1, 500);\n",
      "plot(t, square(2 * pi * 5 * t));\n",
      "ylim([-2, 2]);\n",
      "grid\n",
      "title('A Periodic Signal')\n",
      "xlabel('Time t (s)')\n",
      "ylabel('Amplitude')\n",
      "```\n",
      "<img src=\"files/pictures/squarew.png\">\n",
      "\n",
      "See: [periodic.m](files/matlab/periodic.m)"
     ]
    },
    {
     "cell_type": "heading",
     "level": 3,
     "metadata": {
      "slideshow": {
       "slide_type": "subslide"
      }
     },
     "source": [
      "Question"
     ]
    },
    {
     "cell_type": "markdown",
     "metadata": {},
     "source": [
      "For the example we started with $x(t) = 2 \\cos (2\\pi . 2t + 3\\pi/4)$. Say we sample the cosine wave at 20 times the frequency, what would the sampling period be and what would $N$ be for the sampled waveform?\n",
      "\n"
     ]
    },
    {
     "cell_type": "heading",
     "level": 4,
     "metadata": {
      "slideshow": {
       "slide_type": "fragment"
      }
     },
     "source": [
      "Your Answer"
     ]
    },
    {
     "cell_type": "markdown",
     "metadata": {},
     "source": [
      "<pre style=\"border: 2px solid blue\">\n",
      "\n",
      "\n",
      "\n",
      "\n",
      "</pre>"
     ]
    },
    {
     "cell_type": "heading",
     "level": 3,
     "metadata": {
      "slideshow": {
       "slide_type": "subslide"
      }
     },
     "source": [
      "Aperiodic\n",
      "\n"
     ]
    },
    {
     "cell_type": "markdown",
     "metadata": {},
     "source": [
      "Signals that are *deterministic* (completely determined functions of time) but not periodic are known as *aperiodic*. Point of view matters. If a signal occurs infrequently, you may view it as aperiodic. This is how we generate an aperiodic rectangular pulse of duration $\\tau$ in Matlab:\n",
      "\n",
      "*Matlab*\n",
      "```matlab\n",
      "%% An aperiodic function\n",
      "tau = 1\n",
      "x = linspace(-1,5,1000);\n",
      "y = rectangularPulse(0,tau,x);\n",
      "plot(x,y)\n",
      "ylim([-0.2,1.2])\n",
      "grid\n",
      "title('An Aperiodic Signal')\n",
      "xlabel('Time t (s)')\n",
      "ylabel('Amplitude')\n",
      "```\n",
      "\n",
      "<img src=\"files/pictures/pulse.png\" />\n",
      "\n",
      "See [aperiodic.m](files/matlab/aperiodic.m)"
     ]
    },
    {
     "cell_type": "heading",
     "level": 3,
     "metadata": {
      "slideshow": {
       "slide_type": "subslide"
      }
     },
     "source": [
      "Random"
     ]
    },
    {
     "cell_type": "markdown",
     "metadata": {},
     "source": [
      "A signal is random if one or more signal attributes takes on unpredictable values in a probability sense.\n",
      "\ufffc\ufffc\ufffc\ufffc\ufffc\ufffc\ufffc\ufffc\ufffc\ufffc\ufffc\ufffc\ufffc\ufffc\ufffc\ufffc\ufffc\ufffc\ufffc\ufffc\ufffc\n",
      "Engineers working with communication receivers are concerned with random signals, especially noise.\n",
      "\n",
      "*Matlab*\n",
      "\n",
      "```matlab\n",
      "%% Plot a Random Signal\n",
      "plot(0.5 + 0.25 * rand(100,1))\n",
      "ylim([0,1])\n",
      "grid\n",
      "title('Random Signal')\n",
      "xlabel('Time t (s)')\n",
      "ylabel('Amplitude')\n",
      "```\n",
      "\n",
      "<img src=\"files/pictures/random.png\">\n",
      "\n",
      "See: [random.m](files/matlab/random.m)\n"
     ]
    },
    {
     "cell_type": "heading",
     "level": 2,
     "metadata": {
      "slideshow": {
       "slide_type": "slide"
      }
     },
     "source": [
      "Domains for Signals and Systems"
     ]
    },
    {
     "cell_type": "markdown",
     "metadata": {},
     "source": [
      "Most of the signals we encounter on a daily basis reside in the time domain. They\u2019re functions of independent variable $t$ or $n$. But sometimes when you\u2019re working with continuous-time signals, you may need to transform away from the time domain ($t$) to either the frequency domain ($f$ or $\\omega$) or the [Laplace] $s$-domain ($s$). Similarly, for discrete-time signals, you may need to transform from the discrete-time domain ($n$) to the frequency domain ($\\hat{\\omega}$\ufffc) or the z-domain ($z$).\n",
      "\n",
      "Systems, continuous and discrete, can also be transformed to the frequency and s- and z-domains, respectively. Signals can, in fact, be passed through systems in these alternative domains. When a signal is passed through a system in the frequency domain, for example, the frequency domain output signal can later be returned to the time domain and appear just as if the time- domain version of the system operated on the signal in the time domain.\n",
      "\n",
      "This section briefly introduces the world of signals and systems in the frequency, s-, and z-domains. More on these domains will follow."
     ]
    },
    {
     "cell_type": "heading",
     "level": 3,
     "metadata": {
      "slideshow": {
       "slide_type": "subslide"
      }
     },
     "source": [
      "Viewing Signals in the Frequency Domain"
     ]
    },
    {
     "cell_type": "markdown",
     "metadata": {},
     "source": [
      "Consider the sum of a two-sinusoids signal\n",
      "$$x(t) = \\underbrace {A_1\\cos(2\\pi f_1 t)}_{s_1} + \\underbrace {A_2\\cos(2\\pi f_2 t)}_{s_2}$$\n",
      "\n",
      "<img src=\"files/pictures/twosines.png\">\n",
      "\n",
      "Matlab code: [two_sines.m](files/matlab/two_sines.m)\n",
      "\n",
      "(This example relies on [arrow.m](http://www.mathworks.com/matlabcentral/fileexchange/278-arrow-m) by Erik Johnson available from the Matlab File Exchange.)"
     ]
    },
    {
     "cell_type": "markdown",
     "metadata": {
      "slideshow": {
       "slide_type": "notes"
      }
     },
     "source": [
      "The top waveform plot, denoted $s_1$, is a single sinusoid at frequency $f_1$ and peak amplitude $A_1$. The waveform repeats every period $T_1 = 1/f_1$. The second waveform plot, denoted $s_2$, is a single sinusoid at frequency $f_2 > f_1$ and peak amplitude $A_2 < A_1$. The sum signal, $s_1 + s_2$, in the time domain is a squiggly line (third waveform plot), but the amplitudes and frequencies (periods) of the sinusoids aren\u2019t clear here as they are in the first two plots. The frequency spectrum (bottom plot) reveals that $x(t)$ is composed of just two sinusoids, with both the frequencies and amplitudes discernible.\n",
      "\n",
      "Think about tuning in a radio station. Stations are located at different center frequencies. The stations don\u2019t interfere with one another because they\u2019re separated from each other in the frequency domain. In the frequency spectrum plot, imagine that $f_1$ and $f_2$ are the signals from two radio stations, viewed in the frequency domain. You can design a receiving system to filter $s_1$ from $s_1 + s_2$. The filter is designed to pass $s_1$ and block $s_2$."
     ]
    },
    {
     "cell_type": "heading",
     "level": 3,
     "metadata": {
      "slideshow": {
       "slide_type": "subslide"
      }
     },
     "source": [
      "Fourier Transform"
     ]
    },
    {
     "cell_type": "markdown",
     "metadata": {},
     "source": [
      "We use the *Fourier transform* to move away from the time domain and into the frequency domain. To get back to the time domain, use the *inverse Fourier transform*. We will found out more about these transforms in this module."
     ]
    },
    {
     "cell_type": "heading",
     "level": 3,
     "metadata": {
      "slideshow": {
       "slide_type": "subslide"
      }
     },
     "source": [
      "Laplace and Z-Transform Domains"
     ]
    },
    {
     "cell_type": "markdown",
     "metadata": {},
     "source": [
      "From the time domain to the frequency domain, only one independent variable, $t \\to f$, exists. When a signal is transformed to the *s*-domain, it becomes a function of a complex variable \ufffc$s=\\sigma + j\\omega$. The two variables (real and imaginary parts) describe a location in the *s*-plane.\n",
      "\n",
      "In addition to visualization properties, the *s*-domain reduces differential equation solving to algebraic manipulation. For discrete-time signals, the *z*-transform accomplishes the same thing, except differential equations are replaced by difference equations."
     ]
    },
    {
     "cell_type": "heading",
     "level": 2,
     "metadata": {
      "slideshow": {
       "slide_type": "slide"
      }
     },
     "source": [
      "Systems Thinking and Systems Design"
     ]
    },
    {
     "cell_type": "markdown",
     "metadata": {},
     "source": [
      "See section **Testing Product Concepts with Behavioral Level Modeling** from Chapter 1 of SS4D (pages 18--20) and summarize this for yourself.\n",
      "\n",
      "* We will use *behavioural modelling*\n",
      "* We will rely on *abstraction*\n",
      "* We work *top-down*\n",
      "* We make use of *mathematics* and *mathematical software*."
     ]
    },
    {
     "cell_type": "heading",
     "level": 2,
     "metadata": {
      "slideshow": {
       "slide_type": "slide"
      }
     },
     "source": [
      "Familiar Signals and Systems"
     ]
    },
    {
     "cell_type": "markdown",
     "metadata": {},
     "source": [
      "See Chapter 1 of SS4D for notes and details."
     ]
    },
    {
     "cell_type": "heading",
     "level": 3,
     "metadata": {
      "slideshow": {
       "slide_type": "subslide"
      }
     },
     "source": [
      "MP3 Player"
     ]
    },
    {
     "cell_type": "markdown",
     "metadata": {},
     "source": [
      "<img src=\"files/pictures/mp3.png\">"
     ]
    },
    {
     "cell_type": "heading",
     "level": 3,
     "metadata": {
      "slideshow": {
       "slide_type": "subslide"
      }
     },
     "source": [
      "Smart Phone"
     ]
    },
    {
     "cell_type": "markdown",
     "metadata": {},
     "source": [
      "<img src=\"files/pictures/smartphone.png\">"
     ]
    },
    {
     "cell_type": "heading",
     "level": 3,
     "metadata": {
      "slideshow": {
       "slide_type": "subslide"
      }
     },
     "source": [
      "Cruise Control (a Control System)"
     ]
    },
    {
     "cell_type": "markdown",
     "metadata": {},
     "source": [
      "<img src=\"files/pictures/cruisecontrol.png\">"
     ]
    },
    {
     "cell_type": "heading",
     "level": 2,
     "metadata": {
      "slideshow": {
       "slide_type": "slide"
      }
     },
     "source": [
      "Concluding Example: Some Basic Signal Operations"
     ]
    },
    {
     "cell_type": "markdown",
     "metadata": {},
     "source": [
      "Consider a signal \n",
      "\n",
      "$$x = f(t) = \\left\\{ {\\begin{array}{*{20}{c}}\n",
      "{0\\;:\\;t <  - 1}\\\\\n",
      "{t + 1\\;:\\; - 1 \\le t \\le 1}\\\\\n",
      "{0\\;:\\;t > 1}\n",
      "\\end{array}} \\right.$$\n",
      "\n",
      "Sketch this signal.\n",
      "\n",
      "<pre style=\"border: 2px solid blue\">\n",
      "\n",
      "\n",
      "\n",
      "\n",
      "\n",
      "\n",
      "\n",
      "\n",
      "\n",
      "</pre>\n",
      "\n"
     ]
    },
    {
     "cell_type": "heading",
     "level": 3,
     "metadata": {
      "slideshow": {
       "slide_type": "subslide"
      }
     },
     "source": [
      "Homework"
     ]
    },
    {
     "cell_type": "markdown",
     "metadata": {
      "slideshow": {
       "slide_type": "-"
      }
     },
     "source": [
      "Think about the effect on this signal of applying the following basic signal operations:\n",
      "\n",
      "* $2 f(t)$\n",
      "* $0.5 f(t)$\n",
      "* $f(2t)$\n",
      "* $f(0.5 t)$\n",
      "* $-f(t)$\n",
      "* $f(-t)$\n",
      "* $-f(-t)$\n",
      "* $f(t - 1)$\n",
      "* $f(t + 1)$\n",
      "* $-2f(-t+2)$"
     ]
    },
    {
     "cell_type": "heading",
     "level": 2,
     "metadata": {
      "slideshow": {
       "slide_type": "slide"
      }
     },
     "source": [
      "Preparing for Second Session"
     ]
    },
    {
     "cell_type": "markdown",
     "metadata": {},
     "source": [
      "In the second session we will work through the concluding exercise then do some exercises based on Chapter 1 of Karris."
     ]
    },
    {
     "cell_type": "heading",
     "level": 2,
     "metadata": {
      "slideshow": {
       "slide_type": "slide"
      }
     },
     "source": [
      "Running Matlab in IPython Notebook"
     ]
    },
    {
     "cell_type": "markdown",
     "metadata": {},
     "source": [
      "**This may not work on Windows!**\n",
      "\n",
      "You need to istall the [Python-Matlab-Bridge](http://arokem.github.io/python-matlab-bridge/) as per \n",
      "the installation instructions."
     ]
    },
    {
     "cell_type": "code",
     "collapsed": false,
     "input": [
      "import os\n",
      "import pymatbridge as pymat\n",
      "reload(pymat)"
     ],
     "language": "python",
     "metadata": {},
     "outputs": [
      {
       "metadata": {},
       "output_type": "pyout",
       "prompt_number": 7,
       "text": [
        "<module 'pymatbridge' from '/Users/eechris/canopy/lib/python2.7/site-packages/pymatbridge/__init__.pyc'>"
       ]
      }
     ],
     "prompt_number": 7
    },
    {
     "cell_type": "code",
     "collapsed": false,
     "input": [
      "ip = get_ipython()\n",
      "pymat.load_ipython_extension(ip)"
     ],
     "language": "python",
     "metadata": {},
     "outputs": [
      {
       "output_type": "stream",
       "stream": "stdout",
       "text": [
        "Starting MATLAB on http://localhost:54186\n",
        " visit http://localhost:54186/exit.m to shut down same\n"
       ]
      },
      {
       "output_type": "stream",
       "stream": "stdout",
       "text": [
        "."
       ]
      },
      {
       "output_type": "stream",
       "stream": "stdout",
       "text": [
        "."
       ]
      },
      {
       "output_type": "stream",
       "stream": "stdout",
       "text": [
        "."
       ]
      },
      {
       "output_type": "stream",
       "stream": "stdout",
       "text": [
        "."
       ]
      },
      {
       "output_type": "stream",
       "stream": "stdout",
       "text": [
        "."
       ]
      },
      {
       "output_type": "stream",
       "stream": "stdout",
       "text": [
        "."
       ]
      },
      {
       "output_type": "stream",
       "stream": "stdout",
       "text": [
        "."
       ]
      },
      {
       "output_type": "stream",
       "stream": "stdout",
       "text": [
        "MATLAB started and connected!\n"
       ]
      }
     ],
     "prompt_number": 8
    },
    {
     "cell_type": "code",
     "collapsed": false,
     "input": [
      "%%matlab\n",
      "%% Plot a Random Signal\n",
      "plot(0.5 + 0.25 * rand(100,1))\n",
      "ylim([0,1])\n",
      "grid\n",
      "title('Random Signal')\n",
      "xlabel('Time t (s)')\n",
      "ylabel('Amplitude')"
     ],
     "language": "python",
     "metadata": {},
     "outputs": [
      {
       "metadata": {},
       "output_type": "display_data",
       "png": "[encoded data removed]"
      }
     ],
     "prompt_number": 9
    },
    {
     "cell_type": "code",
     "collapsed": false,
     "input": [
      "%matlab 2+2"
     ],
     "language": "python",
     "metadata": {},
     "outputs": [
      {
       "metadata": {},
       "output_type": "display_data",
       "text": [
        "\n",
        "ans =\n",
        "\n",
        "     4\n",
        "\n"
       ]
      }
     ],
     "prompt_number": 10
    }
   ],
   "metadata": {}
  }
 ]
}