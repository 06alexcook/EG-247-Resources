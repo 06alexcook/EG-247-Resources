{
 "metadata": {
  "name": ""
 },
 "nbformat": 3,
 "nbformat_minor": 0,
 "worksheets": [
  {
   "cells": [
    {
     "cell_type": "heading",
     "level": 1,
     "metadata": {
      "slideshow": {
       "slide_type": "slide"
      }
     },
     "source": [
      "Introduction to Filters"
     ]
    },
    {
     "cell_type": "markdown",
     "metadata": {},
     "source": [
      "Dr Chris Jobling ([c.p.jobling@swansea.ac.uk](mailto:c.p.jobling@swansea.ac.uk))<br />Digital Technium 123<br />Office Hours: Thursdays 14:00-15:00\n",
      "\n",
      "You can view the notes for this presentation in [HTML format](http://nbviewer.ipython.org/github/cpjobling/EG-247-Resources/blob/master/week8/ft4.ipynb) and print using your Brower's print function. The source code of this presentation is available as an interactive [IPython notebook](http://ipython.org/notebook.html) from GitHub: <https://github.com/cpjobling/EG-247-Resources>. The GitHub repository also contains the source code for all the Matlab/Simulink examples."
     ]
    },
    {
     "cell_type": "heading",
     "level": 2,
     "metadata": {
      "slideshow": {
       "slide_type": "slide"
      }
     },
     "source": [
      "Scope and Background Reading"
     ]
    },
    {
     "cell_type": "markdown",
     "metadata": {},
     "source": [
      "This session is Based on the section **Filtering** from Chapter 5 of f [Benoit Boulet, Fundamentals of Signals and Systems](http://site.ebrary.com/lib/swansea/docDetail.action?docID=10228195) from the **Recommended Reading List**.\n",
      "\n",
      "This material is an introduction to analogue filters. You will find much more in-depth coverage on Pages 11-1&mdash;1-48 of Karris."
     ]
    },
    {
     "cell_type": "heading",
     "level": 2,
     "metadata": {
      "slideshow": {
       "slide_type": "slide"
      }
     },
     "source": [
      "Agenda"
     ]
    },
    {
     "cell_type": "markdown",
     "metadata": {},
     "source": [
      "* Frequency Selective Filters\n",
      "* Ideal low-pass filter\n",
      "* Butterworth low-pass filter\n",
      "* High-pass filter\n",
      "* Bandpass filter"
     ]
    },
    {
     "cell_type": "heading",
     "level": 2,
     "metadata": {
      "slideshow": {
       "slide_type": "slide"
      }
     },
     "source": [
      "Introduction"
     ]
    },
    {
     "cell_type": "markdown",
     "metadata": {},
     "source": [
      "* Filter design is an important application of Fourier transform\n",
      "* Filtering is a rich topic often taught in graduate courses so we give only an introduction.\n",
      "* Our introduction *will* illustrate the usefulness of the frequency domain viewpoint.\n",
      "* We will explore how filters can shape the spectrum of a signal.\n",
      "\n",
      "Other applications of the Fourier transform are sampling theory (introduced next week) and modulation."
     ]
    },
    {
     "cell_type": "heading",
     "level": 2,
     "metadata": {
      "slideshow": {
       "slide_type": "slide"
      }
     },
     "source": [
      "Frequency Selective Filters"
     ]
    },
    {
     "cell_type": "markdown",
     "metadata": {},
     "source": [
      "An ideal frequency-selective filter is a system that let's the frequency components of a signal through undistorted while components at other components are completely cut off.\n",
      "\n",
      "* The range of frequencies which are let through belong to the **pass Band**\n",
      "* The range of frequencies which are cut-off by the filter are called the **stopband**\n",
      "* A typical scenario where filtering is needed is when noise $n(t)$ is added to a signal $x(t)$ but that signal has most of its energy outside the bandwidth of a signal."
     ]
    },
    {
     "cell_type": "heading",
     "level": 3,
     "metadata": {
      "slideshow": {
       "slide_type": "subslide"
      }
     },
     "source": [
      "Typical filtering problem"
     ]
    },
    {
     "cell_type": "markdown",
     "metadata": {},
     "source": [
      "<img src=\"files/pictures/filter1.png\">"
     ]
    },
    {
     "cell_type": "heading",
     "level": 3,
     "metadata": {
      "slideshow": {
       "slide_type": "subslide"
      }
     },
     "source": [
      "Signal"
     ]
    },
    {
     "cell_type": "markdown",
     "metadata": {},
     "source": [
      "<img src=\"files/pictures/filter2.png\">"
     ]
    },
    {
     "cell_type": "heading",
     "level": 3,
     "metadata": {
      "slideshow": {
       "slide_type": "subslide"
      }
     },
     "source": [
      "Out-of Bandwidth Noise "
     ]
    },
    {
     "cell_type": "markdown",
     "metadata": {},
     "source": [
      "<img src=\"files/pictures/filter3.png\">"
     ]
    },
    {
     "cell_type": "heading",
     "level": 3,
     "metadata": {
      "slideshow": {
       "slide_type": "subslide"
      }
     },
     "source": [
      "Signal plus Noise"
     ]
    },
    {
     "cell_type": "markdown",
     "metadata": {},
     "source": [
      "<img src=\"files/pictures/filter4.png\">"
     ]
    },
    {
     "cell_type": "heading",
     "level": 3,
     "metadata": {
      "slideshow": {
       "slide_type": "subslide"
      }
     },
     "source": [
      "Filtering"
     ]
    },
    {
     "cell_type": "markdown",
     "metadata": {},
     "source": [
      "<img src=\"files/pictures/filter5.png\">"
     ]
    },
    {
     "cell_type": "heading",
     "level": 3,
     "metadata": {
      "slideshow": {
       "slide_type": "subslide"
      }
     },
     "source": [
      "Motivating example"
     ]
    },
    {
     "cell_type": "code",
     "collapsed": false,
     "input": [
      "from IPython.display import YouTubeVideo\n",
      "# A demonstartion of digital filtering in Matlab\n",
      "# Video credit: David Dorran\n",
      "YouTubeVideo('vfH5r4cKukg')"
     ],
     "language": "python",
     "metadata": {},
     "outputs": [
      {
       "html": [
        "\n",
        "        <iframe\n",
        "            width=\"400\"\n",
        "            height=300\"\n",
        "            src=\"http://www.youtube.com/embed/vfH5r4cKukg\"\n",
        "            frameborder=\"0\"\n",
        "            allowfullscreen\n",
        "        ></iframe>\n",
        "        "
       ],
       "metadata": {},
       "output_type": "pyout",
       "prompt_number": 2,
       "text": [
        "<IPython.lib.display.YouTubeVideo at 0x10bac9b50>"
       ]
      }
     ],
     "prompt_number": 2
    },
    {
     "cell_type": "markdown",
     "metadata": {},
     "source": [
      "Direct link to [YouTube](http://www.youtube.com/watch?v=vfH5r4cKukg&feature=share&list=PLJ8LTUMGG9U4vAGind2_Bh4TUfgg1y0F4&index=2).\n",
      "\n",
      "For script see: [Filter Design Using Matlab Demo](http://dadorran.wordpress.com/2013/10/18/filter-design-using-matlab-demo/)"
     ]
    },
    {
     "cell_type": "heading",
     "level": 2,
     "metadata": {
      "slideshow": {
       "slide_type": "slide"
      }
     },
     "source": [
      "Ideal Low-Pass Filter"
     ]
    },
    {
     "cell_type": "markdown",
     "metadata": {
      "slideshow": {
       "slide_type": "slide"
      }
     },
     "source": [
      "An ideal low pass filter cuts-off frequencies higher than its *cutoff frequency*, $\\omega_c$.\n",
      "\n",
      "$${H_{{\\rm{lp}}}}(\\omega ) = \\left\\{ {\\begin{array}{*{20}{c}}\n",
      "{1,}&{|\\omega |{\\kern 1pt} \\, < {\\omega _c}}\\\\\n",
      "{0,}&{|\\omega |{\\kern 1pt} \\, \\ge {\\omega _c}}\n",
      "\\end{array}} \\right.$$"
     ]
    },
    {
     "cell_type": "heading",
     "level": 3,
     "metadata": {
      "slideshow": {
       "slide_type": "subslide"
      }
     },
     "source": [
      "Frequency response"
     ]
    },
    {
     "cell_type": "markdown",
     "metadata": {},
     "source": [
      "<img src=\"files/pictures/ideal_lpf.png\">"
     ]
    },
    {
     "cell_type": "heading",
     "level": 3,
     "metadata": {
      "slideshow": {
       "slide_type": "subslide"
      }
     },
     "source": [
      "Impulse response"
     ]
    },
    {
     "cell_type": "markdown",
     "metadata": {},
     "source": [
      "$${h_{{\\rm{lp}}}}(t) = \\frac{{{\\omega _c}}}{\\pi }{\\mathop{\\rm sinc}\\nolimits} \\left( {\\frac{{{\\omega _c}}}{\\pi }t} \\right)$$"
     ]
    },
    {
     "cell_type": "markdown",
     "metadata": {},
     "source": [
      "<img src=\"files/pictures/sinc.png\">"
     ]
    },
    {
     "cell_type": "heading",
     "level": 3,
     "metadata": {
      "slideshow": {
       "slide_type": "subslide"
      }
     },
     "source": [
      "Filtering is Convolution"
     ]
    },
    {
     "cell_type": "markdown",
     "metadata": {},
     "source": [
      "The output of an LTI system with impulse response \n",
      "\n",
      "$$h(t) \\Leftrightarrow H(\\omega)$$\n",
      "\n",
      "subject to an input signal\n",
      "\n",
      "$$x(t) \\Leftrightarrow X(\\omega)$$\n",
      "\n",
      "is given by \n",
      "\n",
      "$$y(t) = h(t)*x(t) \\Leftrightarrow Y(\\omega) = H(\\omega)X(\\omega)$$"
     ]
    },
    {
     "cell_type": "heading",
     "level": 3,
     "metadata": {
      "slideshow": {
       "slide_type": "subslide"
      }
     },
     "source": [
      "Issues with the \"ideal\" filter"
     ]
    },
    {
     "cell_type": "markdown",
     "metadata": {},
     "source": [
      "This is the step response:\n",
      "\n",
      "<img src=\"files/pictures/step_r.png\">\n",
      "\n",
      "(reproduced from Boulet Fig. 5.23 p. 205)\n",
      "\n",
      "Ripples in the impulse resonse would be undesireable, and because the impulse response is non-causal it cannot actually be implemented.\n",
      "\n",
      "\n",
      "\n"
     ]
    },
    {
     "cell_type": "heading",
     "level": 2,
     "metadata": {
      "slideshow": {
       "slide_type": "slide"
      }
     },
     "source": [
      "Butterworth low-pass filter"
     ]
    },
    {
     "cell_type": "markdown",
     "metadata": {},
     "source": [
      "N-th Order Butterworth Filter\n",
      "\n",
      "$$\\left| {{H_B}(\\omega )} \\right| = \\frac{1}{{{{\\left( {1 + {{\\left( {\\frac{\\omega }{{{\\omega _c}}}} \\right)}^{2N}}} \\right)}^{\\frac{1}{2}}}}}$$\n",
      "\n",
      "**Remarks**\n",
      "\n",
      "* DC gain is $|H_B(j0)|=1$\n",
      "* Attenuation at the cut-off frequency is $|H_B(j\\omega_c)|=1/\\sqrt{2}$ for any $N$\n",
      "\n",
      "More about the Butterworth filter: [Wikipedia Article](http://en.wikipedia.org/wiki/Butterworth_filter)"
     ]
    },
    {
     "cell_type": "heading",
     "level": 3,
     "metadata": {
      "slideshow": {
       "slide_type": "subslide"
      }
     },
     "source": [
      "Example 1: Second-order BW Filter"
     ]
    },
    {
     "cell_type": "markdown",
     "metadata": {},
     "source": [
      "The second-order butterworth Filter is defined by is Charecteristic Equation (CE):\n",
      "\n",
      "$$p(s) = s^2 + \\omega_c\\sqrt{2}s+\\omega_c^2 = 0^*$$\n",
      "\n",
      "Calculate the roots of $p(s)$ (the poles of the filter transfer function) in both Cartesian and polar form.\n",
      "\n",
      "----\n",
      "\n",
      "**Note**: This has the same characteristic as a control system with damping ratio $\\zeta = 1/\\sqrt{2}$ and $\\omega_n = \\omega_c$!"
     ]
    },
    {
     "cell_type": "heading",
     "level": 3,
     "metadata": {
      "slideshow": {
       "slide_type": "subslide"
      }
     },
     "source": [
      "Example 2"
     ]
    },
    {
     "cell_type": "markdown",
     "metadata": {},
     "source": [
      "Derive the differential equation relating the input $x(t)$ to output $y(t)$ of the 2nd-Order Butterworth Low-Pass Filter with cutoff frequency $\\omega_c$."
     ]
    },
    {
     "cell_type": "heading",
     "level": 3,
     "metadata": {
      "slideshow": {
       "slide_type": "subslide"
      }
     },
     "source": [
      "Example 3"
     ]
    },
    {
     "cell_type": "markdown",
     "metadata": {},
     "source": [
      "Determine the frequency response $H_B(\\omega)=Y(\\omega)/X(\\omega)$"
     ]
    },
    {
     "cell_type": "heading",
     "level": 3,
     "metadata": {
      "slideshow": {
       "slide_type": "subslide"
      }
     },
     "source": [
      "Magnitude of frequency response of a 2nd-order Butterworth Filter"
     ]
    },
    {
     "cell_type": "markdown",
     "metadata": {},
     "source": [
      "<img src=\"files/pictures/blpmfr.png\">\n",
      "\n",
      "Generated with [butter2_ex.m](files/matlab/butter2_ex.m)"
     ]
    },
    {
     "cell_type": "heading",
     "level": 3,
     "metadata": {
      "slideshow": {
       "slide_type": "subslide"
      }
     },
     "source": [
      "Bode-plot of a 2nd-order Butterworth Filter"
     ]
    },
    {
     "cell_type": "markdown",
     "metadata": {},
     "source": [
      "<img src=\"files/pictures/butter_bode.png\">\n",
      "\n",
      "Matlab:    \n",
      "```matlab\n",
      "wc = 100;\n",
      "H = tf(wc^2,[1, wc*sqrt(2), wc^2])\n",
      "bode(H)\n",
      "```\n",
      "\n",
      "Generated with [butter2_ex.m](files/matlab/butter2_ex.m)"
     ]
    },
    {
     "cell_type": "heading",
     "level": 3,
     "metadata": {
      "slideshow": {
       "slide_type": "subslide"
      }
     },
     "source": [
      "Example 4"
     ]
    },
    {
     "cell_type": "markdown",
     "metadata": {},
     "source": [
      "Determine the impulse response of the butterworth filter.\n",
      "\n",
      "You will find this Fourier transform pair useful:\n",
      "\n",
      "$$e^{-at}\\sin\\omega_0 t\\;u_0(t) \\Leftrightarrow \\frac{\\omega_0}{(j\\omega + a)^2+\\omega_0^2}$$"
     ]
    },
    {
     "cell_type": "heading",
     "level": 3,
     "metadata": {
      "slideshow": {
       "slide_type": "subslide"
      }
     },
     "source": [
      "Impulse response"
     ]
    },
    {
     "cell_type": "markdown",
     "metadata": {},
     "source": [
      "<img src=\"files/pictures/butter_imp.png\">\n",
      "\n",
      "Matlab:    \n",
      "```matlab\n",
      "impulse(H)\n",
      "```\n",
      "\n",
      "Generated with [butter2_ex.m](files/matlab/butter2_ex.m)"
     ]
    },
    {
     "cell_type": "heading",
     "level": 3,
     "metadata": {
      "slideshow": {
       "slide_type": "subslide"
      }
     },
     "source": [
      "Step response of of a 2nd-order Butterworth Filter"
     ]
    },
    {
     "cell_type": "markdown",
     "metadata": {},
     "source": [
      "<img src=\"files/pictures/butter_step.png\">\n",
      "\n",
      "Matlab:    \n",
      "```matlab\n",
      "step(H)\n",
      "```\n",
      "Generated with [butter2_ex.m](files/matlab/butter2_ex.m)"
     ]
    },
    {
     "cell_type": "heading",
     "level": 2,
     "metadata": {
      "slideshow": {
       "slide_type": "slide"
      }
     },
     "source": [
      "High-pass filter"
     ]
    },
    {
     "cell_type": "markdown",
     "metadata": {
      "slideshow": {
       "slide_type": "slide"
      }
     },
     "source": [
      "An ideal highpass filter cuts-off frequencies lower than its *cutoff frequency*, $\\omega_c$.\n",
      "\n",
      "$${H_{{\\rm{hp}}}}(\\omega ) = \\left\\{ {\\begin{array}{*{20}{c}}\n",
      "{0,}&{|\\omega |{\\kern 1pt} \\, \\le {\\omega _c}}\\\\\n",
      "{1,}&{|\\omega |{\\kern 1pt} \\, > {\\omega _c}}\n",
      "\\end{array}} \\right.$$"
     ]
    },
    {
     "cell_type": "heading",
     "level": 3,
     "metadata": {
      "slideshow": {
       "slide_type": "subslide"
      }
     },
     "source": [
      "Frequency response"
     ]
    },
    {
     "cell_type": "markdown",
     "metadata": {},
     "source": [
      "<img src=\"files/pictures/ideal_hpf.png\">"
     ]
    },
    {
     "cell_type": "heading",
     "level": 3,
     "metadata": {
      "slideshow": {
       "slide_type": "slide"
      }
     },
     "source": [
      "Responses"
     ]
    },
    {
     "cell_type": "markdown",
     "metadata": {},
     "source": [
      "**Frequency response**\n",
      "\n",
      "$$H_{\\mathrm{hp}}(\\omega)=1-H_{\\mathrm{lp}}(\\omega)$$\n",
      "\n",
      "**Impulse response**\n",
      "\n",
      "$$h_{\\mathrm{hp}}(t)=\\delta(t)-h_{\\mathrm{lp}}(t)$$"
     ]
    },
    {
     "cell_type": "heading",
     "level": 3,
     "metadata": {
      "slideshow": {
       "slide_type": "subslide"
      }
     },
     "source": [
      "Example 5"
     ]
    },
    {
     "cell_type": "markdown",
     "metadata": {},
     "source": [
      "Determine the frequency response and impulse response of a 2nd-order butterworth highpass filter"
     ]
    },
    {
     "cell_type": "heading",
     "level": 3,
     "metadata": {
      "slideshow": {
       "slide_type": "subslide"
      }
     },
     "source": [
      "Magnitude of frequency response of a 2nd-order Butterworth High-Pass Filter"
     ]
    },
    {
     "cell_type": "markdown",
     "metadata": {},
     "source": [
      "<img src=\"files/pictures/bhpmfr.png\">\n",
      "\n",
      "Generated with [butter2_ex.m](files/matlab/butter2_ex.m)"
     ]
    },
    {
     "cell_type": "heading",
     "level": 2,
     "metadata": {
      "slideshow": {
       "slide_type": "slide"
      }
     },
     "source": [
      "Band-pass filter"
     ]
    },
    {
     "cell_type": "markdown",
     "metadata": {},
     "source": [
      "An ideal bandpass filter cuts-off frequencies lower than its first *cutoff frequency* $\\omega_{c1}$, and higher than its second *cutoff frequency* $\\omega_{c2}$.\n",
      "\n",
      "$${H_{{\\rm{bp}}}}(\\omega ) = \\left\\{ {\\begin{array}{*{20}{c}}\n",
      "{1,}&{{\\omega _{c1}} < \\,|\\omega |\\, < {\\omega _{c2}}}\\\\\n",
      "{0,}&{{\\rm{otherwise}}}\n",
      "\\end{array}} \\right.$$"
     ]
    },
    {
     "cell_type": "markdown",
     "metadata": {
      "slideshow": {
       "slide_type": "fragment"
      }
     },
     "source": [
      "<img src=\"files/pictures/bbpmfr.png\">"
     ]
    },
    {
     "cell_type": "heading",
     "level": 3,
     "metadata": {
      "slideshow": {
       "slide_type": "subslide"
      }
     },
     "source": [
      "Bandpass filter design"
     ]
    },
    {
     "cell_type": "markdown",
     "metadata": {},
     "source": [
      "A bandpass filter can be obtained by multiplying the frequency responses of a lowpass filter by a highpass filter."
     ]
    },
    {
     "cell_type": "markdown",
     "metadata": {},
     "source": [
      "$$H_{\\mathrm{bp}}(\\omega) = H_{\\mathrm{hp}}(\\omega)H_{\\mathrm{lp}}(\\omega)$$"
     ]
    },
    {
     "cell_type": "markdown",
     "metadata": {
      "slideshow": {
       "slide_type": "fragment"
      }
     },
     "source": [
      "* The highpass filter should have cut-off frequency of $\\omega_{c1}$"
     ]
    },
    {
     "cell_type": "markdown",
     "metadata": {
      "slideshow": {
       "slide_type": "fragment"
      }
     },
     "source": [
      "* The lowpass filter should have cut-off frequency of $\\omega_{c2}$"
     ]
    },
    {
     "cell_type": "heading",
     "level": 2,
     "metadata": {
      "slideshow": {
       "slide_type": "slide"
      }
     },
     "source": [
      "Summary"
     ]
    },
    {
     "cell_type": "markdown",
     "metadata": {},
     "source": [
      "* Frequency Selective Filters\n",
      "* Ideal low-pass filter\n",
      "* Butterworth low-pass filter\n",
      "* High-pass filter\n",
      "* Bandpass filter\n",
      "\n",
      "*Next Session* &ndash; sampling theory"
     ]
    },
    {
     "cell_type": "heading",
     "level": 2,
     "metadata": {
      "slideshow": {
       "slide_type": "slide"
      }
     },
     "source": [
      "Lab Work"
     ]
    },
    {
     "cell_type": "markdown",
     "metadata": {
      "slideshow": {
       "slide_type": "-"
      }
     },
     "source": [
      "In the lab, on Monday, we will look at frequency response analysis and filtering."
     ]
    }
   ],
   "metadata": {}
  }
 ]
}