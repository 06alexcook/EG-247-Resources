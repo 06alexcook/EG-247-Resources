{
 "metadata": {
  "name": ""
 },
 "nbformat": 3,
 "nbformat_minor": 0,
 "worksheets": [
  {
   "cells": [
    {
     "cell_type": "heading",
     "level": 1,
     "metadata": {
      "slideshow": {
       "slide_type": "slide"
      }
     },
     "source": [
      "Fourier Series (Part 3)"
     ]
    },
    {
     "cell_type": "markdown",
     "metadata": {},
     "source": [
      "Dr Chris Jobling ([c.p.jobling@swansea.ac.uk](mailto:c.p.jobling@swansea.ac.uk))<br />Digital Technium 123<br />Office Hours: Thursdays 14:00-15:00\n",
      "\n",
      "You can view the notes for this presentation in [HTML format](http://nbviewer.ipython.org/github/cpjobling/EG-247-Resources/blob/master/week6/fourier3.ipynb) and print using your Brower's print function. The source code of this presentation is available as an interactive [IPython notebook](http://ipython.org/notebook.html) from GitHub: <https://github.com/cpjobling/EG-247-Resources>. The GitHub repository also contains the source code for all the Matlab/Simulink examples."
     ]
    },
    {
     "cell_type": "heading",
     "level": 2,
     "metadata": {
      "slideshow": {
       "slide_type": "slide"
      }
     },
     "source": [
      "Agenda"
     ]
    },
    {
     "cell_type": "markdown",
     "metadata": {},
     "source": [
      "*Last time*\n",
      "\n",
      "* Exponents and Euler's Equation\n",
      "* The Exponential Fourier series\n",
      "* Symmetry in Exponential Fourier Series\n",
      "* Example\n",
      "\n",
      "*This Time*\n",
      "\n",
      "* Line spectra\n",
      "* Power in periodic signals\n",
      "* Steady-state response of an LTI system to a periodic signal"
     ]
    },
    {
     "cell_type": "heading",
     "level": 2,
     "metadata": {
      "slideshow": {
       "slide_type": "slide"
      }
     },
     "source": [
      "Scope and Background Reading"
     ]
    },
    {
     "cell_type": "markdown",
     "metadata": {},
     "source": [
      "This session concludes our introduction to Fourier Series.\n",
      "\n",
      "Last time we saw that we could exploit the complex exponential $e^{j\\omega t}$ to redefine trigonometric Fourier Series into the Exponential Fourier Series and in so doing we eliminate one integration and at the same time simplify the calculation of the coefficients of the Fourier series.\n",
      "\n",
      "In this session we show how the Exponential form of the Fourier Series leads us to the ability to present wavefoms as line spectra, simplifies the calculation of power for systems with harmonics and leads in the limit as the $T$ approaches infinity to the Fourier Transform.\n",
      "\n",
      "The material in this presentation and notes is based on Chapter 7 (Starting at Section 7.10) of [Steven T. Karris, Signals and Systems: with Matlab Computation and Simulink Modelling, 5th Edition.](http://site.ebrary.com/lib/swansea/docDetail.action?docID=10547416) from the Required Reading List. Some clarificattion was needed and I used Chapter 4 of [Benoit Boulet, Fundamentals of Signals and Systems](http://site.ebrary.com/lib/swansea/docDetail.action?docID=10228195) from the Recommended Reading List for this."
     ]
    },
    {
     "cell_type": "heading",
     "level": 2,
     "metadata": {
      "slideshow": {
       "slide_type": "slide"
      }
     },
     "source": [
      "Line Spectra"
     ]
    },
    {
     "cell_type": "markdown",
     "metadata": {},
     "source": [
      "When the Exponential Fourier series are known is is useful to plot the amplitude and phase of the harmonics on a frequency scale. \n",
      "\n",
      "This is the spectrum of the Exponential Fourier Series calculated last time\n",
      "\n",
      "<img src=\"files/pictures/efs_sqw.png\">"
     ]
    },
    {
     "cell_type": "heading",
     "level": 3,
     "metadata": {
      "slideshow": {
       "slide_type": "subslide"
      }
     },
     "source": [
      "Line Spectra for Tig. FS"
     ]
    },
    {
     "cell_type": "markdown",
     "metadata": {},
     "source": [
      "If we take the results for the Exponential Fourier Series and gather terms, the amplitudes for the Trig. Fourier Series are given by:\n",
      "\n",
      "$$a_0 = 2C_0$$\n",
      "\n",
      "$$a_1 = (C_k + C_{-k})$$\n",
      "\n",
      "$$b_k = j(C_k - C_{-k})$$"
     ]
    },
    {
     "cell_type": "markdown",
     "metadata": {},
     "source": [
      "Applying this to the previous result we get\n",
      "\n",
      "<img src=\"files/pictures/line-spec.png\">"
     ]
    },
    {
     "cell_type": "heading",
     "level": 3,
     "metadata": {
      "slideshow": {
       "slide_type": "subslide"
      }
     },
     "source": [
      "Example 1"
     ]
    },
    {
     "cell_type": "markdown",
     "metadata": {},
     "source": [
      "Compute the exponential Fourier series for the waveform shown below and plot its line spectra. Assume $\\omega = 1$.\n",
      "\n",
      "<img src=\"files/pictures/pulse_train.png\">"
     ]
    },
    {
     "cell_type": "heading",
     "level": 3,
     "metadata": {
      "slideshow": {
       "slide_type": "subslide"
      }
     },
     "source": [
      "Solution"
     ]
    },
    {
     "cell_type": "markdown",
     "metadata": {},
     "source": [
      "The recurrent rectangular pulse is used extensively in digital communication systems. To determine how faithfully such pulses will be transmitted, it is necessary to knwo the frequency components.\n",
      "\n",
      "**What do we know?**\n",
      "\n",
      "* The pulse duration is $T/w$.\n",
      "* The recurrence interval $T$ is $w$ times the pulse duration.\n",
      "* $w$ is the ratio of pulse repetition time to the pulse duration &ndash; normally called the *duty cycle*."
     ]
    },
    {
     "cell_type": "heading",
     "level": 3,
     "metadata": {
      "slideshow": {
       "slide_type": "subslide"
      }
     },
     "source": [
      "Coefficients of the Exponential Fourier Series?"
     ]
    },
    {
     "cell_type": "markdown",
     "metadata": {},
     "source": [
      "Given\n",
      "\n",
      "$$C_k = \\frac{1}{2\\pi}\\int_{-\\pi}^{\\pi} f(t)e^{-jkt}\\,dt$$\n",
      "\n",
      "* Is the function **even** or **odd**?\n",
      "* Does the signal have **half-wave symmetry**?\n",
      "* What are the cosequencies of symmetry on the form of the coefficients $C_k$?\n",
      "* What function do we actually need to integrate to compute $C_k$?"
     ]
    },
    {
     "cell_type": "heading",
     "level": 3,
     "metadata": {
      "slideshow": {
       "slide_type": "subslide"
      }
     },
     "source": [
      "Answers"
     ]
    },
    {
     "cell_type": "markdown",
     "metadata": {},
     "source": [
      "Given\n",
      "\n",
      "$$C_k = \\frac{1}{2\\pi}\\int_{-\\pi}^{\\pi} f(t)e^{-jkt}\\,dt$$\n",
      "\n",
      "* Is the function **even** or **odd**? **even** $f(t) = f(-t)$!\n",
      "* Does the signal have **half-wave symmetry**? No!\n",
      "* What are the cosequencies of symmetry on the form of the coefficients $C_k$? $C_k$ will be real values. Trig. equivalent no sine terms.\n",
      "* What function do we actually need to integrate to compute $C_k$? We only need to integrate between the limits $-\\pi/w \\to \\pi/w$\n",
      "\n",
      "$$C_k = \\frac{1}{2\\pi}\\int_{-\\pi/w}^{\\pi/w} Ae^{-jkt}\\,dt = \\frac{A}{2\\pi}\\int_{-\\pi/w}^{\\pi/w} e^{-jkt}\\,dt $$"
     ]
    },
    {
     "cell_type": "heading",
     "level": 3,
     "metadata": {
      "slideshow": {
       "slide_type": "subslide"
      }
     },
     "source": [
      "DC Component?"
     ]
    },
    {
     "cell_type": "markdown",
     "metadata": {},
     "source": [
      "Let $k = 0$ then perform the integral"
     ]
    },
    {
     "cell_type": "heading",
     "level": 3,
     "metadata": {
      "slideshow": {
       "slide_type": "subslide"
      }
     },
     "source": [
      "DC component!"
     ]
    },
    {
     "cell_type": "markdown",
     "metadata": {},
     "source": [
      "$$C_0 = \\left.\\frac{A}{2\\pi}\\,t\\,\\right|_{-\\pi/w}^{\\pi/w} = \\frac{A}{2\\pi}\\left(\\frac{\\pi}{w}+\\frac{\\pi}{w}\\right)$$\n",
      "\n",
      "or\n",
      "\n",
      "$$C_0 = \\frac{A}{w}$$"
     ]
    },
    {
     "cell_type": "heading",
     "level": 3,
     "metadata": {
      "slideshow": {
       "slide_type": "subslide"
      }
     },
     "source": [
      "Harmonic coefficients?"
     ]
    },
    {
     "cell_type": "markdown",
     "metadata": {},
     "source": [
      "Integrate for $k\\ne 0$"
     ]
    },
    {
     "cell_type": "heading",
     "level": 3,
     "metadata": {
      "slideshow": {
       "slide_type": "subslide"
      }
     },
     "source": [
      "Harmonic coefficients!"
     ]
    },
    {
     "cell_type": "markdown",
     "metadata": {},
     "source": [
      "$$C_k = \\left.\\frac{A}{-jk2\\pi}\\,e^{-jkt}\\,\\right|_{-\\pi/w}^{\\pi/w} = \\frac{A}{k\\pi}\\left(\\frac{e^{jk\\pi/w}-e^{-jk\\pi/w}}{j2}\\right) = \\frac{A}{k\\pi}\\sin\\left(\\frac{k\\pi}{w}\\right)$$\n",
      "\n",
      "$$C_k = \\frac{A}{w}\\frac{sin\\left(k\\pi/w\\right)}{k\\pi/w}$$"
     ]
    },
    {
     "cell_type": "heading",
     "level": 3,
     "metadata": {
      "slideshow": {
       "slide_type": "subslide"
      }
     },
     "source": [
      "Exponential Fourier Series?"
     ]
    },
    {
     "cell_type": "heading",
     "level": 3,
     "metadata": {
      "slideshow": {
       "slide_type": "subslide"
      }
     },
     "source": [
      "Exponential Fourier Series!"
     ]
    },
    {
     "cell_type": "markdown",
     "metadata": {},
     "source": [
      "$$f(t)=\\sum_{k=-\\infty}^{\\infty}\\;\\frac{A}{w}\\,\\frac{\\sin\\left(k\\pi/w\\right)}{k\\pi/w} e^{-kt}$$"
     ]
    },
    {
     "cell_type": "heading",
     "level": 3,
     "metadata": {},
     "source": [
      "Effect of pulse width on frequency spectra"
     ]
    },
    {
     "cell_type": "markdown",
     "metadata": {},
     "source": [
      "* Recall pulse width = $T/w$"
     ]
    },
    {
     "cell_type": "heading",
     "level": 3,
     "metadata": {
      "slideshow": {
       "slide_type": "subslide"
      }
     },
     "source": [
      "w = 2"
     ]
    },
    {
     "cell_type": "markdown",
     "metadata": {},
     "source": [
      "$\\omega = 1$ rad/s; $w = 2$; $T = 2\\pi$ s; $T/w = \\pi$ s.\n",
      "\n",
      "<img src=\"files/pictures/sinc2.png\">"
     ]
    },
    {
     "cell_type": "heading",
     "level": 3,
     "metadata": {
      "slideshow": {
       "slide_type": "subslide"
      }
     },
     "source": [
      "w = 5"
     ]
    },
    {
     "cell_type": "markdown",
     "metadata": {},
     "source": [
      "$\\omega = 1$ rad/s; $w = 5$; $T = 2\\pi$ s; $T/w = 2\\pi/5$ s.\n",
      "\n",
      "<img src=\"files/pictures/sinc5.png\">"
     ]
    },
    {
     "cell_type": "heading",
     "level": 3,
     "metadata": {
      "slideshow": {
       "slide_type": "subslide"
      }
     },
     "source": [
      "w = 10"
     ]
    },
    {
     "cell_type": "markdown",
     "metadata": {},
     "source": [
      "$\\omega = 1$ rad/s; $w = 10$; $T = 2\\pi$ s; $T/w = \\pi/5$ s.\n",
      "\n",
      "<img src=\"files/pictures/sinc10.png\">"
     ]
    },
    {
     "cell_type": "heading",
     "level": 3,
     "metadata": {
      "slideshow": {
       "slide_type": "subslide"
      }
     },
     "source": [
      "Implications"
     ]
    },
    {
     "cell_type": "markdown",
     "metadata": {},
     "source": [
      "* As the width of the pulse **reduces** the width of the freqency spectra needed to fully describe the signal **increases** \n",
      "* more bandwidth is needed to transmit the pulse."
     ]
    },
    {
     "cell_type": "markdown",
     "metadata": {
      "slideshow": {
       "slide_type": "skip"
      }
     },
     "source": [
      "**Note**\n",
      "\n",
      "Text book seems to get the wrong results. Karris plots $\\sin(wx)/(wx)$ rather than $\\sin(x/w)/(x/w)$ in producing the diagrams shown in Figs. 7.36&mdash;7-38.\n",
      "\n",
      "However, if you view $\\sin(wx)/wx$ as in indication of the bandwidth needed to trasmit a pulse of width $T/w$ the plots Karris gives make more sense."
     ]
    },
    {
     "cell_type": "heading",
     "level": 3,
     "metadata": {
      "slideshow": {
       "slide_type": "subslide"
      }
     },
     "source": [
      "Example 2"
     ]
    },
    {
     "cell_type": "markdown",
     "metadata": {},
     "source": [
      "Use the result of Example 1 to compute the exponential Fourier series of the impulse train $\\delta(t\\pm 2\\pi k)$ shown below \n",
      "\n",
      "<img src=\"files/pictures/impulse_train.png\">"
     ]
    },
    {
     "cell_type": "heading",
     "level": 3,
     "metadata": {
      "slideshow": {
       "slide_type": "subslide"
      }
     },
     "source": [
      "Solution"
     ]
    },
    {
     "cell_type": "markdown",
     "metadata": {},
     "source": [
      "To solve this we take the previous result and choose amplitude (height) $A$ so that area of pulse is unity. Then we let width go to zero while maintaining the area of unity. This creates a train of impulses $\\delta(t\\pm 2\\pi k)$.\n",
      "\n",
      "$$C_n  = \\frac{1}{2\\pi}$$\n",
      "\n",
      "and, therefore\n",
      "\n",
      "$$f(t) = \\frac{1}{2\\pi}\\sum_{k=-\\infty}^{\\infty} e^{jk\\omega t}$$\n",
      "\n",
      "Try it!"
     ]
    },
    {
     "cell_type": "heading",
     "level": 3,
     "metadata": {
      "slideshow": {
       "slide_type": "subslide"
      }
     },
     "source": [
      "Proof!"
     ]
    },
    {
     "cell_type": "markdown",
     "metadata": {},
     "source": [
      "From the previous result, \n",
      "\n",
      "$$C_n = \\frac{A}{w}.\\frac{\\sin(k\\pi/w)}{k\\pi/w}$$\n",
      "\n",
      "and the pulse width was defined as $T/w$, that is\n",
      "\n",
      "$$\\frac{T}{w}=\\frac{2\\pi}{w}$$\n",
      "\n",
      "Let us take the previous impulse train as a recurrent pulse with amplitude\n",
      "\n",
      "$$A = \\frac{1}{T/w} = \\frac{1}{2\\pi/w} = \\frac{w}{2\\pi}.$$"
     ]
    },
    {
     "cell_type": "heading",
     "level": 3,
     "metadata": {
      "slideshow": {
       "slide_type": "subslide"
      }
     },
     "source": [
      "Pulse with unit area"
     ]
    },
    {
     "cell_type": "markdown",
     "metadata": {},
     "source": [
      "The area of each pulse is then \n",
      "\n",
      "$$\\frac{2\\pi}{w}\\times\\frac{w}{2\\pi} = 1$$\n",
      "\n",
      "and the pulse train is as shown below:\n",
      "\n",
      "<img src=\"files/pictures/unit_area_pulses.png\">"
     ]
    },
    {
     "cell_type": "heading",
     "level": 3,
     "metadata": {
      "slideshow": {
       "slide_type": "subslide"
      }
     },
     "source": [
      "New coefficents"
     ]
    },
    {
     "cell_type": "markdown",
     "metadata": {},
     "source": [
      "The coefficients of the Exponential Fourier Series are now:\n",
      "    \n",
      "$$C_n = \\frac{w/2\\pi}{w}\\frac{\\sin(k\\pi/w)}{k\\pi/w} = \\frac{1}{2\\pi}\\frac{\\sin(k\\pi/w)}{k\\pi/w}$$\n",
      "\n",
      "and as $\\pi/w \\to 0$ each recurrent pulse becomes a unit impulse, and the pulse reduce to a unit impulse train.\n",
      "\n",
      "Also, recalling that\n",
      "\n",
      "$$\\lim_{x\\to 0} \\frac{sin x}{x} = 1$$\n",
      "\n",
      "the coefficents reduce to\n",
      "\n",
      "$$C_n = \\frac{1}{2\\pi}$$\n",
      "\n",
      "That is all coefficients have the same amplitude and thus\n",
      "\n",
      "$$f(t) = \\frac{1}{2\\pi}\\sum_{n=-\\infty}^{\\infty} e^{jk\\omega t}$$"
     ]
    },
    {
     "cell_type": "heading",
     "level": 3,
     "metadata": {
      "slideshow": {
       "slide_type": "subslide"
      }
     },
     "source": [
      "Spectrum of Unit Impulse Train"
     ]
    },
    {
     "cell_type": "markdown",
     "metadata": {},
     "source": [
      "The line spectrum of a sequence of unit impulses $\\delta(t \\pm kT)$ is shown below:\n",
      "                                                         \n",
      "<img src=\"files/pictures/impulse_spectrum.png\">"
     ]
    },
    {
     "cell_type": "heading",
     "level": 3,
     "metadata": {
      "slideshow": {
       "slide_type": "subslide"
      }
     },
     "source": [
      "Another Interesting Result"
     ]
    },
    {
     "cell_type": "markdown",
     "metadata": {},
     "source": [
      "Consider the pulse train agin:\n",
      "\n",
      "<img src=\"files/pictures/pulse_train.png\">\n",
      "\n",
      "What happens when the pulses to the left and right of the centre pulse become less and less frequent? That is what happens when $T \\to \\infty$?"
     ]
    },
    {
     "cell_type": "heading",
     "level": 3,
     "metadata": {},
     "source": [
      "Well?"
     ]
    },
    {
     "cell_type": "markdown",
     "metadata": {},
     "source": [
      "* As $T\\to \\infty$ the fundamental frequency $\\omega \\to 0$\n",
      "* We are then left with just one pulse centred around $t=0$.\n",
      "* The frequency difference between harmonics also becomes smaller.\n",
      "* Line spectrum becomes a continous function.\n",
      "\n",
      "This result is the basis of the *Fourier Transform* which is coming next."
     ]
    },
    {
     "cell_type": "heading",
     "level": 2,
     "metadata": {
      "slideshow": {
       "slide_type": "slide"
      }
     },
     "source": [
      "Power in Periodic Signals"
     ]
    },
    {
     "cell_type": "markdown",
     "metadata": {},
     "source": [
      "In your previous courses you may have come across the definitions of Signal Energy, Average Signal Power and Root Mean Square Power:\n",
      "\n",
      "$$E = \\int_0^T |f(t)|^2 dt$$\n",
      "\n",
      "$$P_{\\mathrm{av}} = \\frac{1}{T}\\int_0^T |f(t)|^2 dt$$\n",
      "\n",
      "$$P_{\\mathrm{RMS}} = \\sqrt{\\frac{1}{T}\\int_0^T |f(t)|^2 dt}$$"
     ]
    },
    {
     "cell_type": "heading",
     "level": 3,
     "metadata": {
      "slideshow": {
       "slide_type": "subslide"
      }
     },
     "source": [
      "Parseval's Theorem"
     ]
    },
    {
     "cell_type": "markdown",
     "metadata": {},
     "source": [
      "[Parseval's Theorem](http://en.wikipedia.org/wiki/Parseval's_theorem) states that the total average power of a a periodic signal $f(t)$ is equal to the sum of the average powers of all its harmonic components.\n",
      "\n",
      "The power in the $k$th harmonic $C_ke^{jk\\omega t}$ is given by\n",
      "\n",
      "$$P_k = \\frac{1}{T}\\int_0^T\\left|C_ke^{jk\\omega t}\\right|^2\\,dt = \\frac{1}{T}\\int_0^T\\left|C_k\\right|^2\\,dt=\\left|C_k\\right|^2$$\n",
      "\n",
      "Since $P_k = P_{-k}$, the total power of the $k$th harmomic is $2P_k$.\n",
      "\n",
      "Parseval's theorem states that\n",
      "\n",
      "$$P = \\frac{1}{T}\\int_0^T \\left|f(t)\\right|^2\\,dt = \\sum_{k=-\\infty}^{\\infty}\\left|C_k\\right|^2.$$"
     ]
    },
    {
     "cell_type": "heading",
     "level": 3,
     "metadata": {
      "slideshow": {
       "slide_type": "subslide"
      }
     },
     "source": [
      "RMS Power"
     ]
    },
    {
     "cell_type": "markdown",
     "metadata": {},
     "source": [
      "By a similar argument:\n",
      "\n",
      "$$P_{\\mathrm{RMS}} = \\sqrt{\\frac{1}{T}\\int_0^T \\left|f(t)\\right|^2\\,dt} = \\sqrt{\\sum_{k=-\\infty}^{\\infty}\\left|C_k\\right|^2}.$$  \n",
      "    "
     ]
    },
    {
     "cell_type": "heading",
     "level": 3,
     "metadata": {
      "slideshow": {
       "slide_type": "subslide"
      }
     },
     "source": [
      "Example 3"
     ]
    },
    {
     "cell_type": "markdown",
     "metadata": {},
     "source": [
      "Compute the average power of a pulse train for which the pulse width is $T/2$ (duty cycle 50%). Use the previous result: \n",
      "\n",
      "$$C_n = \\frac{A}{w}.\\frac{\\sin(k\\pi/w)}{k\\pi/w}$$\n",
      "\n",
      "as your starting point."
     ]
    },
    {
     "cell_type": "heading",
     "level": 3,
     "metadata": {
      "slideshow": {
       "slide_type": "subslide"
      }
     },
     "source": [
      "Solution 3"
     ]
    },
    {
     "cell_type": "markdown",
     "metadata": {},
     "source": [
      "$w = 2$ so:\n",
      "\n",
      "$$C_n = \\frac{A}{2}.\\frac{\\sin(k\\pi/2)}{k\\pi/2}$$\n",
      "\n",
      "Write down an expression for $P$ using Parseval's Theorem\n"
     ]
    },
    {
     "cell_type": "heading",
     "level": 3,
     "metadata": {
      "slideshow": {
       "slide_type": "subslide"
      }
     },
     "source": [
      "P"
     ]
    },
    {
     "cell_type": "markdown",
     "metadata": {},
     "source": [
      "$$P = \\sum\\limits_{k =  - \\infty }^\\infty  {{{\\left| {{C_k}} \\right|}^2}}  = \\sum\\limits_{k =  - \\infty }^\\infty  {{{\\left| {\\frac{A}{2}{\\mathop{\\rm sinc}\\nolimits} \\frac{{k\\pi }}{2}} \\right|}^2}}  = {A^2}\\left( {\\frac{1}{4} + 2\\sum\\limits_{k = 1}^\\infty  {{{\\left| \\frac{1}{4}{{\\mathop{\\rm sinc}\\nolimits} \\frac{{k\\pi }}{2}} \\right|}^2}} } \\right)$$\n",
      "\n",
      "sinc$(k\\pi/2) = 0$ for $k$ even ($k=0,2,4,6,\\ldots$) so...?"
     ]
    },
    {
     "cell_type": "heading",
     "level": 3,
     "metadata": {
      "slideshow": {
       "slide_type": "subslide"
      }
     },
     "source": [
      "P for k odd"
     ]
    },
    {
     "cell_type": "markdown",
     "metadata": {},
     "source": [
      "$$P = {A^2}\\left( {\\frac{1}{4} + \\frac{1}{2}\\sum\\limits_{k = 1,3,5, \\ldots }^\\infty  {{{\\left| {{\\mathop{\\rm sinc}\\nolimits} \\frac{{k\\pi }}{2}} \\right|}^2}} } \\right) = {A^2}\\left( {\\frac{1}{4} + \\frac{1}{2}\\sum\\limits_{k = 1,3,5, \\ldots }^\\infty  {{{\\left| {\\frac{{\\sin \\frac{{k\\pi }}{2}}}{{\\frac{{k\\pi }}{2}}}} \\right|}^2}} } \\right)$$\n",
      "\n",
      "$\\sin(k\\pi/2) = 1$ for $k$ odd ($k=1,3,5,7,\\ldots$) so...?"
     ]
    },
    {
     "cell_type": "heading",
     "level": 3,
     "metadata": {
      "slideshow": {
       "slide_type": "subslide"
      }
     },
     "source": [
      "P after eliminating sine"
     ]
    },
    {
     "cell_type": "markdown",
     "metadata": {},
     "source": [
      "$$P = {A^2}\\left( {\\frac{1}{4} + \\frac{2}{{{\\pi ^2}}}\\sum\\limits_{k = 1,3,5, \\ldots }^\\infty  {\\left[ {1 + \\frac{1}{9} + \\frac{1}{{25}} +  \\ldots } \\right]} } \\right) = {A^2}\\left( {\\frac{1}{4} + \\frac{2}{{{\\pi ^2}}}\\left[ {\\frac{{{\\pi ^2}}}{8}} \\right]} \\right)$$\n",
      "\n",
      "$$P = \\frac{A^2}{2}$$"
     ]
    },
    {
     "cell_type": "heading",
     "level": 3,
     "metadata": {},
     "source": [
      "Check P from f(t)"
     ]
    },
    {
     "cell_type": "markdown",
     "metadata": {},
     "source": [
      "$$P = \\frac{1}{2\\pi}\\int_{-\\pi/2}^{\\pi/2}|f(t)|^2\\,d\\omega t = \\frac{1}{2\\pi}\\int_{-\\pi/2}^{\\pi/2}|A|^2\\,d\\omega t = \\frac{A^2}{2\\pi}\\left(\\frac{\\pi}{2}+\\frac{\\pi}{2}\\right) = \\frac{A^2}{2}.$$"
     ]
    },
    {
     "cell_type": "heading",
     "level": 3,
     "metadata": {
      "slideshow": {
       "slide_type": "subslide"
      }
     },
     "source": [
      "Power Spectrum"
     ]
    },
    {
     "cell_type": "markdown",
     "metadata": {
      "slideshow": {
       "slide_type": "subslide"
      }
     },
     "source": [
      "The *power spectrum* of signal is the sequence of average powers in each complex harmonic: $|C_k|^2$. For real perodic signals\n",
      "the power spectrum is a real even sequence as $|C_{-k}|^2 = |C_k^*|^2 = |C_k|^2$.\n",
      "\n",
      "This is the power spectrum for a pulse with width $T/8$.\n",
      "\n",
      "<img src=\"files/pictures/power.png\">\n",
      "\n",
      "Note that most of the power is concentrated at DC and in the first seven harmonic components. That is in the frequency range $[-14\\pi/T,+14\\pi/T]$ rad/s. "
     ]
    },
    {
     "cell_type": "heading",
     "level": 3,
     "metadata": {},
     "source": [
      "Total Harmonic Distortion"
     ]
    },
    {
     "cell_type": "markdown",
     "metadata": {},
     "source": [
      "Suppose that a signal that is supposed to be a pure sine wave of amplitude A is distorted as shown below\n",
      "\n",
      "<img src=\"files/pictures/thd.png\">\n",
      "\n",
      "This can occur in the line voltages of an industrial plant that makes heavy use of nonlineear loads such as electric arc furnaces, solid state relays, motor drives, etc (E.g. Tata Steel!)"
     ]
    },
    {
     "cell_type": "heading",
     "level": 3,
     "metadata": {
      "slideshow": {
       "slide_type": "subslide"
      }
     },
     "source": [
      "THD Defined"
     ]
    },
    {
     "cell_type": "markdown",
     "metadata": {},
     "source": [
      "Clearly, some of the harmonics for $k\\ne \\pm 1$ are nonzero. One way to characterie the distortion is to compute the ratio of average power in all the harmonics that \"should not be present\", that is for $k > 1$, to the total average power of the distorted sine wave. The square-root of this ratio is called the *total harmonic distortion* (THD) of the signal.\n",
      "\n",
      "If the signal is real and based on a sine wave (that is *odd*), then $C_k=0$ and\n",
      "\n",
      "$$f_{\\mathrm{RMS}}=\\sqrt{\\sum_{k=1}^{\\infty}2|C_k|^2}$$\n",
      "\n",
      "and we can define the THD as the ratio of the RMS value for all the harmonics for $K>1$ (the distortion) to the RMS of the fundamental which is $\\sqrt{2\\left|C_1\\right|^2}:$\n",
      "\n",
      "$${\\text{THD}} = 100\\sqrt {\\frac{{\\sum\\limits_{k = 2}^\\infty  {{{\\left| {{C_k}} \\right|}^2}} }}{{{{\\left| {{C_1}} \\right|}^2}}}}\\% $$"
     ]
    },
    {
     "cell_type": "heading",
     "level": 3,
     "metadata": {},
     "source": [
      "Computation of THD"
     ]
    },
    {
     "cell_type": "markdown",
     "metadata": {},
     "source": [
      "<img src=\"files/pictures/thd_ps.png\">"
     ]
    },
    {
     "cell_type": "heading",
     "level": 2,
     "metadata": {
      "slideshow": {
       "slide_type": "slide"
      }
     },
     "source": [
      "Steady-State Response of an LTI System to a Periodic Signal"
     ]
    },
    {
     "cell_type": "heading",
     "level": 2,
     "metadata": {
      "slideshow": {
       "slide_type": "slide"
      }
     },
     "source": [
      "End of Part 3"
     ]
    },
    {
     "cell_type": "markdown",
     "metadata": {
      "slideshow": {
       "slide_type": "-"
      }
     },
     "source": [
      "*Summary*\n",
      "\n",
      "* Line spectra\n",
      "* Power in periodic signals\n",
      "* Steady-state response of an LTI system to a periodic signal\n",
      "\n",
      "*Next Time*\n",
      "\n",
      "* The Fourier Transform"
     ]
    },
    {
     "cell_type": "heading",
     "level": 2,
     "metadata": {
      "slideshow": {
       "slide_type": "slide"
      }
     },
     "source": [
      "Home work"
     ]
    },
    {
     "cell_type": "markdown",
     "metadata": {},
     "source": [
      "Compute the exponential Fourier series for the wave forms shown in the last lecture."
     ]
    },
    {
     "cell_type": "heading",
     "level": 2,
     "metadata": {
      "slideshow": {
       "slide_type": "slide"
      }
     },
     "source": [
      "Lab Work"
     ]
    },
    {
     "cell_type": "markdown",
     "metadata": {
      "slideshow": {
       "slide_type": "-"
      }
     },
     "source": [
      "In the lab, on Monday, we will continue to explore Fourier Series and their applications"
     ]
    }
   ],
   "metadata": {}
  }
 ]
}