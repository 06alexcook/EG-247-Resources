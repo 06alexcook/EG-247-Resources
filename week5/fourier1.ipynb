{
 "metadata": {
  "name": ""
 },
 "nbformat": 3,
 "nbformat_minor": 0,
 "worksheets": [
  {
   "cells": [
    {
     "cell_type": "heading",
     "level": 1,
     "metadata": {
      "slideshow": {
       "slide_type": "slide"
      }
     },
     "source": [
      "Fourier Series (Part 1)"
     ]
    },
    {
     "cell_type": "markdown",
     "metadata": {},
     "source": [
      "Dr Chris Jobling ([c.p.jobling@swansea.ac.uk](mailto:c.p.jobling@swansea.ac.uk))<br />Digital Technium 123<br />Office Hours: Thursdays 14:00-15:00\n",
      "\n",
      "You can view the notes for this presentation in [HTML format](http://nbviewer.ipython.org/github/cpjobling/EG-247-Resources/blob/master/week5/fourier1.ipynb) and print using your Brower's print function. The source code of this presentation is available as an interactive [IPython notebook](http://ipython.org/notebook.html) from GitHub: <https://github.com/cpjobling/EG-247-Resources>. The GitHub repository also contains the source code for all the Matlab/Simulink examples."
     ]
    },
    {
     "cell_type": "heading",
     "level": 2,
     "metadata": {
      "slideshow": {
       "slide_type": "slide"
      }
     },
     "source": [
      "Revision?"
     ]
    },
    {
     "cell_type": "markdown",
     "metadata": {},
     "source": [
      "I believe that this subject may have been covered in EG-150 Signals and Systems.\n",
      "\n",
      "Is that true?"
     ]
    },
    {
     "cell_type": "heading",
     "level": 2,
     "metadata": {},
     "source": [
      "Agenda"
     ]
    },
    {
     "cell_type": "heading",
     "level": 2,
     "metadata": {
      "slideshow": {
       "slide_type": "slide"
      }
     },
     "source": [
      "Wave Analysis"
     ]
    },
    {
     "cell_type": "markdown",
     "metadata": {},
     "source": [
      "* [Jean Baptiste Joseph Fourier](http://en.wikipedia.org/wiki/Joseph_Fourier) (21 March 1768 \u2013 16 May 1830) discovered that any *periodic signal* could be represented as a series of *harmonically related* sinusoids.\n",
      "\n",
      "* An *harmonic* is a frequency whose value is an integer multiple of some *fundamental frequency*\n",
      "\n",
      "* For example, the frequencies 2 MHz, 3 Mhz, 4 MHz are the second, third and fourth harmonics of a sinusoid with fundamental frequency 1 Mhz.\n"
     ]
    },
    {
     "cell_type": "heading",
     "level": 3,
     "metadata": {
      "slideshow": {
       "slide_type": "subslide"
      }
     },
     "source": [
      "The Fourier Series"
     ]
    },
    {
     "cell_type": "markdown",
     "metadata": {},
     "source": [
      "Any periodic waveform $f(t)$ can be represented as\n",
      "\n",
      "$$\\begin{gathered}\n",
      "  f(t) = \\frac{1}{2}{a_0} + {a_l}\\cos \\omega t + {a_2}\\cos 2\\omega t + {a_3}\\cos 3\\omega t +  \\cdots  + {a_n}\\cos n\\omega t +  \\cdots  \\\\ \n",
      "   + {b_l}\\sin \\omega t + {b_2}\\sin 2\\omega t + {b_3}\\sin 3\\omega t +  \\cdots  + {b_n}\\sin n\\omega t +  \\cdots  \\\\ \n",
      "\\end{gathered} $$\n",
      "\n",
      "or equivalently (if more confusingly)\n",
      "\n",
      "$$f(t) = \\frac{1}{2}{a_0} + \\sum\\limits_{n = 1}^\\infty  {({a_n}\\cos n\\omega t + {b_n}\\sin n\\omega t)} $$"
     ]
    },
    {
     "cell_type": "heading",
     "level": 3,
     "metadata": {
      "slideshow": {
       "slide_type": "subslide"
      }
     },
     "source": [
      "Notation"
     ]
    },
    {
     "cell_type": "markdown",
     "metadata": {},
     "source": [
      "* The first term $a_o/2$ is a constant and represents the DC (average) component of the signal $f(t)$\n",
      "* The terms with coefficients $a_1$ and $b_1$ together represent the fundamental frequency component of $f(t)$ at frequency $\\omega$.\n",
      "* The terms with coefficients $a_2$ and $b_2$ together represent the second harmonic frequency component of $f(t)$ at frequency $2\\omega$.\n",
      "\n",
      "And so on.\n",
      "\n",
      "Since any periodic function $f(t)$ can be expressed as a Fourier series, it follows that the sum of the DC, fundamental, second harmonic and so on must produced the waveform $f(t)$."
     ]
    },
    {
     "cell_type": "heading",
     "level": 3,
     "metadata": {
      "slideshow": {
       "slide_type": "subslide"
      }
     },
     "source": [
      "Sums of sinusoids"
     ]
    },
    {
     "cell_type": "markdown",
     "metadata": {},
     "source": [
      "In general, the sum of two or more sinusoids does not produce a sinusoid as shown below.\n",
      "\n",
      "<img src=\"files/pictures/7_1.png\">\n",
      "\n",
      "To generate this picture use [fourier_series1.m](files/matlab/fourier_series1.m)."
     ]
    },
    {
     "cell_type": "heading",
     "level": 3,
     "metadata": {},
     "source": [
      "Evaluation of the Fourier series coefficients"
     ]
    },
    {
     "cell_type": "markdown",
     "metadata": {},
     "source": [
      "The coefficients are obtained from the following expressions:\n",
      "\n",
      "$$\\frac{1}{2}a_0 = \\frac{1}{2\\pi}\\int_{0}^{2\\pi}f(t)dt$$\n",
      "\n",
      "$$a_n = \\frac{1}{\\pi}\\int_{0}^{2\\pi}f(t)\\cos nt\\,dt$$\n",
      "\n",
      "$$b_n = \\frac{1}{\\pi}\\int_{0}^{2\\pi}f(t)\\sin nt\\,dt$$"
     ]
    },
    {
     "cell_type": "heading",
     "level": 2,
     "metadata": {
      "slideshow": {
       "slide_type": "slide"
      }
     },
     "source": [
      "Symmetry in Trigonometric Fourier Series"
     ]
    },
    {
     "cell_type": "markdown",
     "metadata": {},
     "source": [
      "There are simplifications we can make if the original periodic properties has certain properties:\n",
      "\n",
      "* If $f(t)$ is odd, $a_0=0$ and there will be no cosine terms so ${a_n} = 0\\; \\forall n > 0$\n",
      "* If $f(t)$ is even, there will be no sine terms and ${b_n} = 0\\; \\forall n > 0$. The DC may or may not be zero.\n",
      "* If $f(t)$ has *half-wave symmetry* only the odd harmonics will be present. That is $a_n$ and $b_n$ is zero for all even values of $n$ (0, 2, 4, ...)\n",
      "    "
     ]
    },
    {
     "cell_type": "heading",
     "level": 3,
     "metadata": {
      "slideshow": {
       "slide_type": "subslide"
      }
     },
     "source": [
      "Odd, Even and Half-wave Symmetry"
     ]
    },
    {
     "cell_type": "markdown",
     "metadata": {},
     "source": [
      "**Recall**\n",
      "\n",
      "* An *odd* function is one for which $f(t) = -f(-t)$. The function $\\sin t$ is an *odd* function.\n",
      "* An *even* function is one for which $f(t) = f(-t)$. The function $\\cos t$ is an *even* function.\n",
      "\n",
      "**Half-wave symmetry**\n",
      "\n",
      "* A periodic function with period $T$ is a function for which $f(t) = $f(t + T)$\n",
      "* A periodic function with period $T$, has *half-wave symmetry* if $f(t) = $-f(t + T/2)$"
     ]
    },
    {
     "cell_type": "heading",
     "level": 3,
     "metadata": {
      "slideshow": {
       "slide_type": "subslide"
      }
     },
     "source": [
      "Symmetry in Common Waveforms"
     ]
    },
    {
     "cell_type": "markdown",
     "metadata": {},
     "source": [
      "To reproduce the following waveforms (without annotation) publish the script [waves.m](files/matlab/waves.m)."
     ]
    },
    {
     "cell_type": "heading",
     "level": 4,
     "metadata": {
      "slideshow": {
       "slide_type": "subslide"
      }
     },
     "source": [
      "Squarewave"
     ]
    },
    {
     "cell_type": "markdown",
     "metadata": {},
     "source": [
      "<img src=\"files/pictures/square.png\">\n",
      "\n",
      "* Average value over period $T$ is zero.\n",
      "* It is an *odd* function $f(t) = - f(-t)$\n",
      "* It has half-wave symmetry $f(t)=-f(t+T/2)$"
     ]
    },
    {
     "cell_type": "heading",
     "level": 4,
     "metadata": {
      "slideshow": {
       "slide_type": "subslide"
      }
     },
     "source": [
      "Shifted Squarewave"
     ]
    },
    {
     "cell_type": "markdown",
     "metadata": {},
     "source": [
      "<img src=\"files/pictures/shifted_sq.png\">\n",
      "\n",
      "* Average value over period $T$ is zero.\n",
      "* It is an *even* function $f(t) = f(-t)$\n",
      "* It has *half-wave symmetry* $f(t)=-f(t+T/2)$"
     ]
    },
    {
     "cell_type": "heading",
     "level": 4,
     "metadata": {
      "slideshow": {
       "slide_type": "subslide"
      }
     },
     "source": [
      "Sawtooth"
     ]
    },
    {
     "cell_type": "markdown",
     "metadata": {},
     "source": [
      "<img src=\"files/pictures/sawtooth.png\">\n",
      "\n",
      "* Average value over period $T$ is zero.\n",
      "* It is an *odd* function $f(t) = - f(-t)$\n",
      "* It doesn't have *half-wave symmetry* $f(t) \\ne -f(t+T/2)$"
     ]
    },
    {
     "cell_type": "heading",
     "level": 4,
     "metadata": {
      "slideshow": {
       "slide_type": "subslide"
      }
     },
     "source": [
      "Triangle"
     ]
    },
    {
     "cell_type": "markdown",
     "metadata": {},
     "source": [
      "<img src=\"files/pictures/triangle.png\">\n",
      "\n",
      "\n",
      "* Average value over period $T$ is zero.\n",
      "* It is an *odd* function $f(t) = - f(-t)$\n",
      "* It has *half-wave symmetry* $f(t) = -f(t+T/2)$"
     ]
    },
    {
     "cell_type": "heading",
     "level": 3,
     "metadata": {
      "slideshow": {
       "slide_type": "slide"
      }
     },
     "source": [
      "Symmetry in fundamental, Second and Third Harmonics"
     ]
    },
    {
     "cell_type": "markdown",
     "metadata": {},
     "source": [
      "In the following, $T/2$ is taken to be the half-period of the fundamental sinewave."
     ]
    },
    {
     "cell_type": "heading",
     "level": 4,
     "metadata": {
      "slideshow": {
       "slide_type": "subslide"
      }
     },
     "source": [
      "Fundamental"
     ]
    },
    {
     "cell_type": "markdown",
     "metadata": {},
     "source": [
      "<img src=\"files/pictures/fundamental.png\">\n",
      "\n",
      "\n",
      "* Average value over period $T$ is zero.\n",
      "* It is an *odd* function $f(t) = - f(-t)$\n",
      "* It has *half-wave symmetry* $f(t) = -f(t+T/2)$"
     ]
    },
    {
     "cell_type": "heading",
     "level": 4,
     "metadata": {
      "slideshow": {
       "slide_type": "subslide"
      }
     },
     "source": [
      "Second Harmonic"
     ]
    },
    {
     "cell_type": "markdown",
     "metadata": {},
     "source": [
      "<img src=\"files/pictures/2nd_harm.png\">\n",
      "\n",
      "\n",
      "* Average value over period $T$ is zero.\n",
      "* It is an *odd* function $f(t) = - f(-t)$\n",
      "* It doesn't have *half-wave symmetry* $f(t) \\ne -f(t+T/2)$"
     ]
    },
    {
     "cell_type": "heading",
     "level": 4,
     "metadata": {
      "slideshow": {
       "slide_type": "subslide"
      }
     },
     "source": [
      "Third Harmonic"
     ]
    },
    {
     "cell_type": "markdown",
     "metadata": {},
     "source": [
      "<img src=\"files/pictures/3rd_harm.png\">\n",
      "\n",
      "* Average value over period $T$ is zero.\n",
      "* It is an *odd* function $f(t) = - f(-t)$\n",
      "* It has *half-wave symmetry* $f(t) = -f(t+T/2)$"
     ]
    },
    {
     "cell_type": "heading",
     "level": 3,
     "metadata": {
      "slideshow": {
       "slide_type": "subslide"
      }
     },
     "source": [
      "Computing coefficients of Trig. Fourier Series in Matlab\n",
      "\n"
     ]
    },
    {
     "cell_type": "markdown",
     "metadata": {},
     "source": [
      "As an example let's take a square wave with amplitude $\\pm A$ and period $T$.\n",
      "\n",
      "Solution: See [square_ftrig.m](files/matlab/square_ftrig.m)\n",
      "\n",
      "<img src=\"files/pictures/fsq_trig.png\">\n",
      "\n",
      "Note that the coefficients match those given in the textbook (Section 7.4.1)."
     ]
    },
    {
     "cell_type": "heading",
     "level": 2,
     "metadata": {
      "slideshow": {
       "slide_type": "slide"
      }
     },
     "source": [
      "Homework"
     ]
    },
    {
     "cell_type": "markdown",
     "metadata": {},
     "source": [
      "Do the end of the chapter exercises (Section 1.7) from the textbook. Don't look at the answers until you have attempted the problems."
     ]
    },
    {
     "cell_type": "heading",
     "level": 2,
     "metadata": {
      "slideshow": {
       "slide_type": "slide"
      }
     },
     "source": [
      "Lab Work"
     ]
    },
    {
     "cell_type": "markdown",
     "metadata": {
      "slideshow": {
       "slide_type": "-"
      }
     },
     "source": [
      "In the lab, on Monday, we will solve Example 2 using Matlab/Simulink following the procedure given in Pages between pages 1-17 and 1-22 of the textbook. We will also explore the `heaviside` and `dirac` functions."
     ]
    }
   ],
   "metadata": {}
  }
 ]
}