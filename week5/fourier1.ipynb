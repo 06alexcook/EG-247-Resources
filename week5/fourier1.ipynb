{
 "metadata": {
  "name": ""
 },
 "nbformat": 3,
 "nbformat_minor": 0,
 "worksheets": [
  {
   "cells": [
    {
     "cell_type": "heading",
     "level": 1,
     "metadata": {
      "slideshow": {
       "slide_type": "slide"
      }
     },
     "source": [
      "Fourier Series (Part 1)"
     ]
    },
    {
     "cell_type": "markdown",
     "metadata": {},
     "source": [
      "Dr Chris Jobling ([c.p.jobling@swansea.ac.uk](mailto:c.p.jobling@swansea.ac.uk))<br />Digital Technium 123<br />Office Hours: Thursdays 14:00-15:00\n",
      "\n",
      "You can view the notes for this presentation in [HTML format](http://nbviewer.ipython.org/github/cpjobling/EG-247-Resources/blob/master/week5/fourier1.ipynb) and print using your Brower's print function. The source code of this presentation is available as an interactive [IPython notebook](http://ipython.org/notebook.html) from GitHub: <https://github.com/cpjobling/EG-247-Resources>. The GitHub repository also contains the source code for all the Matlab/Simulink examples."
     ]
    },
    {
     "cell_type": "heading",
     "level": 2,
     "metadata": {
      "slideshow": {
       "slide_type": "slide"
      }
     },
     "source": [
      "Revision?"
     ]
    },
    {
     "cell_type": "markdown",
     "metadata": {},
     "source": [
      "I believe that this subject may have been covered in EG-150 Signals and Systems.\n",
      "\n",
      "Is that true?"
     ]
    },
    {
     "cell_type": "heading",
     "level": 2,
     "metadata": {},
     "source": [
      "Agenda"
     ]
    },
    {
     "cell_type": "heading",
     "level": 2,
     "metadata": {
      "slideshow": {
       "slide_type": "slide"
      }
     },
     "source": [
      "Wave Analysis"
     ]
    },
    {
     "cell_type": "markdown",
     "metadata": {},
     "source": [
      "* [Jean Baptiste Joseph Fourier](http://en.wikipedia.org/wiki/Joseph_Fourier) (21 March 1768 \u2013 16 May 1830) discovered that any *periodic signal* could be represented as a series of *harmonically related* sinusoids.\n",
      "\n",
      "* An *harmonic* is a frequency whose value is an integer multiple of some *fundamental frequency*\n",
      "\n",
      "* For example, the frequencies 2 MHz, 3 Mhz, 4 MHz are the second, third and fourth harmonics of a sinusoid with fundamental frequency 1 Mhz.\n"
     ]
    },
    {
     "cell_type": "heading",
     "level": 3,
     "metadata": {
      "slideshow": {
       "slide_type": "subslide"
      }
     },
     "source": [
      "The Fourier Series"
     ]
    },
    {
     "cell_type": "markdown",
     "metadata": {},
     "source": [
      "Any periodic waveform $f(t)$ can be represented as\n",
      "\n",
      "$$\\begin{gathered}\n",
      "  f(t) = \\frac{1}{2}{a_0} + {a_l}\\cos \\omega t + {a_2}\\cos 2\\omega t + {a_3}\\cos 3\\omega t +  \\cdots  + {a_n}\\cos n\\omega t +  \\cdots  \\\\ \n",
      "   + {b_l}\\sin \\omega t + {b_2}\\sin 2\\omega t + {b_3}\\sin 3\\omega t +  \\cdots  + {b_n}\\sin n\\omega t +  \\cdots  \\\\ \n",
      "\\end{gathered} $$\n",
      "\n",
      "or equivalently (if more confusingly)\n",
      "\n",
      "$$f(t) = \\frac{1}{2}{a_0} + \\sum\\limits_{n = 1}^\\infty  {({a_n}\\cos n\\omega t + {b_n}\\sin n\\omega t)} $$"
     ]
    },
    {
     "cell_type": "heading",
     "level": 3,
     "metadata": {
      "slideshow": {
       "slide_type": "subslide"
      }
     },
     "source": [
      "Notation"
     ]
    },
    {
     "cell_type": "markdown",
     "metadata": {},
     "source": [
      "* The first term $a_o/2$ is a constant and represents the DC (average) component of the signal $f(t)$\n",
      "* The terms with coefficients $a_1$ and $b_1$ together represent the fundamental frequency component of $f(t)$ at frequency $\\omega$.\n",
      "* The terms with coefficients $a_2$ and $b_2$ together represent the second harmonic frequency component of $f(t)$ at frequency $2\\omega$.\n",
      "\n",
      "And so on.\n",
      "\n",
      "Since any periodic function $f(t)$ can be expressed as a Fourier series, it follows that the sum of the DC, fundamental, second harmonic and so on must produced the waveform $f(t)$."
     ]
    },
    {
     "cell_type": "heading",
     "level": 3,
     "metadata": {
      "slideshow": {
       "slide_type": "subslide"
      }
     },
     "source": [
      "Sums of sinusoids"
     ]
    },
    {
     "cell_type": "markdown",
     "metadata": {},
     "source": [
      "In general, the sum of two or more sinusoids does not produce a sinusoid as shown below.\n",
      "\n",
      "<img src=\"files/pictures/7_1.png\">\n",
      "\n",
      "To generate this picture use [fourier_series1.m](files/matlab/fourier_series1.m)."
     ]
    },
    {
     "cell_type": "heading",
     "level": 2,
     "metadata": {
      "slideshow": {
       "slide_type": "slide"
      }
     },
     "source": [
      "Homework"
     ]
    },
    {
     "cell_type": "markdown",
     "metadata": {},
     "source": [
      "Do the end of the chapter exercises (Section 1.7) from the textbook. Don't look at the answers until you have attempted the problems."
     ]
    },
    {
     "cell_type": "heading",
     "level": 2,
     "metadata": {
      "slideshow": {
       "slide_type": "slide"
      }
     },
     "source": [
      "Lab Work"
     ]
    },
    {
     "cell_type": "markdown",
     "metadata": {
      "slideshow": {
       "slide_type": "-"
      }
     },
     "source": [
      "In the lab, on Monday, we will solve Example 2 using Matlab/Simulink following the procedure given in Pages between pages 1-17 and 1-22 of the textbook. We will also explore the `heaviside` and `dirac` functions."
     ]
    }
   ],
   "metadata": {}
  }
 ]
}