{
 "metadata": {
  "name": ""
 },
 "nbformat": 3,
 "nbformat_minor": 0,
 "worksheets": [
  {
   "cells": [
    {
     "cell_type": "heading",
     "level": 1,
     "metadata": {
      "slideshow": {
       "slide_type": "slide"
      }
     },
     "source": [
      "Discrete-Time System Models"
     ]
    },
    {
     "cell_type": "markdown",
     "metadata": {},
     "source": [
      "Dr Chris Jobling ([c.p.jobling@swansea.ac.uk](mailto:c.p.jobling@swansea.ac.uk))<br />Digital Technium 123<br />Office Hours: Thursdays 14:00-15:00\n",
      "\n",
      "You can view the notes for this presentation in [HTML format](http://nbviewer.ipython.org/github/cpjobling/EG-247-Resources/blob/master/week10/dt-models.ipynb) and print using your Brower's print function. The source code of this presentation is available as an interactive [IPython notebook](http://ipython.org/notebook.html) from GitHub: <https://github.com/cpjobling/EG-247-Resources>. The GitHub repository also contains the source code for all the Matlab/Simulink examples."
     ]
    },
    {
     "cell_type": "heading",
     "level": 2,
     "metadata": {
      "slideshow": {
       "slide_type": "slide"
      }
     },
     "source": [
      "Scope and Background Reading"
     ]
    },
    {
     "cell_type": "markdown",
     "metadata": {},
     "source": [
      "This session...\n",
      "\n",
      "The material in this presentation and notes is based on Chapter 9 (Starting at Section 9.6) of [Steven T. Karris, Signals and Systems: with Matlab Computation and Simulink Modelling, 5th Edition.](http://site.ebrary.com/lib/swansea/docDetail.action?docID=10547416) from the **Required Reading List**. "
     ]
    },
    {
     "cell_type": "heading",
     "level": 2,
     "metadata": {
      "slideshow": {
       "slide_type": "slide"
      }
     },
     "source": [
      "Agenda"
     ]
    },
    {
     "cell_type": "markdown",
     "metadata": {},
     "source": [
      "* Discrete Time Systems\n",
      "* Transfer Functions in the Z-Domain\n",
      "* Modelling digital systems in Matlab/Simulink\n",
      "* Continuous System Equivalents\n",
      "* Example: Digital Butterworth Filter"
     ]
    },
    {
     "cell_type": "heading",
     "level": 2,
     "metadata": {
      "slideshow": {
       "slide_type": "slide"
      }
     },
     "source": [
      "Discrete Time Systems"
     ]
    },
    {
     "cell_type": "markdown",
     "metadata": {},
     "source": [
      "In the lecture that introduced the z-transform we talked about the representation of a discrete-time (DT) system by the model shown below:\n",
      "\n",
      "<img src=\"files/pictures/ct-to-dt.png\">\n",
      "\n",
      "In this session, we want to explore the contents of the central block."
     ]
    },
    {
     "cell_type": "heading",
     "level": 3,
     "metadata": {
      "slideshow": {
       "slide_type": "subslide"
      }
     },
     "source": [
      "DT System as a Sequence Processor"
     ]
    },
    {
     "cell_type": "markdown",
     "metadata": {},
     "source": [
      "* As noted in the previous slide, the discrete time system takes as an input the sequence $x_d[n]$<sup>1</sup>.\n",
      "* It produces another sequence $y_d[n]$ by *processing* the input sequence in some way.\n",
      "* The output sequence is converted into an analogue signal $y(t)$ by a digital to analogue converter."
     ]
    },
    {
     "cell_type": "markdown",
     "metadata": {
      "slideshow": {
       "slide_type": "fragment"
      }
     },
     "source": [
      "<img src=\"files/pictures/sigs.png\">"
     ]
    },
    {
     "cell_type": "heading",
     "level": 3,
     "metadata": {
      "slideshow": {
       "slide_type": "subslide"
      }
     },
     "source": [
      "What is the nature of the DTS?"
     ]
    },
    {
     "cell_type": "markdown",
     "metadata": {},
     "source": [
      "* The discrete time system (DTS) is a block that converts a sequence $x_d[n]$ into another sequence $y_d[n]$\n",
      "* The transformation will be a *difference equation* $h[n]$"
     ]
    },
    {
     "cell_type": "markdown",
     "metadata": {
      "slideshow": {
       "slide_type": "fragment"
      }
     },
     "source": [
      "* By analogy with CT systems, $h[n]$ is the impulse response of the DTS, and $y[n]$ can be obtained by *convolving* $h[n]$ with $x_d[n]$ so:\n",
      "\n",
      "$$y_d[n] = h[n] * x_d[n]$$"
     ]
    },
    {
     "cell_type": "markdown",
     "metadata": {
      "slideshow": {
       "slide_type": "fragment"
      }
     },
     "source": [
      "* Taking the z-transform of $h[n]$ we get $H(z)$, and from the transform properties, convolution of the signal $x_d[n]$ by system $h[n]$ will be *multiplication* of the z-transforms:\n",
      "\n",
      "$$Y_d(z) = H(z) X_d(z)$$"
     ]
    },
    {
     "cell_type": "markdown",
     "metadata": {
      "slideshow": {
       "slide_type": "fragment"
      }
     },
     "source": [
      "* So, what does $h[n]$ and therefore $H(z)$ look like?"
     ]
    },
    {
     "cell_type": "heading",
     "level": 2,
     "metadata": {
      "slideshow": {
       "slide_type": "slide"
      }
     },
     "source": [
      "Transfer Functions in the z-Domain"
     ]
    },
    {
     "cell_type": "markdown",
     "metadata": {},
     "source": [
      "Let us assume that the sequence transformation is a *difference equation* of the form<sup>2</sup>:\n",
      "\n",
      "$$\\begin{array}{l}\n",
      "y[n] + {a_1}y[n - 1] + {a_2}y[n - 2] +  \\cdots  + {a_k}y[n - k]\\\\\n",
      "\\quad  = {b_0}x[n] + {b_1}y[n - 1] + {b_2}y[n - 2] +  \\cdots  + {b_k}y[n - k]\n",
      "\\end{array}$$"
     ]
    },
    {
     "cell_type": "heading",
     "level": 3,
     "metadata": {
      "slideshow": {
       "slide_type": "subslide"
      }
     },
     "source": [
      "Take Z-Transform of both sides"
     ]
    },
    {
     "cell_type": "markdown",
     "metadata": {},
     "source": [
      "From the z-transform properties\n",
      "\n",
      "$$f[n-m] \\Leftrightarrow z^{-m}F(z)$$\n",
      "\n",
      "so...."
     ]
    },
    {
     "cell_type": "markdown",
     "metadata": {
      "slideshow": {
       "slide_type": "fragment"
      }
     },
     "source": [
      "$$Y(z) + a_1z^{-1}Y(z) + a_2z^{-2}Y(z) + \\cdots + a_kz^{-k}Y(z) = ...$$"
     ]
    },
    {
     "cell_type": "markdown",
     "metadata": {
      "slideshow": {
       "slide_type": "fragment"
      }
     },
     "source": [
      "$$b_0 U(z) + b_1z^{-1}U(z) + b_2z^{-2}U(z) + \\cdots + b_kz^{-k}U(z)$$"
     ]
    },
    {
     "cell_type": "heading",
     "level": 3,
     "metadata": {
      "slideshow": {
       "slide_type": "subslide"
      }
     },
     "source": [
      "Gather terms"
     ]
    },
    {
     "cell_type": "markdown",
     "metadata": {
      "slideshow": {
       "slide_type": "fragment"
      }
     },
     "source": [
      "$$\\left(1 + a_{1}z^{-1} + a_{2}z^{-2} + \\cdots a_{k}z^{-k}\\right)Y(z) = \\left(b_0 + b_{1}z^{-1} + b_{2}z^{-2} + \\cdots b_{k}z^{-k}\\right) U(z)$$\n",
      "\n",
      "from which ...\n"
     ]
    },
    {
     "cell_type": "markdown",
     "metadata": {
      "slideshow": {
       "slide_type": "fragment"
      }
     },
     "source": [
      "$$Y(z) = \\left(\\frac{b_0 + b_{1}z^{-1} + b_{2}z^{-2} + \\cdots b_{k}z^{-k}}{1 + a_{1}z^{-1} + a_{2}z^{-2} + \\cdots a_{k}z^{-k}\n",
      "}\\right) U(z)$$"
     ]
    },
    {
     "cell_type": "heading",
     "level": 3,
     "metadata": {
      "slideshow": {
       "slide_type": "subslide"
      }
     },
     "source": [
      "Define transfer function"
     ]
    },
    {
     "cell_type": "markdown",
     "metadata": {},
     "source": [
      "We define the *discrete time transfer function* $H(z) := Y(z)/U(z)$ so..."
     ]
    },
    {
     "cell_type": "markdown",
     "metadata": {
      "slideshow": {
       "slide_type": "fragment"
      }
     },
     "source": [
      "$$H(z) = \\frac{Y(z)}{U(z)} = \\frac{b_0 + b_{1}z^{-1} + b_{2}z^{-2} + \\cdots b_{k}z^{-k}}{1 + a_{1}z^{-1} + a_{2}z^{-2} + \\cdots a_{k}z^{-k}\n",
      "}$$\n",
      "\n",
      "\n"
     ]
    },
    {
     "cell_type": "markdown",
     "metadata": {
      "slideshow": {
       "slide_type": "fragment"
      }
     },
     "source": [
      "... or more conventionally<sup>3</sup>:\n",
      "\n",
      "$$H(z) = \\frac{b_0z^k + b_{1}z^{k-1} + b_{2}z^{k-2} + \\cdots b_{k-1}z + b_{k}}{z^k + a_{1}z^{k-1} + a_{2}z^{k-2} + \\cdots a_{k-1} z + a_{k}}$$"
     ]
    },
    {
     "cell_type": "heading",
     "level": 3,
     "metadata": {
      "slideshow": {
       "slide_type": "subslide"
      }
     },
     "source": [
      "DT impulse response"
     ]
    },
    {
     "cell_type": "markdown",
     "metadata": {
      "slideshow": {
       "slide_type": "fragment"
      }
     },
     "source": [
      "The *discrete-time impulse reponse* $h[n]$ is the response of the DT system to the input $x[n] = \\delta[n]$ "
     ]
    },
    {
     "cell_type": "markdown",
     "metadata": {
      "slideshow": {
       "slide_type": "fragment"
      }
     },
     "source": [
      "Last week we showed that $\\mathcal{Z}\\left\\{\\delta[n]\\right\\}$ was defined by the transform pair ..."
     ]
    },
    {
     "cell_type": "markdown",
     "metadata": {
      "slideshow": {
       "slide_type": "fragment"
      }
     },
     "source": [
      "$$\\delta[n] \\Leftrightarrow 1$$\n",
      "\n",
      "so \n",
      "\n",
      "$$h[n] = ...$$"
     ]
    },
    {
     "cell_type": "markdown",
     "metadata": {
      "slideshow": {
       "slide_type": "fragment"
      }
     },
     "source": [
      "$$h[n] = \\mathcal{Z}^{-1}\\left\\{H(z).1\\right\\} = \\mathcal{Z}^{-1}\\left\\{H(z)\\right\\}$$"
     ]
    },
    {
     "cell_type": "heading",
     "level": 3,
     "metadata": {
      "slideshow": {
       "slide_type": "subslide"
      }
     },
     "source": [
      "Example 1"
     ]
    },
    {
     "cell_type": "markdown",
     "metadata": {},
     "source": [
      "Karris Example 9.10:\n",
      "\n",
      "The difference equation describing the input-output relationship of a DT system with zero initial conditions, is:\n",
      "\n",
      "$$y[n] - 0.5 y[n-1] + 0.125 y[n-2] = x[n] + x[n -1]$$\n",
      "\n",
      "Compute:\n",
      "\n",
      "1. The transfer function $H(z)$\n",
      "2. The DT impulse response $h[n]$\n",
      "3. The response $y[n]$ when the input $x[n]$ is the DT unit step $u_0[n]$"
     ]
    },
    {
     "cell_type": "heading",
     "level": 3,
     "metadata": {
      "slideshow": {
       "slide_type": "subslide"
      }
     },
     "source": [
      "1. The transfer function"
     ]
    },
    {
     "cell_type": "markdown",
     "metadata": {},
     "source": [
      "$$H(z) = \\frac{Y(z)}{U(z)} = ...?$$"
     ]
    },
    {
     "cell_type": "heading",
     "level": 3,
     "metadata": {
      "slideshow": {
       "slide_type": "subslide"
      }
     },
     "source": [
      "1. Solution"
     ]
    },
    {
     "cell_type": "markdown",
     "metadata": {},
     "source": [
      "$$H(z) = \\frac{Y(z)}{X(z)} = \\frac{z^2 + z}{z^2 - 0.5z + 0.125}$$"
     ]
    },
    {
     "cell_type": "heading",
     "level": 3,
     "metadata": {
      "slideshow": {
       "slide_type": "subslide"
      }
     },
     "source": [
      "2. The DT impulse response"
     ]
    },
    {
     "cell_type": "markdown",
     "metadata": {
      "slideshow": {
       "slide_type": "fragment"
      }
     },
     "source": [
      "Start with:\n",
      "\n",
      "$$\\frac{H(z)}{z} = \\frac{z - 1}{z^2 + 0.5 z + 0.125}$$"
     ]
    },
    {
     "cell_type": "heading",
     "level": 3,
     "metadata": {
      "slideshow": {
       "slide_type": "subslide"
      }
     },
     "source": [
      "2. Solution"
     ]
    },
    {
     "cell_type": "markdown",
     "metadata": {},
     "source": [
      "$$h[n] = {\\left( {\\frac{{\\sqrt 2 }}{4}} \\right)^n}\\left( {\\cos \\left( {\\frac{{n\\pi }}{4}} \\right) + 5\\sin \\left( {\\frac{n\\pi }{4}} \\right)} \\right)$$\n"
     ]
    },
    {
     "cell_type": "heading",
     "level": 3,
     "metadata": {
      "slideshow": {
       "slide_type": "subslide"
      }
     },
     "source": [
      "Matlab Solution"
     ]
    },
    {
     "cell_type": "markdown",
     "metadata": {
      "slideshow": {
       "slide_type": "subslide"
      }
     },
     "source": [
      "See [dtm_ex1_2.m](files/matlab/dtm_ex1_2.m):\n",
      "    \n",
      "<img src=\"files/pictures/dtm_ex1_2_1.png\">"
     ]
    },
    {
     "cell_type": "markdown",
     "metadata": {
      "slideshow": {
       "slide_type": "subslide"
      }
     },
     "source": [
      "<img src=\"files/pictures/dtm_ex1_2_2.png\">"
     ]
    },
    {
     "cell_type": "heading",
     "level": 3,
     "metadata": {
      "slideshow": {
       "slide_type": "subslide"
      }
     },
     "source": [
      "3. The DT step response"
     ]
    },
    {
     "cell_type": "markdown",
     "metadata": {
      "slideshow": {
       "slide_type": "fragment"
      }
     },
     "source": [
      "$$Y(z) = H(z)X(z)$$"
     ]
    },
    {
     "cell_type": "markdown",
     "metadata": {
      "slideshow": {
       "slide_type": "fragment"
      }
     },
     "source": [
      "$$u_0[n] \\Leftrightarrow \\frac{z}{z - 1}$$"
     ]
    },
    {
     "cell_type": "markdown",
     "metadata": {
      "slideshow": {
       "slide_type": "fragment"
      }
     },
     "source": [
      "$$Y(z) = H(z)U_0(z) = \\frac{z^2 + z}{z^2 + 0.5 z + 0.125}.\\frac{z}{z - 1} = \\frac{z(z^2 + z)}{(z^2 + 0.5 z + 0.125)(z - 1)}$$"
     ]
    },
    {
     "cell_type": "markdown",
     "metadata": {
      "slideshow": {
       "slide_type": "fragment"
      }
     },
     "source": [
      "$$\\frac{Y(z)}{z} = \\frac{z^2 + z}{(z^2 + 0.5 z + 0.125)(z - 1)}$$"
     ]
    },
    {
     "cell_type": "heading",
     "level": 3,
     "metadata": {
      "slideshow": {
       "slide_type": "subslide"
      }
     },
     "source": [
      "3. Solution"
     ]
    },
    {
     "cell_type": "markdown",
     "metadata": {},
     "source": [
      "$$y[n] = \\left(3.2 - {\\left( {\\frac{{\\sqrt 2 }}{4}} \\right)^n}\\left( {2.2 \\cos \\left( {\\frac{{n\\pi }}{4}} \\right) + 0.6\\sin \\left( {\\frac{n\\pi }{4}} \\right)} \\right)\\right) u_0[n]$$"
     ]
    },
    {
     "cell_type": "heading",
     "level": 3,
     "metadata": {
      "slideshow": {
       "slide_type": "subslide"
      }
     },
     "source": [
      "Matlab Solution"
     ]
    },
    {
     "cell_type": "markdown",
     "metadata": {
      "slideshow": {
       "slide_type": "subslide"
      }
     },
     "source": [
      "See [dtm_ex1_3.m](files/matlab/dtm_ex1_3.m):\n",
      "    \n",
      "<img src=\"files/pictures/dtm_ex1_3_1.png\">"
     ]
    },
    {
     "cell_type": "heading",
     "level": 2,
     "metadata": {
      "slideshow": {
       "slide_type": "slide"
      }
     },
     "source": [
      "Modelling DT systems in Matlab and Simulink"
     ]
    },
    {
     "cell_type": "heading",
     "level": 3,
     "metadata": {
      "slideshow": {
       "slide_type": "subslide"
      }
     },
     "source": [
      "Matlab"
     ]
    },
    {
     "cell_type": "markdown",
     "metadata": {},
     "source": [
      "Code extracted from [dtm_ex1_3.m](files/matlab/dtm_ex1_3.m):\n",
      "\n",
      "```matlab\n",
      "Ts = 1;\n",
      "z = tf('z', Ts)\n",
      "Hz = (z^2 + z)/(z^2 - 0.5 * z + 0.125)\n",
      "step(Hz)\n",
      "grid\n",
      "title('Example 1 - Part 3 - As Analogue Signal')\n",
      "xlabel('nTs [s]')\n",
      "ylabel('Step response y(t)')\n",
      "axis([0,15,0,3.5])\n",
      "```"
     ]
    },
    {
     "cell_type": "markdown",
     "metadata": {
      "slideshow": {
       "slide_type": "subslide"
      }
     },
     "source": [
      "<img src=\"files/pictures/dtm_ex1_3_2.png\">"
     ]
    },
    {
     "cell_type": "heading",
     "level": 3,
     "metadata": {
      "slideshow": {
       "slide_type": "subslide"
      }
     },
     "source": [
      "Simulink Model"
     ]
    },
    {
     "cell_type": "markdown",
     "metadata": {},
     "source": [
      "See [dtm.slx](files/matlab/dtm.slx):\n",
      "\n",
      "<img src=\"files/pictures/simulink_model.png\">"
     ]
    },
    {
     "cell_type": "markdown",
     "metadata": {
      "slideshow": {
       "slide_type": "subslide"
      }
     },
     "source": [
      "<img src=\"files/pictures/scope.png\">"
     ]
    },
    {
     "cell_type": "heading",
     "level": 2,
     "metadata": {
      "slideshow": {
       "slide_type": "slide"
      }
     },
     "source": [
      "Continuous System Equivalents"
     ]
    },
    {
     "cell_type": "markdown",
     "metadata": {},
     "source": [
      "$$f[n] = -0.5\\delta[n] + 0.4 + \\frac{(\\sqrt{2})^n}{10}\\cos \\frac{3n\\pi}{4} - \\frac{3(\\sqrt{2})^n}{10}\\sin \\frac{3n\\pi}{4}$$"
     ]
    },
    {
     "cell_type": "heading",
     "level": 3,
     "metadata": {
      "slideshow": {
       "slide_type": "subslide"
      }
     },
     "source": [
      "Matlab solution"
     ]
    },
    {
     "cell_type": "markdown",
     "metadata": {},
     "source": [
      "See [example3.m](files/matlab/example3.m)"
     ]
    },
    {
     "cell_type": "heading",
     "level": 3,
     "metadata": {
      "slideshow": {
       "slide_type": "subslide"
      }
     },
     "source": [
      "Lollipop Plot"
     ]
    },
    {
     "cell_type": "markdown",
     "metadata": {},
     "source": [
      "<img src=\"files/pictures/example3a.png\">"
     ]
    },
    {
     "cell_type": "heading",
     "level": 3,
     "metadata": {
      "slideshow": {
       "slide_type": "subslide"
      }
     },
     "source": [
      "Staircase Plot"
     ]
    },
    {
     "cell_type": "markdown",
     "metadata": {
      "slideshow": {
       "slide_type": "skip"
      }
     },
     "source": [
      "**Notes**:\n",
      "\n",
      "1. $x_d[n]$ which represents the values of the analogue signal $x(t)$ sampled every $nT_s$ seconds. $T_s$ is the sampling time.\n",
      "2. For clarity, we have dropped the subscript from $x_d[n]$ and $y_d[n]$\n",
      "3. We multiply top and bottom by $z^k$ to convert negative powers of $z$ to positive powers."
     ]
    },
    {
     "cell_type": "markdown",
     "metadata": {},
     "source": [
      "<img src=\"files/pictures/example3b.png\">"
     ]
    },
    {
     "cell_type": "heading",
     "level": 3,
     "metadata": {
      "slideshow": {
       "slide_type": "slide"
      }
     },
     "source": [
      "Inverse Z-Transform by the Inversion Integral"
     ]
    },
    {
     "cell_type": "markdown",
     "metadata": {},
     "source": [
      "The inversion integral states that:\n",
      "\n",
      "$$f[n] = \\frac{1}{{j2\\pi }}\\oint_C {F(z){z^{n - 1}}\\,dz} $$\n",
      "\n",
      "where $C$ is a closed curve that encloses all poles of the integrant.\n",
      "\n",
      "This can (*apparently*) be solved by Cauchy's residue theorem!!\n",
      "\n",
      "Fortunately (:-), this is beyond the scope of this module!\n",
      "\n",
      "See Karris Section 9.6.2 (pp 9-29&mdash;9-33) if you want to find out more."
     ]
    },
    {
     "cell_type": "heading",
     "level": 3,
     "metadata": {
      "slideshow": {
       "slide_type": "slide"
      }
     },
     "source": [
      "Inverse Z-Transform by the Long Division"
     ]
    },
    {
     "cell_type": "markdown",
     "metadata": {},
     "source": [
      "To apply this method, $F(z)$ must be a rational polynomial functuon, and the numerator and denominator must be polynomials arranged in descending powers of $z$."
     ]
    },
    {
     "cell_type": "heading",
     "level": 3,
     "metadata": {
      "slideshow": {
       "slide_type": "subslide"
      }
     },
     "source": [
      "Example 4"
     ]
    },
    {
     "cell_type": "markdown",
     "metadata": {},
     "source": [
      "Karris example 9.9: use the long division method to determinf $f[n]$ for $n = 0,\\,1,\\,\\mathrm{and}\\,2$, given that\n",
      "\n",
      "$$F(z) = \\frac{1 + z^{-1} + 2z^{-2} + 3z^{-3}}{(1 - 0.25z^{-1})(1 - 0.5z^{-1})(1 - 0.75z^{-1})}$$"
     ]
    },
    {
     "cell_type": "heading",
     "level": 3,
     "metadata": {
      "slideshow": {
       "slide_type": "subslide"
      }
     },
     "source": [
      "Answer 4"
     ]
    },
    {
     "cell_type": "markdown",
     "metadata": {},
     "source": [
      "$f[0] = 1$, $f[1] = 5/2$, $f[2] = 81/16$."
     ]
    },
    {
     "cell_type": "heading",
     "level": 3,
     "metadata": {
      "slideshow": {
       "slide_type": "subslide"
      }
     },
     "source": [
      "Matlab"
     ]
    },
    {
     "cell_type": "markdown",
     "metadata": {},
     "source": [
      "See [example4.m](files/matlab/example4.m)\n",
      "\n",
      "````\n",
      "sym_den =\n",
      " \n",
      "z^3 - (3*z^2)/2 + (11*z)/16 - 3/32\n",
      " \n",
      "\n",
      "fn =\n",
      "\n",
      "    1.0000\n",
      "    2.5000\n",
      "    5.0625\n",
      "    ....\n",
      "````"
     ]
    },
    {
     "cell_type": "heading",
     "level": 3,
     "metadata": {
      "slideshow": {
       "slide_type": "subslide"
      }
     },
     "source": [
      "Combined Staircase/Lollipop Plot"
     ]
    },
    {
     "cell_type": "markdown",
     "metadata": {},
     "source": [
      "<img src=\"files/pictures/example4.png\">"
     ]
    },
    {
     "cell_type": "heading",
     "level": 2,
     "metadata": {
      "slideshow": {
       "slide_type": "slide"
      }
     },
     "source": [
      "Methods of Evaluation of the Inverse Z-Transform"
     ]
    },
    {
     "cell_type": "markdown",
     "metadata": {},
     "source": [
      "<table>\n",
      "<thead>\n",
      "<tr><th>Method</th><th>Advantages</th><th>Disadvantages</th></tr>\n",
      "</thead>\n",
      "<tbody>\n",
      "<tr><td>Partial Fraction Expansion</td><td><ul><li>Most familiar.</li><li>Can use Matlab `residue` function.</li></ul></td><td><ul><li>Requires that $F(z)$ is a proper rational function.</li></ul></td></tr>\n",
      "<tr><td>Invsersion Integral</td><td><ul><li>Can be used whether $F(z)$ is rational or not</li></ul></td><td><ul><li>Requires familiarity with the *Residues theorem* of complex variable analaysis.</li></ul></td></tr>\n",
      "<tr><td>Long Division</td><td><ul><li>Practical when only a small sequence of numbers is desired.</li><li>Useful when z-transform has no closed-form solution.</li><li>Can use Matlab `dimpulse` function to compute a large sequence of numbers.</ul></td><td><ul><li>Requires that $F(z)$ is a proper rational function.</li><li>Division may be endless.</li></ul></td></tr>\n",
      "</tbody>\n",
      "</table>"
     ]
    },
    {
     "cell_type": "heading",
     "level": 2,
     "metadata": {
      "slideshow": {
       "slide_type": "slide"
      }
     },
     "source": [
      "Summary"
     ]
    },
    {
     "cell_type": "markdown",
     "metadata": {},
     "source": [
      "* Inverse Z-Transform\n",
      "* Examples using PFE\n",
      "* Examples using Long Division\n",
      "* Analysis in Matlab\n",
      "\n",
      "*Next time*\n",
      "\n",
      "* DT transfer functions, DT state-space models and continuous system equivalents."
     ]
    },
    {
     "cell_type": "heading",
     "level": 2,
     "metadata": {
      "slideshow": {
       "slide_type": "slide"
      }
     },
     "source": [
      "Homework"
     ]
    },
    {
     "cell_type": "markdown",
     "metadata": {},
     "source": [
      "Attempt the end of the chapter exercises 4-7 (Section 9.10) from Karris. Don't look at the answers until you have attempted the problems."
     ]
    }
   ],
   "metadata": {}
  }
 ]
}