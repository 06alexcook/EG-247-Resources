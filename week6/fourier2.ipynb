{
 "metadata": {
  "name": ""
 },
 "nbformat": 3,
 "nbformat_minor": 0,
 "worksheets": [
  {
   "cells": [
    {
     "cell_type": "heading",
     "level": 1,
     "metadata": {
      "slideshow": {
       "slide_type": "slide"
      }
     },
     "source": [
      "Fourier Series (Part 2)"
     ]
    },
    {
     "cell_type": "markdown",
     "metadata": {},
     "source": [
      "Dr Chris Jobling ([c.p.jobling@swansea.ac.uk](mailto:c.p.jobling@swansea.ac.uk))<br />Digital Technium 123<br />Office Hours: Thursdays 14:00-15:00\n",
      "\n",
      "You can view the notes for this presentation in [HTML format](http://nbviewer.ipython.org/github/cpjobling/EG-247-Resources/blob/master/week6/fourier2.ipynb) and print using your Brower's print function. The source code of this presentation is available as an interactive [IPython notebook](http://ipython.org/notebook.html) from GitHub: <https://github.com/cpjobling/EG-247-Resources>. The GitHub repository also contains the source code for all the Matlab/Simulink examples."
     ]
    },
    {
     "cell_type": "heading",
     "level": 2,
     "metadata": {
      "slideshow": {
       "slide_type": "slide"
      }
     },
     "source": [
      "Agenda"
     ]
    },
    {
     "cell_type": "markdown",
     "metadata": {},
     "source": [
      "*Last time*\n",
      "\n",
      "* Trigonometric Fourier Series\n",
      "\n",
      "*This Time*\n",
      "\n",
      "* Exponents and Euler's Equation\n",
      "* The Exponential Fourier series\n",
      "* Symmetry in Exponential Fourier Series\n",
      "* Example\n",
      "\n",
      "*Next Time*\n",
      "\n",
      "* Line spectra\n",
      "* Power in periodic signals"
     ]
    },
    {
     "cell_type": "heading",
     "level": 2,
     "metadata": {
      "slideshow": {
       "slide_type": "slide"
      }
     },
     "source": [
      "Scope and Background Reading"
     ]
    },
    {
     "cell_type": "markdown",
     "metadata": {},
     "source": [
      "This session continues our introduction to Fourier Series.\n",
      "\n",
      "Trigonometric Fourier series uses integration of a periodic signal multiplied by sines and cosines at the fundamental and harmonic frequencies. If performed by hand, this can a painstaking process. Even with the simplifications made possible by exploiting waveform symmetries, there is still a need to integrate cosine and sine terms, be aware of and able to exploit the tigonometrc identities, and the properties of *orthogonal functions* before we can arrive at the simplified solutions. This is why I concentrated on the properties and left the computation to a computer.\n",
      "\n",
      "However, by exploiting the exponential function $e^{at}$, we can derive a method for calculating the coefficients of the harmonics that is much easier to calculate by hand and convert into an algorithm that can be executed by computer. \n",
      "\n",
      "The result is called the *Exponential Fourier Series* and we will develop it in this session.\n",
      "\n",
      "The material in this presentation and notes is based on Chapter 7 (Starting at Section 7.8) of [Steven T. Karris, Signals and Systems: with Matlab Computation and Simulink Modelling, 5th Edition.](http://site.ebrary.com/lib/swansea/docDetail.action?docID=10547416)."
     ]
    },
    {
     "cell_type": "heading",
     "level": 2,
     "metadata": {
      "slideshow": {
       "slide_type": "slide"
      }
     },
     "source": [
      "The Exonential Function e<sup>at</sup>"
     ]
    },
    {
     "cell_type": "markdown",
     "metadata": {},
     "source": [
      "* You should already be familiar with $e^{at}$ because it appears in the solution of differential equations, the transition matrix $\\pi(t)$ used in the solution of state-space models and the definition of the impulse response of a system. \n",
      "* It's also a function that appears in the definition of the Laplace and Inverse Laplace Transform\n",
      "* It's pops up again and again in tables and properies of the Laplace Transform. "
     ]
    },
    {
     "cell_type": "heading",
     "level": 2,
     "metadata": {
      "slideshow": {
       "slide_type": "subslide"
      }
     },
     "source": [
      "Case when a is real."
     ]
    },
    {
     "cell_type": "markdown",
     "metadata": {},
     "source": [
      "When $a$ is real the function $e^{-at}$ will take one of the two forms illustrated below:\n",
      "\n",
      "<img src=\"files/pictures/expon.png\">\n",
      "\n",
      "* When $a < 0$ the response is a decaying exponential (green line in plot)\n",
      "* When $a = 0$ $e^{at} = 1$ -- essentially a model of DC\n",
      "* When $a > 0$ the response is an *unbounded* increasing exponential (blue line in plot)\n",
      "\n",
      "(Image generated with this Matlab script: [expon.m](files/matlab/expon.m)"
     ]
    },
    {
     "cell_type": "heading",
     "level": 3,
     "metadata": {
      "slideshow": {
       "slide_type": "subslide"
      }
     },
     "source": [
      "Case when a is imaginary"
     ]
    },
    {
     "cell_type": "markdown",
     "metadata": {},
     "source": [
      "This is the case that helps us simplify the computation of sinusoidal Fourier series.\n",
      "\n",
      "It was [Leonhard Euler](http://en.wikipedia.org/wiki/Leonhard_Euler) who discovered the [formula](http://en.wikipedia.org/wiki/Euler%27s_formula) visualized below:\n",
      "\n",
      "<img src=\"files/pictures/euler.png\" title=\"exp(j*omega*t) = cos(omega*t) + j*sin(omega*t)\">"
     ]
    },
    {
     "cell_type": "heading",
     "level": 3,
     "metadata": {
      "slideshow": {
       "slide_type": "subslide"
      }
     },
     "source": [
      "Some important values of omega*t"
     ]
    },
    {
     "cell_type": "markdown",
     "metadata": {},
     "source": [
      "These are useful when simplifying expressions that result from integrating functions that involve the imaginary exponential\n",
      "\n",
      "Give the following:\n",
      "\n",
      "* $e^{j\\omega t}$ when $\\omega t = 0$\n",
      "* $e^{j\\omega t}$ when $\\omega t = \\pi/2$\n",
      "* $e^{j\\omega t}$ when $\\omega t = \\pi$\n",
      "* $e^{j\\omega t}$ when $\\omega t = 3\\pi/2$\n",
      "* $e^{j\\omega t}$ when $\\omega t = 2\\pi$\n"
     ]
    },
    {
     "cell_type": "heading",
     "level": 3,
     "metadata": {
      "slideshow": {
       "slide_type": "subslide"
      }
     },
     "source": [
      "Solution"
     ]
    },
    {
     "cell_type": "markdown",
     "metadata": {},
     "source": [
      "* When $\\omega t = 0$: $e^{j\\omega t} = e^{j0} = 1$\n",
      "* When $\\omega t = \\pi/2$: $e^{j\\omega t} = e^{j\\pi/2} = j$\n",
      "* When $\\omega t = \\pi$: $e^{j\\omega t} = e^{j\\pi} = -1$\n",
      "* When $\\omega t = 3\\pi/2$: $e^{j\\omega t} = e^{j3\\pi/2} = -j$\n",
      "* When $\\omega t = 2\\pi$: $e^{j\\omega t} = e^{j2\\pi} e^{j0}= 1$\n",
      "\n",
      "It is also worth being aware that $n\\omega t$ produces rotations that often map back to the simpler cases given above. For example see $e^{j2\\pi}$ above.\n"
     ]
    },
    {
     "cell_type": "heading",
     "level": 3,
     "metadata": {
      "slideshow": {
       "slide_type": "subslide"
      }
     },
     "source": [
      "Case where a is complex"
     ]
    },
    {
     "cell_type": "markdown",
     "metadata": {},
     "source": [
      "We shall not say much about this case except to note that the Laplace transform equation includes such a number. The variable $s$ in the Laplace Transform \n",
      "\n",
      "$$\\int_{0}^{\\infty} f(t)e^{-st} dt$$\n",
      "\n",
      "is a *complex exponential*.\n",
      "\n",
      "The consequences of a complex $s$ have particular significance in the development of system stabilty theories and in comtrol systems analysis and design. Look out for them in EG-243."
     ]
    },
    {
     "cell_type": "heading",
     "level": 3,
     "metadata": {
      "slideshow": {
       "slide_type": "subslide"
      }
     },
     "source": [
      "Two Other Important Properties"
     ]
    },
    {
     "cell_type": "markdown",
     "metadata": {},
     "source": [
      "By use of trig. identities, it is relatively straight forward to show that:\n",
      "\n",
      "$$\\cos \\omega t = \\frac{e^{j\\omega t} + e^{-j\\omega t}}{2}$$\n",
      "\n",
      "and \n",
      "\n",
      "$$\\sin \\omega t = \\frac{e^{j\\omega t} - e^{-j\\omega t}}{j2}$$\n",
      "\n",
      "We can use this result to convert the *Trigonometric Fourier Series* into an *Expomential Fourier Series* which has only one integral term to solve per harmonic."
     ]
    },
    {
     "cell_type": "heading",
     "level": 3,
     "metadata": {
      "slideshow": {
       "slide_type": "slide"
      }
     },
     "source": [
      "The Exponential Fourier Series"
     ]
    },
    {
     "cell_type": "markdown",
     "metadata": {},
     "source": [
      "As we saw last time any periodic waveform $f(t)$ can be represented as\n",
      "\n",
      "$$\\begin{gathered}\n",
      "  f(t) = \\frac{1}{2}{a_0} + {a_l}\\cos \\omega t + {a_2}\\cos 2\\omega t +  \\cdots  \\\\ \n",
      "   + {b_l}\\sin \\omega t + {b_2}\\sin 2\\omega t +  \\cdots  \\\\ \n",
      "\\end{gathered} $$\n",
      "\n",
      "If we replace the cos and sin terms with their imaginary expontial equivalents:\n",
      "\n",
      "$$\\begin{gathered}\n",
      "  f(t) = \\frac{1}{2}{a_0} + {a_l}\\left(\\frac{e^{j\\omega t} + e^{-j\\omega t}}{2}\\right) + {a_2}\\left(\\frac{e^{j2\\omega t} + e^{-j2\\omega t}}{2}\\right) +  \\cdots  \\\\ \n",
      "   + {b_l}\\left(\\frac{e^{j\\omega t} - e^{-j\\omega t}}{j2}\\right) + {b_2}\\left(\\frac{e^{j2\\omega t} - e^{-j2\\omega t}}{j2}\\right) +  \\cdots  \\\\ \n",
      "\\end{gathered} $$"
     ]
    },
    {
     "cell_type": "heading",
     "level": 3,
     "metadata": {
      "slideshow": {
       "slide_type": "subslide"
      }
     },
     "source": [
      "Gouping terms with same exponents"
     ]
    },
    {
     "cell_type": "markdown",
     "metadata": {},
     "source": [
      "$$f(t) = \\cdots + \\left(\\frac{a_2}{2}-\\frac{b_2}{j2}\\right)e^{-j\\omega 2 t} + \\left(\\frac{a_1}{2}-\\frac{b_1}{j2}\\right)e^{-j\\omega t} + \\frac{1}{2}{a_0} + \\left(\\frac{a_1}{2}+\\frac{b_1}{j2}\\right)e^{j\\omega t} + \\left(\\frac{a_2}{2}+\\frac{b_2}{j2}\\right)e^{j\\omega 2 t} +\\cdots $$"
     ]
    },
    {
     "cell_type": "heading",
     "level": 3,
     "metadata": {
      "slideshow": {
       "slide_type": "subslide"
      }
     },
     "source": [
      "New coefficents"
     ]
    },
    {
     "cell_type": "markdown",
     "metadata": {},
     "source": [
      "The terms in parentheses are usually denoted as\n",
      "\n",
      "$$C_{-k} = \\frac{1}{2}\\left(a_k-\\frac{b_k}{j}\\right) = \\frac{1}{2}\\left(a_k+j b_k\\right)$$\n",
      "\n",
      "$$C_{k} = \\frac{1}{2}\\left(a_k+\\frac{b_k}{j}\\right) = \\frac{1}{2}\\left(a_k-j b_k\\right)$$\n",
      "\n",
      "$$C_0 = \\frac{1}{2}a_0$$"
     ]
    },
    {
     "cell_type": "heading",
     "level": 3,
     "metadata": {
      "slideshow": {
       "slide_type": "subslide"
      }
     },
     "source": [
      "The Exponential Fourier Series"
     ]
    },
    {
     "cell_type": "markdown",
     "metadata": {},
     "source": [
      "$$f(t) = \\cdots + C_{-2}e^{-j\\omega 2 t} + C_{-1}e^{-j\\omega t} + C_0 + C_{1}e^{j\\omega t} + C_{2}e^{j\\omega 2 t} +\\cdots $$\n",
      "\n",
      "or more compactly\n",
      "\n",
      "$$f(t) = \\sum_{k=-n}^{n}C_{k}e^{-jk \\omega  t}$$\n",
      "\n",
      "**Inportant**\n",
      "\n",
      "The $C_k$ coefficents, except for $C_0$ are *complex* and appear in conjugate pairs so\n",
      "\n",
      "$$C_{-k} = C_k^*$$"
     ]
    },
    {
     "cell_type": "heading",
     "level": 3,
     "metadata": {
      "slideshow": {
       "slide_type": "subslide"
      }
     },
     "source": [
      "Evaluation of the complex coefficients"
     ]
    },
    {
     "cell_type": "markdown",
     "metadata": {},
     "source": [
      "The coefficients are obtained from the following expressions<sup>*</sup>:\n",
      "\n",
      "$$C_k = \\frac{1}{2\\pi}\\int_{0}^{2\\pi}f(t)e^{-jk\\omega t}\\,dt$$\n",
      "\n",
      "or\n",
      "\n",
      "$$C_k = \\frac{1}{T}\\int_{0}^{T}f(t)e^{-jk\\omega t}\\,dt$$\n",
      "\n",
      "These are much easier to derive and compute than the equivalent Trigonemetric Fourier Series coefficients. \n",
      "\n",
      "----\n",
      "<sup>*</sup> The analysis that leads to this result is provided between pages 7-31 and 7-32 of the text book. It is not a difficult proof, but we are more interested in the result."
     ]
    },
    {
     "cell_type": "heading",
     "level": 3,
     "metadata": {
      "slideshow": {
       "slide_type": "subslide"
      }
     },
     "source": [
      "Trigonometric Fourier Series from Exponential Fourier Series"
     ]
    },
    {
     "cell_type": "markdown",
     "metadata": {},
     "source": [
      "By substituting $C_{-k}$ and $C_{k}$ back into the original expansion\n",
      "\n",
      "$$C_k+C_{-k} = \\frac{1}{2}\\left(a_k-jb_k + a_k+jb_k\\right)$$\n",
      "\n",
      "so\n",
      "\n",
      "$$a_k = C_k + C_{-k}$$\n",
      "\n",
      "Similarly\n",
      "\n",
      "$$C_k-C_{-k} = \\frac{1}{2}\\left(a_k-jb_k - a_k-jb_k\\right)$$\n",
      "\n",
      "so\n",
      "\n",
      "$$b_k = j\\left(C_k - C_{-k}\\right)$$\n",
      "\n",
      "Thus we can easily go back to the Trig. Fourier series if we want to."
     ]
    },
    {
     "cell_type": "heading",
     "level": 2,
     "metadata": {
      "slideshow": {
       "slide_type": "slide"
      }
     },
     "source": [
      "Symmetry in Exponential Fourier Series"
     ]
    },
    {
     "cell_type": "markdown",
     "metadata": {},
     "source": [
      "Since the coefficients of the Exponential Fourier Series are complex numbers, we can use symmetry to determine the form of the coefficeints and thereby simplify the computation series for wave forms that have symmetry."
     ]
    },
    {
     "cell_type": "heading",
     "level": 3,
     "metadata": {
      "slideshow": {
       "slide_type": "subslide"
      }
     },
     "source": [
      "Even Functions"
     ]
    },
    {
     "cell_type": "markdown",
     "metadata": {},
     "source": [
      "For even functions, all coefficients $C_k$ are real.\n",
      "\n",
      "**Proof**\n",
      "\n",
      "Recall \n",
      "\n",
      "$$C_{-k} = \\frac{1}{2}\\left(a_k-\\frac{b_k}{j}\\right) = \\frac{1}{2}\\left(a_k+jb_k\\right)$$\n",
      "\n",
      "and\n",
      "\n",
      "$$C_k = \\frac{1}{2}\\left(a_k+\\frac{b_k}{j}\\right) = \\frac{1}{2}\\left(a_k-jb_k\\right)$$\n",
      "\n",
      "From last session, even functions have no sine terms so the $b_k$ coefficients are 0. Therefore both $C_{-k}$ and $C_k$ are real.\n"
     ]
    },
    {
     "cell_type": "heading",
     "level": 3,
     "metadata": {
      "slideshow": {
       "slide_type": "subslide"
      }
     },
     "source": [
      "Odd Functions"
     ]
    },
    {
     "cell_type": "markdown",
     "metadata": {},
     "source": [
      "For odd functions, all coefficients $C_k$ are imaginary.\n",
      "\n",
      "By a similar argument, all odd functions have no cosine terms so the $a_k$ coefficients are 0. Therefore both $C_{-k}$ and $C_k$ are imaginary.\n"
     ]
    },
    {
     "cell_type": "heading",
     "level": 3,
     "metadata": {
      "slideshow": {
       "slide_type": "subslide"
      }
     },
     "source": [
      "Half-wave symmetry"
     ]
    },
    {
     "cell_type": "markdown",
     "metadata": {},
     "source": [
      "If there is *half-wave symmetry*, $C_k = 0$ for $n$ even.\n",
      "\n",
      "**Proof**\n",
      "\n",
      "From trigonetric Fourier Series, if there is half-wave symmetry, all even harnonics are zero, thus both $a_k$ and $b_k$ are zero for $k$ even. Hence $C_{-k}$ and $C_k$ are also zero when $k$ is even."
     ]
    },
    {
     "cell_type": "heading",
     "level": 3,
     "metadata": {
      "slideshow": {
       "slide_type": "subslide"
      }
     },
     "source": [
      "No symmetry"
     ]
    },
    {
     "cell_type": "markdown",
     "metadata": {},
     "source": [
      "If there is no symmetry the Exponential Fourier Series of $f(t)$ is complex."
     ]
    },
    {
     "cell_type": "heading",
     "level": 3,
     "metadata": {
      "slideshow": {
       "slide_type": "subslide"
      }
     },
     "source": [
      "Relation of C<sub>-k</sub> to C<sub>k</sub>"
     ]
    },
    {
     "cell_type": "markdown",
     "metadata": {},
     "source": [
      "$C_{-k} = C_{k}^*$ **always**"
     ]
    },
    {
     "cell_type": "heading",
     "level": 3,
     "metadata": {
      "slideshow": {
       "slide_type": "subslide"
      }
     },
     "source": [
      "Example 1"
     ]
    },
    {
     "cell_type": "markdown",
     "metadata": {},
     "source": [
      "Compute the Exponential Fourier Series for the square wave shown below assuming that $\\omega = 1$\n",
      "\n",
      "<img src=\"files/pictures/sqw.png\"> "
     ]
    },
    {
     "cell_type": "heading",
     "level": 3,
     "metadata": {
      "slideshow": {
       "slide_type": "subslide"
      }
     },
     "source": [
      "Some questions for you"
     ]
    },
    {
     "cell_type": "markdown",
     "metadata": {},
     "source": [
      "* Square wave is an [**odd/even/neither**] function?\n",
      "* DC component is [**zero/non-zero**]?\n",
      "* Square wave [**has/does not have**] half-wave symmetry?\n",
      "\n",
      "Hence\n",
      "\n",
      "* $C_0 = $[**?**]\n",
      "* Coefficients $C_k$ are [**real/imaginary/complex**]?\n",
      "* Subscripts $k$ are [**odd only/even only/both odd and even**]?\n",
      "* What is the inegral that needs to be solved for $C_k$?"
     ]
    },
    {
     "cell_type": "heading",
     "level": 3,
     "metadata": {
      "slideshow": {
       "slide_type": "subslide"
      }
     },
     "source": [
      "Some answers for you"
     ]
    },
    {
     "cell_type": "markdown",
     "metadata": {},
     "source": [
      "* Square wave is an **odd** function!\n",
      "* DC component is **zero**!\n",
      "* Square wave **has** half-wave symmetry!\n",
      "\n",
      "Hence\n",
      "\n",
      "* $C_0 = 0$\n",
      "* Coefficients $C_k$ are **imaginary**!\n",
      "* Subscripts $k$ are **odd only**!\n",
      "* What is the inegral that needs to be solved for $C_k$?\n",
      "\n",
      "$$C_k = \\frac{1}{2\\pi}\\int_{0}^{2\\pi} f(t)e^{-jkt}\\, dt = \\frac{1}{2\\pi}\\left[\\int_{0}^{\\pi} Ae^{-jkt}\\, dt + \\int_{\\pi}^{2\\pi} (-A)e^{-jkt}\\, dt\\right]$$"
     ]
    },
    {
     "cell_type": "heading",
     "level": 3,
     "metadata": {
      "slideshow": {
       "slide_type": "subslide"
      }
     },
     "source": [
      "Solution"
     ]
    },
    {
     "cell_type": "markdown",
     "metadata": {},
     "source": [
      "$$\\frac{1}{2\\pi}\\left[\\int_{0}^{\\pi} Ae^{-jkt}\\, dt + \\int_{\\pi}^{2\\pi} (-A)e^{-jkt}\\, dt\\right] = \\frac{1}{2\\pi}\\left[\\left.\\frac{A}{-jk}e^{-jkt}\\right|_0^\\pi+\\left.\\frac{-A}{-jk}e^{-jkt}\\right|_\\pi^{2\\pi}\\right]$$\n",
      "\n",
      "$$ = \\frac{1}{2\\pi}\\left[\\frac{A}{-jk}\\left(e^{-jk\\pi} - 1\\right)+\\frac{A}{jk}\\left(e^{-j2k \\pi}-e^{-jk\\pi}\\right)\\right] =\n",
      "\\frac{A}{2j\\pi k}\\left(1 - e^{-jk\\pi}+ e^{-j2k \\pi}-e^{-jk\\pi}\\right)$$\n",
      "\n",
      "$$\\frac{A}{2j\\pi k}\\left(e^{-j2k \\pi} - 2e^{-jk\\pi} -1 \\right) = \\frac{A}{2j\\pi k}\\left(e^{-jk\\pi}-1\\right)^2$$\n",
      "\n",
      "For $n$ odd*, $e^{-jk\\pi} = -1$. Therefore\n",
      "\n",
      "$${C_n \\atop {n=\\mathrm{odd}}} = \\frac{A}{2j\\pi k}\\left(e^{-jk\\pi}-1\\right)^2 = \\frac{A}{2j\\pi k}\\left(-1-1\\right)^2 = \\frac{A}{2j\\pi k}\\left(-2\\right)^2 = \\frac{2A}{j\\pi k}$$\n",
      "\n",
      "----\n",
      "<sup>*</sup> You may want to verify that $C_0 = 0$ and \n",
      "\n",
      "$${C_n \\atop {n=\\mathrm{even}}} = 0.$$\n"
     ]
    },
    {
     "cell_type": "heading",
     "level": 3,
     "metadata": {},
     "source": [
      "exponential Fourier series for the square wave with odd symmetry"
     ]
    },
    {
     "cell_type": "markdown",
     "metadata": {},
     "source": [
      "From the definition of the exponential Fourier series\n",
      "\n",
      "$$f(t) = \\cdots + C_{-2}e^{-j2\\omega t} + C_{-1}e^{-j\\omega t} + C_{0} + C_{1}e^{j\\omega t} + C_{2}e^{j2\\omega t} + \\cdots$$\n",
      "\n",
      "the *exponential Fourier series for the square wave with odd symmetry* is\n",
      "\n",
      "$$f(t) = \\frac{2A}{j\\pi}\\left(\\cdots - \\frac{1}{3}e^{-j3\\omega t} - e^{-j\\omega t} + e^{j\\omega t} + \\frac{1}{3}e^{j3\\omega t} + \\cdots\\right) = \\frac{2A}{j\\pi}\\sum_{n = \\mathrm{odd}} \\frac{1}{n}e^{jk\\omega t}$$\n",
      "\n",
      "Note sign change in first two terms. This is due to the fact that $C_{-k} = C_k^*$. \n",
      "\n",
      "E.g. since $C_3 = 2A/j3\\pi$, $C_{-3} = C_3^* = -2A/j3\\pi$"
     ]
    },
    {
     "cell_type": "heading",
     "level": 3,
     "metadata": {
      "slideshow": {
       "slide_type": "subslide"
      }
     },
     "source": [
      "Trig. Fourier Series from Exponential Fourier Series"
     ]
    },
    {
     "cell_type": "markdown",
     "metadata": {},
     "source": [
      "Since\n",
      "\n",
      "$$f(t) = \\frac{2A}{j\\pi}\\left(\\cdots - \\frac{1}{3}e^{-j3\\omega t} - e^{-j\\omega t} + e^{j\\omega t} + \\frac{1}{3}e^{j3\\omega t} + \\cdots\\right) $$\n",
      "\n",
      "gathering terms at each harmonic frequency gives\n",
      "\n",
      "$$f(t) = \\frac{4A}{\\pi}\\left(\\cdots + \\left(\\frac{e^{j\\omega t} - e^{-j\\omega t}}{2j}\\right)  + \\frac{1}{3}\\left(\\frac{e^{j3\\omega t} - e^{-j3\\omega t}}{2j}\\right)  +  \\cdots\\right) = \\frac{4A}{\\pi}\\left(\\sin \\omega t + \\frac{1}{3}\\sin 3\\omega t + \\cdots\\right) = \\frac{4A}{\\pi} \\sum_{n=\\mathrm{odd}} \\frac{1}{k}\\sin k\\omega t$$"
     ]
    },
    {
     "cell_type": "heading",
     "level": 2,
     "metadata": {
      "slideshow": {
       "slide_type": "subslide"
      }
     },
     "source": [
      "Computing coefficients of Exponential Fourier Series in Matlab\n",
      "\n"
     ]
    },
    {
     "cell_type": "heading",
     "level": 3,
     "metadata": {
      "slideshow": {
       "slide_type": "subslide"
      }
     },
     "source": [
      "Example 2"
     ]
    },
    {
     "cell_type": "markdown",
     "metadata": {},
     "source": [
      "Verify the result of Example 1 using Matlab."
     ]
    },
    {
     "cell_type": "heading",
     "level": 3,
     "metadata": {
      "slideshow": {
       "slide_type": "subslide"
      }
     },
     "source": [
      "Solution"
     ]
    },
    {
     "cell_type": "markdown",
     "metadata": {},
     "source": [
      "Solution: See [square_fexp.m](files/matlab/square_fexp.m). Script confirms that:\n",
      "\n",
      "* $a_0 = 0$\n",
      "* $a_i = 0$: function is odd\n",
      "* $b_i = 0$: for $i$ even - half-wave symmetry\n",
      "\n",
      "```\n",
      "ft =\n",
      " \n",
      "(4*A*sin(t))/pi + (4*A*sin(3*t))/(3*pi) + (4*A*sin(5*t))/(5*pi) + (4*A*sin(7*t))/(7*pi) + (4*A*sin(9*t))/(9*pi) + (4*A*sin(11*t))/(11*pi)\n",
      "```"
     ]
    },
    {
     "cell_type": "heading",
     "level": 2,
     "metadata": {
      "slideshow": {
       "slide_type": "slide"
      }
     },
     "source": [
      "End of Part 2"
     ]
    },
    {
     "cell_type": "markdown",
     "metadata": {
      "slideshow": {
       "slide_type": "-"
      }
     },
     "source": [
      "*Summary*\n",
      "\n",
      "* Exponents and Euler's Equation\n",
      "* The exponential Fourier series\n",
      "* Symmetry in Exponential Fourier Series\n",
      "* Example\n",
      "\n",
      "*Next Time*\n",
      "* Line spectra\n",
      "* Power in periodic signals"
     ]
    },
    {
     "cell_type": "heading",
     "level": 2,
     "metadata": {
      "slideshow": {
       "slide_type": "slide"
      }
     },
     "source": [
      "Home work"
     ]
    },
    {
     "cell_type": "markdown",
     "metadata": {},
     "source": [
      "Compute the exponential Fourier series for the wave forms shown in the last lecture."
     ]
    },
    {
     "cell_type": "heading",
     "level": 2,
     "metadata": {
      "slideshow": {
       "slide_type": "slide"
      }
     },
     "source": [
      "Lab Work"
     ]
    },
    {
     "cell_type": "markdown",
     "metadata": {
      "slideshow": {
       "slide_type": "-"
      }
     },
     "source": [
      "In the lab, on Monday, we will continue to explore Fourier Series and their applications"
     ]
    }
   ],
   "metadata": {}
  }
 ]
}