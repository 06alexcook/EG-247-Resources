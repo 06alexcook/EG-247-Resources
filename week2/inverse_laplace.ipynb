{
 "metadata": {
  "name": ""
 },
 "nbformat": 3,
 "nbformat_minor": 0,
 "worksheets": [
  {
   "cells": [
    {
     "cell_type": "heading",
     "level": 1,
     "metadata": {
      "slideshow": {
       "slide_type": "slide"
      }
     },
     "source": [
      "The Inverse Laplace Transform"
     ]
    },
    {
     "cell_type": "markdown",
     "metadata": {},
     "source": [
      "Dr Chris Jobling ([c.p.jobling@swansea.ac.uk](mailto:c.p.jobling@swansea.ac.uk))<br />Digital Technium 123<br />Office Hours: Thursdays 15:00-16:00\n",
      "\n",
      "You can view the notes for this presentation in [HTML format](http://nbviewer.ipython.org/github/cpjobling/EG-247-Resources/blob/master/week2/inverse_laplace.ipynb) and print using your Brower's print function. The source code of this presentation is available as an interactive [IPython notebook](http://ipython.org/notebook.html) from GitHub: <https://github.com/cpjobling/EG-247-Resources>. The GitHub repository also contains the source code for all the Matlab/Simulink examples."
     ]
    },
    {
     "cell_type": "heading",
     "level": 2,
     "metadata": {
      "slideshow": {
       "slide_type": "slide"
      }
     },
     "source": [
      "Definition"
     ]
    },
    {
     "cell_type": "markdown",
     "metadata": {},
     "source": [
      "The formal definition of the Inverse Laplace Transform is\n",
      "\n",
      "$$\\mathcal{L}^{-1}\\left\\{ F(s) \\right\\} = \\frac{1}{2\\pi j}\\int_{\\sigma-j\\omega}^{\\sigma+j\\omega} f(t)e^{st}ds$$\n",
      "\n",
      "but this is difficult to use in practice because it requires contour integration using complex variable theory."
     ]
    },
    {
     "cell_type": "markdown",
     "metadata": {
      "slideshow": {
       "slide_type": "subslide"
      }
     },
     "source": [
      "For most engineering problems we can instead refer to **Tables of Properties** and **Common Transform Pairs** to look up the *Inverse Laplace Transform*"
     ]
    },
    {
     "cell_type": "markdown",
     "metadata": {
      "slideshow": {
       "slide_type": "subslide"
      }
     },
     "source": [
      "(Or, if we are not taking an exam, we can use a computer or mobile device.)"
     ]
    },
    {
     "cell_type": "heading",
     "level": 2,
     "metadata": {},
     "source": [
      "Partial Fraction Expansion"
     ]
    },
    {
     "cell_type": "markdown",
     "metadata": {},
     "source": [
      "Quite often the Laplace Transform we start off with is a *rational polynomial* in $s$.\n",
      "\n",
      "$$F(s) = \\frac{N(s)}{D(s)} = \\frac{b_ms^m + b_{m-1}s^{m-1}+b_{m-2}s^{m-2}+ \\cdots +b_{1}s+b_{0}}{a_ns^n + a_{n-1}s^{n-1}+a_{n-2}s^{n-2}+ \\cdots +a_{1}s+a_{0}}$$\n",
      "\n",
      "The coefficients $a_k$ and $b_k$ are real for $k = 1, 2, 3, \\ldots$"
     ]
    },
    {
     "cell_type": "heading",
     "level": 3,
     "metadata": {
      "slideshow": {
       "slide_type": "subslide"
      }
     },
     "source": [
      "Proper and Improper Rational Functions"
     ]
    },
    {
     "cell_type": "markdown",
     "metadata": {
      "slideshow": {
       "slide_type": "-"
      }
     },
     "source": [
      "* If $m <n$ $F(s)$ is said to be a *proper rational function*. \n",
      "* If $m \\ge n$ $F(s)$ is said to be an *improper rational function* \n",
      "\n",
      "(Think [proper fractions](http://www.mathsisfun.com/proper-fractions.html) and [improper fractions](http://www.mathsisfun.com/improper-fractions.html).)"
     ]
    },
    {
     "cell_type": "heading",
     "level": 3,
     "metadata": {
      "slideshow": {
       "slide_type": "subslide"
      }
     },
     "source": [
      "Zeros"
     ]
    },
    {
     "cell_type": "markdown",
     "metadata": {},
     "source": [
      "* The *roots* of the numerator polymonial $N(s)$ are found by setting $N(s)=0$\n",
      "* When $s$ equals one of the $m$ roots of $N(s)$ then $F(s)$ will be zero.\n",
      "* Thus the roots of $N(s)$ are the **zeros** of $F(s)$."
     ]
    },
    {
     "cell_type": "heading",
     "level": 3,
     "metadata": {
      "slideshow": {
       "slide_type": "subslide"
      }
     },
     "source": [
      "Poles"
     ]
    },
    {
     "cell_type": "markdown",
     "metadata": {},
     "source": [
      "* The *roots* (*zeros*) of the denominator polynomial are found by setting $D(s) = 0$. \n",
      "* When $s$ equals one of the $n$ roots of $D(s)$ then $F(s)$ will be infinite $F(s_r) = N(s_r)/0=\\infty$).\n",
      "* These are called the **poles** of $F(s)$.\n",
      "\n",
      "(Imagine telegraph poles planted at the points on the $s$-plane where $D(s)$ is zero.)"
     ]
    },
    {
     "cell_type": "heading",
     "level": 3,
     "metadata": {
      "slideshow": {
       "slide_type": "subslide"
      }
     },
     "source": [
      "A Further Simplifying Assumption"
     ]
    },
    {
     "cell_type": "markdown",
     "metadata": {},
     "source": [
      "If $F(s)$ is proper then it is conventional to make the coefficient $s_n$ unity thus:\n",
      "\n",
      "$$F(s) = \\frac{{N(s)}}{{D(s)}} = \\frac{{1/{a_n}\\left( {{b_m}{s^m} + {b_{m - 1}}{s^{m - 1}} + {b_{m - 2}}{s^{m - 2}} +  \\cdots  + {b_1}s + {b_0}} \\right)}}{{{s^n} + \\frac{{{a_{n - 1}}}}{{{a_n}}}{s^{n - 1}} + \\frac{{{a_{n - 2}}}}{{{a_n}}}{s^{n - 2}} +  \\cdots  + \\frac{{{a_1}}}{{{a_n}}}s + \\frac{{{a_0}}}{{{a_n}}}}}$$\n",
      "\n",
      "(I know it doesn't look simpler, but remember that the $a$s and $b$s are numbers in practice!)\n",
      "    "
     ]
    },
    {
     "cell_type": "heading",
     "level": 2,
     "metadata": {
      "slideshow": {
       "slide_type": "slide"
      }
     },
     "source": [
      "Inverse Laplace Transform by Partial Fraction Expansion (PFE)"
     ]
    },
    {
     "cell_type": "markdown",
     "metadata": {},
     "source": [
      "The poles of $F(s)$ can be real and distinct, real and repeated, complex conjugate pairs, or a combination. "
     ]
    },
    {
     "cell_type": "heading",
     "level": 3,
     "metadata": {
      "slideshow": {
       "slide_type": "subslide"
      }
     },
     "source": [
      "Defining the problem"
     ]
    },
    {
     "cell_type": "markdown",
     "metadata": {},
     "source": [
      "The nature of the poles governs the best way to tackle the PFE that leads to the solution of the Inverse Laplace Transform. Thus, we need to structure our presentation to cover one of the following cases:\n",
      "\n",
      "* The case where $F(s)$ has distinct poles\n",
      "* The case where $F(s)$ has complex poles\n",
      "* The case where $F(s)$ has repeated poles\n",
      "* The case where $F(s)$ is an improper rational polynomial\n",
      "\n",
      "We will examine each case by means of a worked example. Please refer to Chapter 3 of Karris for full details."
     ]
    },
    {
     "cell_type": "heading",
     "level": 2,
     "metadata": {},
     "source": [
      "The case of the distinct poles"
     ]
    },
    {
     "cell_type": "heading",
     "level": 2,
     "metadata": {},
     "source": [
      "The case of the complex poles"
     ]
    },
    {
     "cell_type": "heading",
     "level": 2,
     "metadata": {},
     "source": [
      "The case of the repeated poles"
     ]
    },
    {
     "cell_type": "heading",
     "level": 2,
     "metadata": {},
     "source": [
      "The case of the improper rational polynomial"
     ]
    },
    {
     "cell_type": "heading",
     "level": 2,
     "metadata": {
      "slideshow": {
       "slide_type": "slide"
      }
     },
     "source": [
      "Homework"
     ]
    },
    {
     "cell_type": "markdown",
     "metadata": {},
     "source": [
      "Do the end of the chapter exercises (Section 1.7) from the textbook. Don't look at the answers until you have attempted the problems."
     ]
    },
    {
     "cell_type": "heading",
     "level": 2,
     "metadata": {
      "slideshow": {
       "slide_type": "slide"
      }
     },
     "source": [
      "Lab Work"
     ]
    },
    {
     "cell_type": "markdown",
     "metadata": {
      "slideshow": {
       "slide_type": "-"
      }
     },
     "source": [
      "In the lab, on Monday, we will solve Example 2 using Matlab/Simulink following the procedure given in Pages between pages 1-17 and 1-22 of the textbook. We will also explore the `heaviside` and `dirac` functions."
     ]
    }
   ],
   "metadata": {}
  }
 ]
}