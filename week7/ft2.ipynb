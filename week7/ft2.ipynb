{
 "metadata": {
  "name": ""
 },
 "nbformat": 3,
 "nbformat_minor": 0,
 "worksheets": [
  {
   "cells": [
    {
     "cell_type": "heading",
     "level": 1,
     "metadata": {
      "slideshow": {
       "slide_type": "slide"
      }
     },
     "source": [
      "The Fourier Transform (Part 2)"
     ]
    },
    {
     "cell_type": "markdown",
     "metadata": {},
     "source": [
      "Dr Chris Jobling ([c.p.jobling@swansea.ac.uk](mailto:c.p.jobling@swansea.ac.uk))<br />Digital Technium 123<br />Office Hours: Thursdays 14:00-15:00\n",
      "\n",
      "You can view the notes for this presentation in [HTML format](http://nbviewer.ipython.org/github/cpjobling/EG-247-Resources/blob/master/week7/ft2.ipynb) and print using your Brower's print function. The source code of this presentation is available as an interactive [IPython notebook](http://ipython.org/notebook.html) from GitHub: <https://github.com/cpjobling/EG-247-Resources>. The GitHub repository also contains the source code for all the Matlab/Simulink examples."
     ]
    },
    {
     "cell_type": "heading",
     "level": 2,
     "metadata": {
      "slideshow": {
       "slide_type": "slide"
      }
     },
     "source": [
      "Note on Notation"
     ]
    },
    {
     "cell_type": "markdown",
     "metadata": {},
     "source": [
      "If you have been reading both Karris and Boulet you may have noticed a difference in the notation used in the definition of Fourier Transform:\n",
      "\n",
      "* Karris uses $F(\\omega)$\n",
      "* Boulet uses $F(j\\omega)$\n",
      "\n",
      "I checked other sources and [Hsu (Schaum's Signals and Systems)](https://www.dawsonera.com/abstract/9780071634731) and Morrell (The [Fourier Analysis Video Series on YouTube](http://www.youtube.com/watch?v=bqYxhYGA2qU&list=PL51707156C4956932&feature=share&index=10)) both use the $F(\\omega)$ notation.\n",
      "\n",
      "According to Wikipedia [Fourier Transform: Other Notations](http://en.wikipedia.org/wiki/Fourier_transform#Other_notations) both are used only by electronic engineers anyway and either would be acceptible.\n",
      "\n",
      "There is some advantage in using Boulet's notation $F(j\\omega)$ in that it helps to reinforce the idea that Fourier Transform is a special case of the Laplace Transform and it was the notation that I used in the last session.\n",
      "\n",
      "In these notes, I've used the other convention on the basis that its the more likely to be seen in your support materials. \n",
      "\n",
      "However, I am happy to change back if you find the addition of $j$ useful.\n",
      "\n",
      "You should be aware that Fourier Transforms are in general complex so whatever the notation used to *represent* the transform, we are still dealing with real and imaginary parts or magnitudes and phases when we use the *actual transforms* in analysis.\n",
      "\n",
      "\n"
     ]
    },
    {
     "cell_type": "heading",
     "level": 2,
     "metadata": {
      "slideshow": {
       "slide_type": "slide"
      }
     },
     "source": [
      "Agenda"
     ]
    },
    {
     "cell_type": "markdown",
     "metadata": {},
     "source": [
      "*Last time*\n",
      "\n",
      "* Fourier Transform as the Limit of a Fourier Series\n",
      "* Doing the Maths\n",
      "* Special forms of the Fourier Transform\n",
      "* Properties of the Fourier Transform\n",
      "* Computing Fourier Transforms in Matlab\n",
      "\n",
      "*This Time*\n",
      "\n",
      "* Some Selected Transforms\n",
      "* Relationship between Laplace and Fourier\n",
      "* Tables of Transform Pairs\n",
      "* ...."
     ]
    },
    {
     "cell_type": "heading",
     "level": 2,
     "metadata": {
      "slideshow": {
       "slide_type": "slide"
      }
     },
     "source": [
      "Scope and Background Reading"
     ]
    },
    {
     "cell_type": "markdown",
     "metadata": {},
     "source": [
      "This session continues our introduction to the Fourier Transform.\n",
      "\n",
      "Blah, blah\n",
      "\n",
      "The material in this presentation and notes is based on Chapter 8 (Starting at Section 8.4) of [Steven T. Karris, Signals and Systems: with Matlab Computation and Simulink Modelling, 5th Edition.](http://site.ebrary.com/lib/swansea/docDetail.action?docID=10547416) from the Required Reading List. I also used Chapter 5 of [Benoit Boulet, Fundamentals of Signals and Systems](http://site.ebrary.com/lib/swansea/docDetail.action?docID=10228195) from the Recommended Reading List."
     ]
    },
    {
     "cell_type": "heading",
     "level": 2,
     "metadata": {
      "slideshow": {
       "slide_type": "slide"
      }
     },
     "source": [
      "Reminder of the Definitions"
     ]
    },
    {
     "cell_type": "markdown",
     "metadata": {},
     "source": [
      "Last time we derived the Fourier Transform by evaluating what would happen when a periodic signal was made periodic. Let us restate the definitions."
     ]
    },
    {
     "cell_type": "heading",
     "level": 3,
     "metadata": {
      "slideshow": {
       "slide_type": "subslide"
      }
     },
     "source": [
      "The Fourier Transform"
     ]
    },
    {
     "cell_type": "markdown",
     "metadata": {},
     "source": [
      "In the signals and systems context, the Fourier Transform is used to convert a function of time $f(t)$ to a function of radian frequency $F(\\omega)$:\n",
      "\n",
      "$$\\mathcal{F}\\left\\{f(t)\\right\\} = \\int_{-\\infty}^{\\infty} f(e)e^{-j\\omega t}\\,dt = F(\\omega).$$"
     ]
    },
    {
     "cell_type": "heading",
     "level": 3,
     "metadata": {
      "slideshow": {
       "slide_type": "subslide"
      }
     },
     "source": [
      "The Inverse Fourier Transform"
     ]
    },
    {
     "cell_type": "markdown",
     "metadata": {},
     "source": [
      "In the signals and systems context, the *Inverse Fourier Transform* is used to convert a function of frequency $F(\\omega)$ to a function of time $f(t)$:\n",
      "\n",
      "$$\\mathcal{F}^{-1}\\left\\{F(\\omega)\\right\\} = \\frac{1}{2\\pi}\\int_{-\\infty}^{\\infty} F(\\omega)e^{j\\omega t}\\,d\\omega = f(t) .$$\n",
      "\n",
      "Note, the factor $2\\pi$ is introduced because we are changing units from radians/second to seconds."
     ]
    },
    {
     "cell_type": "heading",
     "level": 3,
     "metadata": {
      "slideshow": {
       "slide_type": "subslide"
      }
     },
     "source": [
      "Duality of the transform"
     ]
    },
    {
     "cell_type": "markdown",
     "metadata": {},
     "source": [
      "Note the similarity of the Fourier and its Inverse. This has important condequences in filter design and later when we consider sampled data systems."
     ]
    },
    {
     "cell_type": "heading",
     "level": 3,
     "metadata": {
      "slideshow": {
       "slide_type": "subslide"
      }
     },
     "source": [
      "Relationship between f(t) and F(omega)"
     ]
    },
    {
     "cell_type": "markdown",
     "metadata": {},
     "source": [
      "In most of the work we will do in this course, and in practice, the *signals* that we use with the Fourier transform will be a real continuous aperiodic functions of time that are *causal* (that is zero when $t = 0$).\n",
      "\n",
      "The Fourier transforms of such a signals will be complex continous function of frequency which have real and imaginary parts and will exist at both positive and negative values of $\\omega$.\n",
      "\n",
      "It is often most convenient to deal with the transformed \"spectrum\" by considering the magnitude and phase and we will therefore often plot $F(\\omega)$ on two separate graphs as *magnitude* $|F(\\omega)|$ and *phase* $\\angle F(\\omega)$ (where phase is measured in radians) plotted against frequency $\\omega \\in [-\\infty,\\infty]$ (in radians/second).\n",
      "\n",
      "We most often represent the *system* by its so-called *frequency response* and we will be interested on what effect the system has on the signal $f(t)$. \n",
      "\n",
      "As for the Laplace transform, this is more conveniently determined by exploiting the *time convolution property*. That is by performing a Fourier transform of the signal, multiplying it by the system's frequency response and then inverse Fourier transforming the result.\n",
      "\n",
      "Have these ideas in mind as we go through the rest of this session."
     ]
    },
    {
     "cell_type": "code",
     "collapsed": false,
     "input": [],
     "language": "python",
     "metadata": {},
     "outputs": []
    },
    {
     "cell_type": "heading",
     "level": 2,
     "metadata": {
      "slideshow": {
       "slide_type": "subslide"
      }
     },
     "source": [
      "Some Selected Fourier Transforms"
     ]
    },
    {
     "cell_type": "markdown",
     "metadata": {},
     "source": [
      "If we take the results for the Exponential Fourier Series and gather terms, the amplitudes for the Trig. Fourier Series are given by:\n",
      "\n",
      "$$a_0 = 2C_0$$\n",
      "\n",
      "$$a_1 = (C_k + C_{-k})$$\n",
      "\n",
      "$$b_k = j(C_k - C_{-k})$$"
     ]
    },
    {
     "cell_type": "markdown",
     "metadata": {
      "slideshow": {
       "slide_type": "subslide"
      }
     },
     "source": [
      "Applying this to the previous result we get\n",
      "\n",
      "<img src=\"files/pictures/line-spec.png\">"
     ]
    },
    {
     "cell_type": "heading",
     "level": 3,
     "metadata": {
      "slideshow": {
       "slide_type": "subslide"
      }
     },
     "source": [
      "Example 1"
     ]
    },
    {
     "cell_type": "markdown",
     "metadata": {},
     "source": [
      "Compute the exponential Fourier series for the waveform shown below and plot its line spectra. Assume $\\omega = 1$.\n",
      "\n",
      "<img src=\"files/pictures/pulse_train.png\">"
     ]
    },
    {
     "cell_type": "heading",
     "level": 3,
     "metadata": {
      "slideshow": {
       "slide_type": "subslide"
      }
     },
     "source": [
      "Solution"
     ]
    },
    {
     "cell_type": "markdown",
     "metadata": {},
     "source": [
      "The recurrent rectangular pulse is used extensively in digital communication systems. To determine how faithfully such pulses will be transmitted, it is necessary to knwo the frequency components.\n",
      "\n",
      "**What do we know?**\n",
      "\n",
      "* The pulse duration is $T/w$.\n",
      "* The recurrence interval $T$ is $w$ times the pulse duration.\n",
      "* $w$ is the ratio of pulse repetition time to the pulse duration &ndash; normally called the *duty cycle*."
     ]
    },
    {
     "cell_type": "heading",
     "level": 3,
     "metadata": {
      "slideshow": {
       "slide_type": "subslide"
      }
     },
     "source": [
      "Coefficients of the Exponential Fourier Series?"
     ]
    },
    {
     "cell_type": "markdown",
     "metadata": {},
     "source": [
      "Given\n",
      "\n",
      "$$C_k = \\frac{1}{2\\pi}\\int_{-\\pi}^{\\pi} f(t)e^{-jkt}\\,dt$$\n",
      "\n",
      "* Is the function **even** or **odd**?\n",
      "* Does the signal have **half-wave symmetry**?\n",
      "* What are the cosequencies of symmetry on the form of the coefficients $C_k$?\n",
      "* What function do we actually need to integrate to compute $C_k$?"
     ]
    },
    {
     "cell_type": "heading",
     "level": 3,
     "metadata": {
      "slideshow": {
       "slide_type": "subslide"
      }
     },
     "source": [
      "Answers"
     ]
    },
    {
     "cell_type": "markdown",
     "metadata": {},
     "source": [
      "Given\n",
      "\n",
      "$$C_k = \\frac{1}{2\\pi}\\int_{-\\pi}^{\\pi} f(t)e^{-jkt}\\,dt$$\n",
      "\n",
      "* Is the function **even** or **odd**? **even** $f(t) = f(-t)$!\n",
      "* Does the signal have **half-wave symmetry**? No!\n",
      "* What are the cosequencies of symmetry on the form of the coefficients $C_k$? $C_k$ will be real values. Trig. equivalent no sine terms.\n",
      "* What function do we actually need to integrate to compute $C_k$? We only need to integrate between the limits $-\\pi/w \\to \\pi/w$\n",
      "\n",
      "$$C_k = \\frac{1}{2\\pi}\\int_{-\\pi/w}^{\\pi/w} Ae^{-jkt}\\,dt = \\frac{A}{2\\pi}\\int_{-\\pi/w}^{\\pi/w} e^{-jkt}\\,dt $$"
     ]
    },
    {
     "cell_type": "heading",
     "level": 3,
     "metadata": {
      "slideshow": {
       "slide_type": "subslide"
      }
     },
     "source": [
      "DC Component?"
     ]
    },
    {
     "cell_type": "markdown",
     "metadata": {},
     "source": [
      "Let $k = 0$ then perform the integral"
     ]
    },
    {
     "cell_type": "heading",
     "level": 3,
     "metadata": {
      "slideshow": {
       "slide_type": "subslide"
      }
     },
     "source": [
      "DC component!"
     ]
    },
    {
     "cell_type": "markdown",
     "metadata": {},
     "source": [
      "$$C_0 = \\left.\\frac{A}{2\\pi}\\,t\\,\\right|_{-\\pi/w}^{\\pi/w} = \\frac{A}{2\\pi}\\left(\\frac{\\pi}{w}+\\frac{\\pi}{w}\\right)$$\n",
      "\n",
      "or\n",
      "\n",
      "$$C_0 = \\frac{A}{w}$$"
     ]
    },
    {
     "cell_type": "heading",
     "level": 3,
     "metadata": {
      "slideshow": {
       "slide_type": "subslide"
      }
     },
     "source": [
      "Harmonic coefficients?"
     ]
    },
    {
     "cell_type": "markdown",
     "metadata": {},
     "source": [
      "Integrate for $k\\ne 0$"
     ]
    },
    {
     "cell_type": "heading",
     "level": 3,
     "metadata": {
      "slideshow": {
       "slide_type": "subslide"
      }
     },
     "source": [
      "Harmonic coefficients!"
     ]
    },
    {
     "cell_type": "markdown",
     "metadata": {},
     "source": [
      "$$C_k = \\left.\\frac{A}{-jk2\\pi}\\,e^{-jkt}\\,\\right|_{-\\pi/w}^{\\pi/w} = \\frac{A}{k\\pi}\\left(\\frac{e^{jk\\pi/w}-e^{-jk\\pi/w}}{j2}\\right) = \\frac{A}{k\\pi}\\sin\\left(\\frac{k\\pi}{w}\\right)$$\n",
      "\n",
      "$$C_k = \\frac{A}{w}\\frac{sin\\left(k\\pi/w\\right)}{k\\pi/w}$$"
     ]
    },
    {
     "cell_type": "heading",
     "level": 3,
     "metadata": {
      "slideshow": {
       "slide_type": "subslide"
      }
     },
     "source": [
      "Exponential Fourier Series?"
     ]
    },
    {
     "cell_type": "heading",
     "level": 3,
     "metadata": {
      "slideshow": {
       "slide_type": "subslide"
      }
     },
     "source": [
      "Exponential Fourier Series!"
     ]
    },
    {
     "cell_type": "markdown",
     "metadata": {},
     "source": [
      "$$f(t)=\\sum_{k=-\\infty}^{\\infty}\\;\\frac{A}{w}\\,\\frac{\\sin\\left(k\\pi/w\\right)}{k\\pi/w} e^{-kt}$$"
     ]
    },
    {
     "cell_type": "heading",
     "level": 3,
     "metadata": {
      "slideshow": {
       "slide_type": "subslide"
      }
     },
     "source": [
      "Effect of pulse width on frequency spectra"
     ]
    },
    {
     "cell_type": "markdown",
     "metadata": {},
     "source": [
      "* Recall pulse width = $T/w$"
     ]
    },
    {
     "cell_type": "heading",
     "level": 3,
     "metadata": {
      "slideshow": {
       "slide_type": "subslide"
      }
     },
     "source": [
      "w = 2"
     ]
    },
    {
     "cell_type": "markdown",
     "metadata": {},
     "source": [
      "$\\omega = 1$ rad/s; $w = 2$; $T = 2\\pi$ s; $T/w = \\pi$ s.\n",
      "\n",
      "<img src=\"files/pictures/sinc2.png\">"
     ]
    },
    {
     "cell_type": "heading",
     "level": 3,
     "metadata": {
      "slideshow": {
       "slide_type": "subslide"
      }
     },
     "source": [
      "w = 5"
     ]
    },
    {
     "cell_type": "markdown",
     "metadata": {},
     "source": [
      "$\\omega = 1$ rad/s; $w = 5$; $T = 2\\pi$ s; $T/w = 2\\pi/5$ s.\n",
      "\n",
      "<img src=\"files/pictures/sinc5.png\">"
     ]
    },
    {
     "cell_type": "heading",
     "level": 3,
     "metadata": {
      "slideshow": {
       "slide_type": "subslide"
      }
     },
     "source": [
      "w = 10"
     ]
    },
    {
     "cell_type": "markdown",
     "metadata": {},
     "source": [
      "$\\omega = 1$ rad/s; $w = 10$; $T = 2\\pi$ s; $T/w = \\pi/5$ s.\n",
      "\n",
      "<img src=\"files/pictures/sinc10.png\">"
     ]
    },
    {
     "cell_type": "heading",
     "level": 3,
     "metadata": {
      "slideshow": {
       "slide_type": "subslide"
      }
     },
     "source": [
      "Implications"
     ]
    },
    {
     "cell_type": "markdown",
     "metadata": {},
     "source": [
      "* As the width of the pulse **reduces** the width of the freqency spectra needed to fully describe the signal **increases** \n",
      "* more bandwidth is needed to transmit the pulse."
     ]
    },
    {
     "cell_type": "markdown",
     "metadata": {
      "slideshow": {
       "slide_type": "skip"
      }
     },
     "source": [
      "**Note**\n",
      "\n",
      "Text book seems to get the wrong results. Karris plots $\\sin(wx)/(wx)$ rather than $\\sin(x/w)/(x/w)$ in producing the diagrams shown in Figs. 7.36&mdash;7-38.\n",
      "\n",
      "However, if you view $\\sin(wx)/wx$ as in indication of the bandwidth needed to trasmit a pulse of width $T/w$ the plots Karris gives make more sense."
     ]
    },
    {
     "cell_type": "heading",
     "level": 3,
     "metadata": {
      "slideshow": {
       "slide_type": "subslide"
      }
     },
     "source": [
      "Example 2"
     ]
    },
    {
     "cell_type": "markdown",
     "metadata": {},
     "source": [
      "Use the result of Example 1 to compute the exponential Fourier series of the impulse train $\\delta(t\\pm 2\\pi k)$ shown below \n",
      "\n",
      "<img src=\"files/pictures/impulse_train.png\">"
     ]
    },
    {
     "cell_type": "heading",
     "level": 3,
     "metadata": {
      "slideshow": {
       "slide_type": "subslide"
      }
     },
     "source": [
      "Solution"
     ]
    },
    {
     "cell_type": "markdown",
     "metadata": {},
     "source": [
      "To solve this we take the previous result and choose amplitude (height) $A$ so that area of pulse is unity. Then we let width go to zero while maintaining the area of unity. This creates a train of impulses $\\delta(t\\pm 2\\pi k)$.\n",
      "\n",
      "$$C_n  = \\frac{1}{2\\pi}$$\n",
      "\n",
      "and, therefore\n",
      "\n",
      "$$f(t) = \\frac{1}{2\\pi}\\sum_{k=-\\infty}^{\\infty} e^{jk\\omega t}$$\n",
      "\n",
      "Try it!"
     ]
    },
    {
     "cell_type": "heading",
     "level": 3,
     "metadata": {
      "slideshow": {
       "slide_type": "subslide"
      }
     },
     "source": [
      "Proof!"
     ]
    },
    {
     "cell_type": "markdown",
     "metadata": {},
     "source": [
      "From the previous result, \n",
      "\n",
      "$$C_n = \\frac{A}{w}.\\frac{\\sin(k\\pi/w)}{k\\pi/w}$$\n",
      "\n",
      "and the pulse width was defined as $T/w$, that is\n",
      "\n",
      "$$\\frac{T}{w}=\\frac{2\\pi}{w}$$\n",
      "\n",
      "Let us take the previous impulse train as a recurrent pulse with amplitude\n",
      "\n",
      "$$A = \\frac{1}{T/w} = \\frac{1}{2\\pi/w} = \\frac{w}{2\\pi}.$$"
     ]
    },
    {
     "cell_type": "heading",
     "level": 3,
     "metadata": {
      "slideshow": {
       "slide_type": "subslide"
      }
     },
     "source": [
      "Pulse with unit area"
     ]
    },
    {
     "cell_type": "markdown",
     "metadata": {},
     "source": [
      "The area of each pulse is then \n",
      "\n",
      "$$\\frac{2\\pi}{w}\\times\\frac{w}{2\\pi} = 1$$\n",
      "\n",
      "and the pulse train is as shown below:\n",
      "\n",
      "<img src=\"files/pictures/unit_area_pulses.png\">"
     ]
    },
    {
     "cell_type": "heading",
     "level": 3,
     "metadata": {
      "slideshow": {
       "slide_type": "subslide"
      }
     },
     "source": [
      "New coefficents"
     ]
    },
    {
     "cell_type": "markdown",
     "metadata": {},
     "source": [
      "The coefficients of the Exponential Fourier Series are now:\n",
      "    \n",
      "$$C_n = \\frac{w/2\\pi}{w}\\frac{\\sin(k\\pi/w)}{k\\pi/w} = \\frac{1}{2\\pi}\\frac{\\sin(k\\pi/w)}{k\\pi/w}$$\n",
      "\n",
      "and as $\\pi/w \\to 0$ each recurrent pulse becomes a unit impulse, and the pulse reduce to a unit impulse train.\n",
      "\n",
      "Also, recalling that\n",
      "\n",
      "$$\\lim_{x\\to 0} \\frac{sin x}{x} = 1$$\n",
      "\n",
      "the coefficents reduce to\n",
      "\n",
      "$$C_n = \\frac{1}{2\\pi}$$\n",
      "\n",
      "That is all coefficients have the same amplitude and thus\n",
      "\n",
      "$$f(t) = \\frac{1}{2\\pi}\\sum_{n=-\\infty}^{\\infty} e^{jk\\omega t}$$"
     ]
    },
    {
     "cell_type": "heading",
     "level": 3,
     "metadata": {
      "slideshow": {
       "slide_type": "subslide"
      }
     },
     "source": [
      "Spectrum of Unit Impulse Train"
     ]
    },
    {
     "cell_type": "markdown",
     "metadata": {},
     "source": [
      "The line spectrum of a sequence of unit impulses $\\delta(t \\pm kT)$ is shown below:\n",
      "                                                         \n",
      "<img src=\"files/pictures/impulse_spectrum.png\">"
     ]
    },
    {
     "cell_type": "heading",
     "level": 3,
     "metadata": {
      "slideshow": {
       "slide_type": "subslide"
      }
     },
     "source": [
      "Another Interesting Result"
     ]
    },
    {
     "cell_type": "markdown",
     "metadata": {},
     "source": [
      "Consider the pulse train agin:\n",
      "\n",
      "<img src=\"files/pictures/pulse_train.png\">\n",
      "\n",
      "What happens when the pulses to the left and right of the centre pulse become less and less frequent? That is what happens when $T \\to \\infty$?"
     ]
    },
    {
     "cell_type": "heading",
     "level": 3,
     "metadata": {
      "slideshow": {
       "slide_type": "subslide"
      }
     },
     "source": [
      "Well?"
     ]
    },
    {
     "cell_type": "markdown",
     "metadata": {},
     "source": [
      "* As $T\\to \\infty$ the fundamental frequency $\\omega \\to 0$\n",
      "* We are then left with just one pulse centred around $t=0$.\n",
      "* The frequency difference between harmonics also becomes smaller.\n",
      "* Line spectrum becomes a continous function.\n",
      "\n",
      "This result is the basis of the *Fourier Transform* which is coming next."
     ]
    },
    {
     "cell_type": "heading",
     "level": 2,
     "metadata": {
      "slideshow": {
       "slide_type": "slide"
      }
     },
     "source": [
      "Power in Periodic Signals"
     ]
    },
    {
     "cell_type": "markdown",
     "metadata": {},
     "source": [
      "In your previous courses you may have come across the definitions of Signal Energy, Average Signal Power and Root Mean Square Power:\n",
      "\n",
      "$$E = \\int_0^T |f(t)|^2 dt$$\n",
      "\n",
      "$$P_{\\mathrm{av}} = \\frac{1}{T}\\int_0^T |f(t)|^2 dt$$\n",
      "\n",
      "$$P_{\\mathrm{RMS}} = \\sqrt{\\frac{1}{T}\\int_0^T |f(t)|^2 dt}$$"
     ]
    },
    {
     "cell_type": "heading",
     "level": 3,
     "metadata": {
      "slideshow": {
       "slide_type": "subslide"
      }
     },
     "source": [
      "Parseval's Theorem"
     ]
    },
    {
     "cell_type": "markdown",
     "metadata": {},
     "source": [
      "[Parseval's Theorem](http://en.wikipedia.org/wiki/Parseval's_theorem) states that the total average power of a a periodic signal $f(t)$ is equal to the sum of the average powers of all its harmonic components.\n",
      "\n",
      "The power in the $k$th harmonic $C_ke^{jk\\omega t}$ is given by\n",
      "\n",
      "$$P_k = \\frac{1}{T}\\int_0^T\\left|C_ke^{jk\\omega t}\\right|^2\\,dt = \\frac{1}{T}\\int_0^T\\left|C_k\\right|^2\\,dt=\\left|C_k\\right|^2$$\n",
      "\n",
      "Since $P_k = P_{-k}$, the total power of the $k$th harmomic is $2P_k$.\n",
      "\n",
      "Parseval's theorem states that\n",
      "\n",
      "$$P = \\frac{1}{T}\\int_0^T \\left|f(t)\\right|^2\\,dt = \\sum_{k=-\\infty}^{\\infty}\\left|C_k\\right|^2.$$"
     ]
    },
    {
     "cell_type": "heading",
     "level": 3,
     "metadata": {
      "slideshow": {
       "slide_type": "subslide"
      }
     },
     "source": [
      "RMS Power"
     ]
    },
    {
     "cell_type": "markdown",
     "metadata": {},
     "source": [
      "By a similar argument:\n",
      "\n",
      "$$P_{\\mathrm{RMS}} = \\sqrt{\\frac{1}{T}\\int_0^T \\left|f(t)\\right|^2\\,dt} = \\sqrt{\\sum_{k=-\\infty}^{\\infty}\\left|C_k\\right|^2}.$$  \n",
      "    "
     ]
    },
    {
     "cell_type": "heading",
     "level": 3,
     "metadata": {
      "slideshow": {
       "slide_type": "subslide"
      }
     },
     "source": [
      "Example 3"
     ]
    },
    {
     "cell_type": "markdown",
     "metadata": {},
     "source": [
      "Compute the average power of a pulse train for which the pulse width is $T/2$ (duty cycle 50%). Use the previous result: \n",
      "\n",
      "$$C_n = \\frac{A}{w}.\\frac{\\sin(k\\pi/w)}{k\\pi/w}$$\n",
      "\n",
      "as your starting point."
     ]
    },
    {
     "cell_type": "heading",
     "level": 3,
     "metadata": {
      "slideshow": {
       "slide_type": "subslide"
      }
     },
     "source": [
      "Solution 3"
     ]
    },
    {
     "cell_type": "markdown",
     "metadata": {},
     "source": [
      "$w = 2$ so:\n",
      "\n",
      "$$C_n = \\frac{A}{2}.\\frac{\\sin(k\\pi/2)}{k\\pi/2}$$\n",
      "\n",
      "Write down an expression for $P$ using Parseval's Theorem\n"
     ]
    },
    {
     "cell_type": "heading",
     "level": 3,
     "metadata": {
      "slideshow": {
       "slide_type": "subslide"
      }
     },
     "source": [
      "P"
     ]
    },
    {
     "cell_type": "markdown",
     "metadata": {},
     "source": [
      "$$P = \\sum\\limits_{k =  - \\infty }^\\infty  {{{\\left| {{C_k}} \\right|}^2}}  = \\sum\\limits_{k =  - \\infty }^\\infty  {{{\\left| {\\frac{A}{2}{\\mathop{\\rm sinc}\\nolimits} \\frac{{k\\pi }}{2}} \\right|}^2}}  = {A^2}\\left( {\\frac{1}{4} + 2\\sum\\limits_{k = 1}^\\infty  {{{\\left| \\frac{1}{4}{{\\mathop{\\rm sinc}\\nolimits} \\frac{{k\\pi }}{2}} \\right|}^2}} } \\right)$$\n",
      "\n",
      "sinc$(k\\pi/2) = 0$ for $k$ even ($k=0,2,4,6,\\ldots$) so...?"
     ]
    },
    {
     "cell_type": "heading",
     "level": 3,
     "metadata": {
      "slideshow": {
       "slide_type": "subslide"
      }
     },
     "source": [
      "P for k odd"
     ]
    },
    {
     "cell_type": "markdown",
     "metadata": {},
     "source": [
      "$$P = {A^2}\\left( {\\frac{1}{4} + \\frac{1}{2}\\sum\\limits_{k = 1,3,5, \\ldots }^\\infty  {{{\\left| {{\\mathop{\\rm sinc}\\nolimits} \\frac{{k\\pi }}{2}} \\right|}^2}} } \\right) = {A^2}\\left( {\\frac{1}{4} + \\frac{1}{2}\\sum\\limits_{k = 1,3,5, \\ldots }^\\infty  {{{\\left| {\\frac{{\\sin \\frac{{k\\pi }}{2}}}{{\\frac{{k\\pi }}{2}}}} \\right|}^2}} } \\right)$$\n",
      "\n",
      "$\\sin(k\\pi/2) = 1$ for $k$ odd ($k=1,3,5,7,\\ldots$) so...?"
     ]
    },
    {
     "cell_type": "heading",
     "level": 3,
     "metadata": {
      "slideshow": {
       "slide_type": "subslide"
      }
     },
     "source": [
      "P after eliminating sine"
     ]
    },
    {
     "cell_type": "markdown",
     "metadata": {},
     "source": [
      "$$P = {A^2}\\left( {\\frac{1}{4} + \\frac{2}{{{\\pi ^2}}}\\sum\\limits_{k = 1,3,5, \\ldots }^\\infty  {\\left[ {1 + \\frac{1}{9} + \\frac{1}{{25}} +  \\ldots } \\right]} } \\right) = {A^2}\\left( {\\frac{1}{4} + \\frac{2}{{{\\pi ^2}}}\\left[ {\\frac{{{\\pi ^2}}}{8}} \\right]} \\right)$$\n",
      "\n",
      "$$P = \\frac{A^2}{2}$$"
     ]
    },
    {
     "cell_type": "heading",
     "level": 3,
     "metadata": {
      "slideshow": {
       "slide_type": "subslide"
      }
     },
     "source": [
      "Check P from f(t)"
     ]
    },
    {
     "cell_type": "markdown",
     "metadata": {},
     "source": [
      "$$P = \\frac{1}{2\\pi}\\int_{-\\pi/2}^{\\pi/2}|f(t)|^2\\,d\\omega t = \\frac{1}{2\\pi}\\int_{-\\pi/2}^{\\pi/2}|A|^2\\,d\\omega t = \\frac{A^2}{2\\pi}\\left(\\frac{\\pi}{2}+\\frac{\\pi}{2}\\right) = \\frac{A^2}{2}.$$"
     ]
    },
    {
     "cell_type": "heading",
     "level": 3,
     "metadata": {
      "slideshow": {
       "slide_type": "subslide"
      }
     },
     "source": [
      "Power Spectrum"
     ]
    },
    {
     "cell_type": "markdown",
     "metadata": {
      "slideshow": {
       "slide_type": "subslide"
      }
     },
     "source": [
      "The *power spectrum* of signal is the sequence of average powers in each complex harmonic: $|C_k|^2$. For real perodic signals\n",
      "the power spectrum is a real even sequence as $|C_{-k}|^2 = |C_k^*|^2 = |C_k|^2$.\n",
      "\n",
      "This is the power spectrum for a pulse with width $T/8$.\n",
      "\n",
      "<img src=\"files/pictures/power.png\">\n",
      "\n",
      "Note that most of the power is concentrated at DC and in the first seven harmonic components. That is in the frequency range $[-14\\pi/T,+14\\pi/T]$ rad/s. "
     ]
    },
    {
     "cell_type": "heading",
     "level": 3,
     "metadata": {
      "slideshow": {
       "slide_type": "subslide"
      }
     },
     "source": [
      "Total Harmonic Distortion"
     ]
    },
    {
     "cell_type": "markdown",
     "metadata": {},
     "source": [
      "Suppose that a signal that is supposed to be a pure sine wave of amplitude A is distorted as shown below\n",
      "\n",
      "<img src=\"files/pictures/thd.png\">\n",
      "\n",
      "This can occur in the line voltages of an industrial plant that makes heavy use of nonlineear loads such as electric arc furnaces, solid state relays, motor drives, etc (E.g. Tata Steel!)"
     ]
    },
    {
     "cell_type": "heading",
     "level": 3,
     "metadata": {
      "slideshow": {
       "slide_type": "subslide"
      }
     },
     "source": [
      "THD Defined"
     ]
    },
    {
     "cell_type": "markdown",
     "metadata": {},
     "source": [
      "Clearly, some of the harmonics for $k\\ne \\pm 1$ are nonzero. One way to characterie the distortion is to compute the ratio of average power in all the harmonics that \"should not be present\", that is for $k > 1$, to the total average power of the distorted sine wave. The square-root of this ratio is called the *total harmonic distortion* (THD) of the signal.\n",
      "\n",
      "If the signal is real and based on a sine wave (that is *odd*), then $C_k=0$ and\n",
      "\n",
      "$$f_{\\mathrm{RMS}}=\\sqrt{\\sum_{k=1}^{\\infty}2|C_k|^2}$$\n",
      "\n",
      "and we can define the THD as the ratio of the RMS value for all the harmonics for $K>1$ (the distortion) to the RMS of the fundamental which is $\\sqrt{2\\left|C_1\\right|^2}:$\n",
      "\n",
      "$${\\text{THD}} = 100\\sqrt {\\frac{{\\sum\\limits_{k = 2}^\\infty  {{{\\left| {{C_k}} \\right|}^2}} }}{{{{\\left| {{C_1}} \\right|}^2}}}}\\% $$"
     ]
    },
    {
     "cell_type": "heading",
     "level": 3,
     "metadata": {
      "slideshow": {
       "slide_type": "subslide"
      }
     },
     "source": [
      "Computation of THD"
     ]
    },
    {
     "cell_type": "markdown",
     "metadata": {},
     "source": [
      "<img src=\"files/pictures/thd_ps.png\">"
     ]
    },
    {
     "cell_type": "heading",
     "level": 3,
     "metadata": {},
     "source": [
      "Filtering"
     ]
    },
    {
     "cell_type": "heading",
     "level": 2,
     "metadata": {
      "slideshow": {
       "slide_type": "slide"
      }
     },
     "source": [
      "Table of Common Fourier Transform Pairs"
     ]
    },
    {
     "cell_type": "markdown",
     "metadata": {},
     "source": [
      "This table is adapted from Table 8.9 of Karris. See also: and .\n",
      "\n",
      "<html>\n",
      "<table>\n",
      "<thead>\n",
      "<tr><td></td><td>**Name**</td><td>$f(t)$</td><td>$F(s)$</td><td>**Remarks**</td></tr>\n",
      "<thead>\n",
      "<tbody>\n",
      "<tr><td>1</td><td>Dirac delta</td><td>$\\delta(t)$</td><td>1</td><td>Constant energy at *all* frequencies.</td></tr>\n",
      "<tr><td>2</td><td>Time sample</td><td>$\\delta(t-t_0)$</td><td>$e^{j\\omega t_0}$</td><td></td></tr>\n",
      "<tr><td>3.</td><td>Phase shift</td><td>$e^{j\\omega t_0}$</td><td>$2\\pi\\delta(\\omega - \\omega_0)$</td><td></td></tr>\n",
      "<tr><td>4.</td><td>*Signum* </td><td>$\\operatorname{sgn} (x)$</td><td>$$\\frac{2}{j\\omega}$$</td><td></td></tr>\n",
      "<tr><td>5.</td><td>Unit step</td><td>$u_0(t)$</td><td>$$\\frac{1}{j\\omega}+\\pi\\delta(\\omega)$$</td><td></td></tr>\n",
      "<tr><td>6.</td><td>Cosine</td><td>$\\cos \\omega_0 t$</td><td>$\\pi\\left[\\delta(\\omega-\\omega_0)+\\delta(\\omega+\\omega_0)\\right]$</td><td></td></tr>\n",
      "<tr><td>7.</td><td>Sine</td><td>$\\sin \\omega_0 t$</td><td>$j\\pi\\left[\\delta(\\omega-\\omega_0)-\\delta(\\omega+\\omega_0)\\right]$</td><td></td></tr>\n",
      "<tr><td>8.</td><td>Single pole</td><td>$e^{-at}u_0(t)$</td><td>$$\\frac{1}{j\\omega + a}$$</td><td>$a \\gt 0$</td></tr>\n",
      "<tr><td>9.</td><td>Double pole</td><td>$te^{-at}u_0(t)$</td><td>$$\\frac{1}{(j\\omega + a)^2}$$</td><td>$a \\gt 0$</td></tr>\n",
      "<tr><td>10.</td><td>Complex pole (cosine component)</td><td>$e^{-at}\\cos \\omega_0 t\\;u_0(t)$</td><td>$$\\frac{j\\omega + a}{((j\\omega + a)^2+\\omega^2}$$</td><td>$a\\gt 0$</td></tr>\n",
      "<tr><td>11.</td><td>Complex pole (sine component)</td><td>$e^{-at}\\sin \\omega_0 t\\;u_0(t)$</td><td>$$\\frac{\\omega}{((j\\omega + a)^2+\\omega^2}$$</td><td>$a\\gt 0$</td></tr>\n",
      "<tr><td>12.</td><td>Gating function (*aka* $\\operatorname{rect} (T)$)</td><td>$A\\left[u_0(t + T)-u_0(t - T)\\right]$</td><td>$$2AT\\frac{\\sin\\omega T}{\\omega T}$$</td><td></td></tr>\n",
      "</tbody>\n",
      "<table>\n",
      "<html>"
     ]
    },
    {
     "cell_type": "heading",
     "level": 3,
     "metadata": {
      "slideshow": {
       "slide_type": "subslide"
      }
     },
     "source": [
      "By superposition"
     ]
    },
    {
     "cell_type": "markdown",
     "metadata": {},
     "source": [
      "The output of an LTI system to a periodic function with period $T$ represented by a Fourier series is given by:\n",
      "\n",
      "$$y(t)=\\sum_{k=-\\infty}^{\\infty} C_kH(jk\\omega_0)e^{jk\\omega_0 t}$$\n",
      "\n",
      "where $\\omega_0 = T/2\\pi$ is the fundamental frequency.\n",
      "\n",
      "Thus $y(t)$ is a Fourier series itself with coefficients $D_k$:\n",
      "\n",
      "$$D_k = C_kH(jk\\omega_0)$$"
     ]
    },
    {
     "cell_type": "heading",
     "level": 3,
     "metadata": {
      "slideshow": {
       "slide_type": "subslide"
      }
     },
     "source": [
      "Implications of this important result"
     ]
    },
    {
     "cell_type": "markdown",
     "metadata": {},
     "source": [
      "The effect of an LTI sustem on a periodic input signal is to modify its Fourier series through a multiplication by its frequency response evaluated at the harmonic frquencies."
     ]
    },
    {
     "cell_type": "heading",
     "level": 3,
     "metadata": {
      "slideshow": {
       "slide_type": "subslide"
      }
     },
     "source": [
      "Illustration"
     ]
    },
    {
     "cell_type": "markdown",
     "metadata": {},
     "source": [
      "This picture below shows the effect of an LTI system on a periodic input in the frequency domain.\n",
      "\n",
      "<img src=\"files/pictures/filter.png\">"
     ]
    },
    {
     "cell_type": "heading",
     "level": 3,
     "metadata": {
      "slideshow": {
       "slide_type": "subslide"
      }
     },
     "source": [
      "Filtering"
     ]
    },
    {
     "cell_type": "markdown",
     "metadata": {},
     "source": [
      "A consequence of the previous result is that we can design a system that has a desirable frequency spectrum $H(jk\\omega_0)$ that retains certain frequencies and cuts off others.\n",
      "\n",
      "We will return to this idea later."
     ]
    },
    {
     "cell_type": "heading",
     "level": 2,
     "metadata": {
      "slideshow": {
       "slide_type": "slide"
      }
     },
     "source": [
      "End of Part 2"
     ]
    },
    {
     "cell_type": "markdown",
     "metadata": {
      "slideshow": {
       "slide_type": "-"
      }
     },
     "source": [
      "*Summary*\n",
      "\n",
      "* Line spectra\n",
      "* Power in periodic signals\n",
      "* Steady-state response of an LTI system to a periodic signal\n",
      "\n",
      "*Next Time*\n",
      "\n",
      "* The Fourier Transform"
     ]
    },
    {
     "cell_type": "heading",
     "level": 2,
     "metadata": {
      "slideshow": {
       "slide_type": "slide"
      }
     },
     "source": [
      "Home work"
     ]
    },
    {
     "cell_type": "markdown",
     "metadata": {},
     "source": [
      "Compute the exponential Fourier series of a full-wave requified sinusoid. Give the power spectrum for this signal and estimate the total harmonic distortion for the first 7 harmonics."
     ]
    },
    {
     "cell_type": "heading",
     "level": 2,
     "metadata": {
      "slideshow": {
       "slide_type": "slide"
      }
     },
     "source": [
      "Lab Work"
     ]
    },
    {
     "cell_type": "markdown",
     "metadata": {
      "slideshow": {
       "slide_type": "-"
      }
     },
     "source": [
      "In the lab, on Monday, we will continue to explore Fourier Series and their applications"
     ]
    }
   ],
   "metadata": {}
  }
 ]
}