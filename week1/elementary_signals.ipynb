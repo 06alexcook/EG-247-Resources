{
 "metadata": {
  "name": ""
 },
 "nbformat": 3,
 "nbformat_minor": 0,
 "worksheets": [
  {
   "cells": [
    {
     "cell_type": "heading",
     "level": 1,
     "metadata": {
      "slideshow": {
       "slide_type": "slide"
      }
     },
     "source": [
      "Elementary Signals"
     ]
    },
    {
     "cell_type": "markdown",
     "metadata": {},
     "source": [
      "Dr Chris Jobling ([c.p.jobling@swansea.ac.uk](mailto:c.p.jobling@swansea.ac.uk))<br />Digital Technium 124<br />Office Hours: Thursdays 15:00-16:00\n",
      "\n",
      "You can view the notes for this presentation in [HTML format](http://nbviewer.ipython.org/github/cpjobling/EG-247-Resources/blob/master/week1/elementary_signals.ipynb) and print using your Brower's print function. The source code of this presentation is available as an interactive [IPython notebook](http://ipython.org/notebook.html) from GitHub: <https://github.com/cpjobling/EG-247-Resources>. The GitHub repository also contains the source code for all the Matlab/Simulink examples."
     ]
    },
    {
     "cell_type": "markdown",
     "metadata": {
      "slideshow": {
       "slide_type": "slide"
      }
     },
     "source": [
      "Consider this circuit:\n",
      "\n",
      "<img src=\"files/pictures/circuit1.png\">\n",
      "\n",
      "What happens before $t=0$?\n",
      "\n",
      "1. $v_{\\mathrm{out}} = \\mathrm{undefined}$\n",
      "2. $v_{\\mathrm{out}} = 0$\n",
      "3. $v_{\\mathrm{out}} = V_s$\n",
      "4. $v_{\\mathrm{out}} = \\infty$"
     ]
    },
    {
     "cell_type": "markdown",
     "metadata": {
      "slideshow": {
       "slide_type": "subslide"
      }
     },
     "source": [
      "<img src=\"files/pictures/circuit1.png\">\n",
      "\n",
      "What happens after $t=0$?\n",
      "\n",
      "1. $v_{\\mathrm{out}} = \\mathrm{undefined}$\n",
      "2. $v_{\\mathrm{out}} = 0$\n",
      "3. $v_{\\mathrm{out}} = V_s$\n",
      "4. $v_{\\mathrm{out}} = \\infty$"
     ]
    },
    {
     "cell_type": "markdown",
     "metadata": {
      "slideshow": {
       "slide_type": "subslide"
      }
     },
     "source": [
      "<img src=\"files/pictures/circuit1.png\">\n",
      "\n",
      "What happens at $t=0$?\n",
      "\n",
      "1. $v_{\\mathrm{out}} = \\mathrm{undefined}$\n",
      "2. $v_{\\mathrm{out}} = 0$\n",
      "3. $v_{\\mathrm{out}} = V_s$\n",
      "4. $v_{\\mathrm{out}} = \\infty$"
     ]
    },
    {
     "cell_type": "markdown",
     "metadata": {
      "slideshow": {
       "slide_type": "subslide"
      }
     },
     "source": [
      "What does the response of $V_{\\mathrm{out}}$ look like?\n",
      "\n",
      "1: <img src=\"files/pictures/impulse.png\">"
     ]
    },
    {
     "cell_type": "markdown",
     "metadata": {
      "slideshow": {
       "slide_type": "subslide"
      }
     },
     "source": [
      "What does the response of $V_{\\mathrm{out}}$ look like\n",
      "\n",
      "2: <img src=\"files/pictures/ramp.png\">"
     ]
    },
    {
     "cell_type": "markdown",
     "metadata": {
      "slideshow": {
       "slide_type": "subslide"
      }
     },
     "source": [
      "What does the response of $V_{\\mathrm{out}}$ look like\n",
      "\n",
      "3: <img src=\"files/pictures/step1.png\">"
     ]
    },
    {
     "cell_type": "markdown",
     "metadata": {
      "slideshow": {
       "slide_type": "subslide"
      }
     },
     "source": [
      "What does the response of $V_{\\mathrm{out}}$ look like?\n",
      "\n",
      "4: <img src=\"files/pictures/curve.png\">"
     ]
    },
    {
     "cell_type": "markdown",
     "metadata": {
      "slideshow": {
       "slide_type": "subslide"
      }
     },
     "source": [
      "Mathematically\n",
      "\n",
      "1. $v_{\\mathrm{out}} = 0$ when $-\\infty < t < 0$ (answer 2)\n",
      "2. $v_{\\mathrm{out}} = V_s$ when $0 < t < \\infty$ (answer 3)\n",
      "3. $v_{\\mathrm{out}} = \\mathrm{undefined}$ when $t=0$ (answer 1)\n",
      "\n",
      "$V_{\\mathrm{out}}$ jumps from $0$ to $V_s$ instantanously when the switch is closed. We call this a discontinuous signal!\n",
      "\n",
      "The correct image is:\n",
      "\n",
      "3: <img src=\"files/pictures/step2.png\">"
     ]
    },
    {
     "cell_type": "heading",
     "level": 2,
     "metadata": {
      "slideshow": {
       "slide_type": "slide"
      }
     },
     "source": [
      "Unit Step Function"
     ]
    },
    {
     "cell_type": "markdown",
     "metadata": {},
     "source": [
      "$${u_0}(t) = \\left\\{ {\\begin{array}{*{20}{c}}\n",
      "{0\\quad t < 0}\\\\\n",
      "{1\\quad t > 0}\n",
      "\\end{array}} \\right.$$\n",
      "\n",
      "<img src=\"files/pictures/unitstep.png\">"
     ]
    },
    {
     "cell_type": "heading",
     "level": 3,
     "metadata": {
      "slideshow": {
       "slide_type": "subslide"
      }
     },
     "source": [
      "In Matlab"
     ]
    },
    {
     "cell_type": "markdown",
     "metadata": {},
     "source": [
      "In Matlab, we use the `heaviside` function (Named after [Oliver Heaviside](http://en.wikipedia.org/wiki/Oliver_Heaviside)). \n",
      "\n",
      "```syms t\n",
      "ezplot(heaviside(t),[-1,1])\n",
      "```\n",
      "\n",
      "<img src=\"files/pictures/heaviside.png\">\n",
      "\n",
      "See: [heaviside_function.m](files/matlab/heaviside_function.m)\n",
      "\n",
      "Note that, so it can be plotted, Matlab defines the *heaviside function* slightly differently from the mathematica ideal usint step:\n",
      "\n",
      "$$\\mathrm{heaviside}(t) = \\left\\{ {\\begin{array}{*{20}{c}}\n",
      "{0\\quad t < 0}\\\\\n",
      "{1/2\\quad t = 0}\\\\\n",
      "{1\\quad t > 0}\n",
      "\\end{array}} \\right.$$\n"
     ]
    },
    {
     "cell_type": "heading",
     "level": 2,
     "metadata": {
      "slideshow": {
       "slide_type": "subslide"
      }
     },
     "source": [
      "Example"
     ]
    },
    {
     "cell_type": "markdown",
     "metadata": {},
     "source": [
      "Consider the network shown below, where the switch is closed at time $t=T$. \n",
      "\n",
      "<img src=\"files/pictures/circuit2.png\">\n",
      "\n",
      "Express the output voltage $v_{\\mathrm{out}}$ as a function of the unit step function, and sketch the appropriate waveform."
     ]
    },
    {
     "cell_type": "heading",
     "level": 2,
     "metadata": {
      "slideshow": {
       "slide_type": "slide"
      }
     },
     "source": [
      "Simple Signal Operations"
     ]
    },
    {
     "cell_type": "heading",
     "level": 2,
     "metadata": {
      "slideshow": {
       "slide_type": "subslide"
      }
     },
     "source": [
      "Amplitude Scaling"
     ]
    },
    {
     "cell_type": "markdown",
     "metadata": {},
     "source": [
      "Sketch $Au_0(t)$ and $-Au_0(t)$"
     ]
    },
    {
     "cell_type": "heading",
     "level": 2,
     "metadata": {
      "slideshow": {
       "slide_type": "subslide"
      }
     },
     "source": [
      "Time Reversal"
     ]
    },
    {
     "cell_type": "markdown",
     "metadata": {},
     "source": [
      "Sketch $u_0(-t)$"
     ]
    },
    {
     "cell_type": "heading",
     "level": 2,
     "metadata": {
      "slideshow": {
       "slide_type": "subslide"
      }
     },
     "source": [
      "Time Delay and Advance"
     ]
    },
    {
     "cell_type": "markdown",
     "metadata": {},
     "source": [
      "Sketch $u_0(t-T)$ and $u_0(t+T)$"
     ]
    },
    {
     "cell_type": "heading",
     "level": 2,
     "metadata": {
      "slideshow": {
       "slide_type": "slide"
      }
     },
     "source": [
      "Examples"
     ]
    },
    {
     "cell_type": "markdown",
     "metadata": {
      "slideshow": {
       "slide_type": "subslide"
      }
     },
     "source": [
      "Which of these signals represents $-Au_0(t+T)$?\n",
      "\n",
      "<img src=\"files/pictures/stepf1.png\" width=\"50%\">"
     ]
    },
    {
     "cell_type": "markdown",
     "metadata": {
      "slideshow": {
       "slide_type": "subslide"
      }
     },
     "source": [
      "What is represented by\n",
      "\n",
      "<img src=\"files/pictures/stepf2.png\" width=\"50%\">\n",
      "\n",
      "1. $-Au_0(t - T)$ \n",
      "2. $-Au_0(-t + T)$\n",
      "3. $-Au_0(-t - T)$\n",
      "4. $-Au_0(t-T)$"
     ]
    },
    {
     "cell_type": "heading",
     "level": 2,
     "metadata": {
      "slideshow": {
       "slide_type": "slide"
      }
     },
     "source": [
      "Synthesis of Signals from Unit Step"
     ]
    },
    {
     "cell_type": "markdown",
     "metadata": {},
     "source": [
      "Unit step functions can be used to represent other time-varying functions such as rectangular pulses, square waves and triangular pulses."
     ]
    },
    {
     "cell_type": "heading",
     "level": 3,
     "metadata": {
      "slideshow": {
       "slide_type": "subslide"
      }
     },
     "source": [
      "Synthesize Rectangular Pulse"
     ]
    },
    {
     "cell_type": "markdown",
     "metadata": {},
     "source": [
      "<img src=\"files/pictures/rect.png\">"
     ]
    },
    {
     "cell_type": "heading",
     "level": 3,
     "metadata": {
      "slideshow": {
       "slide_type": "subslide"
      }
     },
     "source": [
      "Synthesize Square Wave"
     ]
    },
    {
     "cell_type": "markdown",
     "metadata": {},
     "source": [
      "<img src=\"files/pictures/square_wave.png\">"
     ]
    },
    {
     "cell_type": "heading",
     "level": 3,
     "metadata": {
      "slideshow": {
       "slide_type": "subslide"
      }
     },
     "source": [
      "Synthesize Symmetric Rectangular Pulse"
     ]
    },
    {
     "cell_type": "markdown",
     "metadata": {},
     "source": [
      "<img src=\"files/pictures/symm_rect.png\">"
     ]
    },
    {
     "cell_type": "heading",
     "level": 3,
     "metadata": {
      "slideshow": {
       "slide_type": "subslide"
      }
     },
     "source": [
      "Synthesize Symmetric Triangular Pulse"
     ]
    },
    {
     "cell_type": "markdown",
     "metadata": {},
     "source": [
      "<img src=\"files/pictures/symm_tri.png\">"
     ]
    },
    {
     "cell_type": "heading",
     "level": 2,
     "metadata": {
      "slideshow": {
       "slide_type": "subslide"
      }
     },
     "source": [
      "Homework"
     ]
    },
    {
     "cell_type": "markdown",
     "metadata": {},
     "source": [
      "Show that the waveform shown below \n",
      "\n",
      "<img src=\"files/pictures/example1.png\">\n",
      "\n",
      "can be represented by the function \n",
      "\n",
      "$$v(t) = (2t + 1)u_0(t)-2(t-1)u_0(t-1)-tu_0(t-2)+(t-3)u_o(t-3)$$"
     ]
    },
    {
     "cell_type": "heading",
     "level": 2,
     "metadata": {},
     "source": [
      "The Ramp Function"
     ]
    },
    {
     "cell_type": "markdown",
     "metadata": {},
     "source": [
      "<img src=\"files/pictures/rc.png\">"
     ]
    },
    {
     "cell_type": "heading",
     "level": 2,
     "metadata": {
      "slideshow": {
       "slide_type": "slide"
      }
     },
     "source": [
      "The Dirac Delta Function"
     ]
    },
    {
     "cell_type": "markdown",
     "metadata": {},
     "source": [
      "<img src=\"files/pictures/lr.png\">"
     ]
    },
    {
     "cell_type": "code",
     "collapsed": false,
     "input": [],
     "language": "python",
     "metadata": {},
     "outputs": []
    },
    {
     "cell_type": "heading",
     "level": 2,
     "metadata": {
      "slideshow": {
       "slide_type": "slide"
      }
     },
     "source": [
      "Sampling Property"
     ]
    },
    {
     "cell_type": "heading",
     "level": 2,
     "metadata": {
      "slideshow": {
       "slide_type": "slide"
      }
     },
     "source": [
      "Sifting Property"
     ]
    },
    {
     "cell_type": "code",
     "collapsed": false,
     "input": [],
     "language": "python",
     "metadata": {},
     "outputs": []
    }
   ],
   "metadata": {}
  }
 ]
}