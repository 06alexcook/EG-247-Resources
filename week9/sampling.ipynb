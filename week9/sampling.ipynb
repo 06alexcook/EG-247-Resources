{
 "metadata": {
  "name": ""
 },
 "nbformat": 3,
 "nbformat_minor": 0,
 "worksheets": [
  {
   "cells": [
    {
     "cell_type": "heading",
     "level": 1,
     "metadata": {
      "slideshow": {
       "slide_type": "slide"
      }
     },
     "source": [
      "Sampling Systems"
     ]
    },
    {
     "cell_type": "markdown",
     "metadata": {},
     "source": [
      "Dr Chris Jobling ([c.p.jobling@swansea.ac.uk](mailto:c.p.jobling@swansea.ac.uk))<br />Digital Technium 123<br />Office Hours: Thursdays 14:00-15:00\n",
      "\n",
      "You can view the notes for this presentation in [HTML format](http://nbviewer.ipython.org/github/cpjobling/EG-247-Resources/blob/master/week9/sampling.ipynb) and print using your Brower's print function. The source code of this presentation is available as an interactive [IPython notebook](http://ipython.org/notebook.html) from GitHub: <https://github.com/cpjobling/EG-247-Resources>. The GitHub repository also contains the source code for all the Matlab/Simulink examples."
     ]
    },
    {
     "cell_type": "heading",
     "level": 2,
     "metadata": {
      "slideshow": {
       "slide_type": "slide"
      }
     },
     "source": [
      "Scope and Background Reading"
     ]
    },
    {
     "cell_type": "markdown",
     "metadata": {},
     "source": [
      "This session is an introduction to sampling theory. It reviews the important ideas that pertain to sampling but leaves the detailed mathematics for your further study.\n",
      "\n",
      "The material in this presentation and notes is based on Chapter 15 of [Benoit Boulet, Fundamentals of Signals and Systems](http://site.ebrary.com/lib/swansea/docDetail.action?docID=10228195) from the **Recommended Reading List** and you'll find the detailed mathemtaical treatments tere. There is much more detail in Chapter 9 of [Steven T. Karris, Signals and Systems: with Matlab Computation and Simulink Modelling, 5th Edition](http://site.ebrary.com/lib/swansea/docDetail.action?docID=10547416) from the **Required Reading List**."
     ]
    },
    {
     "cell_type": "heading",
     "level": 2,
     "metadata": {
      "slideshow": {
       "slide_type": "slide"
      }
     },
     "source": [
      "Agenda"
     ]
    },
    {
     "cell_type": "markdown",
     "metadata": {},
     "source": [
      "* Sampling of Continuous-Time Signals\n",
      "* Signal Reconstruction\n",
      "* Discrete-time Processing of Continuous-Time Signals\n",
      "* Sampling of Discrete-Time Systems"
     ]
    },
    {
     "cell_type": "heading",
     "level": 2,
     "metadata": {
      "slideshow": {
       "slide_type": "slide"
      }
     },
     "source": [
      "Introduction"
     ]
    },
    {
     "cell_type": "markdown",
     "metadata": {},
     "source": [
      "* The *sampling process* provides the bridge between continuous-time (CT) and discrete-time (DT) signals\n",
      "* Sampling records discrete values of a CT signal at periodic instants of time.\n",
      "* Sampled data can be used in *real-time* or *off-line* processing\n",
      "* Sampling opens up possibility of processing CT signals through *finite impulse response* (FIR) and *infinite impulse response* IIR filters."
     ]
    },
    {
     "cell_type": "heading",
     "level": 2,
     "metadata": {},
     "source": [
      "Sampling CT Signals"
     ]
    },
    {
     "cell_type": "heading",
     "level": 3,
     "metadata": {
      "slideshow": {
       "slide_type": "subslide"
      }
     },
     "source": [
      "Time domain"
     ]
    },
    {
     "cell_type": "markdown",
     "metadata": {},
     "source": [
      "Sampling can be modelled as the multiplication of a continuous-time signal by a sequence of periodic impulses as illustrated here.\n",
      "\n",
      "<img src=\"files/pictures/sampling.png\">\n",
      "\n",
      "This is a form of **modulation**\n",
      "\n",
      "$T_s$ is the period of the periodic sampling function."
     ]
    },
    {
     "cell_type": "heading",
     "level": 3,
     "metadata": {
      "slideshow": {
       "slide_type": "subslide"
      }
     },
     "source": [
      "Frequency domain"
     ]
    },
    {
     "cell_type": "markdown",
     "metadata": {},
     "source": [
      "Multiplication in time domain is *convolution* in the Frequency domain\n",
      "\n",
      "<img src=\"files/pictures/sampling_fr.png\">\n",
      "\n",
      "$\\omega_s$ is the frequency of the periodic sampling function = $2\\pi/T_s$."
     ]
    },
    {
     "cell_type": "markdown",
     "metadata": {
      "slideshow": {
       "slide_type": "fragment"
      }
     },
     "source": [
      "**Frequency convolution**:\n",
      "$${X_s}(\\omega ) = \\frac{1}{{{T_s}}}\\int_{ - \\infty }^{ + \\infty } {X(\\upsilon )} \\sum\\limits_{n =  - \\infty }^{ + \\infty } {\\delta (t - \\upsilon  - k{\\omega _s})} \\,d\\upsilon $$"
     ]
    },
    {
     "cell_type": "heading",
     "level": 3,
     "metadata": {
      "slideshow": {
       "slide_type": "subslide"
      }
     },
     "source": [
      "The Mathematics"
     ]
    },
    {
     "cell_type": "markdown",
     "metadata": {},
     "source": [
      "**The Sampled signal**:\n",
      "\n",
      "$${x_s}(t) = \\sum\\limits_{n =  - \\infty }^{ + \\infty } {x(n{T_s})\\delta (t - n{T_s})} $$"
     ]
    },
    {
     "cell_type": "markdown",
     "metadata": {
      "slideshow": {
       "slide_type": "fragment"
      }
     },
     "source": [
      "**Frequency convolution**:\n",
      "$${X_s}(\\omega ) = \\frac{1}{{{T_s}}}\\int_{ - \\infty }^{ + \\infty } {X(\\upsilon )} \\sum\\limits_{n =  - \\infty }^{ + \\infty } {\\delta (t - \\upsilon  - k{\\omega _s})} \\,d\\upsilon $$"
     ]
    },
    {
     "cell_type": "markdown",
     "metadata": {
      "slideshow": {
       "slide_type": "fragment"
      }
     },
     "source": [
      "**Sampling property**:\n",
      "\n",
      "$${X_s}(\\omega ) = \\frac{1}{{{T_s}}}\\int_{ - \\infty }^{ + \\infty } {\\sum\\limits_{n =  - \\infty }^{ + \\infty } {X(\\omega  - k{\\omega _s})} } \\delta (t - \\upsilon  - k{\\omega _s})\\,d\\upsilon $$"
     ]
    },
    {
     "cell_type": "markdown",
     "metadata": {
      "slideshow": {
       "slide_type": "fragment"
      }
     },
     "source": [
      "**Sifting property**:\n",
      "\n",
      "$${X_s}(\\omega ) = \\frac{1}{{{T_s}}}\\sum\\limits_{n =  - \\infty }^{ + \\infty } {X(\\omega  - k{\\omega _s})}$$"
     ]
    },
    {
     "cell_type": "heading",
     "level": 3,
     "metadata": {},
     "source": [
      "Nyquist-Shannon Sampling Theorem"
     ]
    },
    {
     "cell_type": "markdown",
     "metadata": {},
     "source": [
      "Gives a sufficient condition to recover a continuous time signal from its samples $x(nT_s), $n$ is an integer."
     ]
    },
    {
     "cell_type": "markdown",
     "metadata": {
      "slideshow": {
       "slide_type": "fragment"
      }
     },
     "source": [
      "**Sampling Theoreom**\n",
      "\n",
      "Let $x(t)$ be a band-limited signal with $X(\\omega) = 0$ for $|\\omega|>\\omega_M$.\n",
      "\n",
      "Then $x(t)$ is uniquely determined by its samples $x(nT_s)$, $\\infty <n < +\\infty$ if\n",
      "\n",
      "$$\\omega_s > 2\\omega_M,$$\n",
      "\n",
      "where $\\omega_s = 2\\pi/T_s$ is the sampling frequency."
     ]
    },
    {
     "cell_type": "heading",
     "level": 3,
     "metadata": {
      "slideshow": {
       "slide_type": "subslide"
      }
     },
     "source": [
      "Recovery of signal by flitering"
     ]
    },
    {
     "cell_type": "markdown",
     "metadata": {},
     "source": [
      "<img src=\"files/pictures/recovery.png\">"
     ]
    },
    {
     "cell_type": "markdown",
     "metadata": {
      "slideshow": {
       "slide_type": "subslide"
      }
     },
     "source": [
      "<img src=\"files/pictures/recovered.png\">"
     ]
    },
    {
     "cell_type": "heading",
     "level": 3,
     "metadata": {
      "slideshow": {
       "slide_type": "subslide"
      }
     },
     "source": [
      "Ideal Lowpass Filter for CT Recovery from DT Sampled Signal"
     ]
    },
    {
     "cell_type": "markdown",
     "metadata": {},
     "source": [
      "<img src=\"files/pictures/recover-lp.png\">\n",
      "\n",
      "This is of course theoretical only!\n"
     ]
    },
    {
     "cell_type": "heading",
     "level": 3,
     "metadata": {
      "slideshow": {
       "slide_type": "subslide"
      }
     },
     "source": [
      "Sample-and-hold"
     ]
    },
    {
     "cell_type": "markdown",
     "metadata": {},
     "source": [
      "<img src=\"files/pictures/sandh.png\">"
     ]
    },
    {
     "cell_type": "heading",
     "level": 3,
     "metadata": {
      "slideshow": {
       "slide_type": "subslide"
      }
     },
     "source": [
      "Sample-and-hold operator"
     ]
    },
    {
     "cell_type": "markdown",
     "metadata": {},
     "source": [
      "<img src=\"files/pictures/zoh.png\">"
     ]
    },
    {
     "cell_type": "markdown",
     "metadata": {
      "slideshow": {
       "slide_type": "subslide"
      }
     },
     "source": [
      "<img src=\"files/pictures/sampling_01.png\">\n",
      "\n",
      "This image was generated by the Matlab script: [sampling.m](files/matlab/sampling.m)"
     ]
    },
    {
     "cell_type": "markdown",
     "metadata": {
      "slideshow": {
       "slide_type": "subslide"
      }
     },
     "source": [
      "<img src=\"files/pictures/sampling_02.png\">\n",
      "\n",
      "This image was generated by the Matlab script: [sampling.m](files/matlab/sampling.m)"
     ]
    },
    {
     "cell_type": "markdown",
     "metadata": {
      "slideshow": {
       "slide_type": "subslide"
      }
     },
     "source": [
      "<img src=\"files/pictures/sampling_03.png\">\n",
      "\n",
      "This image was generated by the Matlab script: [sampling.m](files/matlab/sampling.m)"
     ]
    },
    {
     "cell_type": "heading",
     "level": 3,
     "metadata": {
      "slideshow": {
       "slide_type": "skip"
      }
     },
     "source": [
      "Notes"
     ]
    },
    {
     "cell_type": "markdown",
     "metadata": {
      "slideshow": {
       "slide_type": "skip"
      }
     },
     "source": [
      "The sampled signal $x_0(t)$ carries the same information as the samples themselves, so we should be able to recover the entire signal $x(t)$.\n",
      "\n",
      "From the block diagram of the sample-and-hold operator, what we would need to do is find the inverse of the ZOH system with impulse response $h_0(t)$ and then use a perfect lowpass filter.\n",
      "\n",
      "The frequency response $H_0(\\omega)$ is given by the usual sinc function for an even rectangular pulse signal, multiplied by $e^{-j\\omega T_s/2}$ because we need a time delay of $T_s/2$ to make the signal causal:\n",
      "\n",
      "$${H_0}(\\omega ) = {T_s}{e^{ - j\\omega {T_s}/2}}\\frac{{\\sin \\left( {\\pi \\frac{{{T_s}}}{{2\\pi }}\\omega } \\right)}}{{\\pi \\frac{{{T_s}}}{{2\\pi }}\\omega }} = 2{e^{ - j\\omega {T_s}/2}}\\frac{{\\sin \\left( {\\omega {T_s}/2} \\right)}}{\\omega }$$\n",
      "\n",
      "The inverse of $H_0(\\omega)$ is given by\n",
      "\n",
      "$${H_1}(\\omega ) = {H^{ - 1}}(\\omega ) = \\frac{1}{2}{e^{j\\omega \\frac{{{T_s}}}{2}}}\\frac{\\omega }{{\\sin \\left( {\\frac{{{T_s}}}{2}\\omega } \\right)}}$$\n",
      "\n",
      "The *reconstruction filter* is the cascade of the inverse filter and the lowpass filter:\n",
      "\n",
      "$$H_r(\\omega)=T_sH_{\\mathrm{lp}}(\\omega)H_1(\\omega)$$\n",
      "\n",
      "<img src=\"files/pictures/reconstruction_filter.png\">\n",
      "\n",
      "The frequency response of this filter and additional notes are to be found on Page 546 of Boulet."
     ]
    },
    {
     "cell_type": "heading",
     "level": 2,
     "metadata": {
      "slideshow": {
       "slide_type": "slide"
      }
     },
     "source": [
      "Signal Reconstruction"
     ]
    },
    {
     "cell_type": "markdown",
     "metadata": {},
     "source": [
      "**Problem**\n",
      "\n",
      "* We have a bandlimited signal that is sampled at the Nyquist-Shannon sampling frequency $\\omega_s = 2\\pi/T_s$.\n",
      "* We therefore have a discrete-time (DT) signal $x(nT_s)% from which we want to reconstruct the original signal."
     ]
    },
    {
     "cell_type": "heading",
     "level": 3,
     "metadata": {
      "slideshow": {
       "slide_type": "subslide"
      }
     },
     "source": [
      "Perfect Signal Interpolation Using sinc Functions"
     ]
    },
    {
     "cell_type": "markdown",
     "metadata": {},
     "source": [
      "* In the *frequency domain*, the ideal way to reconstruct the signal would be to construct a chain of impulse $x_s(t)$ and then to filter this signal with an ideal lowpass filter.\n",
      "\n",
      "* In the *time domain*, this is equivalent to interpolating the samples using time-shifted sinc functions with zeros at $nT_s$ for $\\omega_c = \\omega_s$.\n"
     ]
    },
    {
     "cell_type": "markdown",
     "metadata": {
      "slideshow": {
       "slide_type": "subslide"
      }
     },
     "source": [
      "<img src=\"files/pictures/sampling_05.png\">\n",
      "\n",
      "This image was generated by the Matlab script: [sampling.m](files/matlab/sampling.m)"
     ]
    },
    {
     "cell_type": "markdown",
     "metadata": {
      "slideshow": {
       "slide_type": "subslide"
      }
     },
     "source": [
      "<img src=\"files/pictures/sampling_06.png\">\n",
      "\n",
      "This image was generated by the Matlab script: [sampling.m](files/matlab/sampling.m)"
     ]
    },
    {
     "cell_type": "markdown",
     "metadata": {},
     "source": [
      "Each impulse in $x_s(t)$ triggers the impulse reponse of the lowpass filter (the sinc signal), the the resulting signal $x(t)$ at the output of the filter is the sum of all thse time-shifted sinc signals with amplitudes equal to the samples $x(nT_s)$.\n",
      "\n",
      "$$x(t) = \\sum\\limits_{k =  - \\infty }^{ + \\infty } {x(n{T_s}){\\rm{sinc}}} \\left( {\\frac{{t - n{T_s}}}{{{T_s}}}} \\right)$$\n",
      "\n",
      "(Note we have defined ${\\rm{sinc}}(x)$ as $\\sin(\\pi x)/(\\pi x)$.)\n",
      "\n",
      "This is clearly unfeasible, at least in real-time, so we have to resort to approximations of the ideal low-pass filter. \n",
      "\n",
      "A couple of examples are given below. Boulet gives more information including an evaluation of the quality of the approximation.\n",
      "\n",
      "In practice, the zero-order-hold is often used in practice and a low-pass filter with a flat passband (such as the Butterworth filter discussed in the last lecture) would be used. In audio applications, for example, the low-pass nature of speakers and the human ear add additional smoothing and for non HiFi applications (e.g. an MP3 player) may be all that is actually used!"
     ]
    },
    {
     "cell_type": "heading",
     "level": 3,
     "metadata": {
      "slideshow": {
       "slide_type": "subslide"
      }
     },
     "source": [
      "Zero-Order-Hold"
     ]
    },
    {
     "cell_type": "markdown",
     "metadata": {
      "slideshow": {
       "slide_type": "subslide"
      }
     },
     "source": [
      "<img src=\"files/pictures/sampling_03.png\">"
     ]
    },
    {
     "cell_type": "code",
     "collapsed": false,
     "input": [
      "First-order Hold"
     ],
     "language": "python",
     "metadata": {
      "slideshow": {
       "slide_type": "subslide"
      }
     },
     "outputs": []
    },
    {
     "cell_type": "markdown",
     "metadata": {
      "slideshow": {
       "slide_type": "subslide"
      }
     },
     "source": [
      "<img src=\"files/pictures/sampling_04.png\">\n",
      "\n",
      "This image was generated by the Matlab script: [sampling.m](files/matlab/sampling.m)"
     ]
    },
    {
     "cell_type": "heading",
     "level": 3,
     "metadata": {},
     "source": [
      "Aliasing"
     ]
    },
    {
     "cell_type": "markdown",
     "metadata": {},
     "source": [
      "* Aliasing Occurs when the sampling frequency is too low to ovoid overlapping between the spectra.\n",
      "\n",
      "* When aliasing oucus, we have violated the sampling theorem that is $\\omega_s < 2\\omega_m$.\n",
      "\n",
      "* When aliasing occurs, the original signal cannot be recovered by lowpass filtering."
     ]
    },
    {
     "cell_type": "heading",
     "level": 3,
     "metadata": {},
     "source": [
      "An Aliased Signal"
     ]
    },
    {
     "cell_type": "markdown",
     "metadata": {},
     "source": [
      "<img src=\"files/pictures/aliasing.png\">"
     ]
    },
    {
     "cell_type": "heading",
     "level": 3,
     "metadata": {
      "slideshow": {
       "slide_type": "subslide"
      }
     },
     "source": [
      "Example"
     ]
    },
    {
     "cell_type": "markdown",
     "metadata": {},
     "source": [
      "Assume signal $x(t)=\\cos(\\omega_0 t)$ is sampled at a rate of $\\omega_s = 1.5\\omega_s$, violating the sampling theorem.\n",
      "\n",
      "We can see the effect on the plot below:\n",
      "\n",
      "<img src=\"files/pictures/aliasing_ex.png\">"
     ]
    },
    {
     "cell_type": "markdown",
     "metadata": {
      "slideshow": {
       "slide_type": "skip"
      }
     },
     "source": [
      "You should confirm for yourself that after lowpass filtering the spectrum with a filter with cutofff frequency $\\omega_c = \\omega_s/2$ that the signal returned is the spectrum of $x(t)=\\cos(\\omega_0 t/2)$"
     ]
    },
    {
     "cell_type": "heading",
     "level": 2,
     "metadata": {},
     "source": [
      "Sampling CT Signals"
     ]
    },
    {
     "cell_type": "heading",
     "level": 2,
     "metadata": {},
     "source": [
      "Sampling CT Signals"
     ]
    },
    {
     "cell_type": "heading",
     "level": 2,
     "metadata": {},
     "source": [
      "Sampling CT Signals"
     ]
    },
    {
     "cell_type": "markdown",
     "metadata": {},
     "source": [
      "$$X(\\omega) = \\int_{-\\infty}^{\\infty} x(t)e^{-j\\omega t}\\; dt$$"
     ]
    },
    {
     "cell_type": "heading",
     "level": 2,
     "metadata": {
      "slideshow": {
       "slide_type": "slide"
      }
     },
     "source": [
      "Homework"
     ]
    },
    {
     "cell_type": "markdown",
     "metadata": {},
     "source": [
      "Do the end of the chapter exercises (Section 1.7) from the textbook. Don't look at the answers until you have attempted the problems."
     ]
    },
    {
     "cell_type": "heading",
     "level": 2,
     "metadata": {
      "slideshow": {
       "slide_type": "slide"
      }
     },
     "source": [
      "Lab Work"
     ]
    },
    {
     "cell_type": "markdown",
     "metadata": {
      "slideshow": {
       "slide_type": "-"
      }
     },
     "source": []
    }
   ],
   "metadata": {}
  }
 ]
}