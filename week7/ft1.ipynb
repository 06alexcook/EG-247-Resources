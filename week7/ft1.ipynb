{
 "metadata": {
  "name": ""
 },
 "nbformat": 3,
 "nbformat_minor": 0,
 "worksheets": [
  {
   "cells": [
    {
     "cell_type": "heading",
     "level": 1,
     "metadata": {
      "slideshow": {
       "slide_type": "slide"
      }
     },
     "source": [
      "The Fourier Transform (Part 1)"
     ]
    },
    {
     "cell_type": "markdown",
     "metadata": {},
     "source": [
      "Dr Chris Jobling ([c.p.jobling@swansea.ac.uk](mailto:c.p.jobling@swansea.ac.uk))<br />Digital Technium 123<br />Office Hours: Thursdays 14:00-15:00\n",
      "\n",
      "You can view the notes for this presentation in [HTML format](http://nbviewer.ipython.org/github/cpjobling/EG-247-Resources/blob/master/week7/ft1.ipynb) and print using your Brower's print function. The source code of this presentation is available as an interactive [IPython notebook](http://ipython.org/notebook.html) from GitHub: <https://github.com/cpjobling/EG-247-Resources>. The GitHub repository also contains the source code for all the Matlab/Simulink examples."
     ]
    },
    {
     "cell_type": "heading",
     "level": 2,
     "metadata": {
      "slideshow": {
       "slide_type": "slide"
      }
     },
     "source": [
      "Agenda"
     ]
    },
    {
     "cell_type": "markdown",
     "metadata": {},
     "source": [
      "* Fourier Transform as the Limit of a Fourier Series\n",
      "* Topic 2\n",
      "* Topic 3"
     ]
    },
    {
     "cell_type": "heading",
     "level": 2,
     "metadata": {
      "slideshow": {
       "slide_type": "slide"
      }
     },
     "source": [
      "Scope and Background Reading"
     ]
    },
    {
     "cell_type": "markdown",
     "metadata": {},
     "source": [
      "This session continues our coverage of **Fourier Analysis** with an introduction to the **Fourier Transform**.\n",
      "\n",
      "* **Fourier Series** is used when we are dealing with signals that are *periodic* in time. It is based on harmonics of the fundamental frequency $\\omega_0$ of the periodic signal where the period $T = 2\\pi/\\omega_0$.\n",
      "\n",
      "* The line spectrum occur at integer multiples of the fundamental frequency $k\\omega_0$ and is a *discrete* (or sampled) function of frequency.\n",
      "\n",
      "* As the period $T$ is increased, the distance between harmonics decreases because $\\omega_0$ reduces.\n",
      "\n",
      "* In the limit $T\\to \\infty$, the signal becomes **aperiodic** and $k\\omega_0 \\to \\omega$ which is a *continuous* function of frequency.\n",
      "\n",
      "This is the basis of the **Fourier Transform** which is very important as the basis for data transmission, signal filtering, and the determination of system frequency reponse.\n",
      "\n",
      "The material in this presentation and notes is based on Chapter 8 (Starting at Section 8.1) of [Steven T. Karris, Signals and Systems: with Matlab Computation and Simulink Modelling, 5th Edition.](http://site.ebrary.com/lib/swansea/docDetail.action?docID=10547416) from the **Required Reading List**. I also used Chapter 5 of [Benoit Boulet, Fundamentals of Signals and Systems](http://site.ebrary.com/lib/swansea/docDetail.action?docID=10228195) from the **Recommended Reading List**."
     ]
    },
    {
     "cell_type": "heading",
     "level": 2,
     "metadata": {
      "slideshow": {
       "slide_type": "slide"
      }
     },
     "source": [
      " Fourier Transform as the Limit of a Fourier Series"
     ]
    },
    {
     "cell_type": "markdown",
     "metadata": {},
     "source": [
      "We start by considering the pulse train that we used in the last lecture and demonstrate that the discrete line spectra for the Fourier Series becomes a continuous spectrum as the signal becomes aperiodic.\n",
      "\n",
      "This analysis is from Boulet pp 142&mdash;144 and 176&mdash;180.\n",
      "\n",
      "Let $\\tilde x(t)$ be the Fourier series of the rectangular pulse train shown below:\n",
      "\n",
      "<img src=\"files/pictures/pulse_train.png\">\n",
      "\n"
     ]
    },
    {
     "cell_type": "heading",
     "level": 2,
     "metadata": {
      "slideshow": {
       "slide_type": "subslide"
      }
     },
     "source": [
      "Fourier Series"
     ]
    },
    {
     "cell_type": "markdown",
     "metadata": {},
     "source": [
      "In the previous lecture we used\n",
      "\n",
      "$$C_k = \\frac{1}{2\\pi}\\int_{-\\pi/w}^{\\pi/w} Ae^{-jk(\\omega t)}\\,d(\\omega t) = \\frac{A}{2\\pi}\\int_{-\\pi/w}^{\\pi/w} e^{-jk(\\omega t)}\\,d(\\omega t) $$\n",
      "\n",
      "to compute the line spectra. If we instead take a time point-of-view and let $A = 1$\n",
      "\n",
      "$$C_k = \\frac{1}{T}\\int_{-t_0}^{t_0} e^{-jk\\omega_0 t}\\,dt = -\\frac{1}{jk\\omega_0 T}\\left[e^{-jk\\omega_0 t}\\right]_{-t_0}^{t_0} = -\\frac{1}{jk\\omega_0 T}\\left(e^{-jk\\omega_0 t_0}-e^{jk\\omega_0 t_0}\\right)$$\n",
      "\n",
      "$$C_k = \\frac{2}{k\\omega_0 T}\\left(\\frac{e^{jk\\omega_0 t_0}-e^{-jk\\omega_0 t_0}}{2j}\\right) = 2\\frac{\\sin(k\\omega_0 t_0)}{k\\omega_0 T}$$\n",
      "\n",
      "and since $\\omega_0 = 2\\pi/T$\n",
      "\n",
      "$$C_k = \\frac{\\sin\\left(\\pi k\\frac{2t_0}{T}\\right)}{k\\pi } = \\frac{T}{2t_0}{\\mathop{\\rm sinc}}\\left(\\pi k\\frac{2t_0}{T}\\right)$$\n"
     ]
    },
    {
     "cell_type": "heading",
     "level": 3,
     "metadata": {
      "slideshow": {
       "slide_type": "subslide"
      }
     },
     "source": [
      "The Sinc Function"
     ]
    },
    {
     "cell_type": "markdown",
     "metadata": {},
     "source": [
      "The function, $\\sin(x)/x$ crops up again and again in Fourier analysis. The Fourier coefficients $C_k$ are scaled *samples* of the real continuous *normalized sinc* function defined as follows:\n",
      "\n",
      "$$\\operatorname{sinc} u: = \\frac{{\\sin \\pi u}}{{\\pi u}},\\;u \\in \\mathbb{R}.$$\n",
      "\n",
      "The function is equal to 1 at $u=0$<sup>*</sup> and has zero crossings at $u=\\pm n,\\; n=1,2,3,\\ldots$ as shown below\n",
      "\n",
      "<img src=\"files/pictures/sinc.png\">\n",
      "\n",
      "Matlab code to reproduce this plot: [sinc_plot.m](files/matlab/sinc_plot.m).\n",
      "\n",
      "----\n",
      "\n",
      "Note $sin(\\pi u)/(\\pi u)$ is undefined at $u = 0$. To compute its value we need to take the limit\n",
      "\n",
      "$$\\lim_{u\\to 0} \\frac{\\sin(\\pi u)}{u}$$ \n",
      "\n",
      "which can be shown to be 1. I leave the discovery of the proof to you and the internet."
     ]
    },
    {
     "cell_type": "heading",
     "level": 3,
     "metadata": {
      "slideshow": {
       "slide_type": "subslide"
      }
     },
     "source": [
      "Duty cycle"
     ]
    },
    {
     "cell_type": "markdown",
     "metadata": {},
     "source": [
      "* We define the duty cycle $\\eta = 2t_0/T$ of the rectangular pulse train as the fraction of the time the signal is \"on\" (equal to 1) over one period.\n",
      "* The duty cycle is often given as a percentage.\n",
      "\n",
      "The spectra coefficients expressed using the normalized sinc function and the duty cycle can be written as\n",
      "\n",
      "$$C_k = \\frac{2t_0}{T}\\frac{\\sin\\left(\\frac{\\pi k2t_0}{T}\\right)}{\\frac{\\pi k2t_0}{T}}=\\frac{2t_0}{T}\\operatorname{sinc}\\left(\\frac{k2t_0}{T}\\right)$$\n",
      "\n",
      "$$C_k = \\eta \\operatorname{sinc}\\left(k\\eta\\right)$$"
     ]
    },
    {
     "cell_type": "heading",
     "level": 3,
     "metadata": {
      "slideshow": {
       "slide_type": "subslide"
      }
     },
     "source": [
      "Normalize the spectral coefficients"
     ]
    },
    {
     "cell_type": "markdown",
     "metadata": {},
     "source": [
      "Let us normalize the spectral coefficients of $\\tilde x(t)$ by mutiplying them by $T$, and assume $t_0$ is fixed so that the duty cycle $\\eta = 2t_0/T$ will decrease as we increase $T$:\n",
      "\n",
      "$$T C_k = T\\eta \\operatorname{sinc}\\left(k\\eta\\right)=2t_0\\operatorname{sinc}\\left(k\\frac{2t_0}{T}\\right)$$\n",
      "\n",
      "Then the normaized coefficents $T C_k$ of the rectangular wave a sinc envolope with constant amplitude at the origin equal to $2t_0$, and a zero crossing at fixed frequency $\\pi/t_0$ rad/s, both independent of T.\n",
      "\n",
      "Plots follow (use [duty_cycle.m](files/matlab/duty_cycle.m) to reproduce)."
     ]
    },
    {
     "cell_type": "heading",
     "level": 3,
     "metadata": {
      "slideshow": {
       "slide_type": "subslide"
      }
     },
     "source": [
      "Durty cycle 50%"
     ]
    },
    {
     "cell_type": "markdown",
     "metadata": {},
     "source": [
      "<img src=\"files/pictures/dc_point5.png\">"
     ]
    },
    {
     "cell_type": "heading",
     "level": 3,
     "metadata": {
      "slideshow": {
       "slide_type": "subslide"
      }
     },
     "source": [
      "Duty cycle 12.5%"
     ]
    },
    {
     "cell_type": "markdown",
     "metadata": {},
     "source": [
      "<img src=\"files/pictures/dc_12point5.png\">"
     ]
    },
    {
     "cell_type": "heading",
     "level": 3,
     "metadata": {
      "slideshow": {
       "slide_type": "subslide"
      }
     },
     "source": [
      "Comments"
     ]
    },
    {
     "cell_type": "markdown",
     "metadata": {},
     "source": [
      "* As fundamental period increases, we get more spectral lines packed into the lobes of the sinc envelope.\n",
      "* These normalized spectral coefficients turn out to be samples of the continuous sinc function"
     ]
    },
    {
     "cell_type": "heading",
     "level": 3,
     "metadata": {
      "slideshow": {
       "slide_type": "slide"
      }
     },
     "source": [
      "The Exponential Fourier Series"
     ]
    },
    {
     "cell_type": "markdown",
     "metadata": {},
     "source": [
      "As we saw last time any periodic waveform $f(t)$ can be represented as\n",
      "\n",
      "$$\\begin{gathered}\n",
      "  f(t) = \\frac{1}{2}{a_0} + {a_l}\\cos \\omega t + {a_2}\\cos 2\\omega t +  \\cdots  \\\\ \n",
      "   + {b_l}\\sin \\omega t + {b_2}\\sin 2\\omega t +  \\cdots  \\\\ \n",
      "\\end{gathered} $$\n",
      "\n",
      "If we replace the cos and sin terms with their imaginary expontial equivalents:\n",
      "\n",
      "$$\\begin{gathered}\n",
      "  f(t) = \\frac{1}{2}{a_0} + {a_l}\\left(\\frac{e^{j\\omega t} + e^{-j\\omega t}}{2}\\right) + {a_2}\\left(\\frac{e^{j2\\omega t} + e^{-j2\\omega t}}{2}\\right) +  \\cdots  \\\\ \n",
      "   + {b_l}\\left(\\frac{e^{j\\omega t} - e^{-j\\omega t}}{j2}\\right) + {b_2}\\left(\\frac{e^{j2\\omega t} - e^{-j2\\omega t}}{j2}\\right) +  \\cdots  \\\\ \n",
      "\\end{gathered} $$"
     ]
    },
    {
     "cell_type": "heading",
     "level": 3,
     "metadata": {
      "slideshow": {
       "slide_type": "subslide"
      }
     },
     "source": [
      "Gouping terms with same exponents"
     ]
    },
    {
     "cell_type": "markdown",
     "metadata": {},
     "source": [
      "$$f(t) = \\cdots + \\left(\\frac{a_2}{2}-\\frac{b_2}{j2}\\right)e^{-j\\omega 2 t} + \\left(\\frac{a_1}{2}-\\frac{b_1}{j2}\\right)e^{-j\\omega t} + \\frac{1}{2}{a_0} + \\left(\\frac{a_1}{2}+\\frac{b_1}{j2}\\right)e^{j\\omega t} + \\left(\\frac{a_2}{2}+\\frac{b_2}{j2}\\right)e^{j\\omega 2 t} +\\cdots $$"
     ]
    },
    {
     "cell_type": "heading",
     "level": 3,
     "metadata": {
      "slideshow": {
       "slide_type": "subslide"
      }
     },
     "source": [
      "New coefficents"
     ]
    },
    {
     "cell_type": "markdown",
     "metadata": {},
     "source": [
      "The terms in parentheses are usually denoted as\n",
      "\n",
      "$$C_{-k} = \\frac{1}{2}\\left(a_k-\\frac{b_k}{j}\\right) = \\frac{1}{2}\\left(a_k+j b_k\\right)$$\n",
      "\n",
      "$$C_{k} = \\frac{1}{2}\\left(a_k+\\frac{b_k}{j}\\right) = \\frac{1}{2}\\left(a_k-j b_k\\right)$$\n",
      "\n",
      "$$C_0 = \\frac{1}{2}a_0$$"
     ]
    },
    {
     "cell_type": "heading",
     "level": 3,
     "metadata": {
      "slideshow": {
       "slide_type": "subslide"
      }
     },
     "source": [
      "The Exponential Fourier Series"
     ]
    },
    {
     "cell_type": "markdown",
     "metadata": {},
     "source": [
      "$$f(t) = \\cdots + C_{-2}e^{-j\\omega 2 t} + C_{-1}e^{-j\\omega t} + C_0 + C_{1}e^{j\\omega t} + C_{2}e^{j\\omega 2 t} +\\cdots $$\n",
      "\n",
      "or more compactly\n",
      "\n",
      "$$f(t) = \\sum_{k=-n}^{n}C_{k}e^{-jk \\omega  t}$$\n",
      "\n",
      "**Inportant**\n",
      "\n",
      "The $C_k$ coefficents, except for $C_0$ are *complex* and appear in conjugate pairs so\n",
      "\n",
      "$$C_{-k} = C_k^*$$"
     ]
    },
    {
     "cell_type": "heading",
     "level": 3,
     "metadata": {
      "slideshow": {
       "slide_type": "subslide"
      }
     },
     "source": [
      "Evaluation of the complex coefficients"
     ]
    },
    {
     "cell_type": "markdown",
     "metadata": {},
     "source": [
      "The coefficients are obtained from the following expressions<sup>*</sup>:\n",
      "\n",
      "$$C_k = \\frac{1}{2\\pi}\\int_{0}^{2\\pi}f(t)e^{-jk\\omega t}\\,dt$$\n",
      "\n",
      "or\n",
      "\n",
      "$$C_k = \\frac{1}{T}\\int_{0}^{T}f(t)e^{-jk\\omega t}\\,dt$$\n",
      "\n",
      "These are much easier to derive and compute than the equivalent Trigonemetric Fourier Series coefficients. \n",
      "\n",
      "----\n",
      "<sup>*</sup> The analysis that leads to this result is provided between pages 7-31 and 7-32 of the text book. It is not a difficult proof, but we are more interested in the result."
     ]
    },
    {
     "cell_type": "heading",
     "level": 3,
     "metadata": {
      "slideshow": {
       "slide_type": "subslide"
      }
     },
     "source": [
      "Trigonometric Fourier Series from Exponential Fourier Series"
     ]
    },
    {
     "cell_type": "markdown",
     "metadata": {},
     "source": [
      "By substituting $C_{-k}$ and $C_{k}$ back into the original expansion\n",
      "\n",
      "$$C_k+C_{-k} = \\frac{1}{2}\\left(a_k-jb_k + a_k+jb_k\\right)$$\n",
      "\n",
      "so\n",
      "\n",
      "$$a_k = C_k + C_{-k}$$\n",
      "\n",
      "Similarly\n",
      "\n",
      "$$C_k-C_{-k} = \\frac{1}{2}\\left(a_k-jb_k - a_k-jb_k\\right)$$\n",
      "\n",
      "so\n",
      "\n",
      "$$b_k = j\\left(C_k - C_{-k}\\right)$$\n",
      "\n",
      "Thus we can easily go back to the Trig. Fourier series if we want to."
     ]
    },
    {
     "cell_type": "heading",
     "level": 2,
     "metadata": {
      "slideshow": {
       "slide_type": "slide"
      }
     },
     "source": [
      "Symmetry in Exponential Fourier Series"
     ]
    },
    {
     "cell_type": "markdown",
     "metadata": {},
     "source": [
      "Since the coefficients of the Exponential Fourier Series are complex numbers, we can use symmetry to determine the form of the coefficeints and thereby simplify the computation series for wave forms that have symmetry."
     ]
    },
    {
     "cell_type": "heading",
     "level": 3,
     "metadata": {
      "slideshow": {
       "slide_type": "subslide"
      }
     },
     "source": [
      "Even Functions"
     ]
    },
    {
     "cell_type": "markdown",
     "metadata": {},
     "source": [
      "For even functions, all coefficients $C_k$ are real.\n",
      "\n",
      "**Proof**\n",
      "\n",
      "Recall \n",
      "\n",
      "$$C_{-k} = \\frac{1}{2}\\left(a_k-\\frac{b_k}{j}\\right) = \\frac{1}{2}\\left(a_k+jb_k\\right)$$\n",
      "\n",
      "and\n",
      "\n",
      "$$C_k = \\frac{1}{2}\\left(a_k+\\frac{b_k}{j}\\right) = \\frac{1}{2}\\left(a_k-jb_k\\right)$$\n",
      "\n",
      "From last session, even functions have no sine terms so the $b_k$ coefficients are 0. Therefore both $C_{-k}$ and $C_k$ are real.\n"
     ]
    },
    {
     "cell_type": "heading",
     "level": 3,
     "metadata": {
      "slideshow": {
       "slide_type": "subslide"
      }
     },
     "source": [
      "Odd Functions"
     ]
    },
    {
     "cell_type": "markdown",
     "metadata": {},
     "source": [
      "For odd functions, all coefficients $C_k$ are imaginary.\n",
      "\n",
      "By a similar argument, all odd functions have no cosine terms so the $a_k$ coefficients are 0. Therefore both $C_{-k}$ and $C_k$ are imaginary.\n"
     ]
    },
    {
     "cell_type": "heading",
     "level": 3,
     "metadata": {
      "slideshow": {
       "slide_type": "subslide"
      }
     },
     "source": [
      "Half-wave symmetry"
     ]
    },
    {
     "cell_type": "markdown",
     "metadata": {},
     "source": [
      "If there is *half-wave symmetry*, $C_k = 0$ for $n$ even.\n",
      "\n",
      "**Proof**\n",
      "\n",
      "From trigonometric Fourier Series, if there is half-wave symmetry, all even harnonics are zero, thus both $a_k$ and $b_k$ are zero for $k$ even. Hence $C_{-k}$ and $C_k$ are also zero when $k$ is even."
     ]
    },
    {
     "cell_type": "heading",
     "level": 3,
     "metadata": {
      "slideshow": {
       "slide_type": "subslide"
      }
     },
     "source": [
      "No symmetry"
     ]
    },
    {
     "cell_type": "markdown",
     "metadata": {},
     "source": [
      "If there is no symmetry the Exponential Fourier Series of $f(t)$ is complex."
     ]
    },
    {
     "cell_type": "heading",
     "level": 3,
     "metadata": {
      "slideshow": {
       "slide_type": "subslide"
      }
     },
     "source": [
      "Relation of C<sub>-k</sub> to C<sub>k</sub>"
     ]
    },
    {
     "cell_type": "markdown",
     "metadata": {},
     "source": [
      "$C_{-k} = C_{k}^*$ **always**"
     ]
    },
    {
     "cell_type": "heading",
     "level": 3,
     "metadata": {
      "slideshow": {
       "slide_type": "subslide"
      }
     },
     "source": [
      "Example 1"
     ]
    },
    {
     "cell_type": "markdown",
     "metadata": {},
     "source": [
      "Compute the Exponential Fourier Series for the square wave shown below assuming that $\\omega = 1$\n",
      "\n",
      "<img src=\"files/pictures/sqw.png\"> "
     ]
    },
    {
     "cell_type": "heading",
     "level": 3,
     "metadata": {
      "slideshow": {
       "slide_type": "subslide"
      }
     },
     "source": [
      "Some questions for you"
     ]
    },
    {
     "cell_type": "markdown",
     "metadata": {},
     "source": [
      "* Square wave is an [**odd/even/neither**] function?\n",
      "* DC component is [**zero/non-zero**]?\n",
      "* Square wave [**has/does not have**] half-wave symmetry?\n",
      "\n",
      "Hence\n",
      "\n",
      "* $C_0 = $[**?**]\n",
      "* Coefficients $C_k$ are [**real/imaginary/complex**]?\n",
      "* Subscripts $k$ are [**odd only/even only/both odd and even**]?\n",
      "* What is the inegral that needs to be solved for $C_k$?"
     ]
    },
    {
     "cell_type": "heading",
     "level": 3,
     "metadata": {
      "slideshow": {
       "slide_type": "subslide"
      }
     },
     "source": [
      "Some answers for you"
     ]
    },
    {
     "cell_type": "markdown",
     "metadata": {},
     "source": [
      "* Square wave is an **odd** function!\n",
      "* DC component is **zero**!\n",
      "* Square wave **has** half-wave symmetry!\n",
      "\n",
      "Hence\n",
      "\n",
      "* $C_0 = 0$\n",
      "* Coefficients $C_k$ are **imaginary**!\n",
      "* Subscripts $k$ are **odd only**!\n",
      "* What is the inegral that needs to be solved for $C_k$?\n",
      "\n",
      "$$C_k = \\frac{1}{2\\pi}\\int_{0}^{2\\pi} f(t)e^{-jkt}\\, dt = \\frac{1}{2\\pi}\\left[\\int_{0}^{\\pi} Ae^{-jkt}\\, dt + \\int_{\\pi}^{2\\pi} (-A)e^{-jkt}\\, dt\\right]$$"
     ]
    },
    {
     "cell_type": "heading",
     "level": 3,
     "metadata": {
      "slideshow": {
       "slide_type": "subslide"
      }
     },
     "source": [
      "Solution"
     ]
    },
    {
     "cell_type": "markdown",
     "metadata": {},
     "source": [
      "$$\\frac{1}{2\\pi}\\left[\\int_{0}^{\\pi} Ae^{-jkt}\\, dt + \\int_{\\pi}^{2\\pi} (-A)e^{-jkt}\\, dt\\right] = \\frac{1}{2\\pi}\\left[\\left.\\frac{A}{-jk}e^{-jkt}\\right|_0^\\pi+\\left.\\frac{-A}{-jk}e^{-jkt}\\right|_\\pi^{2\\pi}\\right]$$\n",
      "\n",
      "$$ = \\frac{1}{2\\pi}\\left[\\frac{A}{-jk}\\left(e^{-jk\\pi} - 1\\right)+\\frac{A}{jk}\\left(e^{-j2k \\pi}-e^{-jk\\pi}\\right)\\right] =\n",
      "\\frac{A}{2j\\pi k}\\left(1 - e^{-jk\\pi}+ e^{-j2k \\pi}-e^{-jk\\pi}\\right)$$\n",
      "\n",
      "$$\\frac{A}{2j\\pi k}\\left(e^{-j2k \\pi} - 2e^{-jk\\pi} -1 \\right) = \\frac{A}{2j\\pi k}\\left(e^{-jk\\pi}-1\\right)^2$$\n",
      "\n",
      "For $n$ odd*, $e^{-jk\\pi} = -1$. Therefore\n",
      "\n",
      "$${C_n \\atop {n=\\mathrm{odd}}} = \\frac{A}{2j\\pi k}\\left(e^{-jk\\pi}-1\\right)^2 = \\frac{A}{2j\\pi k}\\left(-1-1\\right)^2 = \\frac{A}{2j\\pi k}\\left(-2\\right)^2 = \\frac{2A}{j\\pi k}$$\n",
      "\n",
      "----\n",
      "<sup>*</sup> You may want to verify that $C_0 = 0$ and \n",
      "\n",
      "$${C_n \\atop {n=\\mathrm{even}}} = 0.$$\n"
     ]
    },
    {
     "cell_type": "heading",
     "level": 3,
     "metadata": {
      "slideshow": {
       "slide_type": "subslide"
      }
     },
     "source": [
      "exponential Fourier series for the square wave with odd symmetry"
     ]
    },
    {
     "cell_type": "markdown",
     "metadata": {},
     "source": [
      "From the definition of the exponential Fourier series\n",
      "\n",
      "$$f(t) = \\cdots + C_{-2}e^{-j2\\omega t} + C_{-1}e^{-j\\omega t} + C_{0} + C_{1}e^{j\\omega t} + C_{2}e^{j2\\omega t} + \\cdots$$\n",
      "\n",
      "the *exponential Fourier series for the square wave with odd symmetry* is\n",
      "\n",
      "$$f(t) = \\frac{2A}{j\\pi}\\left(\\cdots - \\frac{1}{3}e^{-j3\\omega t} - e^{-j\\omega t} + e^{j\\omega t} + \\frac{1}{3}e^{j3\\omega t} + \\cdots\\right) = \\frac{2A}{j\\pi}\\sum_{n = \\mathrm{odd}} \\frac{1}{n}e^{jk\\omega t}$$\n",
      "\n",
      "Note sign change in first two terms. This is due to the fact that $C_{-k} = C_k^*$. \n",
      "\n",
      "E.g. since $C_3 = 2A/j3\\pi$, $C_{-3} = C_3^* = -2A/j3\\pi$"
     ]
    },
    {
     "cell_type": "heading",
     "level": 3,
     "metadata": {
      "slideshow": {
       "slide_type": "subslide"
      }
     },
     "source": [
      "Trig. Fourier Series from Exponential Fourier Series"
     ]
    },
    {
     "cell_type": "markdown",
     "metadata": {},
     "source": [
      "Since\n",
      "\n",
      "$$f(t) = \\frac{2A}{j\\pi}\\left(\\cdots - \\frac{1}{3}e^{-j3\\omega t} - e^{-j\\omega t} + e^{j\\omega t} + \\frac{1}{3}e^{j3\\omega t} + \\cdots\\right) $$\n",
      "\n",
      "gathering terms at each harmonic frequency gives\n",
      "\n",
      "$$f(t) = \\frac{4A}{\\pi}\\left(\\cdots + \\left(\\frac{e^{j\\omega t} - e^{-j\\omega t}}{2j}\\right)  + \\frac{1}{3}\\left(\\frac{e^{j3\\omega t} - e^{-j3\\omega t}}{2j}\\right)  +  \\cdots\\right) = \\frac{4A}{\\pi}\\left(\\sin \\omega t + \\frac{1}{3}\\sin 3\\omega t + \\cdots\\right) = \\frac{4A}{\\pi} \\sum_{n=\\mathrm{odd}} \\frac{1}{k}\\sin k\\omega t$$"
     ]
    },
    {
     "cell_type": "heading",
     "level": 2,
     "metadata": {
      "slideshow": {
       "slide_type": "subslide"
      }
     },
     "source": [
      "Computing coefficients of Exponential Fourier Series in Matlab\n",
      "\n"
     ]
    },
    {
     "cell_type": "heading",
     "level": 3,
     "metadata": {
      "slideshow": {
       "slide_type": "subslide"
      }
     },
     "source": [
      "Example 2"
     ]
    },
    {
     "cell_type": "markdown",
     "metadata": {},
     "source": [
      "Verify the result of Example 1 using Matlab."
     ]
    },
    {
     "cell_type": "heading",
     "level": 3,
     "metadata": {
      "slideshow": {
       "slide_type": "subslide"
      }
     },
     "source": [
      "Solution"
     ]
    },
    {
     "cell_type": "markdown",
     "metadata": {},
     "source": [
      "Solution: See [efs_sqw.m](files/matlab/efs_sqw.m). \n",
      "\n",
      "Script confirms that:\n",
      "\n",
      "* $C_0 = 0$\n",
      "* $C_k$ is imaginary: function is odd\n",
      "* $C_k = 0$: for $i$ even - half-wave symmetry\n",
      "\n",
      "```\n",
      "X =\n",
      " \n",
      "[ (A*2*i)/(5*pi), 0, (A*2*i)/(3*pi), 0, (A*2*i)/pi, 0, -(A*2*i)/pi, 0, -(A*2*i)/(3*pi), 0, -(A*2*i)/(5*pi)]\n",
      " \n",
      "\n",
      "w =\n",
      "\n",
      "    -5    -4    -3    -2    -1     0     1     2     3     4     5\n",
      "```"
     ]
    },
    {
     "cell_type": "heading",
     "level": 3,
     "metadata": {
      "slideshow": {
       "slide_type": "subslide"
      }
     },
     "source": [
      "Plot of Result"
     ]
    },
    {
     "cell_type": "markdown",
     "metadata": {},
     "source": [
      "<img src=\"files/pictures/efs_sqw.png\">"
     ]
    },
    {
     "cell_type": "heading",
     "level": 2,
     "metadata": {
      "slideshow": {
       "slide_type": "slide"
      }
     },
     "source": [
      "End of Part 1"
     ]
    },
    {
     "cell_type": "markdown",
     "metadata": {
      "slideshow": {
       "slide_type": "-"
      }
     },
     "source": [
      "*Summary*\n",
      "\n",
      "* Exponents and Euler's Equation\n",
      "* The exponential Fourier series\n",
      "* Symmetry in Exponential Fourier Series\n",
      "* Example\n",
      "\n",
      "*Next Time*\n",
      "\n",
      "* Line spectra\n",
      "* Power in periodic signals\n",
      "* Steady-State Response of an LTI System to a Periodic SignalS"
     ]
    },
    {
     "cell_type": "heading",
     "level": 2,
     "metadata": {
      "slideshow": {
       "slide_type": "slide"
      }
     },
     "source": [
      "Home work"
     ]
    },
    {
     "cell_type": "markdown",
     "metadata": {},
     "source": [
      "Compute the exponential Fourier series for the wave forms shown in the last lecture."
     ]
    },
    {
     "cell_type": "heading",
     "level": 2,
     "metadata": {
      "slideshow": {
       "slide_type": "slide"
      }
     },
     "source": [
      "Lab Work"
     ]
    },
    {
     "cell_type": "markdown",
     "metadata": {
      "slideshow": {
       "slide_type": "-"
      }
     },
     "source": [
      "In the lab, on Monday, we will continue to explore Fourier Series and their applications"
     ]
    }
   ],
   "metadata": {}
  }
 ]
}