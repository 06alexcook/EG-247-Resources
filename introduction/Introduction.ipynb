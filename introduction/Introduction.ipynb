{
 "metadata": {
  "name": ""
 },
 "nbformat": 3,
 "nbformat_minor": 0,
 "worksheets": [
  {
   "cells": [
    {
     "cell_type": "heading",
     "level": 1,
     "metadata": {
      "slideshow": {
       "slide_type": "slide"
      }
     },
     "source": [
      "EG-247 Signals and Systems"
     ]
    },
    {
     "cell_type": "markdown",
     "metadata": {},
     "source": [
      "Dr Chris Jobling ([c.p.jobling@swansea.ac.uk](mailto:c.p.jobling@swansea.ac.uk))<br />Digital Technium 124<br />Office Hours: \n",
      "\n",
      "You can view the notes for this presentation in [HTML format](http://nbviewer.ipython.org/github/cpjobling/EG-247-Resources/blob/master/introduction/Introduction.ipynb) and print using your Brower's print function. The source code of this presentation is available as an interactive [IPython notebook](http://ipython.org/notebook.html) from GitHub: <https://github.com/cpjobling/EG-247-Resources>. The GitHub repository also contains the source code for all the Matlab/Simulink examples."
     ]
    },
    {
     "cell_type": "heading",
     "level": 2,
     "metadata": {
      "slideshow": {
       "slide_type": "slide"
      }
     },
     "source": [
      "Agenda"
     ]
    },
    {
     "cell_type": "markdown",
     "metadata": {
      "slideshow": {
       "slide_type": "fragment"
      }
     },
     "source": [
      "* <h3>Introduction to the Module</h3>"
     ]
    },
    {
     "cell_type": "markdown",
     "metadata": {
      "slideshow": {
       "slide_type": "fragment"
      }
     },
     "source": [
      "* <h3>Activities in Week 1</h3>"
     ]
    },
    {
     "cell_type": "markdown",
     "metadata": {
      "slideshow": {
       "slide_type": "fragment"
      }
     },
     "source": [
      "* <h3>Introducing Signals and Systems</h3>"
     ]
    },
    {
     "cell_type": "markdown",
     "metadata": {
      "slideshow": {
       "slide_type": "fragment"
      }
     },
     "source": [
      "* <h3>Preparing for Second Session</h3>"
     ]
    },
    {
     "cell_type": "heading",
     "level": 2,
     "metadata": {
      "slideshow": {
       "slide_type": "slide"
      }
     },
     "source": [
      "Introduction to the Module"
     ]
    },
    {
     "cell_type": "heading",
     "level": 2,
     "metadata": {
      "slideshow": {
       "slide_type": "slide"
      }
     },
     "source": [
      "Activities in Week 1"
     ]
    },
    {
     "cell_type": "heading",
     "level": 2,
     "metadata": {
      "slideshow": {
       "slide_type": "slide"
      }
     },
     "source": [
      "Intruducing Signals and Systems"
     ]
    },
    {
     "cell_type": "heading",
     "level": 2,
     "metadata": {
      "slideshow": {
       "slide_type": "slide"
      }
     },
     "source": [
      "Continuous-time signals"
     ]
    },
    {
     "cell_type": "markdown",
     "metadata": {
      "slideshow": {
       "slide_type": "-"
      }
     },
     "source": [
      "Continuous signals are representated mathematically by functions which vary continuously with time. Sinusoidal signals (e.g. AC) are pretty fundamental in Electrical Engineering. The mathematical model of a sinusoidal signal is $x(t) = A \\cos (2\\pi f_0 t = \\phi)$. \n",
      "\n",
      "* What is $A$?\n",
      "* What is $f_0$?\n",
      "* What is $\\phi$?\n",
      "* What is the period $T_0$ of this signal?\n"
     ]
    },
    {
     "cell_type": "heading",
     "level": 3,
     "metadata": {
      "slideshow": {
       "slide_type": "subslide"
      }
     },
     "source": [
      "Gaining insight using computers"
     ]
    },
    {
     "cell_type": "markdown",
     "metadata": {},
     "source": [
      "To help us answer these questions, let's use our Mathematical tools to plot a signal like this and explore it. The example we will use is from *Signals and Systems for Dummies* (SS4D: pp 50-51): \n",
      "\n",
      "$$3\\cos(2\\pi\\cdot 2t - 3\\pi/4)$$\n"
     ]
    },
    {
     "cell_type": "heading",
     "level": 3,
     "metadata": {
      "slideshow": {
       "slide_type": "subslide"
      }
     },
     "source": [
      "Wolfram|Alpha"
     ]
    },
    {
     "cell_type": "markdown",
     "metadata": {},
     "source": [
      "Here's the link: <http://www.wolframalpha.com>\n",
      "\n",
      "Paste this into the search box\n",
      "\n",
      "    plot 3 cos(2 pi 2 t - 3 pi/4) \n",
      "\n"
     ]
    },
    {
     "cell_type": "heading",
     "level": 3,
     "metadata": {
      "slideshow": {
       "slide_type": "subslide"
      }
     },
     "source": [
      "Matlab"
     ]
    },
    {
     "cell_type": "markdown",
     "metadata": {},
     "source": [
      "In Matlab we would need to tackle this slightly differently. Here's the code:\n",
      "\n",
      "```matlab\n",
      "t = linspace(0, 1, 100);\n",
      "x = 3 * cos(2*pi*2*t - 3*pi/4);\n",
      "plot(t,x)\n",
      "title('A Sinusoidal Signal')\n",
      "xlabel('Time t (s)')\n",
      "ylabel('Amplitude')\n",
      "grid\n",
      "```"
     ]
    },
    {
     "cell_type": "markdown",
     "metadata": {
      "slideshow": {
       "slide_type": "subslide"
      }
     },
     "source": [
      "### IPython and PyLab\n",
      "\n",
      "We can even use [this document](files/Introduction.ipynb) (which is an [IPython Notebook](http://ipython.org/notebook.html)) to compute the sinewave directly.\n",
      "\n",
      "First we have to set things up."
     ]
    },
    {
     "cell_type": "code",
     "collapsed": false,
     "input": [
      "%matplotlib inline\n",
      "from pylab import *"
     ],
     "language": "python",
     "metadata": {
      "slideshow": {
       "slide_type": "fragment"
      }
     },
     "outputs": [],
     "prompt_number": 11
    },
    {
     "cell_type": "markdown",
     "metadata": {
      "slideshow": {
       "slide_type": "fragment"
      }
     },
     "source": [
      "Then we run the plot. The instructions are similar to Matlab:"
     ]
    },
    {
     "cell_type": "code",
     "collapsed": false,
     "input": [
      "t = np.linspace(0, 1, 100)\n",
      "x = 3 * np.cos(2*pi * 2*t - 3*pi/4)\n",
      "\n",
      "plot(t, x)\n",
      "title('A Sinusoidal Signal ')\n",
      "xlabel('Time t (s)')\n",
      "ylabel('Amplitude')\n",
      "grid()"
     ],
     "language": "python",
     "metadata": {
      "slideshow": {
       "slide_type": "fragment"
      }
     },
     "outputs": [
      {
       "metadata": {},
       "output_type": "display_data",
       "png": "[encoded data removed]",
       "text": [
        "<matplotlib.figure.Figure at 0x10f3888d0>"
       ]
      }
     ],
     "prompt_number": 12
    },
    {
     "cell_type": "heading",
     "level": 3,
     "metadata": {
      "slideshow": {
       "slide_type": "subslide"
      }
     },
     "source": [
      "Returning to the Question"
     ]
    },
    {
     "cell_type": "markdown",
     "metadata": {
      "slideshow": {
       "slide_type": "-"
      }
     },
     "source": [
      "For the mathematical model of a sinusoidal signal $x(t) = A \\cos (2\\pi f_0 t - \\phi)$ use your insight to answer these questions again: \n",
      "\n",
      "* What is $A$?\n",
      "* What is $f_0$?\n",
      "* What is $\\phi$?\n",
      "* What is the period $T_0$ of this signal?\n",
      "\n",
      "Also, give the actual values, with units, for the variables used in the example $3\\cos(2\\pi\\cdot 2t - 3\\pi/4)$.\n"
     ]
    },
    {
     "cell_type": "heading",
     "level": 3,
     "metadata": {
      "slideshow": {
       "slide_type": "subslide"
      }
     },
     "source": [
      "Notes"
     ]
    },
    {
     "cell_type": "markdown",
     "metadata": {},
     "source": [
      "* In communications and electronic signal processing, the frequency of sinusoidal signals us usually given in *cycles per second* or Hz. \n",
      "* In mathematics, the frequency is always expressed in *radians per second*. \n",
      "* In some courses, including later in this one and in EG-243 Control Systems, the frequency $2\\pi f_0$ is often called the *natural frequency* and is usually written $\\omega_n$."
     ]
    },
    {
     "cell_type": "markdown",
     "metadata": {
      "slideshow": {
       "slide_type": "subslide"
      }
     },
     "source": [
      "### Exercises\n",
      "\n",
      "* Use any or all of computing tools that you have access to to explore other sinusoids. Change the values of the variables and explain what happens. \n",
      "* Try adding sinusoids of different amplitudes and different frequencies together and see what happens.\n"
     ]
    },
    {
     "cell_type": "heading",
     "level": 2,
     "metadata": {
      "slideshow": {
       "slide_type": "slide"
      }
     },
     "source": [
      "Continuous-time Systems"
     ]
    },
    {
     "cell_type": "markdown",
     "metadata": {},
     "source": [
      "Systems operate on signals. In mathematical terms, a *system* is a function or an *operator*, $H\\{\\}$ that maps the input signal $x(t)$ to an output signal $y(t)$. \n",
      "\n",
      "Mathematically we would write this:\n",
      "\n",
      "$$y(t) = H\\{x(t)\\}.$$"
     ]
    },
    {
     "cell_type": "heading",
     "level": 3,
     "metadata": {
      "slideshow": {
       "slide_type": "subslide"
      }
     },
     "source": [
      "Example"
     ]
    },
    {
     "cell_type": "markdown",
     "metadata": {
      "slideshow": {
       "slide_type": "-"
      }
     },
     "source": [
      "An example of a continuous-time system is an electronic amplifier with a gain of 5 and level shift of 2: $y(t) = H\\{x(t)\\} = 5x(t) + 2$.\n",
      "\n",
      "In this course, we will model such systems as block diagram models in Simulink."
     ]
    },
    {
     "cell_type": "heading",
     "level": 3,
     "metadata": {
      "slideshow": {
       "slide_type": "subslide"
      }
     },
     "source": [
      "Block diagram model in Simulink"
     ]
    },
    {
     "cell_type": "markdown",
     "metadata": {},
     "source": [
      "<img src=\"files/pictures/css.png\">"
     ]
    },
    {
     "cell_type": "markdown",
     "metadata": {},
     "source": [
      "The Similink code can be downloaded from this file [gain_level_shift.slx](files/matlab/gain_level_shift.slx)."
     ]
    },
    {
     "cell_type": "heading",
     "level": 2,
     "metadata": {
      "slideshow": {
       "slide_type": "slide"
      }
     },
     "source": [
      "Discrete-time Signals\n"
     ]
    },
    {
     "cell_type": "markdown",
     "metadata": {},
     "source": [
      "Disrete-time signals are a function of a time index $n$. A discrete-time signal $x[n]$, unlike a continuous-time signal $x(t)$, is only defined at integer values of the independent variable $n$. This means that the signal is only active at specific periods of time. Discrete-time signals can be stored in computer memory."
     ]
    },
    {
     "cell_type": "heading",
     "level": 3,
     "metadata": {
      "slideshow": {
       "slide_type": "subslide"
      }
     },
     "source": [
      "Example"
     ]
    },
    {
     "cell_type": "markdown",
     "metadata": {},
     "source": [
      "Consider the following simple signal, a pulse sequence:$$x[n] = \\left\\{ {\\begin{array}{*{20}{c}}\n",
      "{5,\\;0 \\le n < 10}\\\\\n",
      "{0,\\;{\\rm{otherwise}}\\quad \\;}\n",
      "\\end{array}} \\right.$$\n",
      "We can plot this in IPython and Matlab as a *stem plot*"
     ]
    },
    {
     "cell_type": "markdown",
     "metadata": {
      "slideshow": {
       "slide_type": "subslide"
      }
     },
     "source": [
      "First define the function $x[n]$"
     ]
    },
    {
     "cell_type": "code",
     "collapsed": false,
     "input": [
      "def x(n):\n",
      "    if n < 0 or n >= 10:\n",
      "        return 0\n",
      "    else:\n",
      "        return 5"
     ],
     "language": "python",
     "metadata": {
      "slideshow": {
       "slide_type": "-"
      }
     },
     "outputs": [],
     "prompt_number": 13
    },
    {
     "cell_type": "markdown",
     "metadata": {
      "slideshow": {
       "slide_type": "subslide"
      }
     },
     "source": [
      "Then set up $n$ and reserve some space for storing $x[n]$"
     ]
    },
    {
     "cell_type": "code",
     "collapsed": false,
     "input": [
      "n = np.arange(-15,18)\n",
      "xn = zeros(size(n))"
     ],
     "language": "python",
     "metadata": {},
     "outputs": [],
     "prompt_number": 14
    },
    {
     "cell_type": "markdown",
     "metadata": {
      "slideshow": {
       "slide_type": "subslide"
      }
     },
     "source": [
      "then compute the signal\n"
     ]
    },
    {
     "cell_type": "code",
     "collapsed": false,
     "input": [
      "for i in range(0, size(n)):\n",
      "    xn[i] = x(n[i])"
     ],
     "language": "python",
     "metadata": {},
     "outputs": [],
     "prompt_number": 15
    },
    {
     "cell_type": "markdown",
     "metadata": {
      "slideshow": {
       "slide_type": "subslide"
      }
     },
     "source": [
      "Finally, plot the signal as a *stem* (or *lollipop*) plot"
     ]
    },
    {
     "cell_type": "code",
     "collapsed": false,
     "input": [
      "stem(n,xn)\n",
      "axis([-15,18,0,6])\n",
      "title('Stem Plot for a Discrete Signal')\n",
      "xlabel('Sample n')\n",
      "ylabel('Signal x[n]')\n",
      "grid()"
     ],
     "language": "python",
     "metadata": {},
     "outputs": [
      {
       "metadata": {},
       "output_type": "display_data",
       "png": "[encoded data removed]",
       "text": [
        "<matplotlib.figure.Figure at 0x10f37c310>"
       ]
      }
     ],
     "prompt_number": 16
    },
    {
     "cell_type": "markdown",
     "metadata": {
      "slideshow": {
       "slide_type": "subslide"
      }
     },
     "source": [
      "The Matlab version is similar and is given in script file [discrete.m](files/matlab/discrete.m) which uses function [x.m](files/matlab/x.m)."
     ]
    },
    {
     "cell_type": "heading",
     "level": 3,
     "metadata": {
      "slideshow": {
       "slide_type": "subslide"
      }
     },
     "source": [
      "Exercise"
     ]
    },
    {
     "cell_type": "markdown",
     "metadata": {
      "slideshow": {
       "slide_type": "-"
      }
     },
     "source": [
      "Create and plot a digital signal that represents your student number in some way. For example if your number was 765443, then you could generate a signal for which $x[n] = 0$ when $n < 7$, then $x[n] = 7$ for $7$ periods, then $x[n] = 6$ for the next 6 periods, $x[n] = 5$ for 5 periods, and so on. The signal should return to 0 when the last digit has been transmitted. \n",
      "\n",
      "You can just create the array by hand if you like or use a function if you feel more daring."
     ]
    },
    {
     "cell_type": "heading",
     "level": 2,
     "metadata": {
      "slideshow": {
       "slide_type": "slide"
      }
     },
     "source": [
      "Discrete-time Systems\n"
     ]
    },
    {
     "cell_type": "markdown",
     "metadata": {},
     "source": [
      "A discrete-time system, like its continuous-time counterpart, is a function, $H\\{\\}$, that maps the input $x[n]$\ufffc \ufffcto the output $y[n] = H\\{x[n]\\}$. An example of a discrete-time system is the two-tap filter:\n",
      "\n",
      "$$y[n] = H\\{x[n]\\} = \\frac{3}{4}x[n] + \\frac{1}{4}x[n-1]$$\n",
      "\n",
      "The term *tap* denotes that output at time instant $n$ is formed from two time instants of the input, $n$ and $n \u2013 1$. Check out a block diagram of a two-tap filter system:\n",
      "\n",
      "<img src=\"files/pictures/ds.png\" width=\"50%\" />\n",
      "\n",
      "This system is available as a Simulink model [discrete_system.slx](files/matlab/discrete_system.slx)\n"
     ]
    },
    {
     "cell_type": "markdown",
     "metadata": {
      "slideshow": {
       "slide_type": "notes"
      }
     },
     "source": [
      "In words, this system scales the present input by 3/4 and adds it to the past value of the input scaled by 1/4. The notion of the past input comes about because \ufffc$x[n - 1]$ is lagging one sample value behind \ufffc$x[n]$. The term *filter* describes the output as an *averaging* of the present input and the previous input. *Averaging* is a form of filtering."
     ]
    },
    {
     "cell_type": "heading",
     "level": 2,
     "metadata": {
      "slideshow": {
       "slide_type": "slide"
      }
     },
     "source": [
      "Signal Classifications"
     ]
    },
    {
     "cell_type": "heading",
     "level": 3,
     "metadata": {
      "slideshow": {
       "slide_type": "subslide"
      }
     },
     "source": [
      "Periodic"
     ]
    },
    {
     "cell_type": "markdown",
     "metadata": {},
     "source": [
      "Signals that repeat over and over are said to be *periodic*. In mathematical terms, a signal is periodic if:\n",
      "\n",
      "* *Continuous signal* $x(t + T) = x(t)$\n",
      "* *Discrete signal* $x[n + N] = x[n]$\n",
      "\n",
      "\ufffc\ufffc\ufffc\ufffc\ufffc\ufffc\ufffc\ufffc\ufffc\ufffc\ufffc\ufffc\ufffc\ufffc\ufffc\ufffc\ufffc\ufffc\ufffc\ufffc\ufffc\ufffc\ufffc\ufffc\ufffc\ufffc\ufffc\ufffc\ufffc\ufffc\ufffc\ufffc\ufffc\ufffc\ufffc\ufffc\ufffc\ufffc\ufffc\ufffc\ufffc\ufffc\ufffc\ufffc\ufffc\ufffc\ufffc\ufffc\ufffc\ufffc\ufffc\ufffc\ufffc\ufffcThe smallest $T$ or $N$ for which the equality holds is the *signal period*. The sinusoidal signal we saw earlier is periodic because of the\n",
      "\ufffc$\\mod 2\\pi$ \ufffc property of cosines. The signal of the sinusoid has period 0.5 seconds (s), which turns out to be the reciprocal of the frequency \ufffc $1/f_0$\ufffc \ufffc Hz."
     ]
    },
    {
     "cell_type": "markdown",
     "metadata": {
      "slideshow": {
       "slide_type": "subslide"
      }
     },
     "source": [
      "This Square wave is a 5 Hz waveform sampled at 500 Hz for 1 second"
     ]
    },
    {
     "cell_type": "code",
     "collapsed": false,
     "input": [
      "from scipy import signal\n",
      "t = np.linspace(0, 1, 500, endpoint=False)\n",
      "plot(t, signal.square(2 * np.pi * 5 * t))\n",
      "ylim(-2, 2)\n",
      "grid()"
     ],
     "language": "python",
     "metadata": {},
     "outputs": [
      {
       "metadata": {},
       "output_type": "display_data",
       "png": "[encoded data removed]",
       "text": [
        "<matplotlib.figure.Figure at 0x10f37ca10>"
       ]
      }
     ],
     "prompt_number": 17
    },
    {
     "cell_type": "markdown",
     "metadata": {
      "slideshow": {
       "slide_type": "subslide"
      }
     },
     "source": [
      "Matlab\n",
      "\n",
      "```matlab\n",
      "t = linspace(0, 1, 500)\n",
      "plot(t, square(2 * pi * 5 * t))\n",
      "ylim([-2, 2])\n",
      "grid()\n",
      "```\n",
      "\n",
      "See: [periodic.m](files/matlab/periodic.m)"
     ]
    },
    {
     "cell_type": "heading",
     "level": 3,
     "metadata": {
      "slideshow": {
       "slide_type": "subslide"
      }
     },
     "source": [
      "Aperiodic\n",
      "\n"
     ]
    },
    {
     "cell_type": "markdown",
     "metadata": {},
     "source": [
      "Signals that are *deterministic* (completely determined functions of time) but not periodic are known as *aperiodic*. Point of view matters. If a signal occurs infrequently, you may view it as aperiodic. This is how we generate an aperiodic rectangular pulse of duration $\\tau$ in Matlab:\n",
      "\n",
      "```matlab\n",
      "%% An aperiodic function\n",
      "tau = 1\n",
      "x = linspace(-1,5,1000);\n",
      "y = rectangularPulse(0,tau,x);\n",
      "plot(x,y)\n",
      "ylim([-0.2,1.5])\n",
      "grid\n",
      "```\n",
      "\n",
      "<img src=\"files/pictures/pulse.png\" />\n",
      "\n",
      "See [aperiodic.m](files/matlab/aperiodic.m)"
     ]
    },
    {
     "cell_type": "heading",
     "level": 3,
     "metadata": {
      "slideshow": {
       "slide_type": "subslide"
      }
     },
     "source": [
      "Random"
     ]
    },
    {
     "cell_type": "heading",
     "level": 2,
     "metadata": {
      "slideshow": {
       "slide_type": "slide"
      }
     },
     "source": [
      "Domains for Signals and Systems"
     ]
    },
    {
     "cell_type": "heading",
     "level": 3,
     "metadata": {
      "slideshow": {
       "slide_type": "subslide"
      }
     },
     "source": [
      "Time Domain"
     ]
    },
    {
     "cell_type": "heading",
     "level": 3,
     "metadata": {
      "slideshow": {
       "slide_type": "subslide"
      }
     },
     "source": [
      "Frequency Domain"
     ]
    },
    {
     "cell_type": "heading",
     "level": 3,
     "metadata": {
      "slideshow": {
       "slide_type": "subslide"
      }
     },
     "source": [
      "Laplace and Z-Transform Domains"
     ]
    },
    {
     "cell_type": "heading",
     "level": 2,
     "metadata": {
      "slideshow": {
       "slide_type": "slide"
      }
     },
     "source": [
      "Systems Thinking and Systems Design"
     ]
    },
    {
     "cell_type": "markdown",
     "metadata": {},
     "source": [
      "The tools of the trade"
     ]
    },
    {
     "cell_type": "heading",
     "level": 3,
     "metadata": {
      "slideshow": {
       "slide_type": "subslide"
      }
     },
     "source": [
      "Behavioural Modelling"
     ]
    },
    {
     "cell_type": "heading",
     "level": 3,
     "metadata": {
      "slideshow": {
       "slide_type": "subslide"
      }
     },
     "source": [
      "Abstraction"
     ]
    },
    {
     "cell_type": "heading",
     "level": 3,
     "metadata": {
      "slideshow": {
       "slide_type": "subslide"
      }
     },
     "source": [
      "Top-Down"
     ]
    },
    {
     "cell_type": "heading",
     "level": 3,
     "metadata": {
      "slideshow": {
       "slide_type": "subslide"
      }
     },
     "source": [
      "Mathematics"
     ]
    },
    {
     "cell_type": "heading",
     "level": 2,
     "metadata": {
      "slideshow": {
       "slide_type": "slide"
      }
     },
     "source": [
      "Familiar Signals and Systems"
     ]
    },
    {
     "cell_type": "heading",
     "level": 3,
     "metadata": {
      "slideshow": {
       "slide_type": "subslide"
      }
     },
     "source": [
      "MP3 Player"
     ]
    },
    {
     "cell_type": "heading",
     "level": 3,
     "metadata": {
      "slideshow": {
       "slide_type": "subslide"
      }
     },
     "source": [
      "Smart Phone"
     ]
    },
    {
     "cell_type": "heading",
     "level": 3,
     "metadata": {
      "slideshow": {
       "slide_type": "subslide"
      }
     },
     "source": [
      "Cruise Control (a Control System)"
     ]
    },
    {
     "cell_type": "heading",
     "level": 2,
     "metadata": {
      "slideshow": {
       "slide_type": "slide"
      }
     },
     "source": [
      "Concluding Example: Some Basic Signal Operations"
     ]
    },
    {
     "cell_type": "markdown",
     "metadata": {},
     "source": [
      "Consider a signal $x = f(t) = ...$. Sketch this signal and plot the effect on this signal of applying the following basic signal operations\n",
      "\n",
      "* $2 f(t)$\n",
      "* $0.5 f(t)$\n",
      "* $f(2t)$\n",
      "* $f(0.5 t)$\n",
      "* $-f(t)$\n",
      "* $f(-t)$\n",
      "* $-f(-t)$\n",
      "* $f(t - 1)$\n",
      "* $f(t + 1)$\n",
      "* $-2f(-t+2)$"
     ]
    },
    {
     "cell_type": "heading",
     "level": 2,
     "metadata": {
      "slideshow": {
       "slide_type": "slide"
      }
     },
     "source": [
      "Preparing for Second Session"
     ]
    },
    {
     "cell_type": "code",
     "collapsed": false,
     "input": [],
     "language": "python",
     "metadata": {},
     "outputs": [],
     "prompt_number": 17
    }
   ],
   "metadata": {}
  }
 ]
}