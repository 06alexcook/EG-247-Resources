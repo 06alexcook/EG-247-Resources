{
 "metadata": {
  "name": ""
 },
 "nbformat": 3,
 "nbformat_minor": 0,
 "worksheets": [
  {
   "cells": [
    {
     "cell_type": "heading",
     "level": 1,
     "metadata": {
      "slideshow": {
       "slide_type": "slide"
      }
     },
     "source": [
      "The Impulse Response and Convolution (Part 2)"
     ]
    },
    {
     "cell_type": "markdown",
     "metadata": {},
     "source": [
      "Dr Chris Jobling ([c.p.jobling@swansea.ac.uk](mailto:c.p.jobling@swansea.ac.uk))<br />Digital Technium 123<br />Office Hours: Thursdays 14:00-15:00\n",
      "\n",
      "You can view the notes for this presentation in [HTML format](http://nbviewer.ipython.org/github/cpjobling/EG-247-Resources/blob/master/week5/convolution.ipynb) and print using your brower's print function. The source code of this presentation is available as an interactive [IPython notebook](http://ipython.org/notebook.html) from GitHub: <https://github.com/cpjobling/EG-247-Resources>. The GitHub repository also contains the source code for all the Matlab/Simulink examples."
     ]
    },
    {
     "cell_type": "heading",
     "level": 2,
     "metadata": {
      "slideshow": {
       "slide_type": "subslide"
      }
     },
     "source": [
      "Scope and Background Reading"
     ]
    },
    {
     "cell_type": "markdown",
     "metadata": {},
     "source": [
      "This session continues our introduction to time convolution.\n",
      "\n",
      "As we shall see, in the determination of a system's response to a signal input, time convolution involves integration by parts and is a tricky operation. But time convolution becomes multiplication in the Laplace Transform domain, and is much easier to apply.\n",
      "\n",
      "The material in this presentation and notes is based on Chapter 6 of [Steven T. Karris, Signals and Systems: with Matlab Computation and Simulink Modelling, 5th Edition.](http://site.ebrary.com/lib/swansea/docDetail.action?docID=10547416) and builds on the time response of a state-space model that was developed in the [previous session](http://nbviewer.ipython.org/github/cpjobling/EG-247-Resources/blob/master/week4/state_space.ipynb)."
     ]
    },
    {
     "cell_type": "heading",
     "level": 2,
     "metadata": {
      "slideshow": {
       "slide_type": "slide"
      }
     },
     "source": [
      "Agenda"
     ]
    },
    {
     "cell_type": "markdown",
     "metadata": {},
     "source": [
      "The material to be presented will need two sessions.\n",
      "\n",
      "*Last Session*\n",
      "\n",
      "* The Impulse Response of a System in Time Domain\n",
      "* Even and Odd Functions of Time\n",
      "\n",
      "*This Session*\n",
      "\n",
      "* Time Convolution\n",
      "* Graphical Evaluation of the Convolution Integral\n",
      "* System Response by Convolution\n",
      "* System Response by Laplace"
     ]
    },
    {
     "cell_type": "heading",
     "level": 2,
     "metadata": {
      "slideshow": {
       "slide_type": "slide"
      }
     },
     "source": [
      "Time Convolution"
     ]
    },
    {
     "cell_type": "markdown",
     "metadata": {},
     "source": [
      "Consider a system whose input is the Dirac delta ($\\delta(t)$), and its output is the impulse response $h(t)$. We can represent the inpt-output relationship as a block diagram\n",
      "\n",
      "<img src=\"files/pictures/conv1.png\" width=\"50%\">\n"
     ]
    },
    {
     "cell_type": "heading",
     "level": 3,
     "metadata": {
      "slideshow": {
       "slide_type": "subslide"
      }
     },
     "source": [
      "In general"
     ]
    },
    {
     "cell_type": "markdown",
     "metadata": {},
     "source": [
      "<img src=\"files/pictures/conv2.png\" width=\"50%\">"
     ]
    },
    {
     "cell_type": "heading",
     "level": 3,
     "metadata": {
      "slideshow": {
       "slide_type": "subslide"
      }
     },
     "source": [
      "Add an arbitrary input"
     ]
    },
    {
     "cell_type": "markdown",
     "metadata": {},
     "source": [
      "Let $u(t)$ be any input whose value at $t=\\tau$ is $u(\\tau)$, Then because of the sampling property of the delta function\n",
      "\n",
      "<img src=\"files/pictures/conv3.png\" width=\"50%\">\n",
      "\n",
      "(output is $u(\\tau)h(t-\\tau)$)"
     ]
    },
    {
     "cell_type": "heading",
     "level": 3,
     "metadata": {
      "slideshow": {
       "slide_type": "subslide"
      }
     },
     "source": [
      "Integrate both sides"
     ]
    },
    {
     "cell_type": "markdown",
     "metadata": {},
     "source": [
      "Integrating both sides over all values of $\\tau$ ($-\\infty < \\tau < \\infty$) and making use of the fact that the delta function is even, i.e. \n",
      "\n",
      "$$\\delta(t-\\tau)=\\delta(\\tau-t)$$\n",
      "\n",
      "we have:\n",
      "\n",
      "<img src=\"files/pictures/conv4.png\">"
     ]
    },
    {
     "cell_type": "heading",
     "level": 3,
     "metadata": {
      "slideshow": {
       "slide_type": "subslide"
      }
     },
     "source": [
      "Use the sifting property of delta"
     ]
    },
    {
     "cell_type": "markdown",
     "metadata": {},
     "source": [
      "The second integral on the ledt side reduces to $u(t)$\n",
      "\n",
      "<img src=\"files/pictures/conv5.png\">"
     ]
    },
    {
     "cell_type": "heading",
     "level": 3,
     "metadata": {
      "slideshow": {
       "slide_type": "subslide"
      }
     },
     "source": [
      "The Convolution Integral"
     ]
    },
    {
     "cell_type": "markdown",
     "metadata": {},
     "source": [
      "The integral\n",
      "\n",
      "$${\\int_{-\\infty}^{\\infty} u(\\tau)h(t-\\tau)d\\tau}$$\n",
      "\n",
      "or\n",
      "\n",
      "$${\\int_{-\\infty}^{\\infty} u(t-\\tau)h(\\tau)d\\tau}$$\n",
      "\n",
      "is known as the *convolution integral*; it states that if we know the impulse response of a system, we can compute its time response to any input by using either of the integrals.\n",
      "\n",
      "The convolution integral is usually written $u(t)*h(t)$ or $h(t)*u(t)$ where the asterisk ($*$) denotes convolution.\n"
     ]
    },
    {
     "cell_type": "heading",
     "level": 3,
     "metadata": {
      "slideshow": {
       "slide_type": "subslide"
      }
     },
     "source": [
      "Convolution and State-Space Models"
     ]
    },
    {
     "cell_type": "markdown",
     "metadata": {},
     "source": [
      "In the previous session, we found that the impulse response of a SISO system (with $d=0$) was\n",
      "\n",
      "$$h(t) = {\\bf{C}}{e^{{\\bf{A}}t}}{\\bf{B}}$$\n",
      "\n",
      "Therefore, if we know $h(t)$, we can use the convolution integral to compute the response $y(t)$ to any input $u(t)$ using the relation\n",
      "\n",
      "$$\\begin{array}{l}\n",
      "h(t) = \\int_{ - \\infty }^\\infty  {{\\bf{C}}{e^{{\\bf{A}}(t - \\tau )}}{\\bf{B}}u(\\tau )d\\tau } \\\\\n",
      "h(t) = {\\bf{C}}{e^{{\\bf{A}}t}}\\int_{ - \\infty }^\\infty  {{e^{ - {\\bf{A}}\\tau }}{\\bf{B}}u(\\tau )d\\tau } \n",
      "\\end{array}$$"
     ]
    },
    {
     "cell_type": "heading",
     "level": 2,
     "metadata": {
      "slideshow": {
       "slide_type": "slide"
      }
     },
     "source": [
      "Graphical Evaluation of the Convolution Integral"
     ]
    },
    {
     "cell_type": "markdown",
     "metadata": {},
     "source": [
      "The convolution integral is most conveniently evaluated by a graphical evaluation. The text book gives three examples (6.4-6.6) which we will demonstrate using a graphical visualization tool developed by Teja Muppirala of the Mathworks.\n",
      "\n",
      "The tool: [convolutiondemo.m](files/matlab/convolutiondemo.m) (see [license.txt](files/matlab/license.txt))."
     ]
    },
    {
     "cell_type": "heading",
     "level": 3,
     "metadata": {
      "slideshow": {
       "slide_type": "subslide"
      }
     },
     "source": [
      "Convolution by Graphical Method - Summary of Steps"
     ]
    },
    {
     "cell_type": "markdown",
     "metadata": {},
     "source": [
      "For simplicity, we give the rules for $u(t)$, but the procedure is the same if we reflect and slide $h(t)$\n",
      "\n",
      "1. Substitute $u(t)$ with $u(\\tau)$ &ndash; this is a simple change of variable. It doesn't change the definition of $u(t)$.\n",
      "2. Reflect $u(\\tau)$ about the vertical axis to form $u(-\\tau)$\n",
      "3. Slide $u(-\\tau)$ to the right a distance $t$ to obtain $u(t-\\tau)$\n",
      "4. Multiply the two signals to obtain the product $u(t-\\tau)h(\\tau)$\n",
      "5. Integrate the product over all $t$ from $-\\infty$ to $\\infty$."
     ]
    },
    {
     "cell_type": "heading",
     "level": 3,
     "metadata": {
      "slideshow": {
       "slide_type": "subslide"
      }
     },
     "source": [
      "Example 1"
     ]
    },
    {
     "cell_type": "markdown",
     "metadata": {},
     "source": [
      "(This is example 6.4 in the textbook)\n",
      "\n",
      "The signals $h(t)$ and $u(t)$ are shown below. Compute $h(t)*u(t)$ using the graphical technique.\n",
      "\n",
      "<img src=\"files/pictures/conv_ex1.png\">"
     ]
    },
    {
     "cell_type": "heading",
     "level": 3,
     "metadata": {
      "slideshow": {
       "slide_type": "subslide"
      }
     },
     "source": [
      "Prepare for convolutiondemo"
     ]
    },
    {
     "cell_type": "markdown",
     "metadata": {
      "slideshow": {
       "slide_type": "-"
      }
     },
     "source": [
      "To prepare this problem for evaluation in the `convolutiondemo` tool, we need to determine the Laplace Transforms of $h(t)$ and $u(t)$."
     ]
    },
    {
     "cell_type": "heading",
     "level": 3,
     "metadata": {
      "slideshow": {
       "slide_type": "subslide"
      }
     },
     "source": [
      "h(t)"
     ]
    },
    {
     "cell_type": "markdown",
     "metadata": {},
     "source": [
      "The signal $h(t)$ is the straight line $f(t)=-t+1$ but this is defined only between $t = 0$ and $t = 1$. We thus need to gate the function by multiplying it by $u_0(t)-u_0(t-1)$ and illustrated below:\n",
      "\n",
      "<img src=\"files/pictures/gate_h.png\">\n",
      "\n",
      "Thus\n",
      "\n",
      "$$h(t) = (-t + 1)(u_0(t)-u_0(t-1)) = (-t + 1)u_0(t) - (-(t - 1)u_0(t - 1)) \\Leftrightarrow H(s) - \\frac{1}{s^2} + \\frac{1}{s} +\\frac{e^{-s}}{s^2}$$\n",
      "\n",
      "$$H(s) = \\frac{s^2 + e^{-s} - 1}{s^2}$$"
     ]
    },
    {
     "cell_type": "heading",
     "level": 3,
     "metadata": {
      "slideshow": {
       "slide_type": "subslide"
      }
     },
     "source": [
      "u(t)"
     ]
    },
    {
     "cell_type": "markdown",
     "metadata": {},
     "source": [
      "The input $u(t)$ is the gating function:\n",
      "\n",
      "$$u(t) = u_0(t)-u_0(t-1)$$\n",
      "\n",
      "so\n",
      "\n",
      "$$U(s) = \\frac{1}{s}-\\frac{e^{-s}}{s} = \\frac{1 - e^{-s}}{s}$$\n",
      "    "
     ]
    },
    {
     "cell_type": "heading",
     "level": 3,
     "metadata": {
      "slideshow": {
       "slide_type": "subslide"
      }
     },
     "source": [
      "convolutiondemo settings"
     ]
    },
    {
     "cell_type": "markdown",
     "metadata": {
      "slideshow": {
       "slide_type": "-"
      }
     },
     "source": [
      "* Let `g = (1 - exp(-s))/s`\n",
      "* Let `h = (s + exp(-s) - 1)/s^2`\n",
      "* Set range $-2 < \\tau < -2$\n"
     ]
    },
    {
     "cell_type": "heading",
     "level": 3,
     "metadata": {
      "slideshow": {
       "slide_type": "subslide"
      }
     },
     "source": [
      "Summary of result"
     ]
    },
    {
     "cell_type": "markdown",
     "metadata": {},
     "source": [
      "1. For $t < 0$: $u(t-\\tau)h(\\tau) = 0$\n",
      "2. For $t = 0$: $u(t-\\tau) = u(-\\tau)$ and $u(-\\tau)h(\\tau) = 0$\n",
      "3. For $0 < t \\le 1$: $h*u = \\int_0^t (1)(-\\tau + 1)d\\tau = \\left.\\tau - \\tau^2/2\\right|_0^t = t-t^2/2$\n",
      "4. For $1 < t \\le 2$: $h*u = \\int_0^t (1)(-\\tau + 1)d\\tau = \\left.\\tau - \\tau^2/2\\right|_{t-1}^{1} = t^2/2-2t+2$\n",
      "5. For $2 \\le t$: $u(t-\\tau)h(\\tau) = 0$"
     ]
    },
    {
     "cell_type": "heading",
     "level": 3,
     "metadata": {
      "slideshow": {
       "slide_type": "subslide"
      }
     },
     "source": [
      "Example 2"
     ]
    },
    {
     "cell_type": "markdown",
     "metadata": {},
     "source": [
      "This is example 6.5 from the text book.\n",
      "\n",
      "$$h(t) = e^{-t}$$\n",
      "\n",
      "$$u(t) = u_0(t)-u_0(t-1)$$\n",
      "\n",
      "$$y(t) = \\left\\{ {\\begin{array}{*{20}{l}}\n",
      "{0:t \\le 0}\\\\\n",
      "{1 - {e^{ - t}}:\\;0 < t \\le 1}\\\\\n",
      "{{e^{ - t}}\\left( {e - 1} \\right):\\;1 < t \\le 2}\\\\\n",
      "{0:\\;2 \\le t}\n",
      "\\end{array}} \\right.$$"
     ]
    },
    {
     "cell_type": "heading",
     "level": 3,
     "metadata": {
      "slideshow": {
       "slide_type": "subslide"
      }
     },
     "source": [
      "Example 3"
     ]
    },
    {
     "cell_type": "markdown",
     "metadata": {},
     "source": [
      "This is example 6.6 from the text book.\n",
      "\n",
      "$$h(t) = 2(u_0(t)-u_0(t-1))$$\n",
      "\n",
      "$$u(t) = u_0(t)-u_0(t-2)$$\n",
      "\n",
      "$$y(t) = \\left\\{ {\\begin{array}{*{20}{l}}\n",
      "{0:t \\le 0}\\\\\n",
      "{2t:\\;0 < t \\le 1}\\\\\n",
      "{2:\\;1 < t \\le 2}\\\\\n",
      "{-2t+6:\\;2 < t \\le 3}\\\\\n",
      "{0:\\;3 \\le t}\\\\\n",
      "\\end{array}} \\right.$$"
     ]
    },
    {
     "cell_type": "heading",
     "level": 2,
     "metadata": {
      "slideshow": {
       "slide_type": "slide"
      }
     },
     "source": [
      "System Response by Convolution"
     ]
    },
    {
     "cell_type": "heading",
     "level": 3,
     "metadata": {
      "slideshow": {
       "slide_type": "subslide"
      }
     },
     "source": [
      "Example 4"
     ]
    },
    {
     "cell_type": "markdown",
     "metadata": {},
     "source": [
      "This is example 6.7 from the textbook.\n",
      "\n",
      "For the circuit shown below, use the convolution integral to find the capacitor voltage when the input is the unit step function $u_0(t)$ and $v_c(0^-)=0$\n",
      "\n",
      "<img src=\"files/pictures/example4.jpg\">"
     ]
    },
    {
     "cell_type": "heading",
     "level": 3,
     "metadata": {
      "slideshow": {
       "slide_type": "subslide"
      }
     },
     "source": [
      "Solution"
     ]
    },
    {
     "cell_type": "markdown",
     "metadata": {},
     "source": [
      "$$h(t)=\\frac{1}{RC}e^{-t/RC}u_0(t)$$\n",
      "\n",
      "which when $C=1\\; \\mathrm{F}$ and $R=1\\;\\Omega$ reduces to\n",
      "\n",
      "$$h(t)=e^{-t}u_0(t)$$\n",
      "\n",
      "It is relatively straight forward to show that\n",
      "\n",
      "$$y(t)=\\left(1-e^{-t}\\right)u_0(t)$$"
     ]
    },
    {
     "cell_type": "heading",
     "level": 2,
     "metadata": {
      "slideshow": {
       "slide_type": "slide"
      }
     },
     "source": [
      "System Response by Laplace"
     ]
    },
    {
     "cell_type": "markdown",
     "metadata": {},
     "source": [
      "In the discussion of Laplace, we stated that\n",
      "\n",
      "$$\\mathcal{L} \\left\\{ f(t)*g(t)\\right\\} = F(s)G(s)$$\n",
      "\n",
      "We can use this property to make the solution of convolution problems even simpler."
     ]
    },
    {
     "cell_type": "heading",
     "level": 3,
     "metadata": {
      "slideshow": {
       "slide_type": "subslide"
      }
     },
     "source": [
      "Example 5"
     ]
    },
    {
     "cell_type": "markdown",
     "metadata": {},
     "source": [
      "Solve Example 4 using Laplace."
     ]
    },
    {
     "cell_type": "heading",
     "level": 3,
     "metadata": {
      "slideshow": {
       "slide_type": "subslide"
      }
     },
     "source": [
      "Solution"
     ]
    },
    {
     "cell_type": "markdown",
     "metadata": {},
     "source": [
      "$$h(t) = e^{\u2212t}u_0(t) \\Leftrightarrow H(s) = \\frac{1}{s+1}$$\n",
      "\n",
      "$$u(t) = u_0(t) \\Leftrightarrow U(s) = \\frac{1}{s}$$\n",
      "\n",
      "$$y(t) = h(t)*u(t) \\Leftrightarrow Y(s) = H(s)U(s) = \\left(\\frac{1}{s}\\right)\\times\\left(\\frac{1}{s+1}\\right)$$\n",
      "\n",
      "By PFE \n",
      "\n",
      "$$Y(s) = \\frac{r_1}{s} + \\frac{r_2}{s+1}$$\n",
      "\n",
      "The residues are $r_1=1$, $r_2=-1$, so\n",
      "\n",
      "$$Y(s) = \\frac{1}{s} - \\frac{1}{s+1} \\Leftrightarrow y(t) = \\left(1-e^{-t}\\right)u_0(t)$$"
     ]
    },
    {
     "cell_type": "heading",
     "level": 3,
     "metadata": {
      "slideshow": {
       "slide_type": "slide"
      }
     },
     "source": [
      "Impulse Response and Transfer Functions"
     ]
    },
    {
     "cell_type": "markdown",
     "metadata": {},
     "source": [
      "A consequence of Laplace is that the transform of the impulse response of a transfer function $G(s)$ is given by the transfer function itself.\n",
      "\n",
      "$$y(t) = g(t)*\\delta(t) \\Leftrightarrow Y(s) = G(s).1 = G(s)$$\n",
      "\n",
      "Thus the Laplace transform of any system subject to an input $u(t)$ is simply\n",
      "\n",
      "$$Y(s) = G(s)U(s)$$\n",
      "\n",
      "and \n",
      "\n",
      "$$y(t) = \\mathcal{L}^{-1} \\left\\{ G(s) U(s) \\right\\}$$\n",
      "\n",
      "Using tables, solution of a convolution problem by Laplace is usually simpler than using convolution directly. And if the system is particularly complex we can always fall back on the State-Space solution:\n",
      "\n",
      "$$y(t) = {\\bf{C}}{e^{{\\bf{A}}t}}\\int_0^t {{e^{ - {\\bf{A}}\\tau }}{\\bf{B}}u(\\tau )d\\tau } $$"
     ]
    },
    {
     "cell_type": "heading",
     "level": 2,
     "metadata": {
      "slideshow": {
       "slide_type": "slide"
      }
     },
     "source": [
      "Homework"
     ]
    },
    {
     "cell_type": "markdown",
     "metadata": {},
     "source": [
      "You should be able to do any of the questions from Section 6.7 of the textbook."
     ]
    },
    {
     "cell_type": "heading",
     "level": 2,
     "metadata": {
      "slideshow": {
       "slide_type": "slide"
      }
     },
     "source": [
      "Lab Work"
     ]
    },
    {
     "cell_type": "markdown",
     "metadata": {
      "slideshow": {
       "slide_type": "-"
      }
     },
     "source": [
      "In the lab we will get you to play with `convolutiondemo`. We will also demonstrate that the solution of the examples in this presentation can readily be solved using Laplace."
     ]
    }
   ],
   "metadata": {}
  }
 ]
}